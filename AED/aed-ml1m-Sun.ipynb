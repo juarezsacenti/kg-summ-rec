{
 "cells": [
  {
   "cell_type": "markdown",
   "metadata": {
    "colab_type": "text",
    "id": "8t2Qabg58MwS"
   },
   "source": [
    "**Análise Exploratório de Dados - Movielens 1M**\n",
    "\n",
    "---\n",
    "\n",
    "Neste Notebook você irá analisar o dataset Movilens 1M por meio de uma análise exploratória de dados. "
   ]
  },
  {
   "cell_type": "markdown",
   "metadata": {
    "colab_type": "text",
    "id": "NI1cVi_NGUOO"
   },
   "source": [
    "# Index\n",
    "\n",
    "1. Configuração Inicial;\n",
    "\n",
    "2. Enquadrar o problema;\n",
    "\n",
    "3. Análise Exploratória de Dados; // Qualidade dos dados, artigo performance similar em modelos distintos, qualidades dos dados tinha maior impacto. Problema de SmallData.\n",
    "    \n",
    "    3.1. ML1M;\n",
    "        3.1.1 Obter os dados;\n",
    "        3.1.2. Variáveis núméricas;\n",
    "        3.1.3. Variáveis categóricas;\n",
    "        3.1.4. Cleanning data;\n",
    "        3.1.5. Data visualization;\n",
    "       \n",
    "    3.2. ml1m-cao;\n",
    "    \n",
    "    3.3. ml1m-sun;\n",
    "    \n",
    "4. Conjuntos de treinamento / correlação / featuring engineering;\n",
    "\n",
    "5. Preparar os dados para os algoritmos;\n",
    "\n",
    "6. Selecionar e treinar modelos; // Esta e demais etapas sao realizadas pelo projeto know-rec.\n",
    "\n",
    "7. Ajustar o modelo;\n",
    "\n",
    "8. Apresentar sua solução;\n",
    "\n",
    "9. Lançar, monitorar e manter seu sistema."
   ]
  },
  {
   "cell_type": "markdown",
   "metadata": {
    "colab_type": "text",
    "id": "6T9pPKu28Mwe"
   },
   "source": [
    "# 1. Configuração inicial"
   ]
  },
  {
   "cell_type": "code",
   "execution_count": 1,
   "metadata": {
    "colab": {},
    "colab_type": "code",
    "id": "iDJOKH5NA1QG"
   },
   "outputs": [],
   "source": [
    "# Importações comuns\n",
    "import numpy as np\n",
    "import os\n",
    "import pandas as pd # pandas is a data manipulation library\n",
    "import random\n",
    "from wordcloud import WordCloud, STOPWORDS #used to generate world cloud"
   ]
  },
  {
   "cell_type": "code",
   "execution_count": 2,
   "metadata": {
    "colab": {},
    "colab_type": "code",
    "id": "e6CD-_tpA7o_"
   },
   "outputs": [],
   "source": [
    "#Para garantir estabilidade e ser mais fácil reproduzir experimento\n",
    "np.random.seed(42)"
   ]
  },
  {
   "cell_type": "code",
   "execution_count": 3,
   "metadata": {
    "colab": {},
    "colab_type": "code",
    "id": "-XilT7mJA-fx"
   },
   "outputs": [],
   "source": [
    "# Para plotar figuras\n",
    "%matplotlib inline\n",
    "import matplotlib as mpl\n",
    "import matplotlib.pyplot as plt\n",
    "mpl.rc('axes', labelsize=14)\n",
    "mpl.rc('xtick', labelsize=12)\n",
    "mpl.rc('ytick', labelsize=12)"
   ]
  },
  {
   "cell_type": "markdown",
   "metadata": {
    "colab_type": "text",
    "id": "tDgr37xgBVsA"
   },
   "source": [
    "[Confira aqui](https://matplotlib.org/api/_as_gen/matplotlib.pyplot.rc.html) a documentação do matplotlib.rc"
   ]
  },
  {
   "cell_type": "code",
   "execution_count": 4,
   "metadata": {
    "colab": {},
    "colab_type": "code",
    "id": "gTuMQUrzBBrl"
   },
   "outputs": [],
   "source": [
    "# Where to save the figures\n",
    "PROJECT_ROOT_DIR = \".\"\n",
    "CHAPTER_ID = \"end_to_end_project\"\n",
    "IMAGES_PATH = os.path.join(PROJECT_ROOT_DIR, \"images\", CHAPTER_ID)\n",
    "\n",
    "def save_fig(fig_id, tight_layout=True, fig_extension=\"png\", resolution=300):\n",
    "    path = os.path.join(IMAGES_PATH, fig_id + \".\" + fig_extension)\n",
    "    print(\"Saving figure\", fig_id)\n",
    "    if tight_layout:\n",
    "        plt.tight_layout()\n",
    "    plt.savefig(path, format=fig_extension, dpi=resolution)"
   ]
  },
  {
   "cell_type": "code",
   "execution_count": 5,
   "metadata": {
    "colab": {},
    "colab_type": "code",
    "id": "Zwbr171pBB2O"
   },
   "outputs": [],
   "source": [
    "\n",
    "# Ignorar warnings desnecessários (ver SciPy issue #5998)\n",
    "import warnings\n",
    "warnings.filterwarnings(action=\"ignore\", message=\"^internal gelsd\")"
   ]
  },
  {
   "cell_type": "markdown",
   "metadata": {
    "colab_type": "text",
    "id": "UBjzryXYKMb5"
   },
   "source": [
    "# 2. Enquadar o problema"
   ]
  },
  {
   "cell_type": "markdown",
   "metadata": {
    "colab_type": "text",
    "id": "0G56JZx56qrZ"
   },
   "source": [
    "- Qual o objetivo do problema?\n",
    "\n",
    "- Como a empresa/cliente pretende usar o produto?\n",
    "\n",
    "Tais perguntas são importantes pois definirá como você vai abordar o problema, que tipo de algoritmo irá usar e quais [medidas de desempenho](http://geam.paginas.ufsc.br/files/2020/02/Medida-desempenho-regressaob.pdf) são mais relevantes. \n",
    "\n",
    "// Obs. 1: Comparar interpretação geográfica de cada métrica (MAE, MSE e RMSE). Plotar as 3 retas no mesmo gráfico.\n",
    "\n",
    "Você precisará avaliar se a solução requer uma solução muito complexa, que demandará mais trabalho, tempo e dinheiro, ou se uma solução mais simples será suficiente.\n",
    "\n",
    "Recomendação de filmes.\n",
    "\n",
    "1) Predizer o valor da avaliação de usuário para filme assistido.\n",
    "\n",
    "2) Classificar se um filme será ou não assistido pelo usuário.\n",
    "\n",
    "3) Recomendar um grupo de filmes com maior possibilidade de escolha do usuário e maior diversidade entre os filmes.\n",
    "\n",
    "4) Modelo com maior satisfação do cliente/empresa?!\n",
    "\n",
    "// Navalha de Okan: se você tem 2 soluções que satisfazem o problema, deve ser escolhida a mais simples. (como propor deep learning e sistemas baseados em conhecimento? Quando eles são realmente necessários?"
   ]
  },
  {
   "cell_type": "markdown",
   "metadata": {
    "colab_type": "text",
    "id": "HMaugIFD5xmR"
   },
   "source": [
    " ## Dicas\n",
    "\n",
    "- Não aborde, em um primeiro momento, um problema usando a solução mais complexa possível. Otimização prematura é arriscado e pode comprometer o projeto;\n",
    "\n",
    "- Leve em consideração que os modelos mais complexos são mais difíceis de manter, requer estruturas mais sofisticadas (e mais caras) e geralmente requer um corpo técnico mais qualificado - fique atento também as regulamentações dos dados;\n",
    "\n",
    "- Comece com protótipos rápidos e vá conversando com o cliente obtendo retorno sobre as necessidades do produto. Já pensou passar meses desenvolvendo um produto e no final não era o que o cliente queria? A agilidade em fazer protótipos em Python torna essa linguagem muito interessante!\n",
    "\n",
    "- As nossas visões, opiniões vão mudando com o tempo, então é natural que o cliente (e você!) vá amadurecendo ao longo do processo. Então, repetindo, sempre se comunique para atender a necessidade do projeto!\n",
    "\n",
    "- Antes de começar a trabalhar no projeto, verifique todas as hipóteses do sistema, infraestrutura disponível, linguagens de programação que serão utilizada, plataformas, etc. "
   ]
  },
  {
   "cell_type": "markdown",
   "metadata": {},
   "source": [
    "# 3. Análise Exploratória de Dados"
   ]
  },
  {
   "cell_type": "markdown",
   "metadata": {},
   "source": [
    "## 3.1. ML1M"
   ]
  },
  {
   "cell_type": "markdown",
   "metadata": {},
   "source": [
    "### 3.1.1. Obter os dados"
   ]
  },
  {
   "cell_type": "code",
   "execution_count": 6,
   "metadata": {
    "colab": {},
    "colab_type": "code",
    "id": "i7N5Z56F8Mw3"
   },
   "outputs": [],
   "source": [
    "SUN_PATH = os.path.join(\"..\", \"..\", \"datasets\", \"ml1m-sun\")\n",
    "def load_ml1m_sun_data(save_path=SUN_PATH):\n",
    "    # files: rating-delete-missing-itemid, auxiliary\n",
    "    \n",
    "    # pass in column names for each CSV\n",
    "    r_cols = ['user_id', 'movie_id', 'rating', 'timestamp']\n",
    "    csv_path = os.path.join(save_path, \"ml1m\", \"rating-delete-missing-itemid.txt\")\n",
    "    rating = pd.read_csv(csv_path, sep='\\t', engine=\"python\", names=r_cols, encoding='utf-8', header=None)\n",
    "    \n",
    "    # pass in column names for each CSV\n",
    "    r_cols = ['movie_id', 'genre', 'director', 'actors']\n",
    "    csv_path = os.path.join(save_path, \"ml1m\", \"auxiliary.txt\")\n",
    "    auxiliary = pd.read_csv(csv_path, sep='|', engine=\"python\", names=r_cols, encoding='utf-8-sig', header=None)\n",
    "\n",
    "    auxiliary['movie_id'] = auxiliary['movie_id'].str.split(':').str[1]\n",
    "    auxiliary['movie_id'] = pd.to_numeric(auxiliary['movie_id'])\n",
    "    auxiliary['genre'] = auxiliary['genre'].str.split(':').str[1]\n",
    "    auxiliary['director'] = auxiliary['director'].str.split(':').str[1]\n",
    "    auxiliary['actors'] = auxiliary['actors'].str.split(':').str[1]\n",
    "    \n",
    "    # pass in column names for each CSV\n",
    "    csv_path = \"../../datasets/ml1m-cao/ml1m/i2kg_map.tsv\"\n",
    "    r_cols = ['orig_id', 'name', 'uri']\n",
    "    i2kg_map = pd.read_csv(csv_path, sep='\\t', engine=\"python\", names=r_cols, encoding='utf-8', header=None)\n",
    "    \n",
    "    return rating, auxiliary, i2kg_map"
   ]
  },
  {
   "cell_type": "code",
   "execution_count": 7,
   "metadata": {},
   "outputs": [],
   "source": [
    "rating, auxiliary, i2kg_map = load_ml1m_sun_data() # Load data from datasets/ml1m-sun and datasets/ml1m-cao/i2kg_map.tsv"
   ]
  },
  {
   "cell_type": "code",
   "execution_count": 8,
   "metadata": {},
   "outputs": [],
   "source": [
    "def cleanning(auxiliary):\n",
    "    i = auxiliary.index[auxiliary['movie_id'] == 1581]\n",
    "    auxiliary.iloc[i] = [1581,'Mystery','Anthony Asquith', 'Jean Kent,Dirk Bogarde,John McCallum']\n",
    "    auxiliary = auxiliary.replace({'Biograpy':'Biography'}, regex=True)\n",
    "    auxiliary = auxiliary.replace('N/A,', np.NaN)\n",
    "    auxiliary = auxiliary.replace('N/A', np.NaN)\n",
    "\n",
    "    return auxiliary"
   ]
  },
  {
   "cell_type": "code",
   "execution_count": 9,
   "metadata": {
    "colab": {},
    "colab_type": "code",
    "id": "dAw-T6N88MxQ",
    "scrolled": true
   },
   "outputs": [
    {
     "name": "stdout",
     "output_type": "stream",
     "text": [
      "<class 'pandas.core.frame.DataFrame'>\n",
      "RangeIndex: 1675 entries, 0 to 1674\n",
      "Data columns (total 4 columns):\n",
      "movie_id    1675 non-null int64\n",
      "genre       1673 non-null object\n",
      "director    1650 non-null object\n",
      "actors      1667 non-null object\n",
      "dtypes: int64(1), object(3)\n",
      "memory usage: 52.4+ KB\n"
     ]
    }
   ],
   "source": [
    "auxiliary = cleanning(auxiliary) # Clean auxiliary.txt\n",
    "# pd.isnull(auxiliary).sum() # 0, 2, 25, 8\n",
    "auxiliary.info()"
   ]
  },
  {
   "cell_type": "code",
   "execution_count": 10,
   "metadata": {},
   "outputs": [
    {
     "name": "stdout",
     "output_type": "stream",
     "text": [
      "<class 'pandas.core.frame.DataFrame'>\n",
      "Int64Index: 99975 entries, 0 to 99974\n",
      "Data columns (total 7 columns):\n",
      "user_id      99975 non-null int64\n",
      "movie_id     99975 non-null int64\n",
      "rating       99975 non-null int64\n",
      "timestamp    99975 non-null int64\n",
      "genre        99970 non-null object\n",
      "director     99075 non-null object\n",
      "actors       99144 non-null object\n",
      "dtypes: int64(4), object(3)\n",
      "memory usage: 6.1+ MB\n",
      "<class 'pandas.core.frame.DataFrame'>\n",
      "Int64Index: 3607 entries, 0 to 3606\n",
      "Data columns (total 8 columns):\n",
      "movie_id    1675 non-null float64\n",
      "genre       1673 non-null object\n",
      "director    1650 non-null object\n",
      "actors      1667 non-null object\n",
      "orig_id     3301 non-null float64\n",
      "name        3301 non-null object\n",
      "uri         3301 non-null object\n",
      "_merge      3607 non-null category\n",
      "dtypes: category(1), float64(2), object(5)\n",
      "memory usage: 229.1+ KB\n",
      "<class 'pandas.core.frame.DataFrame'>\n",
      "Int64Index: 101907 entries, 0 to 101906\n",
      "Data columns (total 11 columns):\n",
      "user_id      99975 non-null float64\n",
      "movie_id     99975 non-null float64\n",
      "rating       99975 non-null float64\n",
      "timestamp    99975 non-null float64\n",
      "genre        99970 non-null object\n",
      "director     99075 non-null object\n",
      "actors       99144 non-null object\n",
      "orig_id      86252 non-null float64\n",
      "name         86252 non-null object\n",
      "uri          86252 non-null object\n",
      "_merge       101907 non-null category\n",
      "dtypes: category(1), float64(5), object(5)\n",
      "memory usage: 8.6+ MB\n"
     ]
    }
   ],
   "source": [
    "# create one merged DataFrame\n",
    "aux_rating = rating.merge(auxiliary, how = 'outer', left_on='movie_id', right_on='movie_id' ,indicator=False)\n",
    "aux_rating.info()\n",
    "#pd.isnull(aux_rating).sum() # = 0, 0, 0, 0, 5, 900, 831, 0 (Enable indicator)\n",
    "aux_i2kg = auxiliary.merge(i2kg_map, how = 'outer', left_on='movie_id', right_on='orig_id' ,indicator=True)\n",
    "aux_i2kg.info()\n",
    "#pd.isnull(aux_rating).sum() # = 0, 0, 0, 0, 5, 900, 831, 0 (Enable indicator)\n",
    "lens = aux_rating.merge(i2kg_map, how = 'outer', left_on='movie_id', right_on='orig_id' ,indicator=True)\n",
    "lens.info()\n",
    "# pd.isnull(lens).sum() # = True"
   ]
  },
  {
   "cell_type": "code",
   "execution_count": 11,
   "metadata": {},
   "outputs": [
    {
     "data": {
      "text/html": [
       "<div>\n",
       "<style scoped>\n",
       "    .dataframe tbody tr th:only-of-type {\n",
       "        vertical-align: middle;\n",
       "    }\n",
       "\n",
       "    .dataframe tbody tr th {\n",
       "        vertical-align: top;\n",
       "    }\n",
       "\n",
       "    .dataframe thead th {\n",
       "        text-align: right;\n",
       "    }\n",
       "</style>\n",
       "<table border=\"1\" class=\"dataframe\">\n",
       "  <thead>\n",
       "    <tr style=\"text-align: right;\">\n",
       "      <th></th>\n",
       "      <th>user_id</th>\n",
       "      <th>movie_id</th>\n",
       "      <th>rating</th>\n",
       "      <th>timestamp</th>\n",
       "      <th>genre</th>\n",
       "      <th>director</th>\n",
       "      <th>actors</th>\n",
       "      <th>orig_id</th>\n",
       "      <th>name</th>\n",
       "      <th>uri</th>\n",
       "      <th>_merge</th>\n",
       "    </tr>\n",
       "  </thead>\n",
       "  <tbody>\n",
       "    <tr>\n",
       "      <th>0</th>\n",
       "      <td>196.0</td>\n",
       "      <td>242.0</td>\n",
       "      <td>3.0</td>\n",
       "      <td>881250949.0</td>\n",
       "      <td>Comedy,Drama,Music</td>\n",
       "      <td>Jan Sverák</td>\n",
       "      <td>Zdenek Sverák,Andrey Khalimon,Libuse Safránkov...</td>\n",
       "      <td>242.0</td>\n",
       "      <td>Farinelli: il castrato (1994)</td>\n",
       "      <td>http://dbpedia.org/resource/Farinelli_(film)</td>\n",
       "      <td>both</td>\n",
       "    </tr>\n",
       "    <tr>\n",
       "      <th>1</th>\n",
       "      <td>63.0</td>\n",
       "      <td>242.0</td>\n",
       "      <td>3.0</td>\n",
       "      <td>875747190.0</td>\n",
       "      <td>Comedy,Drama,Music</td>\n",
       "      <td>Jan Sverák</td>\n",
       "      <td>Zdenek Sverák,Andrey Khalimon,Libuse Safránkov...</td>\n",
       "      <td>242.0</td>\n",
       "      <td>Farinelli: il castrato (1994)</td>\n",
       "      <td>http://dbpedia.org/resource/Farinelli_(film)</td>\n",
       "      <td>both</td>\n",
       "    </tr>\n",
       "    <tr>\n",
       "      <th>2</th>\n",
       "      <td>226.0</td>\n",
       "      <td>242.0</td>\n",
       "      <td>5.0</td>\n",
       "      <td>883888671.0</td>\n",
       "      <td>Comedy,Drama,Music</td>\n",
       "      <td>Jan Sverák</td>\n",
       "      <td>Zdenek Sverák,Andrey Khalimon,Libuse Safránkov...</td>\n",
       "      <td>242.0</td>\n",
       "      <td>Farinelli: il castrato (1994)</td>\n",
       "      <td>http://dbpedia.org/resource/Farinelli_(film)</td>\n",
       "      <td>both</td>\n",
       "    </tr>\n",
       "    <tr>\n",
       "      <th>3</th>\n",
       "      <td>154.0</td>\n",
       "      <td>242.0</td>\n",
       "      <td>3.0</td>\n",
       "      <td>879138235.0</td>\n",
       "      <td>Comedy,Drama,Music</td>\n",
       "      <td>Jan Sverák</td>\n",
       "      <td>Zdenek Sverák,Andrey Khalimon,Libuse Safránkov...</td>\n",
       "      <td>242.0</td>\n",
       "      <td>Farinelli: il castrato (1994)</td>\n",
       "      <td>http://dbpedia.org/resource/Farinelli_(film)</td>\n",
       "      <td>both</td>\n",
       "    </tr>\n",
       "    <tr>\n",
       "      <th>4</th>\n",
       "      <td>306.0</td>\n",
       "      <td>242.0</td>\n",
       "      <td>5.0</td>\n",
       "      <td>876503793.0</td>\n",
       "      <td>Comedy,Drama,Music</td>\n",
       "      <td>Jan Sverák</td>\n",
       "      <td>Zdenek Sverák,Andrey Khalimon,Libuse Safránkov...</td>\n",
       "      <td>242.0</td>\n",
       "      <td>Farinelli: il castrato (1994)</td>\n",
       "      <td>http://dbpedia.org/resource/Farinelli_(film)</td>\n",
       "      <td>both</td>\n",
       "    </tr>\n",
       "  </tbody>\n",
       "</table>\n",
       "</div>"
      ],
      "text/plain": [
       "   user_id  movie_id  rating    timestamp               genre    director  \\\n",
       "0    196.0     242.0     3.0  881250949.0  Comedy,Drama,Music  Jan Sverák   \n",
       "1     63.0     242.0     3.0  875747190.0  Comedy,Drama,Music  Jan Sverák   \n",
       "2    226.0     242.0     5.0  883888671.0  Comedy,Drama,Music  Jan Sverák   \n",
       "3    154.0     242.0     3.0  879138235.0  Comedy,Drama,Music  Jan Sverák   \n",
       "4    306.0     242.0     5.0  876503793.0  Comedy,Drama,Music  Jan Sverák   \n",
       "\n",
       "                                              actors  orig_id  \\\n",
       "0  Zdenek Sverák,Andrey Khalimon,Libuse Safránkov...    242.0   \n",
       "1  Zdenek Sverák,Andrey Khalimon,Libuse Safránkov...    242.0   \n",
       "2  Zdenek Sverák,Andrey Khalimon,Libuse Safránkov...    242.0   \n",
       "3  Zdenek Sverák,Andrey Khalimon,Libuse Safránkov...    242.0   \n",
       "4  Zdenek Sverák,Andrey Khalimon,Libuse Safránkov...    242.0   \n",
       "\n",
       "                            name  \\\n",
       "0  Farinelli: il castrato (1994)   \n",
       "1  Farinelli: il castrato (1994)   \n",
       "2  Farinelli: il castrato (1994)   \n",
       "3  Farinelli: il castrato (1994)   \n",
       "4  Farinelli: il castrato (1994)   \n",
       "\n",
       "                                            uri _merge  \n",
       "0  http://dbpedia.org/resource/Farinelli_(film)   both  \n",
       "1  http://dbpedia.org/resource/Farinelli_(film)   both  \n",
       "2  http://dbpedia.org/resource/Farinelli_(film)   both  \n",
       "3  http://dbpedia.org/resource/Farinelli_(film)   both  \n",
       "4  http://dbpedia.org/resource/Farinelli_(film)   both  "
      ]
     },
     "execution_count": 11,
     "metadata": {},
     "output_type": "execute_result"
    }
   ],
   "source": [
    "lens.head()"
   ]
  },
  {
   "cell_type": "markdown",
   "metadata": {
    "colab_type": "text",
    "id": "wzN0Y0kpK8CQ"
   },
   "source": [
    "Arquivos ratings.dat, movies.dat e users.dat\n",
    "\n",
    "ratigns.dat: UserID::MovieID::Rating::Timestamp\n",
    "- UserIDs range between 1 and 6040 \n",
    "- MovieIDs range between 1 and 3952\n",
    "- Ratings are made on a 5-star scale (whole-star ratings only)\n",
    "- Timestamp is represented in seconds since the epoch as returned by time(2)\n",
    "- Each user has at least 20 ratings\n",
    "\n",
    "users.dat: UserID::Gender::Age::Occupation::Zip-code\n",
    "\n",
    "All demographic information is provided voluntarily by the users and is\n",
    "not checked for accuracy.  Only users who have provided some demographic\n",
    "information are included in this data set.\n",
    "\n",
    "- Gender is denoted by a \"M\" for male and \"F\" for female\n",
    "- Age is chosen from the following ranges:\n",
    "\n",
    "\t*  1:  \"Under 18\"\n",
    "\t* 18:  \"18-24\"\n",
    "\t* 25:  \"25-34\"\n",
    "\t* 35:  \"35-44\"\n",
    "\t* 45:  \"45-49\"\n",
    "\t* 50:  \"50-55\"\n",
    "\t* 56:  \"56+\"\n",
    "- Occupation is chosen from the following choices:\n",
    "\t*  0:  \"other\" or not specified\n",
    "\t*  1:  \"academic/educator\"\n",
    "\t*  2:  \"artist\"\n",
    "\t*  3:  \"clerical/admin\"\n",
    "\t*  4:  \"college/grad student\"\n",
    "\t*  5:  \"customer service\"\n",
    "\t*  6:  \"doctor/health care\"\n",
    "\t*  7:  \"executive/managerial\"\n",
    "\t*  8:  \"farmer\"\n",
    "\t*  9:  \"homemaker\"\n",
    "\t* 10:  \"K-12 student\"\n",
    "\t* 11:  \"lawyer\"\n",
    "\t* 12:  \"programmer\"\n",
    "\t* 13:  \"retired\"\n",
    "\t* 14:  \"sales/marketing\"\n",
    "\t* 15:  \"scientist\"\n",
    "\t* 16:  \"self-employed\"\n",
    "\t* 17:  \"technician/engineer\"\n",
    "\t* 18:  \"tradesman/craftsman\"\n",
    "\t* 19:  \"unemployed\"\n",
    "\t* 20:  \"writer\"\n",
    "    \n",
    "movies.dat: MovieID::Title::Genres\n",
    "- Titles are identical to titles provided by the IMDB (including\n",
    "year of release)\n",
    "- Genres are pipe-separated and are selected from the following genres:\n",
    "\t* Action\n",
    "\t* Adventure\n",
    "\t* Animation\n",
    "\t* Children's\n",
    "\t* Comedy\n",
    "\t* Crime\n",
    "\t* Documentary\n",
    "\t* Drama\n",
    "\t* Fantasy\n",
    "\t* Film-Noir\n",
    "\t* Horror\n",
    "\t* Musical\n",
    "\t* Mystery\n",
    "\t* Romance\n",
    "\t* Sci-Fi\n",
    "\t* Thriller\n",
    "\t* War\n",
    "\t* Western\n",
    "- Some MovieIDs do not correspond to a movie due to accidental duplicate\n",
    "entries and/or test entries\n",
    "- Movies are mostly entered by hand, so errors and inconsistencies may exist"
   ]
  },
  {
   "cell_type": "markdown",
   "metadata": {},
   "source": [
    "### 3.1.2. Variáveis numéricas"
   ]
  },
  {
   "cell_type": "code",
   "execution_count": 25,
   "metadata": {
    "colab": {},
    "colab_type": "code",
    "id": "iUqXwjN_8Mxo"
   },
   "outputs": [
    {
     "data": {
      "text/html": [
       "<div>\n",
       "<style scoped>\n",
       "    .dataframe tbody tr th:only-of-type {\n",
       "        vertical-align: middle;\n",
       "    }\n",
       "\n",
       "    .dataframe tbody tr th {\n",
       "        vertical-align: top;\n",
       "    }\n",
       "\n",
       "    .dataframe thead th {\n",
       "        text-align: right;\n",
       "    }\n",
       "</style>\n",
       "<table border=\"1\" class=\"dataframe\">\n",
       "  <thead>\n",
       "    <tr style=\"text-align: right;\">\n",
       "      <th></th>\n",
       "      <th>user_id</th>\n",
       "      <th>movie_id</th>\n",
       "      <th>rating</th>\n",
       "      <th>timestamp</th>\n",
       "    </tr>\n",
       "  </thead>\n",
       "  <tbody>\n",
       "    <tr>\n",
       "      <th>count</th>\n",
       "      <td>99975.000000</td>\n",
       "      <td>99975.000000</td>\n",
       "      <td>99975.000000</td>\n",
       "      <td>9.997500e+04</td>\n",
       "    </tr>\n",
       "    <tr>\n",
       "      <th>mean</th>\n",
       "      <td>462.500885</td>\n",
       "      <td>425.372883</td>\n",
       "      <td>3.530033</td>\n",
       "      <td>8.835291e+08</td>\n",
       "    </tr>\n",
       "    <tr>\n",
       "      <th>std</th>\n",
       "      <td>266.621417</td>\n",
       "      <td>330.555811</td>\n",
       "      <td>1.125489</td>\n",
       "      <td>5.343565e+06</td>\n",
       "    </tr>\n",
       "    <tr>\n",
       "      <th>min</th>\n",
       "      <td>1.000000</td>\n",
       "      <td>1.000000</td>\n",
       "      <td>1.000000</td>\n",
       "      <td>8.747247e+08</td>\n",
       "    </tr>\n",
       "    <tr>\n",
       "      <th>25%</th>\n",
       "      <td>254.000000</td>\n",
       "      <td>175.000000</td>\n",
       "      <td>3.000000</td>\n",
       "      <td>8.794488e+08</td>\n",
       "    </tr>\n",
       "    <tr>\n",
       "      <th>50%</th>\n",
       "      <td>447.000000</td>\n",
       "      <td>322.000000</td>\n",
       "      <td>4.000000</td>\n",
       "      <td>8.828269e+08</td>\n",
       "    </tr>\n",
       "    <tr>\n",
       "      <th>75%</th>\n",
       "      <td>682.000000</td>\n",
       "      <td>631.000000</td>\n",
       "      <td>4.000000</td>\n",
       "      <td>8.882600e+08</td>\n",
       "    </tr>\n",
       "    <tr>\n",
       "      <th>max</th>\n",
       "      <td>943.000000</td>\n",
       "      <td>1682.000000</td>\n",
       "      <td>5.000000</td>\n",
       "      <td>8.932866e+08</td>\n",
       "    </tr>\n",
       "  </tbody>\n",
       "</table>\n",
       "</div>"
      ],
      "text/plain": [
       "            user_id      movie_id        rating     timestamp\n",
       "count  99975.000000  99975.000000  99975.000000  9.997500e+04\n",
       "mean     462.500885    425.372883      3.530033  8.835291e+08\n",
       "std      266.621417    330.555811      1.125489  5.343565e+06\n",
       "min        1.000000      1.000000      1.000000  8.747247e+08\n",
       "25%      254.000000    175.000000      3.000000  8.794488e+08\n",
       "50%      447.000000    322.000000      4.000000  8.828269e+08\n",
       "75%      682.000000    631.000000      4.000000  8.882600e+08\n",
       "max      943.000000   1682.000000      5.000000  8.932866e+08"
      ]
     },
     "execution_count": 25,
     "metadata": {},
     "output_type": "execute_result"
    }
   ],
   "source": [
    "rating.describe() #Medidas resumo"
   ]
  },
  {
   "cell_type": "code",
   "execution_count": 27,
   "metadata": {},
   "outputs": [
    {
     "data": {
      "text/plain": [
       "1675"
      ]
     },
     "execution_count": 27,
     "metadata": {},
     "output_type": "execute_result"
    }
   ],
   "source": [
    "len(rating['movie_id'].unique())"
   ]
  },
  {
   "cell_type": "code",
   "execution_count": 65,
   "metadata": {},
   "outputs": [
    {
     "data": {
      "text/html": [
       "<div>\n",
       "<style scoped>\n",
       "    .dataframe tbody tr th:only-of-type {\n",
       "        vertical-align: middle;\n",
       "    }\n",
       "\n",
       "    .dataframe tbody tr th {\n",
       "        vertical-align: top;\n",
       "    }\n",
       "\n",
       "    .dataframe thead th {\n",
       "        text-align: right;\n",
       "    }\n",
       "</style>\n",
       "<table border=\"1\" class=\"dataframe\">\n",
       "  <thead>\n",
       "    <tr style=\"text-align: right;\">\n",
       "      <th></th>\n",
       "      <th>movie_id</th>\n",
       "      <th>rating</th>\n",
       "      <th>timestamp</th>\n",
       "    </tr>\n",
       "  </thead>\n",
       "  <tbody>\n",
       "    <tr>\n",
       "      <th>count</th>\n",
       "      <td>943.000000</td>\n",
       "      <td>943.000000</td>\n",
       "      <td>943.000000</td>\n",
       "    </tr>\n",
       "    <tr>\n",
       "      <th>mean</th>\n",
       "      <td>106.018028</td>\n",
       "      <td>106.018028</td>\n",
       "      <td>106.018028</td>\n",
       "    </tr>\n",
       "    <tr>\n",
       "      <th>std</th>\n",
       "      <td>100.887172</td>\n",
       "      <td>100.887172</td>\n",
       "      <td>100.887172</td>\n",
       "    </tr>\n",
       "    <tr>\n",
       "      <th>min</th>\n",
       "      <td>20.000000</td>\n",
       "      <td>20.000000</td>\n",
       "      <td>20.000000</td>\n",
       "    </tr>\n",
       "    <tr>\n",
       "      <th>25%</th>\n",
       "      <td>33.000000</td>\n",
       "      <td>33.000000</td>\n",
       "      <td>33.000000</td>\n",
       "    </tr>\n",
       "    <tr>\n",
       "      <th>50%</th>\n",
       "      <td>65.000000</td>\n",
       "      <td>65.000000</td>\n",
       "      <td>65.000000</td>\n",
       "    </tr>\n",
       "    <tr>\n",
       "      <th>75%</th>\n",
       "      <td>148.000000</td>\n",
       "      <td>148.000000</td>\n",
       "      <td>148.000000</td>\n",
       "    </tr>\n",
       "    <tr>\n",
       "      <th>max</th>\n",
       "      <td>734.000000</td>\n",
       "      <td>734.000000</td>\n",
       "      <td>734.000000</td>\n",
       "    </tr>\n",
       "  </tbody>\n",
       "</table>\n",
       "</div>"
      ],
      "text/plain": [
       "         movie_id      rating   timestamp\n",
       "count  943.000000  943.000000  943.000000\n",
       "mean   106.018028  106.018028  106.018028\n",
       "std    100.887172  100.887172  100.887172\n",
       "min     20.000000   20.000000   20.000000\n",
       "25%     33.000000   33.000000   33.000000\n",
       "50%     65.000000   65.000000   65.000000\n",
       "75%    148.000000  148.000000  148.000000\n",
       "max    734.000000  734.000000  734.000000"
      ]
     },
     "execution_count": 65,
     "metadata": {},
     "output_type": "execute_result"
    }
   ],
   "source": [
    "rating.groupby(['user_id']).count().describe()"
   ]
  },
  {
   "cell_type": "code",
   "execution_count": null,
   "metadata": {},
   "outputs": [],
   "source": [
    "auxiliary.describe()"
   ]
  },
  {
   "cell_type": "code",
   "execution_count": null,
   "metadata": {},
   "outputs": [],
   "source": [
    "aux_i2kg.describe()"
   ]
  },
  {
   "cell_type": "code",
   "execution_count": null,
   "metadata": {},
   "outputs": [],
   "source": [
    "lens.describe()"
   ]
  },
  {
   "cell_type": "markdown",
   "metadata": {},
   "source": [
    "### 3.1.3. Variáveis categóricas"
   ]
  },
  {
   "cell_type": "markdown",
   "metadata": {
    "colab_type": "text",
    "id": "ZZyjfvEmJBZk"
   },
   "source": [
    "4 características são categóricas: title, genres, gender e zip_code."
   ]
  },
  {
   "cell_type": "code",
   "execution_count": null,
   "metadata": {},
   "outputs": [],
   "source": [
    "#here we  make census of the genres:\n",
    "genre_keywords = set()\n",
    "for l in auxiliary['genre'].dropna().str.split(',').values:\n",
    "    genre_keywords = genre_keywords.union(set(l)) \n",
    "len(genre_keywords)"
   ]
  },
  {
   "cell_type": "code",
   "execution_count": null,
   "metadata": {},
   "outputs": [],
   "source": [
    "#here we  make census of the directors:\n",
    "director_keywords = set()\n",
    "for s in auxiliary['director'].dropna().str.split(',').values:\n",
    "    director_keywords = director_keywords.union(set(s))\n",
    "len(director_keywords)"
   ]
  },
  {
   "cell_type": "code",
   "execution_count": null,
   "metadata": {},
   "outputs": [],
   "source": [
    "#here we  make census of the actors:\n",
    "actors_keywords = set()\n",
    "for s in auxiliary['actors'].dropna().str.split(',').values:\n",
    "    actors_keywords = actors_keywords.union(set(s))\n",
    "len(actors_keywords)"
   ]
  },
  {
   "cell_type": "code",
   "execution_count": null,
   "metadata": {},
   "outputs": [],
   "source": [
    "#define a function that counts the number of times each genre/director/actor appear:\n",
    "def count_word(df, ref_col, liste):\n",
    "    keyword_count = dict()\n",
    "    for s in liste: keyword_count[s] = 0\n",
    "    for liste_keywords in df[ref_col].str.split(','):\n",
    "        if type(liste_keywords) == float and pd.isnull(liste_keywords): continue\n",
    "        for s in liste_keywords: \n",
    "            if pd.notnull(s): keyword_count[s] += 1\n",
    "    # convert the dictionary in a list to sort the keywords  by frequency\n",
    "    keyword_occurences = []\n",
    "    for k,v in keyword_count.items():\n",
    "        keyword_occurences.append([k,v])\n",
    "    keyword_occurences.sort(key = lambda x:x[1], reverse = True)\n",
    "    return keyword_occurences, keyword_count"
   ]
  },
  {
   "cell_type": "code",
   "execution_count": null,
   "metadata": {
    "scrolled": true
   },
   "outputs": [],
   "source": [
    "#counting how many times each of genres occur:\n",
    "keyword_occurences, dum = count_word(auxiliary, 'genre', genre_keywords)\n",
    "keyword_occurences"
   ]
  },
  {
   "cell_type": "code",
   "execution_count": null,
   "metadata": {},
   "outputs": [],
   "source": [
    "#counting how many times each of directors occur:\n",
    "keyword_occurences, dum = count_word(auxiliary, 'director', director_keywords)\n",
    "keyword_occurences"
   ]
  },
  {
   "cell_type": "code",
   "execution_count": null,
   "metadata": {},
   "outputs": [],
   "source": [
    "#counting how many times each of actors occur:\n",
    "keyword_occurences, dum = count_word(auxiliary, 'actors', actors_keywords)\n",
    "keyword_occurences"
   ]
  },
  {
   "cell_type": "code",
   "execution_count": null,
   "metadata": {
    "colab": {},
    "colab_type": "code",
    "id": "lPr0m4-t8Mxg"
   },
   "outputs": [],
   "source": [
    "movies[\"title\"].value_counts()"
   ]
  },
  {
   "cell_type": "markdown",
   "metadata": {},
   "source": [
    "Cada um dos 3883 filmes possui um título distinto. "
   ]
  },
  {
   "cell_type": "code",
   "execution_count": null,
   "metadata": {},
   "outputs": [],
   "source": [
    "movies[\"genres\"].value_counts()"
   ]
  },
  {
   "cell_type": "markdown",
   "metadata": {
    "colab_type": "text",
    "id": "b8TL_7-vJhCN"
   },
   "source": [
    "Como podemos observar, a característica \"genres\" é uma variável multivalorada, com 301 combinações de 18 gêneros de filmes. Podemos analisar desta forma (nome bonito que não lembro que define clases que significam combinações de classes menores) ou tratar os 18 generos como OneHotEncoder (ver se dá de usar esse)."
   ]
  },
  {
   "cell_type": "markdown",
   "metadata": {},
   "source": [
    "From https://www.kaggle.com/jneupane12/analysis-of-movielens-dataset-beginner-sanalysis"
   ]
  },
  {
   "cell_type": "code",
   "execution_count": null,
   "metadata": {},
   "outputs": [],
   "source": [
    "#define a function that counts the number of times each genre appear:\n",
    "def count_word(df, ref_col, liste):\n",
    "    keyword_count = dict()\n",
    "    for s in liste: keyword_count[s] = 0\n",
    "    for liste_keywords in df[ref_col].str.split('|'):\n",
    "        if type(liste_keywords) == float and pd.isnull(liste_keywords): continue\n",
    "        for s in liste_keywords: \n",
    "            if pd.notnull(s): keyword_count[s] += 1\n",
    "    # convert the dictionary in a list to sort the keywords  by frequency\n",
    "    keyword_occurences = []\n",
    "    for k,v in keyword_count.items():\n",
    "        keyword_occurences.append([k,v])\n",
    "    keyword_occurences.sort(key = lambda x:x[1], reverse = True)\n",
    "    return keyword_occurences, keyword_count"
   ]
  },
  {
   "cell_type": "code",
   "execution_count": null,
   "metadata": {},
   "outputs": [],
   "source": [
    "#here we  make census of the genres:\n",
    "genre_labels = set()\n",
    "for s in movies['genres'].str.split('|').values:\n",
    "    genre_labels = genre_labels.union(set(s))"
   ]
  },
  {
   "cell_type": "code",
   "execution_count": null,
   "metadata": {},
   "outputs": [],
   "source": [
    "#counting how many times each of genres occur:\n",
    "keyword_occurences, dum = count_word(movies, 'genres', genre_labels)\n",
    "keyword_occurences"
   ]
  },
  {
   "cell_type": "markdown",
   "metadata": {},
   "source": [
    "\"OneHotEncode\" para genres:"
   ]
  },
  {
   "cell_type": "code",
   "execution_count": null,
   "metadata": {},
   "outputs": [],
   "source": [
    "genres_unique = pd.DataFrame(movies.genres.str.split('|').tolist()).stack().unique()\n",
    "genres_unique = pd.DataFrame(genres_unique, columns=['genre']) # Format into DataFrame to store later"
   ]
  },
  {
   "cell_type": "code",
   "execution_count": null,
   "metadata": {},
   "outputs": [],
   "source": [
    "new_movies = movies.join(movies.genres.str.get_dummies())\n",
    "new_movies.drop('genres', inplace=True, axis=1)"
   ]
  },
  {
   "cell_type": "code",
   "execution_count": null,
   "metadata": {
    "scrolled": true
   },
   "outputs": [],
   "source": [
    "new_movies.head()"
   ]
  },
  {
   "cell_type": "code",
   "execution_count": null,
   "metadata": {},
   "outputs": [],
   "source": [
    "new_movies.describe()"
   ]
  },
  {
   "cell_type": "code",
   "execution_count": null,
   "metadata": {},
   "outputs": [],
   "source": [
    "users[\"gender\"].value_counts()"
   ]
  },
  {
   "cell_type": "code",
   "execution_count": null,
   "metadata": {},
   "outputs": [],
   "source": [
    "users[\"zip_code\"].value_counts()"
   ]
  },
  {
   "cell_type": "markdown",
   "metadata": {},
   "source": [
    "### 3.1.4. Cleanning data"
   ]
  },
  {
   "cell_type": "code",
   "execution_count": null,
   "metadata": {},
   "outputs": [],
   "source": [
    "#is any row null\n",
    "auxiliary.isnull().any()"
   ]
  },
  {
   "cell_type": "code",
   "execution_count": null,
   "metadata": {},
   "outputs": [],
   "source": [
    "#is any row null\n",
    "rating.isnull().any()"
   ]
  },
  {
   "cell_type": "code",
   "execution_count": null,
   "metadata": {},
   "outputs": [],
   "source": [
    "#is any row null\n",
    "i2kg_map.isnull().any()"
   ]
  },
  {
   "cell_type": "markdown",
   "metadata": {},
   "source": [
    "### 3.1.5. Data visualization"
   ]
  },
  {
   "cell_type": "code",
   "execution_count": null,
   "metadata": {
    "colab": {},
    "colab_type": "code",
    "id": "qaNOxfbs8Mxv"
   },
   "outputs": [],
   "source": [
    "%matplotlib inline\n",
    "import matplotlib.pyplot as plt\n",
    "users.hist(bins=50, figsize=(20,15))\n",
    "plt.show()"
   ]
  },
  {
   "cell_type": "code",
   "execution_count": null,
   "metadata": {},
   "outputs": [],
   "source": [
    "%matplotlib inline\n",
    "import matplotlib.pyplot as plt\n",
    "ratings.hist(bins=50, figsize=(20,15))\n",
    "plt.show()"
   ]
  },
  {
   "cell_type": "code",
   "execution_count": null,
   "metadata": {},
   "outputs": [],
   "source": [
    "%matplotlib inline\n",
    "import matplotlib.pyplot as plt\n",
    "movies.hist(bins=50, figsize=(20,15))\n",
    "plt.show()"
   ]
  },
  {
   "cell_type": "code",
   "execution_count": null,
   "metadata": {
    "scrolled": false
   },
   "outputs": [],
   "source": [
    "# Function that control the color of the words\n",
    "def random_color_func(word=None, font_size=None, position=None,\n",
    "                      orientation=None, font_path=None, random_state=None):\n",
    "    h = int(360.0 * tone / 255.0)\n",
    "    s = int(100.0 * 255.0 / 255.0)\n",
    "    l = int(100.0 * float(random_state.randint(70, 120)) / 255.0)\n",
    "    return \"hsl({}, {}%, {}%)\".format(h, s, l)\n",
    "\n",
    "\n",
    "#Finally, the result is shown as a wordcloud:\n",
    "words = dict()\n",
    "trunc_occurences = keyword_occurences[0:50]\n",
    "for s in trunc_occurences:\n",
    "    words[s[0]] = s[1]\n",
    "tone = 100 # define the color of the words\n",
    "f, ax = plt.subplots(figsize=(14, 6))\n",
    "wordcloud = WordCloud(width=550,height=300, background_color='black', \n",
    "                      max_words=1628,relative_scaling=0.7,\n",
    "                      color_func = random_color_func,\n",
    "                      normalize_plurals=False)\n",
    "wordcloud.generate_from_frequencies(words)\n",
    "plt.imshow(wordcloud, interpolation=\"bilinear\")\n",
    "plt.axis('off')\n",
    "plt.show()"
   ]
  },
  {
   "cell_type": "code",
   "execution_count": null,
   "metadata": {},
   "outputs": [],
   "source": [
    "# lets display the same result in the histogram\n",
    "fig = plt.figure(1, figsize=(18,13))\n",
    "ax2 = fig.add_subplot(2,1,2)\n",
    "y_axis = [i[1] for i in trunc_occurences]\n",
    "x_axis = [k for k,i in enumerate(trunc_occurences)]\n",
    "x_label = [i[0] for i in trunc_occurences]\n",
    "plt.xticks(rotation=85, fontsize = 15)\n",
    "plt.yticks(fontsize = 15)\n",
    "plt.xticks(x_axis, x_label)\n",
    "plt.ylabel(\"No. of occurences\", fontsize = 24, labelpad = 0)\n",
    "ax2.bar(x_axis, y_axis, align = 'center', color='r')\n",
    "plt.title(\"Popularity of Genres\",bbox={'facecolor':'k', 'pad':5},color='w',fontsize = 30)\n",
    "plt.show()"
   ]
  },
  {
   "cell_type": "markdown",
   "metadata": {},
   "source": [
    "## 3.3. ml1m-summarized_sun"
   ]
  },
  {
   "cell_type": "markdown",
   "metadata": {},
   "source": [
    "### 3.3.1. Obter os dados"
   ]
  },
  {
   "cell_type": "code",
   "execution_count": null,
   "metadata": {},
   "outputs": [],
   "source": [
    "SUM_PATH = os.path.join(\"..\", \"..\", \"datasets\", \"ml1m-summarized_sun\")\n",
    "def load_ml1m_summarized_sun_data(save_path=SUM_PATH):\n",
    "    # pass in column names for each CSV\n",
    "    # rating files: train, valid and test\n",
    "    r_cols = ['movie_id', 'genre', 'director', 'actors']\n",
    "    csv_path = os.path.join(save_path, \"ml1m\", \"sum_auxiliary.txt\")\n",
    "    auxiliary = pd.read_csv(csv_path, sep='|', engine=\"python\", names=r_cols, encoding='utf-8-sig', header=None)\n",
    "    \n",
    "    auxiliary['genre'] = auxiliary['genre'].str.split(':').str[1]\n",
    "    auxiliary['director'] = auxiliary['director'].str.split(':').str[1]\n",
    "    auxiliary['actors'] = auxiliary['actors'].str.split(':').str[1]\n",
    "    \n",
    "    return auxiliary"
   ]
  },
  {
   "cell_type": "code",
   "execution_count": null,
   "metadata": {
    "scrolled": true
   },
   "outputs": [],
   "source": [
    "summarized = load_ml1m_summarized_sun_data()\n",
    "summarized.head() #visualizar as 5 primeiras linhas do dataframe"
   ]
  },
  {
   "cell_type": "code",
   "execution_count": null,
   "metadata": {},
   "outputs": [],
   "source": [
    "#here we  make census of the genres:\n",
    "genre_labels = set()\n",
    "for s in summarized['genre'].str.split(',').values:\n",
    "    genre_labels = genre_labels.union(set(s))\n",
    "genre_labels"
   ]
  },
  {
   "cell_type": "code",
   "execution_count": null,
   "metadata": {},
   "outputs": [],
   "source": [
    "df = i2kg_map.merge(e_map, how = 'outer' ,indicator=True).loc[lambda x : x['_merge']=='left_only'] \n",
    "\n",
    "df.describe()"
   ]
  },
  {
   "cell_type": "markdown",
   "metadata": {},
   "source": [
    "### 3.3.2. Variáveis numéricas"
   ]
  },
  {
   "cell_type": "markdown",
   "metadata": {},
   "source": [
    "### 3.3.3. Variáveis categóricas"
   ]
  },
  {
   "cell_type": "markdown",
   "metadata": {},
   "source": [
    "### 3.3.4. Cleanning data"
   ]
  },
  {
   "cell_type": "markdown",
   "metadata": {},
   "source": [
    "### 3.3.5. Data visualization"
   ]
  },
  {
   "cell_type": "markdown",
   "metadata": {
    "colab_type": "text",
    "id": "R4F7JWQ1BcEY"
   },
   "source": [
    "# Separando o conjunto de dados"
   ]
  },
  {
   "cell_type": "markdown",
   "metadata": {
    "colab_type": "text",
    "id": "jGNLaRDmQX1d"
   },
   "source": [
    "Estratificação dos ratings, pois é importante ter um número suficiente de instâncias para cada estrato no conjunto de dados (treino e testes), do contrário pode ser que os nossos dados fiquem enviasados."
   ]
  },
  {
   "cell_type": "code",
   "execution_count": 13,
   "metadata": {
    "colab": {},
    "colab_type": "code",
    "id": "6m-V9cKC8MzN"
   },
   "outputs": [
    {
     "data": {
      "text/plain": [
       "<matplotlib.axes._subplots.AxesSubplot at 0x277b1de5710>"
      ]
     },
     "execution_count": 13,
     "metadata": {},
     "output_type": "execute_result"
    },
    {
     "data": {
      "image/png": "[encoded data removed]",
      "text/plain": [
       "<Figure size 432x288 with 1 Axes>"
      ]
     },
     "metadata": {
      "needs_background": "light"
     },
     "output_type": "display_data"
    }
   ],
   "source": [
    "rating['rating'].hist()"
   ]
  },
  {
   "cell_type": "code",
   "execution_count": 63,
   "metadata": {},
   "outputs": [
    {
     "name": "stdout",
     "output_type": "stream",
     "text": [
      "0.5961790447611903, 0.19998999749937485, 0.20383095773943485\n",
      "943, 943, 943\n"
     ]
    }
   ],
   "source": [
    "train = pd.DataFrame()\n",
    "valid = pd.DataFrame()\n",
    "test = pd.DataFrame()\n",
    "\n",
    "all_users = rating['user_id'].unique()\n",
    "for u in all_users:\n",
    "    df = rating[rating['user_id'] == u]\n",
    "    u_train, u_valid, u_test = np.split(df.sample(frac=1), [int(.6*len(df)), int(.8*len(df))])\n",
    "    train = pd.concat([train, u_train], ignore_index=False)\n",
    "    valid = pd.concat([valid, u_valid], ignore_index=False)\n",
    "    test = pd.concat([test, u_test], ignore_index=False)\n",
    "print(str(len(train)/len(rating)) + ', ' + str(len(valid)/len(rating)) + ', ' + str(len(test)/len(rating)) )\n",
    "print(str(len(train['user_id'].unique())) + ', ' + str(len(valid['user_id'].unique())) + ', ' + str(len(test['user_id'].unique())) )"
   ]
  },
  {
   "cell_type": "code",
   "execution_count": 91,
   "metadata": {},
   "outputs": [],
   "source": [
    "def cao_split(df, column='user_id', frac=[0.1,0.2]):\n",
    "    df_remain = df.copy()\n",
    "    size = len(df_remain)\n",
    "    g_size = len(df_remain[column].unique())\n",
    "    num_sets = len(frac)\n",
    "    \n",
    "    # init sets (train, valid, test, folds...)\n",
    "    sets = []\n",
    "    for i in range(num_sets):\n",
    "        sets.append(pd.DataFrame())\n",
    "\n",
    "    # select at least 1 item for each user\n",
    "    all_groups = df_remain[column].unique()\n",
    "    for g in all_groups:\n",
    "        g_df = df_remain[df_remain[column] == g]\n",
    "        samples = g_df.sample(n=len(frac))\n",
    "        for i in range(num_sets):\n",
    "            idx = samples.index[i]\n",
    "            sample = samples[i:i+1]\n",
    "            sets[i] = pd.concat([sets[i], sample], ignore_index=False)\n",
    "    \n",
    "    # drop selected rows\n",
    "    for i in range(num_sets):\n",
    "        print(sets[i])\n",
    "        df_remain = df_remain.drop(sets[i].index)\n",
    "\n",
    "    # sample remain by frac \n",
    "    for i in range(num_sets):\n",
    "        n = (np.ceil((frac[i]*size) - g_size)).astype(int)\n",
    "        samples = df_remain.sample(n)\n",
    "        sets[i] = pd.concat([sets[i], samples], ignore_index=False)\n",
    "        df_remain = df_remain.drop(samples.index)\n",
    "        \n",
    "    return df_remain, sets"
   ]
  },
  {
   "cell_type": "code",
   "execution_count": 92,
   "metadata": {},
   "outputs": [
    {
     "name": "stdout",
     "output_type": "stream",
     "text": [
      "       user_id  movie_id  rating  timestamp\n",
      "6908       196       306       4  881251021\n",
      "51599      186       477       4  891719775\n",
      "59493       22       228       4  878887810\n",
      "319        244       673       3  880606667\n",
      "14199      166       323       5  886397722\n",
      "33248      298       588       4  884125022\n",
      "14990      115       969       1  881172183\n",
      "10822      253       298       3  891628074\n",
      "11646      305       530       5  886323237\n",
      "3111         6       532       3  883600066\n",
      "2051        62       258       5  879371909\n",
      "68105      286        41       2  877535323\n",
      "37991      200       235       2  884128065\n",
      "2625       210        58       4  887730177\n",
      "2604       224       528       3  888082658\n",
      "76033      303         4       4  879467936\n",
      "2602       122       215       4  879270676\n",
      "55042      194       143       3  879524643\n",
      "40788      291       219       4  874867785\n",
      "36331      234       517       3  892333919\n",
      "69934      119         7       5  874775185\n",
      "20983      167      1308       1  892738307\n",
      "15530      299        13       4  877877965\n",
      "13481      308       664       5  887736999\n",
      "94420       95       433       4  880571950\n",
      "4169        38       384       5  892433660\n",
      "14653      102       393       3  892993302\n",
      "47899       63       596       2  875747470\n",
      "1500       160       430       5  876861799\n",
      "11386       50       123       4  877052958\n",
      "...        ...       ...     ...        ...\n",
      "97381      921       276       1  879381004\n",
      "90934      910       118       3  881420857\n",
      "92494      913       131       5  881367150\n",
      "86617      915       301       2  891030032\n",
      "95100      922       631       3  891453171\n",
      "82462      923       168       5  880388872\n",
      "93783      928       246       5  880937184\n",
      "73338      927       780       1  879195783\n",
      "68632      924       300       2  884337243\n",
      "67796      929       517       5  879640329\n",
      "88007      931       471       3  891036506\n",
      "96960      917         3       1  882911567\n",
      "97239      932       448       2  891251588\n",
      "66822      909       582       5  891920125\n",
      "98973      934       502       4  891194539\n",
      "87647      933       652       3  874854424\n",
      "95343      935       281       5  884472310\n",
      "98105      938       106       5  891357019\n",
      "70671      940       147       4  885921893\n",
      "73476      888       286       5  879364981\n",
      "75895      925       948       2  884717790\n",
      "89307      942        99       5  891282880\n",
      "74596      937       242       3  876762200\n",
      "99562      926       269       5  888636082\n",
      "94942      943       566       4  888639886\n",
      "83923      939       118       5  880261450\n",
      "99612      936      1226       3  886833148\n",
      "99892      930       410       3  879534973\n",
      "80696      920       292       3  884220058\n",
      "90770      941       298       5  875048887\n",
      "\n",
      "[943 rows x 4 columns]\n",
      "       user_id  movie_id  rating  timestamp\n",
      "7839       196       663       5  881251911\n",
      "8858       186        71       5  879024535\n",
      "23817       22       840       4  878888184\n",
      "34353      244       468       1  880606947\n",
      "38071      166       243       3  886397827\n",
      "16591      298       203       3  884182966\n",
      "94316      115       696       4  881169984\n",
      "8405       253       127       5  891628060\n",
      "50547      305       191       3  886322966\n",
      "16242        6       284       2  883599590\n",
      "20274       62         9       4  879372182\n",
      "38264      286       315       5  889651138\n",
      "40735      200       483       5  884128426\n",
      "15506      210       751       4  890059441\n",
      "83596      224       402       5  888103872\n",
      "30434      303       619       3  879467574\n",
      "30913      122       660       3  879270644\n",
      "847        194       152       3  879549996\n",
      "27115      291       231       3  874835024\n",
      "10367      234       401       2  892336322\n",
      "39161      119       986       3  874781068\n",
      "58128      167       831       3  892738141\n",
      "92737      299        83       5  878192344\n",
      "19207      308       284       4  887741554\n",
      "12219       95       142       4  880572249\n",
      "90262       38       768       5  892433062\n",
      "2719       102       300       3  875886434\n",
      "55535       63       321       3  875746917\n",
      "88122      160       302       5  878078074\n",
      "17807       50       508       5  877052438\n",
      "...        ...       ...     ...        ...\n",
      "96490      921       237       3  879379562\n",
      "69730      910       282       3  880821319\n",
      "89182      913       346       3  883110406\n",
      "67979      915      1038       2  891030070\n",
      "95516      922       228       4  891447665\n",
      "95049      923       926       4  880388383\n",
      "99577      928       328       3  880937258\n",
      "80532      927       866       4  879181621\n",
      "92696      924       313       4  886065805\n",
      "93722      929       136       3  879640184\n",
      "82011      931       300       5  891037521\n",
      "80419      917       278       3  882911767\n",
      "80140      932       661       5  891250109\n",
      "68499      909       531       4  891920166\n",
      "71790      934       229       4  891194539\n",
      "78671      933        73       4  874854629\n",
      "66990      935       100       3  884472110\n",
      "84101      938       127       5  891356446\n",
      "88236      940       213       4  885921597\n",
      "87699      888       280       3  879365475\n",
      "79457      925       333       3  884717790\n",
      "99052      942       259       4  891282673\n",
      "97624      937       874       3  876768956\n",
      "73966      926       288       3  888636202\n",
      "70278      943       215       5  888639000\n",
      "98480      939       508       5  880261141\n",
      "94101      936      1377       5  886832183\n",
      "89737      930        64       4  879535641\n",
      "85086      920       310       4  884219768\n",
      "95563      941       273       3  875049038\n",
      "\n",
      "[943 rows x 4 columns]\n",
      "0.6999949987496874, 0.10000500125031257, 0.2\n"
     ]
    }
   ],
   "source": [
    "train, sets = cao_split(rating)\n",
    "valid = sets[0]\n",
    "test = sets[1]\n",
    "print(str(len(train)/len(rating)) + ', ' + str(len(valid)/len(rating)) + ', ' + str(len(test)/len(rating)) )"
   ]
  },
  {
   "cell_type": "markdown",
   "metadata": {
    "colab_type": "text",
    "id": "vwYnXUa7TK0c"
   },
   "source": [
    "Pronto! Agora vamos fazer uma <font color='red'>amostragem estratificada</font> com base nas categorias da renda.  "
   ]
  },
  {
   "cell_type": "code",
   "execution_count": null,
   "metadata": {
    "colab": {},
    "colab_type": "code",
    "id": "przR0ZBZ8MzT"
   },
   "outputs": [],
   "source": [
    "from sklearn.model_selection import StratifiedShuffleSplit\n",
    "\n",
    "split = StratifiedShuffleSplit(n_splits=1, test_size=0.2, random_state=42)\n",
    "for train_index, test_index in split.split(housing, housing[\"income_cat\"]):\n",
    "    strat_train_set = housing.loc[train_index]\n",
    "    strat_test_set = housing.loc[test_index]"
   ]
  },
  {
   "cell_type": "markdown",
   "metadata": {
    "colab_type": "text",
    "id": "Vi9Gp_QbTwFi"
   },
   "source": [
    "Acabamos de criar novos conjuntos de treino e de teste, que chamamos de <font color='red'>strat_train_set </font> e <font color='blue'>strat_test_set</font>.\n",
    "\n",
    " Estes conjuntos devem respeitar a estratificação que introduzimos baseada em \"median_income\" representado na nova variável categórica \"income_cat\".\n",
    "\n",
    " Vejamos se funcionou:"
   ]
  },
  {
   "cell_type": "code",
   "execution_count": null,
   "metadata": {
    "colab": {},
    "colab_type": "code",
    "id": "LQb_sNWO8MzW"
   },
   "outputs": [],
   "source": [
    "strat_test_set[\"income_cat\"].value_counts() / len(strat_test_set) #Proporção de cada categoria em strat_test_set"
   ]
  },
  {
   "cell_type": "code",
   "execution_count": null,
   "metadata": {
    "colab": {},
    "colab_type": "code",
    "id": "t9att4KJX-91"
   },
   "outputs": [],
   "source": [
    "housing[\"income_cat\"].value_counts() / len(housing) #Proporção de cada categoria em housing"
   ]
  },
  {
   "cell_type": "markdown",
   "metadata": {
    "colab_type": "text",
    "id": "nHr7e4IUYc9K"
   },
   "source": [
    "Podemos agora comparar com a <font color='blue'> amostragem aleatória </font>:"
   ]
  },
  {
   "cell_type": "code",
   "execution_count": null,
   "metadata": {
    "colab": {},
    "colab_type": "code",
    "id": "kcQ8FM-u8Mzi"
   },
   "outputs": [],
   "source": [
    "#Função para calcular as proporções das categorias da característica \"income_cat\"\n",
    "def income_cat_proportions(data): \n",
    "    return data[\"income_cat\"].value_counts() / len(data)"
   ]
  },
  {
   "cell_type": "markdown",
   "metadata": {
    "colab_type": "text",
    "id": "yVQi0BkJZi6U"
   },
   "source": [
    "Agora vamos gerar novamente conjunto de teste e treino, mas usando amostragem aleatória."
   ]
  },
  {
   "cell_type": "code",
   "execution_count": null,
   "metadata": {
    "colab": {},
    "colab_type": "code",
    "id": "c0jyVWH8ZiBM"
   },
   "outputs": [],
   "source": [
    "train_set, test_set = train_test_split(housing, test_size=0.2, random_state=42)"
   ]
  },
  {
   "cell_type": "markdown",
   "metadata": {
    "colab_type": "text",
    "id": "AD0M3hAwZx87"
   },
   "source": [
    "Vamos criar o nosso novo dataframe e visualizar os resultados:"
   ]
  },
  {
   "cell_type": "code",
   "execution_count": null,
   "metadata": {
    "colab": {},
    "colab_type": "code",
    "id": "C-RIbMERZxOt"
   },
   "outputs": [],
   "source": [
    "compare_props = pd.DataFrame({\n",
    "    \"Geral\": income_cat_proportions(housing),\n",
    "    \"Estratificado\": income_cat_proportions(strat_test_set),\n",
    "    \"Aleatorio\": income_cat_proportions(test_set),\n",
    "}).sort_index()\n",
    "\n",
    "compare_props[\"Aleatório %erro\"] = 100 * compare_props[\"Aleatorio\"] / compare_props[\"Geral\"] - 100\n",
    "compare_props[\"Estratificado %erro\"] = 100 * compare_props[\"Estratificado\"] / compare_props[\"Geral\"] - 100\n",
    "\n",
    "compare_props"
   ]
  },
  {
   "cell_type": "markdown",
   "metadata": {
    "colab_type": "text",
    "id": "NFX8Ha0pao_z"
   },
   "source": [
    "Contentes com os resultados, não podemos esquecer de <font color='red'>remover</font> o atributo \"income_cat\" dos conjuntos strat_train_set e strat_test_set. Na verdade, ele era apenas um intermediário, afinal de contas as informações dessa caracaterísticas já estão presentes em \"median_income\"."
   ]
  },
  {
   "cell_type": "code",
   "execution_count": null,
   "metadata": {
    "colab": {},
    "colab_type": "code",
    "id": "MbPa45jL8Mzq"
   },
   "outputs": [],
   "source": [
    "for set_ in (strat_train_set, strat_test_set):\n",
    "    set_.drop(\"income_cat\", axis=1, inplace=True)"
   ]
  },
  {
   "cell_type": "markdown",
   "metadata": {
    "colab_type": "text",
    "id": "TYST0JOP8Mzu"
   },
   "source": [
    "# Visualização da estrutura de dados"
   ]
  },
  {
   "cell_type": "markdown",
   "metadata": {
    "colab_type": "text",
    "id": "Dws-HQeEc3h0"
   },
   "source": [
    "Vamos agora visualizar os nossos dados. Precisamos ter certeza que não vamos visualizar dados do conjunto de teste, para evitar enviesamento de conclusões."
   ]
  },
  {
   "cell_type": "code",
   "execution_count": null,
   "metadata": {
    "colab": {},
    "colab_type": "code",
    "id": "uGYSWxqk8Mzv"
   },
   "outputs": [],
   "source": [
    "housing = strat_train_set.copy() #Importante criar uma cópia! "
   ]
  },
  {
   "cell_type": "code",
   "execution_count": null,
   "metadata": {
    "colab": {},
    "colab_type": "code",
    "id": "U1YxuAEV8Mzz"
   },
   "outputs": [],
   "source": [
    "housing.plot(kind=\"scatter\", x=\"longitude\", y=\"latitude\")"
   ]
  },
  {
   "cell_type": "markdown",
   "metadata": {
    "colab_type": "text",
    "id": "WjTUHRQYdcME"
   },
   "source": [
    "Vamos melhorar a visualição usando o parâmetro <font color='red'>alpha</font>, observe:"
   ]
  },
  {
   "cell_type": "code",
   "execution_count": null,
   "metadata": {
    "colab": {},
    "colab_type": "code",
    "id": "I6pNMSKy8Mz4"
   },
   "outputs": [],
   "source": [
    "housing.plot(kind=\"scatter\", x=\"longitude\", y=\"latitude\", alpha=0.1)"
   ]
  },
  {
   "cell_type": "markdown",
   "metadata": {
    "colab_type": "text",
    "id": "dnWgQnQ2dxJ4"
   },
   "source": [
    "Interessante! Agora fica mais evidente a concentração dos agrupamentos!\n",
    "\n",
    "De qualquer forma devemos voltar a nossa atenção ao objetivo: <font color = 'red'> preços do setor imobioliário. </font> \n",
    "\n",
    "No código a seguir o parâmetro \"s\" significa \"size\", tamanho em inglês. Escolhendo \"s\" como sendo a característica população, quanto maior o disco representa uma população maior.\n",
    "\n",
    "O parâmetro \"c\" significa \"color\", ou cor. Esse é na verdade o que queremos saber!\n",
    "\n",
    "O paramêtro colorbar = True indica que queremos visualizar a barra lateral informando as intensidades da cor, ou seja, do parêmetro \"c\".\n",
    "\n"
   ]
  },
  {
   "cell_type": "code",
   "execution_count": null,
   "metadata": {
    "colab": {},
    "colab_type": "code",
    "id": "uo34qLzu8Mz8"
   },
   "outputs": [],
   "source": [
    "housing.plot(kind=\"scatter\", x=\"longitude\", y=\"latitude\", alpha=0.4,\n",
    "    s=housing[\"population\"]/100, label=\"population\", figsize=(10,7),\n",
    "    c=\"median_house_value\", cmap=plt.get_cmap(\"jet\"), colorbar=True,\n",
    "    sharex=False) #sharex=false é só pra corrigir um bug de display https://github.com/pandas-dev/pandas/issues/10611\n",
    "plt.legend()"
   ]
  },
  {
   "cell_type": "markdown",
   "metadata": {
    "colab_type": "text",
    "id": "gjuu3hmPmO3I"
   },
   "source": [
    "A visulização dos dados indicam que regiões litorâneas tendem a possuir um valor mais alto. Talevz a densidade populacional também possa ser algo relevante.\n",
    "\n",
    "Vamos então investigar essas hipóteses através da correleção estatística:"
   ]
  },
  {
   "cell_type": "code",
   "execution_count": null,
   "metadata": {
    "colab": {},
    "colab_type": "code",
    "id": "fWwTwI_D8M0E"
   },
   "outputs": [],
   "source": [
    "corr_matrix = housing.corr() #Matriz de correlações"
   ]
  },
  {
   "cell_type": "code",
   "execution_count": null,
   "metadata": {
    "colab": {},
    "colab_type": "code",
    "id": "R50hJi6Sm0Ix"
   },
   "outputs": [],
   "source": [
    "corr_matrix #vamos ver a estrutura"
   ]
  },
  {
   "cell_type": "code",
   "execution_count": null,
   "metadata": {
    "colab": {},
    "colab_type": "code",
    "id": "eN1XZaZk8M0H"
   },
   "outputs": [],
   "source": [
    "corr_matrix[\"median_house_value\"].sort_values(ascending=False) #Ordenar valores em sentido decrescente"
   ]
  },
  {
   "cell_type": "markdown",
   "metadata": {
    "colab_type": "text",
    "id": "0FDo4wlMqRlr"
   },
   "source": [
    "É conveniente usar o scatter_matrix do pandas. Essa função plota cada característica em relação a outra. No nosso exemplo, teríamos 121 possibilidades.\n",
    "\n",
    "Vamos aproveitar e ver alguns [conceitos básicos de estatística](http://geam.paginas.ufsc.br/files/2020/02/Estatistica_Basica.pdf).\n",
    "\n",
    "Mas claro que não faremos isso e vamos então selecionar algumas que parecem ser mais significativas:"
   ]
  },
  {
   "cell_type": "code",
   "execution_count": null,
   "metadata": {
    "colab": {},
    "colab_type": "code",
    "id": "3LpwQAvB8M0L"
   },
   "outputs": [],
   "source": [
    "from pandas.plotting import scatter_matrix\n",
    "\n",
    "attributes = [\"median_house_value\", \"median_income\", \"total_rooms\",\n",
    "              \"housing_median_age\"]\n",
    "scatter_matrix(housing[attributes], figsize=(12, 8))"
   ]
  },
  {
   "cell_type": "markdown",
   "metadata": {
    "colab_type": "text",
    "id": "t1Cug8hvrd6-"
   },
   "source": [
    "OBS: Na diagonal principal da plotagem anterior não temos atributo x atributo, mas sim o histograma da característica."
   ]
  },
  {
   "cell_type": "markdown",
   "metadata": {
    "colab_type": "text",
    "id": "HG0nvHx8r7Rs"
   },
   "source": [
    "Vimos antes, que a característica que tinha maior correleção com o valor mediano de casas em um bairro era o salário mediano. Então vamos plotar para estudar a relação entre ambos:"
   ]
  },
  {
   "cell_type": "code",
   "execution_count": null,
   "metadata": {
    "colab": {},
    "colab_type": "code",
    "id": "P7tUBQjz8M0R"
   },
   "outputs": [],
   "source": [
    "housing.plot(kind=\"scatter\", x=\"median_income\", y=\"median_house_value\",\n",
    "             alpha=0.1)\n",
    "plt.axis([0, 16, 0, 550000])"
   ]
  },
  {
   "cell_type": "markdown",
   "metadata": {
    "colab_type": "text",
    "id": "AV671R0AscxC"
   },
   "source": [
    "Informações desta plotagem: \n",
    "\n",
    "1) Correlação é forte;\n",
    "\n",
    "2) Há um valor limiar de 500.000 para os valores (medianos) das casas. Por quê?\n",
    "\n",
    "3) Há também outras linhas horizontais. Por que elas são importantes?\n",
    "\n",
    "Uma abordagem possível seria excluir os dados correspondentes a esses casos."
   ]
  },
  {
   "cell_type": "markdown",
   "metadata": {
    "colab_type": "text",
    "id": "QwKPm7WPtR5y"
   },
   "source": [
    "# Feature Engineering"
   ]
  },
  {
   "cell_type": "markdown",
   "metadata": {
    "colab_type": "text",
    "id": "kRpUMfun03Xe"
   },
   "source": [
    "Além das colunas que o conjunto de dados nos oferece, podemos tentar construir novas características <font color = \"red\">construídas de maneiras não linear</font> com as características existentes.\n",
    "\n",
    "De maneira geral, essa etapa requer conhecimento específico da área na qual se esta trabalhando. Daí a importância da presença de um especialista no assunto para auxiliar no projeto. \n",
    "\n",
    "A seguir, vamos construir algumas novas features que são mais ou menos lógicas."
   ]
  },
  {
   "cell_type": "code",
   "execution_count": null,
   "metadata": {
    "colab": {},
    "colab_type": "code",
    "id": "owOuJWl-8M0Y"
   },
   "outputs": [],
   "source": [
    "#Nova feature: Número de cômodos por familia (média)\n",
    "housing[\"rooms_per_household\"] = housing[\"total_rooms\"]/housing[\"households\"]\n",
    "\n",
    "#Nova feature: quartos/cômodos\n",
    "housing[\"bedrooms_per_room\"] = housing[\"total_bedrooms\"]/housing[\"total_rooms\"]\n",
    "\n",
    "#Nova feature: população/agregado familiar\n",
    "housing[\"population_per_household\"]=housing[\"population\"]/housing[\"households\"]"
   ]
  },
  {
   "cell_type": "markdown",
   "metadata": {
    "colab_type": "text",
    "id": "LPlzoY-D2Mo-"
   },
   "source": [
    "Vejamos agora a matriz de correlação de housing:"
   ]
  },
  {
   "cell_type": "code",
   "execution_count": null,
   "metadata": {
    "colab": {},
    "colab_type": "code",
    "id": "QIXxphSB8M0e"
   },
   "outputs": [],
   "source": [
    "corr_matrix = housing.corr()\n",
    "corr_matrix[\"median_house_value\"].sort_values(ascending=False)"
   ]
  },
  {
   "cell_type": "markdown",
   "metadata": {
    "colab_type": "text",
    "id": "z1bPs-YC3Q5-"
   },
   "source": [
    "Aparentemente, casas com uma baixa proporção de quartos para cômodas tendem a ser mais caras. O número de cômodos por família é muito mais informartivo que o número total de quartos em um quarteirão.\n",
    "\n",
    "Vejamos o gráfico:"
   ]
  },
  {
   "cell_type": "code",
   "execution_count": null,
   "metadata": {
    "colab": {},
    "colab_type": "code",
    "id": "mO40azQw8M0i"
   },
   "outputs": [],
   "source": [
    "housing.plot(kind=\"scatter\", x=\"rooms_per_household\", y=\"median_house_value\",\n",
    "             alpha=0.2)\n",
    "plt.axis([0, 5, 0, 520000])\n",
    "plt.show()"
   ]
  },
  {
   "cell_type": "markdown",
   "metadata": {
    "colab_type": "text",
    "id": "uVO_3R264SaH"
   },
   "source": [
    "Vamos ver novamente as medidas resumos considerando as novas features!"
   ]
  },
  {
   "cell_type": "code",
   "execution_count": null,
   "metadata": {
    "colab": {},
    "colab_type": "code",
    "id": "K-Je-Uao8M0n"
   },
   "outputs": [],
   "source": [
    "housing.describe()"
   ]
  },
  {
   "cell_type": "markdown",
   "metadata": {
    "colab_type": "text",
    "id": "4K22d5b-8M0q"
   },
   "source": [
    "# Preparar os dados para os algoritmos de Machine Learning"
   ]
  },
  {
   "cell_type": "markdown",
   "metadata": {
    "colab_type": "text",
    "id": "WXXVeIOY7dcH"
   },
   "source": [
    "Precisamos incialmente retirar os rótulos do conjunto <fon color='blue'> strat_train_set </font> (mais a frente ficará claro).\n",
    "\n",
    "Para isso, vamos usar o método drop:"
   ]
  },
  {
   "cell_type": "code",
   "execution_count": null,
   "metadata": {
    "colab": {},
    "colab_type": "code",
    "id": "K4f2vNh88M0r"
   },
   "outputs": [],
   "source": [
    "housing = strat_train_set.drop(\"median_house_value\", axis=1) # O método drop cria cópia sem a coluna em questao\n",
    "housing_labels = strat_train_set[\"median_house_value\"].copy() #salvando uma cópia"
   ]
  },
  {
   "cell_type": "markdown",
   "metadata": {
    "colab_type": "text",
    "id": "Dr8Yx1Gr8-D_"
   },
   "source": [
    "A partir de agora vamos partir para etapa de <font color='blue'>limpeza de dados!</font>\n",
    "\n",
    "Vamos começar verificandi se temos dados falantes:"
   ]
  },
  {
   "cell_type": "code",
   "execution_count": null,
   "metadata": {
    "colab": {},
    "colab_type": "code",
    "id": "OreIJJVV8M0v"
   },
   "outputs": [],
   "source": [
    "#housing.isnull().any(axis=1) verifica quais linhas possuem alguma célula null\n",
    "sample_incomplete_rows = housing[housing.isnull().any(axis=1)].head()\n",
    "sample_incomplete_rows"
   ]
  },
  {
   "cell_type": "markdown",
   "metadata": {
    "colab_type": "text",
    "id": "g93mvTOr94j-"
   },
   "source": [
    "Possuímos basicamente três abordagens possíveis para lidar com os dados faltantes:\n",
    "\n",
    "1. Excluir os quarteirões com dados faltantes;\n",
    "\n",
    "2. Excluir toda coluna de total_bedrooms, já que é o único atributo que apresenta dados faltantes;\n",
    "\n",
    "3. Definir algum valor para substituir total_bedrooms."
   ]
  },
  {
   "cell_type": "code",
   "execution_count": null,
   "metadata": {
    "colab": {},
    "colab_type": "code",
    "id": "am5Vp76w8M1A"
   },
   "outputs": [],
   "source": [
    "sample_incomplete_rows.dropna(subset=[\"total_bedrooms\"])    # opção 1"
   ]
  },
  {
   "cell_type": "code",
   "execution_count": null,
   "metadata": {
    "colab": {},
    "colab_type": "code",
    "id": "Zcb4CVvy8M1D"
   },
   "outputs": [],
   "source": [
    "sample_incomplete_rows.drop(\"total_bedrooms\", axis=1)       # opção 2"
   ]
  },
  {
   "cell_type": "markdown",
   "metadata": {
    "colab_type": "text",
    "id": "kwK8qP9v-3ua"
   },
   "source": [
    "Opção 3: preenchendo com algum valor - nesse caso, usaremos a mediana."
   ]
  },
  {
   "cell_type": "code",
   "execution_count": null,
   "metadata": {
    "colab": {},
    "colab_type": "code",
    "id": "qPjSOVok8M1H"
   },
   "outputs": [],
   "source": [
    "median = housing[\"total_bedrooms\"].median()\n",
    "sample_incomplete_rows[\"total_bedrooms\"].fillna(median, inplace=True) # opção 3\n",
    "sample_incomplete_rows"
   ]
  },
  {
   "cell_type": "markdown",
   "metadata": {
    "colab_type": "text",
    "id": "D7E8-2jaBMyu"
   },
   "source": [
    "Se escolhermos a opção 3, devemos calular a mediana (ou qualquer outra medida que seja justificável) no <font color=\"red\">conjunto de treinamento</font> e usá-lo para preencher os valores faltantes neste, mas precisamos <font color=\"blue\">salvar</font> esse valor cálculado.\n",
    "\n",
    "Você precisar desse valor para mais tarde aplicar no conjunto de teste, que deverá ter seus dados faltantes corrigidos seguindo o mesmo parâmetro do conjunto de treino."
   ]
  },
  {
   "cell_type": "markdown",
   "metadata": {
    "colab_type": "text",
    "id": "Xpne_3kJBInq"
   },
   "source": [
    "**AVISO**: No Scikit-Learn 0.20, a classe `sklearn.preprocessing.Imputer` \n",
    "foi substituida pela classe `sklearn.impute.SimpleImputer`. Então, é conviniente verificar qual versão o computador em questão está usando:"
   ]
  },
  {
   "cell_type": "code",
   "execution_count": null,
   "metadata": {
    "colab": {},
    "colab_type": "code",
    "id": "3Dy5nsFz8M1M"
   },
   "outputs": [],
   "source": [
    "try:\n",
    "    from sklearn.impute import SimpleImputer # Scikit-Learn 0.20+\n",
    "    print(\"Scikit-Learn 0.20+\")\n",
    "except ImportError:\n",
    "    from sklearn.preprocessing import Imputer as SimpleImputer\n",
    "    print(\"Scikit-Learn antes do 0.20\")\n",
    "\n",
    "imputer = SimpleImputer(strategy=\"median\")"
   ]
  },
  {
   "cell_type": "markdown",
   "metadata": {
    "colab_type": "text",
    "id": "y0iuZ4GFC2Wk"
   },
   "source": [
    "Vamos novamente revisar o nosso dataset..."
   ]
  },
  {
   "cell_type": "code",
   "execution_count": null,
   "metadata": {
    "colab": {},
    "colab_type": "code",
    "id": "bC1UXCMtC7Dr"
   },
   "outputs": [],
   "source": [
    "housing"
   ]
  },
  {
   "cell_type": "markdown",
   "metadata": {
    "colab_type": "text",
    "id": "_R3RrWmp8M1O"
   },
   "source": [
    "Ainda temos a última coluna que não é numérica! \n",
    "\n",
    "A princípios, grande parte dos algoritmos de machine learning no computador preferem os dados representados numericamente!"
   ]
  },
  {
   "cell_type": "code",
   "execution_count": null,
   "metadata": {
    "colab": {},
    "colab_type": "code",
    "id": "BtSZSuXK8M1P"
   },
   "outputs": [],
   "source": [
    "housing_num = housing.drop('ocean_proximity', axis=1)\n",
    "# Derrubando a coluna \"ocean_proximity\"\n",
    "# alternativa: housing_num = housing.select_dtypes(include=[np.number])"
   ]
  },
  {
   "cell_type": "markdown",
   "metadata": {
    "colab_type": "text",
    "id": "-oJNfnSNDrea"
   },
   "source": [
    "Agora vamos ajudar o nosso objeto imputer com o nossos dados:"
   ]
  },
  {
   "cell_type": "code",
   "execution_count": null,
   "metadata": {
    "colab": {},
    "colab_type": "code",
    "id": "DEXT2hQr8M1S"
   },
   "outputs": [],
   "source": [
    "imputer.fit(housing_num) "
   ]
  },
  {
   "cell_type": "markdown",
   "metadata": {
    "colab_type": "text",
    "id": "VJ5SdBuUD27i"
   },
   "source": [
    "Aqui, o imputer simplesmente calculou a mediana no conjunto de dados.\n",
    "\n",
    "Vejamos algumas informações sobre o nosso objeto imputer:"
   ]
  },
  {
   "cell_type": "code",
   "execution_count": null,
   "metadata": {
    "colab": {},
    "colab_type": "code",
    "id": "sP3wAcyX8M1W"
   },
   "outputs": [],
   "source": [
    "imputer.statistics_"
   ]
  },
  {
   "cell_type": "markdown",
   "metadata": {
    "colab_type": "text",
    "id": "0o1__l6p8M1a"
   },
   "source": [
    "Vamos verificar que isto é, na verdade, a mesma coisa que calcular manualmente a mediana de cada atributo:"
   ]
  },
  {
   "cell_type": "code",
   "execution_count": null,
   "metadata": {
    "colab": {},
    "colab_type": "code",
    "id": "27Qi1YJc8M1c"
   },
   "outputs": [],
   "source": [
    "housing_num.median().values"
   ]
  },
  {
   "cell_type": "markdown",
   "metadata": {
    "colab_type": "text",
    "id": "m8fmJCklEhzx"
   },
   "source": [
    "Mas não seria apenas o atributo \"total_bedrooms\" que estava com valores faltantes? \n",
    "\n",
    "Vamos precisar de todas as informações do imputer? Isto é, vamos precisar da mediana de todas as variáveis?\n",
    "\n",
    "<font color='red'> Não podemos, a princípio, afirmar que o mesmo padrão vai ser repetir na generalização do modelo! </font>\n",
    "\n",
    "Certo, mas e se dermos uma espiadinha no conjunto de testes?\n",
    "\n",
    "Não devemos fazer isso por vários motivos. \n",
    "\n",
    "1. Corremos o risco de colocar vieses no nosso modelo (assumir que apenas \"total_bedrooms\" terá colunas com dados faltantes em todos os cenários possíveis é um deles;\n",
    "\n",
    "2. Devemos ter sempre em mente que o conjunto de teste é no fundo uma simulação para testarmos o poder de generalização do algoritmo - devemos fazer todas as nossas análises e otimizações somente no conjunto de treinamento e então aplicar o modelo final uma única vez no conjunto de teste!\n",
    "\n"
   ]
  },
  {
   "cell_type": "markdown",
   "metadata": {
    "colab_type": "text",
    "id": "df5gUu6H8M1j"
   },
   "source": [
    "Vamos agora finalmente <font color = 'blue'> transformar </font> o nosso conjunto de dados, aplicando, efetivamente, o valor calculado da mediana nos dados faltantes:"
   ]
  },
  {
   "cell_type": "code",
   "execution_count": null,
   "metadata": {
    "colab": {},
    "colab_type": "code",
    "id": "zeMG56He8M1k"
   },
   "outputs": [],
   "source": [
    "X = imputer.transform(housing_num) #numpy array"
   ]
  },
  {
   "cell_type": "markdown",
   "metadata": {
    "colab_type": "text",
    "id": "CWZP3rviHVT3"
   },
   "source": [
    "Vamos visualizar o conjunto X"
   ]
  },
  {
   "cell_type": "code",
   "execution_count": null,
   "metadata": {
    "colab": {},
    "colab_type": "code",
    "id": "OzhW6FTsHYCA"
   },
   "outputs": [],
   "source": [
    "X"
   ]
  },
  {
   "cell_type": "markdown",
   "metadata": {
    "colab_type": "text",
    "id": "uM-cJ1LiHaS2"
   },
   "source": [
    "Se você se sentir mais confortável, pode transformar o conjunto X em um dataframe:"
   ]
  },
  {
   "cell_type": "code",
   "execution_count": null,
   "metadata": {
    "colab": {},
    "colab_type": "code",
    "id": "l9CX4hOO8M1n"
   },
   "outputs": [],
   "source": [
    "housing_tr = pd.DataFrame(X, columns=housing_num.columns, #importante informar nome das colunas\n",
    "                          index=housing.index) #DataFrame Pandas"
   ]
  },
  {
   "cell_type": "markdown",
   "metadata": {
    "colab_type": "text",
    "id": "o9szVFMcHhQa"
   },
   "source": [
    "Vejamos como é este dataframe:"
   ]
  },
  {
   "cell_type": "code",
   "execution_count": null,
   "metadata": {
    "colab": {},
    "colab_type": "code",
    "id": "5mYCY8ltHlcD"
   },
   "outputs": [],
   "source": [
    "housing_tr.head()"
   ]
  },
  {
   "cell_type": "markdown",
   "metadata": {
    "colab_type": "text",
    "id": "UZ_0PzGe8M1y"
   },
   "source": [
    "Agora devemos tratar a variável categórica`ocean_proximity'!\n",
    "\n",
    "Lembre que esta é uma variável muito importante no nosso problema: ela demonstrava uma boa correlação com o preço mediano das casas.\n",
    "\n",
    "Vamos novamente visualizar os dados para relembrar:"
   ]
  },
  {
   "cell_type": "code",
   "execution_count": null,
   "metadata": {
    "colab": {},
    "colab_type": "code",
    "id": "0zZc51Ro8M1z"
   },
   "outputs": [],
   "source": [
    "housing_cat = housing[['ocean_proximity']]\n",
    "housing_cat.head(10)"
   ]
  },
  {
   "cell_type": "markdown",
   "metadata": {
    "colab_type": "text",
    "id": "PHlDGSPp9drc"
   },
   "source": [
    "Agora vamos usar um processo chamado de codificação. Vamos transformar as nossas variáveis categóricas em números!"
   ]
  },
  {
   "cell_type": "markdown",
   "metadata": {
    "colab_type": "text",
    "id": "pBeHjNq58M12"
   },
   "source": [
    "**OBS**: O código a seguir é apenas devido a atualização da classe OriginalEnconder()"
   ]
  },
  {
   "cell_type": "code",
   "execution_count": null,
   "metadata": {
    "colab": {},
    "colab_type": "code",
    "id": "fCgAnVEN8M13"
   },
   "outputs": [],
   "source": [
    "try:\n",
    "    from sklearn.preprocessing import OrdinalEncoder\n",
    "    print(\"Scikit-Learn >= 2.0\")\n",
    "except ImportError:\n",
    "    from future_encoders import OrdinalEncoder # Scikit-Learn < 0.20\n",
    "    print(\"O teu Scikit-Learn tá antiguinho mô quirido\")"
   ]
  },
  {
   "cell_type": "markdown",
   "metadata": {
    "colab_type": "text",
    "id": "0jTIHNpV-YC0"
   },
   "source": [
    "Na função a seguir, precisamos instanciar um objeto ordinal_encoder. \n",
    "\n",
    "Depois, usamos fit_transform para executa duas operações:\n",
    "\n",
    "1. Método fit irá ajustar os parâmetros (mapeamento, por exemplo, quais são as variáveis categóricas); \n",
    "\n",
    "2. Método transform irá transformar os dados;\n",
    "\n",
    "3. fit_transform(dados) irá ajustar parâmetros e transformar os dados.\n"
   ]
  },
  {
   "cell_type": "code",
   "execution_count": null,
   "metadata": {
    "colab": {},
    "colab_type": "code",
    "id": "X6IUvOsv8M15"
   },
   "outputs": [],
   "source": [
    "ordinal_encoder = OrdinalEncoder()\n",
    "housing_cat_encoded = ordinal_encoder.fit_transform(housing_cat)"
   ]
  },
  {
   "cell_type": "markdown",
   "metadata": {
    "colab_type": "text",
    "id": "aAELI6TN_JMO"
   },
   "source": [
    "Uma alternativa mais prolixa teria sido escrever:\n",
    "\n",
    "original_encoder.fit(housing_cat)\n",
    "\n",
    "housing_cat_encoded = original_enconder.fit(housing_cat)\n"
   ]
  },
  {
   "cell_type": "markdown",
   "metadata": {
    "colab_type": "text",
    "id": "35TkntyX_JgN"
   },
   "source": [
    "Vejamos que tipo de objeto é housing_cat_encoded:"
   ]
  },
  {
   "cell_type": "code",
   "execution_count": null,
   "metadata": {
    "colab": {},
    "colab_type": "code",
    "id": "QaHZCal8CNLd"
   },
   "outputs": [],
   "source": [
    "type(housing_cat_encoded)"
   ]
  },
  {
   "cell_type": "markdown",
   "metadata": {
    "colab_type": "text",
    "id": "5GhaDm9TCQUd"
   },
   "source": [
    "Vamos ver agora os 10 primeiros valores desse numpy array:"
   ]
  },
  {
   "cell_type": "code",
   "execution_count": null,
   "metadata": {
    "colab": {},
    "colab_type": "code",
    "id": "sZwZlPvV_J-B"
   },
   "outputs": [],
   "source": [
    "housing_cat_encoded[:10]"
   ]
  },
  {
   "cell_type": "markdown",
   "metadata": {
    "colab_type": "text",
    "id": "71JIk01_CaPi"
   },
   "source": [
    "Vamos relembrar também as categorias do nosso problema:"
   ]
  },
  {
   "cell_type": "code",
   "execution_count": null,
   "metadata": {
    "colab": {},
    "colab_type": "code",
    "id": "QGFUci_p8M18"
   },
   "outputs": [],
   "source": [
    "ordinal_encoder.categories_"
   ]
  },
  {
   "cell_type": "markdown",
   "metadata": {
    "colab_type": "text",
    "id": "N1uKeQbJ_IDx"
   },
   "source": [
    "Veja! \n",
    "\n",
    "O objeto ordinal_encoder foi construiído assim:\n",
    "\n",
    "ordinal_encoder = OrdinalEncoder() \n",
    "\n",
    "e depois fizemos o seguinte:\n",
    "\n",
    "housing_cat_encoded = ordinal_encoder.fit_transform(housing_cat)\n",
    "\n",
    "<font color = \"red\">Aqui não apenas definimos quem é \"housing_cat_encoded\" como também inserimos informações no objeto ordinal_encoder! </font>"
   ]
  },
  {
   "cell_type": "markdown",
   "metadata": {
    "colab_type": "text",
    "id": "xMDgx9IXDQp4"
   },
   "source": [
    "Apesar dos nossos esforços, temos um grave problema na nossa codificação, veja novamente: "
   ]
  },
  {
   "cell_type": "code",
   "execution_count": null,
   "metadata": {
    "colab": {},
    "colab_type": "code",
    "id": "ej67X1XiGuVB"
   },
   "outputs": [],
   "source": [
    "housing_cat_encoded[:10]"
   ]
  },
  {
   "cell_type": "code",
   "execution_count": null,
   "metadata": {
    "colab": {},
    "colab_type": "code",
    "id": "3d9Wk1zfDYLy"
   },
   "outputs": [],
   "source": [
    "housing_cat[:10]"
   ]
  },
  {
   "cell_type": "markdown",
   "metadata": {
    "colab_type": "text",
    "id": "IxpbZPyhDaFA"
   },
   "source": [
    "Cada variável categórica foi transformada em número!\n",
    "\n",
    "Mas será que a princípio, podemos comparar uma variável categórica com outra?\n",
    "\n",
    "Quem é maior: NEAR OCEAN ou NEAR BAY? \n",
    "\n",
    "Bem, é difícil responder. Mas é isso que a nossa codificação implicítacamente está fazendo ao colocar os valores 0,1,2,3 ou 4 para cada variável categórica. \n",
    "\n",
    "<font color=\"red\"> Para lidar com essa situação precisamos então de outra abordagem!</font>"
   ]
  },
  {
   "cell_type": "code",
   "execution_count": null,
   "metadata": {
    "colab": {},
    "colab_type": "code",
    "id": "YRx3EyM_8M2A"
   },
   "outputs": [],
   "source": [
    "try:\n",
    "    from sklearn.preprocessing import OrdinalEncoder # gera um ImportError se Scikit-Learn < 0.20\n",
    "    from sklearn.preprocessing import OneHotEncoder\n",
    "except ImportError:\n",
    "    from future_encoders import OneHotEncoder # Scikit-Learn < 0.20\n",
    "\n",
    "cat_encoder = OneHotEncoder()\n",
    "housing_cat_1hot = cat_encoder.fit_transform(housing_cat)\n",
    "housing_cat_1hot"
   ]
  },
  {
   "cell_type": "markdown",
   "metadata": {
    "colab_type": "text",
    "id": "NZmFwJfi8M2D"
   },
   "source": [
    "By default, the `OneHotEncoder` class returns a sparse array, but we can convert it to a dense array if needed by calling the `toarray()` method:"
   ]
  },
  {
   "cell_type": "markdown",
   "metadata": {
    "colab_type": "text",
    "id": "oxZNJ3vdLhsy"
   },
   "source": [
    "Epa! Agora temos uma matriz SciPy ao invés de um Numpy array! \n",
    "\n",
    "<font color = \"red\">Por que será?</font>"
   ]
  },
  {
   "cell_type": "code",
   "execution_count": null,
   "metadata": {
    "colab": {},
    "colab_type": "code",
    "id": "xj9Ui84j8M2F"
   },
   "outputs": [],
   "source": [
    "housing_cat_1hot.toarray()"
   ]
  },
  {
   "cell_type": "markdown",
   "metadata": {
    "colab_type": "text",
    "id": "bZrxw1P7LuGS"
   },
   "source": [
    "Temos agora uma matriz esparsa! (mais econômica computacionalmente)"
   ]
  },
  {
   "cell_type": "markdown",
   "metadata": {
    "colab_type": "text",
    "id": "a7Awc-A88M2H"
   },
   "source": [
    "Alternativamente, podemos colocar `sparse=False` ao criar o objeto `OneHotEncoder`:"
   ]
  },
  {
   "cell_type": "code",
   "execution_count": null,
   "metadata": {
    "colab": {},
    "colab_type": "code",
    "id": "gBpRUzXa8M2K"
   },
   "outputs": [],
   "source": [
    "cat_encoder = OneHotEncoder(sparse=False)\n",
    "housing_cat_1hot = cat_encoder.fit_transform(housing_cat)\n",
    "housing_cat_1hot"
   ]
  },
  {
   "cell_type": "code",
   "execution_count": null,
   "metadata": {
    "colab": {},
    "colab_type": "code",
    "id": "ffDhyjCS8M2Q"
   },
   "outputs": [],
   "source": [
    "cat_encoder.categories_"
   ]
  },
  {
   "cell_type": "markdown",
   "metadata": {
    "colab_type": "text",
    "id": "oBb4phIC8M2S"
   },
   "source": [
    "Let's create a custom transformer to add extra attributes:\n",
    "\n",
    "Vamos criar um transformador customizado para adicionar atributos extras \n",
    "\n",
    "**OBS**: aqui vamos simplesmente criar um código para o processo manual feito na etapa de Feature Engineering. Vai nos ajudar a criar um pipeline mais a frente."
   ]
  },
  {
   "cell_type": "code",
   "execution_count": null,
   "metadata": {
    "colab": {},
    "colab_type": "code",
    "id": "Elcx_lHE8M2T"
   },
   "outputs": [],
   "source": [
    "housing.columns"
   ]
  },
  {
   "cell_type": "code",
   "execution_count": null,
   "metadata": {
    "colab": {},
    "colab_type": "code",
    "id": "NGcMGFu38M2X"
   },
   "outputs": [],
   "source": [
    "from sklearn.base import BaseEstimator, TransformerMixin\n",
    "\n",
    "# Buscando os indices corretos das colunas: \n",
    "# Mais seeguro que ficar digitando 3, 4, 5, 6..\n",
    "rooms_ix, bedrooms_ix, population_ix, household_ix = [\n",
    "    list(housing.columns).index(col)\n",
    "    for col in (\"total_rooms\", \"total_bedrooms\", \"population\", \"households\")]\n",
    "\n",
    "class CombinedAttributesAdder(BaseEstimator, TransformerMixin):\n",
    "    def __init__(self, add_bedrooms_per_room = True): # no *args or **kwargs\n",
    "        self.add_bedrooms_per_room = add_bedrooms_per_room\n",
    "    def fit(self, X, y=None):\n",
    "        return self  # Nada a fazer!\n",
    "    def transform(self, X, y=None):\n",
    "        rooms_per_household = X[:, rooms_ix] / X[:, household_ix]\n",
    "        population_per_household = X[:, population_ix] / X[:, household_ix]\n",
    "        if self.add_bedrooms_per_room:\n",
    "            bedrooms_per_room = X[:, bedrooms_ix] / X[:, rooms_ix]\n",
    "            return np.c_[X, rooms_per_household, population_per_household,\n",
    "                         bedrooms_per_room]\n",
    "        else:\n",
    "            return np.c_[X, rooms_per_household, population_per_household]\n",
    "\n",
    "attr_adder = CombinedAttributesAdder(add_bedrooms_per_room=False)\n",
    "housing_extra_attribs = attr_adder.transform(housing.values)"
   ]
  },
  {
   "cell_type": "markdown",
   "metadata": {
    "colab_type": "text",
    "id": "k9EO6KsJ8M2a"
   },
   "source": [
    "Alternativamente, você pode usar a função da classe `FunctionTransformer` que permite você criar rapidamente um transformador baseado em uma função de transformação! "
   ]
  },
  {
   "cell_type": "code",
   "execution_count": null,
   "metadata": {
    "colab": {},
    "colab_type": "code",
    "id": "4rpc96Bz8M2b"
   },
   "outputs": [],
   "source": [
    "from sklearn.preprocessing import FunctionTransformer\n",
    "\n",
    "def add_extra_features(X, add_bedrooms_per_room=True):\n",
    "    rooms_per_household = X[:, rooms_ix] / X[:, household_ix]\n",
    "    population_per_household = X[:, population_ix] / X[:, household_ix]\n",
    "    if add_bedrooms_per_room:\n",
    "        bedrooms_per_room = X[:, bedrooms_ix] / X[:, rooms_ix]\n",
    "        return np.c_[X, rooms_per_household, population_per_household,\n",
    "                     bedrooms_per_room]\n",
    "    else:\n",
    "        return np.c_[X, rooms_per_household, population_per_household]\n",
    "\n",
    "attr_adder = FunctionTransformer(add_extra_features, validate=False,\n",
    "                                 kw_args={\"add_bedrooms_per_room\": False})\n",
    "\n",
    "housing_extra_attribs = attr_adder.fit_transform(housing.values)\n",
    "\n",
    "#Vale a pena colocar validate=False já queos dados não possuem valores não-float\n",
    "#validate=false é valor padrão a partir do Scikit-Learn 0.22."
   ]
  },
  {
   "cell_type": "code",
   "execution_count": null,
   "metadata": {
    "colab": {},
    "colab_type": "code",
    "id": "i7Kxr65r8M2d"
   },
   "outputs": [],
   "source": [
    "housing_extra_attribs = pd.DataFrame(\n",
    "    housing_extra_attribs,\n",
    "    columns=list(housing.columns)+[\"rooms_per_household\", \"population_per_household\"],\n",
    "    index=housing.index)\n",
    "housing_extra_attribs.head()"
   ]
  },
  {
   "cell_type": "markdown",
   "metadata": {
    "colab_type": "text",
    "id": "HQWec1HG8M2k"
   },
   "source": [
    "Agora vamos construir um \"pipeline\" (tradução literal: gasoduto) para pré-processar os atributos numéricos - obser que poderíamos usar <font color = 'blue'> CombinedAttributesAdder()</font>\n",
    "ao invés do <font color = 'blue'> FunctionTransformer(...) </font>, se quiséssemos:"
   ]
  },
  {
   "cell_type": "code",
   "execution_count": null,
   "metadata": {
    "colab": {},
    "colab_type": "code",
    "id": "HQXJZ_Sj8M2l"
   },
   "outputs": [],
   "source": [
    "from sklearn.pipeline import Pipeline\n",
    "from sklearn.preprocessing import StandardScaler \n",
    "#StandardScaler serve para fazer a reescalar das variáveis\n",
    "\n",
    "num_pipeline = Pipeline([\n",
    "        ('imputer', SimpleImputer(strategy=\"median\")),\n",
    "        ('attribs_adder', FunctionTransformer(add_extra_features, validate=False)),\n",
    "        ('std_scaler', StandardScaler()),\n",
    "    ])\n",
    "\n",
    "housing_num_tr = num_pipeline.fit_transform(housing_num)"
   ]
  },
  {
   "cell_type": "code",
   "execution_count": null,
   "metadata": {
    "colab": {},
    "colab_type": "code",
    "id": "qdcLN1nQ8M2p"
   },
   "outputs": [],
   "source": [
    "housing_num_tr"
   ]
  },
  {
   "cell_type": "code",
   "execution_count": null,
   "metadata": {
    "colab": {},
    "colab_type": "code",
    "id": "gqJnKiKU8M2s"
   },
   "outputs": [],
   "source": [
    "try:\n",
    "    from sklearn.compose import ColumnTransformer\n",
    "except ImportError:\n",
    "    from future_encoders import ColumnTransformer # Scikit-Learn < 0.20"
   ]
  },
  {
   "cell_type": "code",
   "execution_count": null,
   "metadata": {
    "colab": {},
    "colab_type": "code",
    "id": "jeuhO_C28M2v"
   },
   "outputs": [],
   "source": [
    "num_attribs = list(housing_num)\n",
    "cat_attribs = [\"ocean_proximity\"]\n",
    "\n",
    "full_pipeline = ColumnTransformer([\n",
    "        (\"num\", num_pipeline, num_attribs),\n",
    "        (\"cat\", OneHotEncoder(), cat_attribs),\n",
    "    ])\n",
    "\n",
    "housing_prepared = full_pipeline.fit_transform(housing)"
   ]
  },
  {
   "cell_type": "code",
   "execution_count": null,
   "metadata": {
    "colab": {},
    "colab_type": "code",
    "id": "YeMjEuO68M2x"
   },
   "outputs": [],
   "source": [
    "housing_prepared"
   ]
  },
  {
   "cell_type": "code",
   "execution_count": null,
   "metadata": {
    "colab": {},
    "colab_type": "code",
    "id": "gdZ_g_4F8M22"
   },
   "outputs": [],
   "source": [
    "housing_prepared.shape"
   ]
  },
  {
   "cell_type": "markdown",
   "metadata": {
    "colab_type": "text",
    "id": "sVtZVgtylH3S"
   },
   "source": [
    "Agora finalmente temos os nossos dados pré-processados! "
   ]
  },
  {
   "cell_type": "markdown",
   "metadata": {
    "colab_type": "text",
    "id": "hEd0_zms8M3Q"
   },
   "source": [
    "# Selecionar e treinar um modelo"
   ]
  },
  {
   "cell_type": "markdown",
   "metadata": {
    "colab_type": "text",
    "id": "JNSjYgRslYpQ"
   },
   "source": [
    "Vamos começar com um modelo siples: Regressão Linear!"
   ]
  },
  {
   "cell_type": "code",
   "execution_count": null,
   "metadata": {
    "colab": {},
    "colab_type": "code",
    "id": "Tlfuq_N_8M3Q"
   },
   "outputs": [],
   "source": [
    "from sklearn.linear_model import LinearRegression\n",
    "\n",
    "lin_reg = LinearRegression()\n",
    "lin_reg.fit(housing_prepared, housing_labels) \n",
    "#Ei Regressão linear, encontre os parâmetros que melhor aproxima os dados"
   ]
  },
  {
   "cell_type": "markdown",
   "metadata": {
    "colab_type": "text",
    "id": "1jftWY8qlw0V"
   },
   "source": [
    "Vamos agora testar o nosso pipeline de pré-processamento em algumas instâncias de treino."
   ]
  },
  {
   "cell_type": "code",
   "execution_count": null,
   "metadata": {
    "colab": {},
    "colab_type": "code",
    "id": "LeIBOXrc8M3T"
   },
   "outputs": [],
   "source": [
    "some_data = housing.iloc[:5]\n",
    "some_labels = housing_labels.iloc[:5]\n",
    "some_data_prepared = full_pipeline.transform(some_data) \n",
    "\n",
    "print(\"Predictions:\", lin_reg.predict(some_data_prepared))"
   ]
  },
  {
   "cell_type": "markdown",
   "metadata": {
    "colab_type": "text",
    "id": "2ee13jK88M3W"
   },
   "source": [
    "Vamos comparar agora com os valores reais:\n"
   ]
  },
  {
   "cell_type": "code",
   "execution_count": null,
   "metadata": {
    "colab": {},
    "colab_type": "code",
    "id": "cKuAW3cF8M3W"
   },
   "outputs": [],
   "source": [
    "print(\"Labels:\", list(some_labels))"
   ]
  },
  {
   "cell_type": "code",
   "execution_count": null,
   "metadata": {
    "colab": {},
    "colab_type": "code",
    "id": "TTiJNHzc8M3Z"
   },
   "outputs": [],
   "source": [
    "some_data_prepared"
   ]
  },
  {
   "cell_type": "markdown",
   "metadata": {
    "colab_type": "text",
    "id": "NFbq4GnVmDQe"
   },
   "source": [
    "Agora vamos usar as métricas que aprendemos anteriormente!"
   ]
  },
  {
   "cell_type": "code",
   "execution_count": null,
   "metadata": {
    "colab": {},
    "colab_type": "code",
    "id": "uM8zYtAz8M3c"
   },
   "outputs": [],
   "source": [
    "from sklearn.metrics import mean_squared_error as MSE\n",
    "\n",
    "housing_predictions = lin_reg.predict(housing_prepared)\n",
    "lin_mse = MSE(housing_labels, housing_predictions)\n",
    "lin_rmse = np.sqrt(lin_mse) #Não é necessariamente obrigatório\n",
    "lin_rmse"
   ]
  },
  {
   "cell_type": "code",
   "execution_count": null,
   "metadata": {
    "colab": {},
    "colab_type": "code",
    "id": "fVUWg9TX8M3e"
   },
   "outputs": [],
   "source": [
    "from sklearn.metrics import mean_absolute_error as MAE\n",
    "\n",
    "lin_mae = MAE(housing_labels, housing_predictions)\n",
    "lin_mae"
   ]
  },
  {
   "cell_type": "markdown",
   "metadata": {
    "colab_type": "text",
    "id": "krWmzYCImYl3"
   },
   "source": [
    "Essse modelo ainda não parece ser adequado!"
   ]
  },
  {
   "cell_type": "code",
   "execution_count": null,
   "metadata": {
    "colab": {},
    "colab_type": "code",
    "id": "j22oB0-98M3t"
   },
   "outputs": [],
   "source": [
    "from sklearn.tree import DecisionTreeRegressor\n",
    "\n",
    "tree_reg = DecisionTreeRegressor(random_state=42)\n",
    "tree_reg.fit(housing_prepared, housing_labels)"
   ]
  },
  {
   "cell_type": "code",
   "execution_count": null,
   "metadata": {
    "colab": {},
    "colab_type": "code",
    "id": "SJlEkoBQ8M3v"
   },
   "outputs": [],
   "source": [
    "housing_predictions = tree_reg.predict(housing_prepared)\n",
    "tree_mse = MSE(housing_labels, housing_predictions)\n",
    "tree_rmse = np.sqrt(tree_mse)\n",
    "tree_rmse"
   ]
  },
  {
   "cell_type": "markdown",
   "metadata": {
    "colab_type": "text",
    "id": "PLYetxKwmxhs"
   },
   "source": [
    "O quê? Erro zero?"
   ]
  },
  {
   "cell_type": "markdown",
   "metadata": {
    "colab_type": "text",
    "id": "f3xjl8BZonWR"
   },
   "source": [
    "#Vamos continuar na próxima aula a calibrar esse modelo!"
   ]
  }
 ],
 "metadata": {
  "colab": {
   "collapsed_sections": [
    "6T9pPKu28Mwe",
    "UBjzryXYKMb5",
    "HMaugIFD5xmR",
    "QwKPm7WPtR5y",
    "4K22d5b-8M0q",
    "hEd0_zms8M3Q",
    "f3xjl8BZonWR"
   ],
   "name": "Aula 02.ipynb",
   "provenance": [],
   "toc_visible": true
  },
  "kernelspec": {
   "display_name": "Python 3",
   "language": "python",
   "name": "python3"
  },
  "language_info": {
   "codemirror_mode": {
    "name": "ipython",
    "version": 3
   },
   "file_extension": ".py",
   "mimetype": "text/x-python",
   "name": "python",
   "nbconvert_exporter": "python",
   "pygments_lexer": "ipython3",
   "version": "3.7.3"
  },
  "nav_menu": {
   "height": "279px",
   "width": "309px"
  },
  "toc": {
   "nav_menu": {},
   "number_sections": true,
   "sideBar": true,
   "skip_h1_title": false,
   "toc_cell": false,
   "toc_position": {},
   "toc_section_display": "block",
   "toc_window_display": false
  }
 },
 "nbformat": 4,
 "nbformat_minor": 1
}
