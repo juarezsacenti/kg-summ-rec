{
 "cells": [
  {
   "cell_type": "markdown",
   "metadata": {
    "colab_type": "text",
    "id": "8t2Qabg58MwS"
   },
   "source": [
    "**Análise Exploratório de Dados - Movielens 1M**\n",
    "\n",
    "---\n",
    "\n",
    "Neste Notebook você irá analisar o dataset Movilens 1M por meio de uma análise exploratória de dados. "
   ]
  },
  {
   "cell_type": "markdown",
   "metadata": {
    "colab_type": "text",
    "id": "NI1cVi_NGUOO"
   },
   "source": [
    "# Index\n",
    "\n",
    "1. Configuração Inicial;\n",
    "\n",
    "2. Enquadrar o problema;\n",
    "\n",
    "3. Análise Exploratória de Dados; // Qualidade dos dados, artigo performance similar em modelos distintos, qualidades dos dados tinha maior impacto. Problema de SmallData.\n",
    "    \n",
    "    3.1. ML1M;\n",
    "        3.1.1 Obter os dados;\n",
    "        3.1.2. Variáveis núméricas;\n",
    "        3.1.3. Variáveis categóricas;\n",
    "        3.1.4. Cleanning data;\n",
    "        3.1.5. Data visualization;\n",
    "       \n",
    "    3.2. ml1m-cao;\n",
    "    \n",
    "    3.3. ml1m-sun;\n",
    "    \n",
    "4. Conjuntos de treinamento / correlação / featuring engineering;\n",
    "\n",
    "5. Preparar os dados para os algoritmos;\n",
    "\n",
    "6. Selecionar e treinar modelos; // Esta e demais etapas sao realizadas pelo projeto know-rec.\n",
    "\n",
    "7. Ajustar o modelo;\n",
    "\n",
    "8. Apresentar sua solução;\n",
    "\n",
    "9. Lançar, monitorar e manter seu sistema."
   ]
  },
  {
   "cell_type": "markdown",
   "metadata": {
    "colab_type": "text",
    "id": "6T9pPKu28Mwe"
   },
   "source": [
    "# 1. Configuração inicial"
   ]
  },
  {
   "cell_type": "code",
   "execution_count": 1,
   "metadata": {
    "colab": {},
    "colab_type": "code",
    "id": "iDJOKH5NA1QG"
   },
   "outputs": [],
   "source": [
    "# Importações comuns\n",
    "import numpy as np\n",
    "import os\n",
    "import pandas as pd # pandas is a data manipulation library\n",
    "import random\n",
    "from wordcloud import WordCloud, STOPWORDS #used to generate world cloud"
   ]
  },
  {
   "cell_type": "code",
   "execution_count": 2,
   "metadata": {
    "colab": {},
    "colab_type": "code",
    "id": "e6CD-_tpA7o_"
   },
   "outputs": [],
   "source": [
    "#Para garantir estabilidade e ser mais fácil reproduzir experimento\n",
    "np.random.seed(42)"
   ]
  },
  {
   "cell_type": "code",
   "execution_count": 3,
   "metadata": {
    "colab": {},
    "colab_type": "code",
    "id": "-XilT7mJA-fx"
   },
   "outputs": [],
   "source": [
    "# Para plotar figuras\n",
    "%matplotlib inline\n",
    "import matplotlib as mpl\n",
    "import matplotlib.pyplot as plt\n",
    "mpl.rc('axes', labelsize=14)\n",
    "mpl.rc('xtick', labelsize=12)\n",
    "mpl.rc('ytick', labelsize=12)"
   ]
  },
  {
   "cell_type": "markdown",
   "metadata": {
    "colab_type": "text",
    "id": "tDgr37xgBVsA"
   },
   "source": [
    "[Confira aqui](https://matplotlib.org/api/_as_gen/matplotlib.pyplot.rc.html) a documentação do matplotlib.rc"
   ]
  },
  {
   "cell_type": "code",
   "execution_count": 4,
   "metadata": {
    "colab": {},
    "colab_type": "code",
    "id": "gTuMQUrzBBrl"
   },
   "outputs": [],
   "source": [
    "# Where to save the figures\n",
    "PROJECT_ROOT_DIR = \".\"\n",
    "CHAPTER_ID = \"end_to_end_project\"\n",
    "IMAGES_PATH = os.path.join(PROJECT_ROOT_DIR, \"images\", CHAPTER_ID)\n",
    "\n",
    "def save_fig(fig_id, tight_layout=True, fig_extension=\"png\", resolution=300):\n",
    "    path = os.path.join(IMAGES_PATH, fig_id + \".\" + fig_extension)\n",
    "    print(\"Saving figure\", fig_id)\n",
    "    if tight_layout:\n",
    "        plt.tight_layout()\n",
    "    plt.savefig(path, format=fig_extension, dpi=resolution)"
   ]
  },
  {
   "cell_type": "code",
   "execution_count": 5,
   "metadata": {
    "colab": {},
    "colab_type": "code",
    "id": "Zwbr171pBB2O"
   },
   "outputs": [],
   "source": [
    "\n",
    "# Ignorar warnings desnecessários (ver SciPy issue #5998)\n",
    "import warnings\n",
    "warnings.filterwarnings(action=\"ignore\", message=\"^internal gelsd\")"
   ]
  },
  {
   "cell_type": "markdown",
   "metadata": {
    "colab_type": "text",
    "id": "UBjzryXYKMb5"
   },
   "source": [
    "# 2. Enquadar o problema"
   ]
  },
  {
   "cell_type": "markdown",
   "metadata": {
    "colab_type": "text",
    "id": "0G56JZx56qrZ"
   },
   "source": [
    "- Qual o objetivo do problema?\n",
    "\n",
    "- Como a empresa/cliente pretende usar o produto?\n",
    "\n",
    "Tais perguntas são importantes pois definirá como você vai abordar o problema, que tipo de algoritmo irá usar e quais [medidas de desempenho](http://geam.paginas.ufsc.br/files/2020/02/Medida-desempenho-regressaob.pdf) são mais relevantes. \n",
    "\n",
    "// Obs. 1: Comparar interpretação geográfica de cada métrica (MAE, MSE e RMSE). Plotar as 3 retas no mesmo gráfico.\n",
    "\n",
    "Você precisará avaliar se a solução requer uma solução muito complexa, que demandará mais trabalho, tempo e dinheiro, ou se uma solução mais simples será suficiente.\n",
    "\n",
    "Recomendação de filmes.\n",
    "\n",
    "1) Predizer o valor da avaliação de usuário para filme assistido.\n",
    "\n",
    "2) Classificar se um filme será ou não assistido pelo usuário.\n",
    "\n",
    "3) Recomendar um grupo de filmes com maior possibilidade de escolha do usuário e maior diversidade entre os filmes.\n",
    "\n",
    "4) Modelo com maior satisfação do cliente/empresa?!\n",
    "\n",
    "// Navalha de Okan: se você tem 2 soluções que satisfazem o problema, deve ser escolhida a mais simples. (como propor deep learning e sistemas baseados em conhecimento? Quando eles são realmente necessários?"
   ]
  },
  {
   "cell_type": "markdown",
   "metadata": {
    "colab_type": "text",
    "id": "HMaugIFD5xmR"
   },
   "source": [
    " ## Dicas\n",
    "\n",
    "- Não aborde, em um primeiro momento, um problema usando a solução mais complexa possível. Otimização prematura é arriscado e pode comprometer o projeto;\n",
    "\n",
    "- Leve em consideração que os modelos mais complexos são mais difíceis de manter, requer estruturas mais sofisticadas (e mais caras) e geralmente requer um corpo técnico mais qualificado - fique atento também as regulamentações dos dados;\n",
    "\n",
    "- Comece com protótipos rápidos e vá conversando com o cliente obtendo retorno sobre as necessidades do produto. Já pensou passar meses desenvolvendo um produto e no final não era o que o cliente queria? A agilidade em fazer protótipos em Python torna essa linguagem muito interessante!\n",
    "\n",
    "- As nossas visões, opiniões vão mudando com o tempo, então é natural que o cliente (e você!) vá amadurecendo ao longo do processo. Então, repetindo, sempre se comunique para atender a necessidade do projeto!\n",
    "\n",
    "- Antes de começar a trabalhar no projeto, verifique todas as hipóteses do sistema, infraestrutura disponível, linguagens de programação que serão utilizada, plataformas, etc. "
   ]
  },
  {
   "cell_type": "markdown",
   "metadata": {},
   "source": [
    "# 3. Análise Exploratória de Dados"
   ]
  },
  {
   "cell_type": "markdown",
   "metadata": {},
   "source": [
    "## 3.1. ML1M"
   ]
  },
  {
   "cell_type": "markdown",
   "metadata": {},
   "source": [
    "### 3.1.1. Obter os dados"
   ]
  },
  {
   "cell_type": "code",
   "execution_count": 6,
   "metadata": {
    "colab": {},
    "colab_type": "code",
    "id": "i7N5Z56F8Mw3"
   },
   "outputs": [],
   "source": [
    "SUN_PATH = os.path.join(\"..\", \"..\", \"datasets\", \"ml1m-sun\")\n",
    "def load_ml1m_sun_data(save_path=SUN_PATH):\n",
    "    # files: rating-delete-missing-itemid, auxiliary\n",
    "    \n",
    "    # pass in column names for each CSV\n",
    "    r_cols = ['user_id', 'movie_id', 'rating', 'timestamp']\n",
    "    csv_path = os.path.join(save_path, \"ml1m\", \"rating-delete-missing-itemid.txt\")\n",
    "    rating = pd.read_csv(csv_path, sep='\\t', engine=\"python\", names=r_cols, encoding='utf-8', header=None)\n",
    "    \n",
    "    # pass in column names for each CSV\n",
    "    r_cols = ['movie_id', 'genre', 'director', 'actors']\n",
    "    csv_path = os.path.join(save_path, \"ml1m\", \"auxiliary.txt\")\n",
    "    auxiliary = pd.read_csv(csv_path, sep='|', engine=\"python\", names=r_cols, encoding='utf-8-sig', header=None)\n",
    "\n",
    "    auxiliary['movie_id'] = auxiliary['movie_id'].str.split(':').str[1]\n",
    "    auxiliary['movie_id'] = pd.to_numeric(auxiliary['movie_id'])\n",
    "    auxiliary['genre'] = auxiliary['genre'].str.split(':').str[1]\n",
    "    auxiliary['director'] = auxiliary['director'].str.split(':').str[1]\n",
    "    auxiliary['actors'] = auxiliary['actors'].str.split(':').str[1]\n",
    "    \n",
    "    # pass in column names for each CSV\n",
    "    csv_path = \"../../datasets/ml1m-cao/ml1m/i2kg_map.tsv\"\n",
    "    r_cols = ['orig_id', 'name', 'uri']\n",
    "    i2kg_map = pd.read_csv(csv_path, sep='\\t', engine=\"python\", names=r_cols, encoding='utf-8', header=None)\n",
    "    \n",
    "    return rating, auxiliary, i2kg_map"
   ]
  },
  {
   "cell_type": "code",
   "execution_count": 7,
   "metadata": {},
   "outputs": [],
   "source": [
    "rating, auxiliary, i2kg_map = load_ml1m_sun_data() # Load data from datasets/ml1m-sun and datasets/ml1m-cao/i2kg_map.tsv"
   ]
  },
  {
   "cell_type": "code",
   "execution_count": 8,
   "metadata": {},
   "outputs": [],
   "source": [
    "def cleanning(auxiliary):\n",
    "    i = auxiliary.index[auxiliary['movie_id'] == 1581]\n",
    "    auxiliary.iloc[i] = [1581,'Mystery','Anthony Asquith', 'Jean Kent,Dirk Bogarde,John McCallum']\n",
    "    auxiliary = auxiliary.replace({'Biograpy':'Biography'}, regex=True)\n",
    "    auxiliary = auxiliary.replace('N/A,', np.NaN)\n",
    "    auxiliary = auxiliary.replace('N/A', np.NaN)\n",
    "\n",
    "    return auxiliary"
   ]
  },
  {
   "cell_type": "code",
   "execution_count": 9,
   "metadata": {
    "colab": {},
    "colab_type": "code",
    "id": "dAw-T6N88MxQ",
    "scrolled": true
   },
   "outputs": [
    {
     "name": "stdout",
     "output_type": "stream",
     "text": [
      "<class 'pandas.core.frame.DataFrame'>\n",
      "RangeIndex: 1675 entries, 0 to 1674\n",
      "Data columns (total 4 columns):\n",
      "movie_id    1675 non-null int64\n",
      "genre       1673 non-null object\n",
      "director    1650 non-null object\n",
      "actors      1667 non-null object\n",
      "dtypes: int64(1), object(3)\n",
      "memory usage: 52.4+ KB\n"
     ]
    }
   ],
   "source": [
    "auxiliary = cleanning(auxiliary) # Clean auxiliary.txt\n",
    "# pd.isnull(auxiliary).sum() # 0, 2, 25, 8\n",
    "auxiliary.info()"
   ]
  },
  {
   "cell_type": "code",
   "execution_count": 10,
   "metadata": {},
   "outputs": [
    {
     "name": "stdout",
     "output_type": "stream",
     "text": [
      "<class 'pandas.core.frame.DataFrame'>\n",
      "Int64Index: 99975 entries, 0 to 99974\n",
      "Data columns (total 7 columns):\n",
      "user_id      99975 non-null int64\n",
      "movie_id     99975 non-null int64\n",
      "rating       99975 non-null int64\n",
      "timestamp    99975 non-null int64\n",
      "genre        99970 non-null object\n",
      "director     99075 non-null object\n",
      "actors       99144 non-null object\n",
      "dtypes: int64(4), object(3)\n",
      "memory usage: 6.1+ MB\n",
      "<class 'pandas.core.frame.DataFrame'>\n",
      "Int64Index: 3607 entries, 0 to 3606\n",
      "Data columns (total 8 columns):\n",
      "movie_id    1675 non-null float64\n",
      "genre       1673 non-null object\n",
      "director    1650 non-null object\n",
      "actors      1667 non-null object\n",
      "orig_id     3301 non-null float64\n",
      "name        3301 non-null object\n",
      "uri         3301 non-null object\n",
      "_merge      3607 non-null category\n",
      "dtypes: category(1), float64(2), object(5)\n",
      "memory usage: 229.1+ KB\n",
      "<class 'pandas.core.frame.DataFrame'>\n",
      "Int64Index: 101907 entries, 0 to 101906\n",
      "Data columns (total 11 columns):\n",
      "user_id      99975 non-null float64\n",
      "movie_id     99975 non-null float64\n",
      "rating       99975 non-null float64\n",
      "timestamp    99975 non-null float64\n",
      "genre        99970 non-null object\n",
      "director     99075 non-null object\n",
      "actors       99144 non-null object\n",
      "orig_id      86252 non-null float64\n",
      "name         86252 non-null object\n",
      "uri          86252 non-null object\n",
      "_merge       101907 non-null category\n",
      "dtypes: category(1), float64(5), object(5)\n",
      "memory usage: 8.6+ MB\n"
     ]
    }
   ],
   "source": [
    "# create one merged DataFrame\n",
    "aux_rating = rating.merge(auxiliary, how = 'outer', left_on='movie_id', right_on='movie_id' ,indicator=False)\n",
    "aux_rating.info()\n",
    "#pd.isnull(aux_rating).sum() # = 0, 0, 0, 0, 5, 900, 831, 0 (Enable indicator)\n",
    "aux_i2kg = auxiliary.merge(i2kg_map, how = 'outer', left_on='movie_id', right_on='orig_id' ,indicator=True)\n",
    "aux_i2kg.info()\n",
    "#pd.isnull(aux_rating).sum() # = 0, 0, 0, 0, 5, 900, 831, 0 (Enable indicator)\n",
    "lens = aux_rating.merge(i2kg_map, how = 'outer', left_on='movie_id', right_on='orig_id' ,indicator=True)\n",
    "lens.info()\n",
    "# pd.isnull(lens).sum() # = True"
   ]
  },
  {
   "cell_type": "code",
   "execution_count": 11,
   "metadata": {},
   "outputs": [
    {
     "data": {
      "text/html": [
       "<div>\n",
       "<style scoped>\n",
       "    .dataframe tbody tr th:only-of-type {\n",
       "        vertical-align: middle;\n",
       "    }\n",
       "\n",
       "    .dataframe tbody tr th {\n",
       "        vertical-align: top;\n",
       "    }\n",
       "\n",
       "    .dataframe thead th {\n",
       "        text-align: right;\n",
       "    }\n",
       "</style>\n",
       "<table border=\"1\" class=\"dataframe\">\n",
       "  <thead>\n",
       "    <tr style=\"text-align: right;\">\n",
       "      <th></th>\n",
       "      <th>user_id</th>\n",
       "      <th>movie_id</th>\n",
       "      <th>rating</th>\n",
       "      <th>timestamp</th>\n",
       "      <th>genre</th>\n",
       "      <th>director</th>\n",
       "      <th>actors</th>\n",
       "      <th>orig_id</th>\n",
       "      <th>name</th>\n",
       "      <th>uri</th>\n",
       "      <th>_merge</th>\n",
       "    </tr>\n",
       "  </thead>\n",
       "  <tbody>\n",
       "    <tr>\n",
       "      <th>0</th>\n",
       "      <td>196.0</td>\n",
       "      <td>242.0</td>\n",
       "      <td>3.0</td>\n",
       "      <td>881250949.0</td>\n",
       "      <td>Comedy,Drama,Music</td>\n",
       "      <td>Jan Sverák</td>\n",
       "      <td>Zdenek Sverák,Andrey Khalimon,Libuse Safránkov...</td>\n",
       "      <td>242.0</td>\n",
       "      <td>Farinelli: il castrato (1994)</td>\n",
       "      <td>http://dbpedia.org/resource/Farinelli_(film)</td>\n",
       "      <td>both</td>\n",
       "    </tr>\n",
       "    <tr>\n",
       "      <th>1</th>\n",
       "      <td>63.0</td>\n",
       "      <td>242.0</td>\n",
       "      <td>3.0</td>\n",
       "      <td>875747190.0</td>\n",
       "      <td>Comedy,Drama,Music</td>\n",
       "      <td>Jan Sverák</td>\n",
       "      <td>Zdenek Sverák,Andrey Khalimon,Libuse Safránkov...</td>\n",
       "      <td>242.0</td>\n",
       "      <td>Farinelli: il castrato (1994)</td>\n",
       "      <td>http://dbpedia.org/resource/Farinelli_(film)</td>\n",
       "      <td>both</td>\n",
       "    </tr>\n",
       "    <tr>\n",
       "      <th>2</th>\n",
       "      <td>226.0</td>\n",
       "      <td>242.0</td>\n",
       "      <td>5.0</td>\n",
       "      <td>883888671.0</td>\n",
       "      <td>Comedy,Drama,Music</td>\n",
       "      <td>Jan Sverák</td>\n",
       "      <td>Zdenek Sverák,Andrey Khalimon,Libuse Safránkov...</td>\n",
       "      <td>242.0</td>\n",
       "      <td>Farinelli: il castrato (1994)</td>\n",
       "      <td>http://dbpedia.org/resource/Farinelli_(film)</td>\n",
       "      <td>both</td>\n",
       "    </tr>\n",
       "    <tr>\n",
       "      <th>3</th>\n",
       "      <td>154.0</td>\n",
       "      <td>242.0</td>\n",
       "      <td>3.0</td>\n",
       "      <td>879138235.0</td>\n",
       "      <td>Comedy,Drama,Music</td>\n",
       "      <td>Jan Sverák</td>\n",
       "      <td>Zdenek Sverák,Andrey Khalimon,Libuse Safránkov...</td>\n",
       "      <td>242.0</td>\n",
       "      <td>Farinelli: il castrato (1994)</td>\n",
       "      <td>http://dbpedia.org/resource/Farinelli_(film)</td>\n",
       "      <td>both</td>\n",
       "    </tr>\n",
       "    <tr>\n",
       "      <th>4</th>\n",
       "      <td>306.0</td>\n",
       "      <td>242.0</td>\n",
       "      <td>5.0</td>\n",
       "      <td>876503793.0</td>\n",
       "      <td>Comedy,Drama,Music</td>\n",
       "      <td>Jan Sverák</td>\n",
       "      <td>Zdenek Sverák,Andrey Khalimon,Libuse Safránkov...</td>\n",
       "      <td>242.0</td>\n",
       "      <td>Farinelli: il castrato (1994)</td>\n",
       "      <td>http://dbpedia.org/resource/Farinelli_(film)</td>\n",
       "      <td>both</td>\n",
       "    </tr>\n",
       "  </tbody>\n",
       "</table>\n",
       "</div>"
      ],
      "text/plain": [
       "   user_id  movie_id  rating    timestamp               genre    director  \\\n",
       "0    196.0     242.0     3.0  881250949.0  Comedy,Drama,Music  Jan Sverák   \n",
       "1     63.0     242.0     3.0  875747190.0  Comedy,Drama,Music  Jan Sverák   \n",
       "2    226.0     242.0     5.0  883888671.0  Comedy,Drama,Music  Jan Sverák   \n",
       "3    154.0     242.0     3.0  879138235.0  Comedy,Drama,Music  Jan Sverák   \n",
       "4    306.0     242.0     5.0  876503793.0  Comedy,Drama,Music  Jan Sverák   \n",
       "\n",
       "                                              actors  orig_id  \\\n",
       "0  Zdenek Sverák,Andrey Khalimon,Libuse Safránkov...    242.0   \n",
       "1  Zdenek Sverák,Andrey Khalimon,Libuse Safránkov...    242.0   \n",
       "2  Zdenek Sverák,Andrey Khalimon,Libuse Safránkov...    242.0   \n",
       "3  Zdenek Sverák,Andrey Khalimon,Libuse Safránkov...    242.0   \n",
       "4  Zdenek Sverák,Andrey Khalimon,Libuse Safránkov...    242.0   \n",
       "\n",
       "                            name  \\\n",
       "0  Farinelli: il castrato (1994)   \n",
       "1  Farinelli: il castrato (1994)   \n",
       "2  Farinelli: il castrato (1994)   \n",
       "3  Farinelli: il castrato (1994)   \n",
       "4  Farinelli: il castrato (1994)   \n",
       "\n",
       "                                            uri _merge  \n",
       "0  http://dbpedia.org/resource/Farinelli_(film)   both  \n",
       "1  http://dbpedia.org/resource/Farinelli_(film)   both  \n",
       "2  http://dbpedia.org/resource/Farinelli_(film)   both  \n",
       "3  http://dbpedia.org/resource/Farinelli_(film)   both  \n",
       "4  http://dbpedia.org/resource/Farinelli_(film)   both  "
      ]
     },
     "execution_count": 11,
     "metadata": {},
     "output_type": "execute_result"
    }
   ],
   "source": [
    "lens.head()"
   ]
  },
  {
   "cell_type": "markdown",
   "metadata": {
    "colab_type": "text",
    "id": "wzN0Y0kpK8CQ"
   },
   "source": [
    "Arquivos ratings.dat, movies.dat e users.dat\n",
    "\n",
    "ratigns.dat: UserID::MovieID::Rating::Timestamp\n",
    "- UserIDs range between 1 and 6040 \n",
    "- MovieIDs range between 1 and 3952\n",
    "- Ratings are made on a 5-star scale (whole-star ratings only)\n",
    "- Timestamp is represented in seconds since the epoch as returned by time(2)\n",
    "- Each user has at least 20 ratings\n",
    "\n",
    "users.dat: UserID::Gender::Age::Occupation::Zip-code\n",
    "\n",
    "All demographic information is provided voluntarily by the users and is\n",
    "not checked for accuracy.  Only users who have provided some demographic\n",
    "information are included in this data set.\n",
    "\n",
    "- Gender is denoted by a \"M\" for male and \"F\" for female\n",
    "- Age is chosen from the following ranges:\n",
    "\n",
    "\t*  1:  \"Under 18\"\n",
    "\t* 18:  \"18-24\"\n",
    "\t* 25:  \"25-34\"\n",
    "\t* 35:  \"35-44\"\n",
    "\t* 45:  \"45-49\"\n",
    "\t* 50:  \"50-55\"\n",
    "\t* 56:  \"56+\"\n",
    "- Occupation is chosen from the following choices:\n",
    "\t*  0:  \"other\" or not specified\n",
    "\t*  1:  \"academic/educator\"\n",
    "\t*  2:  \"artist\"\n",
    "\t*  3:  \"clerical/admin\"\n",
    "\t*  4:  \"college/grad student\"\n",
    "\t*  5:  \"customer service\"\n",
    "\t*  6:  \"doctor/health care\"\n",
    "\t*  7:  \"executive/managerial\"\n",
    "\t*  8:  \"farmer\"\n",
    "\t*  9:  \"homemaker\"\n",
    "\t* 10:  \"K-12 student\"\n",
    "\t* 11:  \"lawyer\"\n",
    "\t* 12:  \"programmer\"\n",
    "\t* 13:  \"retired\"\n",
    "\t* 14:  \"sales/marketing\"\n",
    "\t* 15:  \"scientist\"\n",
    "\t* 16:  \"self-employed\"\n",
    "\t* 17:  \"technician/engineer\"\n",
    "\t* 18:  \"tradesman/craftsman\"\n",
    "\t* 19:  \"unemployed\"\n",
    "\t* 20:  \"writer\"\n",
    "    \n",
    "movies.dat: MovieID::Title::Genres\n",
    "- Titles are identical to titles provided by the IMDB (including\n",
    "year of release)\n",
    "- Genres are pipe-separated and are selected from the following genres:\n",
    "\t* Action\n",
    "\t* Adventure\n",
    "\t* Animation\n",
    "\t* Children's\n",
    "\t* Comedy\n",
    "\t* Crime\n",
    "\t* Documentary\n",
    "\t* Drama\n",
    "\t* Fantasy\n",
    "\t* Film-Noir\n",
    "\t* Horror\n",
    "\t* Musical\n",
    "\t* Mystery\n",
    "\t* Romance\n",
    "\t* Sci-Fi\n",
    "\t* Thriller\n",
    "\t* War\n",
    "\t* Western\n",
    "- Some MovieIDs do not correspond to a movie due to accidental duplicate\n",
    "entries and/or test entries\n",
    "- Movies are mostly entered by hand, so errors and inconsistencies may exist"
   ]
  },
  {
   "cell_type": "markdown",
   "metadata": {},
   "source": [
    "### 3.1.2. Variáveis numéricas"
   ]
  },
  {
   "cell_type": "code",
   "execution_count": 12,
   "metadata": {
    "colab": {},
    "colab_type": "code",
    "id": "iUqXwjN_8Mxo"
   },
   "outputs": [
    {
     "data": {
      "text/html": [
       "<div>\n",
       "<style scoped>\n",
       "    .dataframe tbody tr th:only-of-type {\n",
       "        vertical-align: middle;\n",
       "    }\n",
       "\n",
       "    .dataframe tbody tr th {\n",
       "        vertical-align: top;\n",
       "    }\n",
       "\n",
       "    .dataframe thead th {\n",
       "        text-align: right;\n",
       "    }\n",
       "</style>\n",
       "<table border=\"1\" class=\"dataframe\">\n",
       "  <thead>\n",
       "    <tr style=\"text-align: right;\">\n",
       "      <th></th>\n",
       "      <th>user_id</th>\n",
       "      <th>movie_id</th>\n",
       "      <th>rating</th>\n",
       "      <th>timestamp</th>\n",
       "    </tr>\n",
       "  </thead>\n",
       "  <tbody>\n",
       "    <tr>\n",
       "      <th>count</th>\n",
       "      <td>99975.000000</td>\n",
       "      <td>99975.000000</td>\n",
       "      <td>99975.000000</td>\n",
       "      <td>9.997500e+04</td>\n",
       "    </tr>\n",
       "    <tr>\n",
       "      <th>mean</th>\n",
       "      <td>462.500885</td>\n",
       "      <td>425.372883</td>\n",
       "      <td>3.530033</td>\n",
       "      <td>8.835291e+08</td>\n",
       "    </tr>\n",
       "    <tr>\n",
       "      <th>std</th>\n",
       "      <td>266.621417</td>\n",
       "      <td>330.555811</td>\n",
       "      <td>1.125489</td>\n",
       "      <td>5.343565e+06</td>\n",
       "    </tr>\n",
       "    <tr>\n",
       "      <th>min</th>\n",
       "      <td>1.000000</td>\n",
       "      <td>1.000000</td>\n",
       "      <td>1.000000</td>\n",
       "      <td>8.747247e+08</td>\n",
       "    </tr>\n",
       "    <tr>\n",
       "      <th>25%</th>\n",
       "      <td>254.000000</td>\n",
       "      <td>175.000000</td>\n",
       "      <td>3.000000</td>\n",
       "      <td>8.794488e+08</td>\n",
       "    </tr>\n",
       "    <tr>\n",
       "      <th>50%</th>\n",
       "      <td>447.000000</td>\n",
       "      <td>322.000000</td>\n",
       "      <td>4.000000</td>\n",
       "      <td>8.828269e+08</td>\n",
       "    </tr>\n",
       "    <tr>\n",
       "      <th>75%</th>\n",
       "      <td>682.000000</td>\n",
       "      <td>631.000000</td>\n",
       "      <td>4.000000</td>\n",
       "      <td>8.882600e+08</td>\n",
       "    </tr>\n",
       "    <tr>\n",
       "      <th>max</th>\n",
       "      <td>943.000000</td>\n",
       "      <td>1682.000000</td>\n",
       "      <td>5.000000</td>\n",
       "      <td>8.932866e+08</td>\n",
       "    </tr>\n",
       "  </tbody>\n",
       "</table>\n",
       "</div>"
      ],
      "text/plain": [
       "            user_id      movie_id        rating     timestamp\n",
       "count  99975.000000  99975.000000  99975.000000  9.997500e+04\n",
       "mean     462.500885    425.372883      3.530033  8.835291e+08\n",
       "std      266.621417    330.555811      1.125489  5.343565e+06\n",
       "min        1.000000      1.000000      1.000000  8.747247e+08\n",
       "25%      254.000000    175.000000      3.000000  8.794488e+08\n",
       "50%      447.000000    322.000000      4.000000  8.828269e+08\n",
       "75%      682.000000    631.000000      4.000000  8.882600e+08\n",
       "max      943.000000   1682.000000      5.000000  8.932866e+08"
      ]
     },
     "execution_count": 12,
     "metadata": {},
     "output_type": "execute_result"
    }
   ],
   "source": [
    "rating.describe() #Medidas resumo"
   ]
  },
  {
   "cell_type": "code",
   "execution_count": 13,
   "metadata": {},
   "outputs": [
    {
     "data": {
      "text/plain": [
       "1675"
      ]
     },
     "execution_count": 13,
     "metadata": {},
     "output_type": "execute_result"
    }
   ],
   "source": [
    "len(rating['movie_id'].unique())"
   ]
  },
  {
   "cell_type": "code",
   "execution_count": 14,
   "metadata": {},
   "outputs": [
    {
     "data": {
      "text/html": [
       "<div>\n",
       "<style scoped>\n",
       "    .dataframe tbody tr th:only-of-type {\n",
       "        vertical-align: middle;\n",
       "    }\n",
       "\n",
       "    .dataframe tbody tr th {\n",
       "        vertical-align: top;\n",
       "    }\n",
       "\n",
       "    .dataframe thead th {\n",
       "        text-align: right;\n",
       "    }\n",
       "</style>\n",
       "<table border=\"1\" class=\"dataframe\">\n",
       "  <thead>\n",
       "    <tr style=\"text-align: right;\">\n",
       "      <th></th>\n",
       "      <th>movie_id</th>\n",
       "      <th>rating</th>\n",
       "      <th>timestamp</th>\n",
       "    </tr>\n",
       "  </thead>\n",
       "  <tbody>\n",
       "    <tr>\n",
       "      <th>count</th>\n",
       "      <td>943.000000</td>\n",
       "      <td>943.000000</td>\n",
       "      <td>943.000000</td>\n",
       "    </tr>\n",
       "    <tr>\n",
       "      <th>mean</th>\n",
       "      <td>106.018028</td>\n",
       "      <td>106.018028</td>\n",
       "      <td>106.018028</td>\n",
       "    </tr>\n",
       "    <tr>\n",
       "      <th>std</th>\n",
       "      <td>100.887172</td>\n",
       "      <td>100.887172</td>\n",
       "      <td>100.887172</td>\n",
       "    </tr>\n",
       "    <tr>\n",
       "      <th>min</th>\n",
       "      <td>20.000000</td>\n",
       "      <td>20.000000</td>\n",
       "      <td>20.000000</td>\n",
       "    </tr>\n",
       "    <tr>\n",
       "      <th>25%</th>\n",
       "      <td>33.000000</td>\n",
       "      <td>33.000000</td>\n",
       "      <td>33.000000</td>\n",
       "    </tr>\n",
       "    <tr>\n",
       "      <th>50%</th>\n",
       "      <td>65.000000</td>\n",
       "      <td>65.000000</td>\n",
       "      <td>65.000000</td>\n",
       "    </tr>\n",
       "    <tr>\n",
       "      <th>75%</th>\n",
       "      <td>148.000000</td>\n",
       "      <td>148.000000</td>\n",
       "      <td>148.000000</td>\n",
       "    </tr>\n",
       "    <tr>\n",
       "      <th>max</th>\n",
       "      <td>734.000000</td>\n",
       "      <td>734.000000</td>\n",
       "      <td>734.000000</td>\n",
       "    </tr>\n",
       "  </tbody>\n",
       "</table>\n",
       "</div>"
      ],
      "text/plain": [
       "         movie_id      rating   timestamp\n",
       "count  943.000000  943.000000  943.000000\n",
       "mean   106.018028  106.018028  106.018028\n",
       "std    100.887172  100.887172  100.887172\n",
       "min     20.000000   20.000000   20.000000\n",
       "25%     33.000000   33.000000   33.000000\n",
       "50%     65.000000   65.000000   65.000000\n",
       "75%    148.000000  148.000000  148.000000\n",
       "max    734.000000  734.000000  734.000000"
      ]
     },
     "execution_count": 14,
     "metadata": {},
     "output_type": "execute_result"
    }
   ],
   "source": [
    "rating.groupby(['user_id']).count().describe()"
   ]
  },
  {
   "cell_type": "code",
   "execution_count": 15,
   "metadata": {},
   "outputs": [
    {
     "data": {
      "text/html": [
       "<div>\n",
       "<style scoped>\n",
       "    .dataframe tbody tr th:only-of-type {\n",
       "        vertical-align: middle;\n",
       "    }\n",
       "\n",
       "    .dataframe tbody tr th {\n",
       "        vertical-align: top;\n",
       "    }\n",
       "\n",
       "    .dataframe thead th {\n",
       "        text-align: right;\n",
       "    }\n",
       "</style>\n",
       "<table border=\"1\" class=\"dataframe\">\n",
       "  <thead>\n",
       "    <tr style=\"text-align: right;\">\n",
       "      <th></th>\n",
       "      <th>movie_id</th>\n",
       "    </tr>\n",
       "  </thead>\n",
       "  <tbody>\n",
       "    <tr>\n",
       "      <th>count</th>\n",
       "      <td>1675.000000</td>\n",
       "    </tr>\n",
       "    <tr>\n",
       "      <th>mean</th>\n",
       "      <td>839.571343</td>\n",
       "    </tr>\n",
       "    <tr>\n",
       "      <th>std</th>\n",
       "      <td>484.982901</td>\n",
       "    </tr>\n",
       "    <tr>\n",
       "      <th>min</th>\n",
       "      <td>1.000000</td>\n",
       "    </tr>\n",
       "    <tr>\n",
       "      <th>25%</th>\n",
       "      <td>420.500000</td>\n",
       "    </tr>\n",
       "    <tr>\n",
       "      <th>50%</th>\n",
       "      <td>839.000000</td>\n",
       "    </tr>\n",
       "    <tr>\n",
       "      <th>75%</th>\n",
       "      <td>1257.500000</td>\n",
       "    </tr>\n",
       "    <tr>\n",
       "      <th>max</th>\n",
       "      <td>1682.000000</td>\n",
       "    </tr>\n",
       "  </tbody>\n",
       "</table>\n",
       "</div>"
      ],
      "text/plain": [
       "          movie_id\n",
       "count  1675.000000\n",
       "mean    839.571343\n",
       "std     484.982901\n",
       "min       1.000000\n",
       "25%     420.500000\n",
       "50%     839.000000\n",
       "75%    1257.500000\n",
       "max    1682.000000"
      ]
     },
     "execution_count": 15,
     "metadata": {},
     "output_type": "execute_result"
    }
   ],
   "source": [
    "auxiliary.describe()"
   ]
  },
  {
   "cell_type": "code",
   "execution_count": 16,
   "metadata": {},
   "outputs": [
    {
     "data": {
      "text/html": [
       "<div>\n",
       "<style scoped>\n",
       "    .dataframe tbody tr th:only-of-type {\n",
       "        vertical-align: middle;\n",
       "    }\n",
       "\n",
       "    .dataframe tbody tr th {\n",
       "        vertical-align: top;\n",
       "    }\n",
       "\n",
       "    .dataframe thead th {\n",
       "        text-align: right;\n",
       "    }\n",
       "</style>\n",
       "<table border=\"1\" class=\"dataframe\">\n",
       "  <thead>\n",
       "    <tr style=\"text-align: right;\">\n",
       "      <th></th>\n",
       "      <th>movie_id</th>\n",
       "      <th>orig_id</th>\n",
       "    </tr>\n",
       "  </thead>\n",
       "  <tbody>\n",
       "    <tr>\n",
       "      <th>count</th>\n",
       "      <td>1675.000000</td>\n",
       "      <td>3301.000000</td>\n",
       "    </tr>\n",
       "    <tr>\n",
       "      <th>mean</th>\n",
       "      <td>839.571343</td>\n",
       "      <td>1988.250227</td>\n",
       "    </tr>\n",
       "    <tr>\n",
       "      <th>std</th>\n",
       "      <td>484.982901</td>\n",
       "      <td>1144.840724</td>\n",
       "    </tr>\n",
       "    <tr>\n",
       "      <th>min</th>\n",
       "      <td>1.000000</td>\n",
       "      <td>2.000000</td>\n",
       "    </tr>\n",
       "    <tr>\n",
       "      <th>25%</th>\n",
       "      <td>420.500000</td>\n",
       "      <td>1010.000000</td>\n",
       "    </tr>\n",
       "    <tr>\n",
       "      <th>50%</th>\n",
       "      <td>839.000000</td>\n",
       "      <td>2023.000000</td>\n",
       "    </tr>\n",
       "    <tr>\n",
       "      <th>75%</th>\n",
       "      <td>1257.500000</td>\n",
       "      <td>2970.000000</td>\n",
       "    </tr>\n",
       "    <tr>\n",
       "      <th>max</th>\n",
       "      <td>1682.000000</td>\n",
       "      <td>3951.000000</td>\n",
       "    </tr>\n",
       "  </tbody>\n",
       "</table>\n",
       "</div>"
      ],
      "text/plain": [
       "          movie_id      orig_id\n",
       "count  1675.000000  3301.000000\n",
       "mean    839.571343  1988.250227\n",
       "std     484.982901  1144.840724\n",
       "min       1.000000     2.000000\n",
       "25%     420.500000  1010.000000\n",
       "50%     839.000000  2023.000000\n",
       "75%    1257.500000  2970.000000\n",
       "max    1682.000000  3951.000000"
      ]
     },
     "execution_count": 16,
     "metadata": {},
     "output_type": "execute_result"
    }
   ],
   "source": [
    "aux_i2kg.describe()"
   ]
  },
  {
   "cell_type": "code",
   "execution_count": 17,
   "metadata": {},
   "outputs": [
    {
     "data": {
      "text/html": [
       "<div>\n",
       "<style scoped>\n",
       "    .dataframe tbody tr th:only-of-type {\n",
       "        vertical-align: middle;\n",
       "    }\n",
       "\n",
       "    .dataframe tbody tr th {\n",
       "        vertical-align: top;\n",
       "    }\n",
       "\n",
       "    .dataframe thead th {\n",
       "        text-align: right;\n",
       "    }\n",
       "</style>\n",
       "<table border=\"1\" class=\"dataframe\">\n",
       "  <thead>\n",
       "    <tr style=\"text-align: right;\">\n",
       "      <th></th>\n",
       "      <th>user_id</th>\n",
       "      <th>movie_id</th>\n",
       "      <th>rating</th>\n",
       "      <th>timestamp</th>\n",
       "      <th>orig_id</th>\n",
       "    </tr>\n",
       "  </thead>\n",
       "  <tbody>\n",
       "    <tr>\n",
       "      <th>count</th>\n",
       "      <td>99975.000000</td>\n",
       "      <td>99975.000000</td>\n",
       "      <td>99975.000000</td>\n",
       "      <td>9.997500e+04</td>\n",
       "      <td>86252.000000</td>\n",
       "    </tr>\n",
       "    <tr>\n",
       "      <th>mean</th>\n",
       "      <td>462.500885</td>\n",
       "      <td>425.372883</td>\n",
       "      <td>3.530033</td>\n",
       "      <td>8.835291e+08</td>\n",
       "      <td>460.894785</td>\n",
       "    </tr>\n",
       "    <tr>\n",
       "      <th>std</th>\n",
       "      <td>266.621417</td>\n",
       "      <td>330.555811</td>\n",
       "      <td>1.125489</td>\n",
       "      <td>5.343565e+06</td>\n",
       "      <td>487.697722</td>\n",
       "    </tr>\n",
       "    <tr>\n",
       "      <th>min</th>\n",
       "      <td>1.000000</td>\n",
       "      <td>1.000000</td>\n",
       "      <td>1.000000</td>\n",
       "      <td>8.747247e+08</td>\n",
       "      <td>2.000000</td>\n",
       "    </tr>\n",
       "    <tr>\n",
       "      <th>25%</th>\n",
       "      <td>254.000000</td>\n",
       "      <td>175.000000</td>\n",
       "      <td>3.000000</td>\n",
       "      <td>8.794488e+08</td>\n",
       "      <td>176.000000</td>\n",
       "    </tr>\n",
       "    <tr>\n",
       "      <th>50%</th>\n",
       "      <td>447.000000</td>\n",
       "      <td>322.000000</td>\n",
       "      <td>4.000000</td>\n",
       "      <td>8.828269e+08</td>\n",
       "      <td>316.000000</td>\n",
       "    </tr>\n",
       "    <tr>\n",
       "      <th>75%</th>\n",
       "      <td>682.000000</td>\n",
       "      <td>631.000000</td>\n",
       "      <td>4.000000</td>\n",
       "      <td>8.882600e+08</td>\n",
       "      <td>593.000000</td>\n",
       "    </tr>\n",
       "    <tr>\n",
       "      <th>max</th>\n",
       "      <td>943.000000</td>\n",
       "      <td>1682.000000</td>\n",
       "      <td>5.000000</td>\n",
       "      <td>8.932866e+08</td>\n",
       "      <td>3951.000000</td>\n",
       "    </tr>\n",
       "  </tbody>\n",
       "</table>\n",
       "</div>"
      ],
      "text/plain": [
       "            user_id      movie_id        rating     timestamp       orig_id\n",
       "count  99975.000000  99975.000000  99975.000000  9.997500e+04  86252.000000\n",
       "mean     462.500885    425.372883      3.530033  8.835291e+08    460.894785\n",
       "std      266.621417    330.555811      1.125489  5.343565e+06    487.697722\n",
       "min        1.000000      1.000000      1.000000  8.747247e+08      2.000000\n",
       "25%      254.000000    175.000000      3.000000  8.794488e+08    176.000000\n",
       "50%      447.000000    322.000000      4.000000  8.828269e+08    316.000000\n",
       "75%      682.000000    631.000000      4.000000  8.882600e+08    593.000000\n",
       "max      943.000000   1682.000000      5.000000  8.932866e+08   3951.000000"
      ]
     },
     "execution_count": 17,
     "metadata": {},
     "output_type": "execute_result"
    }
   ],
   "source": [
    "lens.describe()"
   ]
  },
  {
   "cell_type": "markdown",
   "metadata": {},
   "source": [
    "### 3.1.3. Variáveis categóricas"
   ]
  },
  {
   "cell_type": "markdown",
   "metadata": {
    "colab_type": "text",
    "id": "ZZyjfvEmJBZk"
   },
   "source": [
    "4 características são categóricas: title, genres, gender e zip_code."
   ]
  },
  {
   "cell_type": "code",
   "execution_count": 18,
   "metadata": {},
   "outputs": [
    {
     "data": {
      "text/plain": [
       "24"
      ]
     },
     "execution_count": 18,
     "metadata": {},
     "output_type": "execute_result"
    }
   ],
   "source": [
    "#here we  make census of the genres:\n",
    "genre_keywords = set()\n",
    "for l in auxiliary['genre'].dropna().str.split(',').values:\n",
    "    genre_keywords = genre_keywords.union(set(l)) \n",
    "len(genre_keywords)"
   ]
  },
  {
   "cell_type": "code",
   "execution_count": 19,
   "metadata": {},
   "outputs": [
    {
     "data": {
      "text/plain": [
       "1153"
      ]
     },
     "execution_count": 19,
     "metadata": {},
     "output_type": "execute_result"
    }
   ],
   "source": [
    "#here we  make census of the directors:\n",
    "director_keywords = set()\n",
    "for s in auxiliary['director'].dropna().str.split(',').values:\n",
    "    director_keywords = director_keywords.union(set(s))\n",
    "len(director_keywords)"
   ]
  },
  {
   "cell_type": "code",
   "execution_count": 20,
   "metadata": {},
   "outputs": [
    {
     "data": {
      "text/plain": [
       "3947"
      ]
     },
     "execution_count": 20,
     "metadata": {},
     "output_type": "execute_result"
    }
   ],
   "source": [
    "#here we  make census of the actors:\n",
    "actors_keywords = set()\n",
    "for s in auxiliary['actors'].dropna().str.split(',').values:\n",
    "    actors_keywords = actors_keywords.union(set(s))\n",
    "len(actors_keywords)"
   ]
  },
  {
   "cell_type": "code",
   "execution_count": 21,
   "metadata": {},
   "outputs": [],
   "source": [
    "#define a function that counts the number of times each genre/director/actor appear:\n",
    "def count_word(df, ref_col, liste):\n",
    "    keyword_count = dict()\n",
    "    for s in liste: keyword_count[s] = 0\n",
    "    for liste_keywords in df[ref_col].str.split(','):\n",
    "        if type(liste_keywords) == float and pd.isnull(liste_keywords): continue\n",
    "        for s in liste_keywords: \n",
    "            if pd.notnull(s): keyword_count[s] += 1\n",
    "    # convert the dictionary in a list to sort the keywords  by frequency\n",
    "    keyword_occurences = []\n",
    "    for k,v in keyword_count.items():\n",
    "        keyword_occurences.append([k,v])\n",
    "    keyword_occurences.sort(key = lambda x:x[1], reverse = True)\n",
    "    return keyword_occurences, keyword_count"
   ]
  },
  {
   "cell_type": "code",
   "execution_count": 22,
   "metadata": {
    "scrolled": true
   },
   "outputs": [
    {
     "data": {
      "text/plain": [
       "[['Drama', 976],\n",
       " ['Comedy', 639],\n",
       " ['Romance', 362],\n",
       " ['Crime', 322],\n",
       " ['Action', 264],\n",
       " ['Adventure', 215],\n",
       " ['Thriller', 205],\n",
       " ['Family', 127],\n",
       " ['Mystery', 116],\n",
       " ['Horror', 110],\n",
       " ['Fantasy', 107],\n",
       " ['Sci-Fi', 95],\n",
       " ['Biography', 90],\n",
       " ['Documentary', 54],\n",
       " ['Music', 50],\n",
       " ['War', 47],\n",
       " ['Animation', 47],\n",
       " ['History', 43],\n",
       " ['Sport', 28],\n",
       " ['Short', 21],\n",
       " ['Musical', 20],\n",
       " ['Western', 20],\n",
       " ['Film-Noir', 15],\n",
       " ['Adult', 1]]"
      ]
     },
     "execution_count": 22,
     "metadata": {},
     "output_type": "execute_result"
    }
   ],
   "source": [
    "#counting how many times each of genres occur:\n",
    "keyword_occurences, dum = count_word(auxiliary, 'genre', genre_keywords)\n",
    "keyword_occurences"
   ]
  },
  {
   "cell_type": "code",
   "execution_count": 23,
   "metadata": {},
   "outputs": [
    {
     "data": {
      "text/plain": [
       "[['Alfred Hitchcock', 12],\n",
       " ['Woody Allen', 9],\n",
       " ['Steven Spielberg', 8],\n",
       " ['Robert Stevenson', 8],\n",
       " ['Martin Scorsese', 8],\n",
       " ['James Cameron', 7],\n",
       " ['Rob Reiner', 7],\n",
       " ['Barry Levinson', 7],\n",
       " ['Tim Burton', 6],\n",
       " ['Francis Ford Coppola', 6],\n",
       " ['Frank Capra', 6],\n",
       " ['Clint Eastwood', 6],\n",
       " ['John Landis', 6],\n",
       " ['Stanley Kubrick', 6],\n",
       " ['John Carpenter', 5],\n",
       " ['Joel Coen', 5],\n",
       " ['Wes Craven', 5],\n",
       " ['Barry Sonnenfeld', 5],\n",
       " ['Kenneth Branagh', 5],\n",
       " ['Neil Jordan', 5],\n",
       " ['John Woo', 5],\n",
       " ['Stanley Tong', 5],\n",
       " ['Jean-Luc Godard', 5],\n",
       " ['Oliver Stone', 5],\n",
       " ['John Huston', 5],\n",
       " ['George Cukor', 5],\n",
       " ['Billy Wilder', 5],\n",
       " ['Ang Lee', 5],\n",
       " ['Tony Scott', 5],\n",
       " ['Ethan Coen', 5],\n",
       " ['Abel Ferrara', 5],\n",
       " ['Vincente Minnelli', 5],\n",
       " ['Paul W.S. Anderson', 4],\n",
       " ['Gus Van Sant', 4],\n",
       " ['Norman Ferguson', 4],\n",
       " ['Quentin Tarantino', 4],\n",
       " ['Howard Hawks', 4],\n",
       " ['Mike Newell', 4],\n",
       " ['Richard Benjamin', 4],\n",
       " ['Bill Roberts', 4],\n",
       " ['Mike Nichols', 4],\n",
       " ['Spike Lee', 4],\n",
       " ['Ben Sharpsteen', 4],\n",
       " ['John Schlesinger', 4],\n",
       " ['Jim Jarmusch', 4],\n",
       " ['Richard Donner', 4],\n",
       " ['John Irvin', 4],\n",
       " ['Joel Schumacher', 4],\n",
       " ['Barbet Schroeder', 4],\n",
       " ['John Badham', 4],\n",
       " ['Robert Wise', 4],\n",
       " ['Sidney Lumet', 4],\n",
       " ['Renny Harlin', 4],\n",
       " ['Kevin Smith', 4],\n",
       " ['Richard Linklater', 4],\n",
       " ['James Ivory', 4],\n",
       " ['Stephen Hopkins', 4],\n",
       " ['John Sayles', 4],\n",
       " ['Krzysztof Kieslowski', 4],\n",
       " ['Wolfgang Reitherman', 4],\n",
       " ['Robert Zemeckis', 4],\n",
       " ['Ridley Scott', 4],\n",
       " ['Andrew Davis', 4],\n",
       " ['Wilfred Jackson', 4],\n",
       " ['Stephen Frears', 4],\n",
       " ['Philip Kaufman', 4],\n",
       " ['Christopher Cain', 4],\n",
       " ['Michael Ritchie', 4],\n",
       " ['Ivan Reitman', 4],\n",
       " ['Wolfgang Petersen', 4],\n",
       " ['Hamilton Luske', 4],\n",
       " ['Simon Wincer', 4],\n",
       " ['James Foley', 4],\n",
       " ['Blake Edwards', 4],\n",
       " ['Edward Zwick', 4],\n",
       " ['Fred Schepisi', 3],\n",
       " ['Henry Jaglom', 3],\n",
       " ['Satyajit Ray', 3],\n",
       " ['Roland Joffé', 3],\n",
       " ['Agnieszka Holland', 3],\n",
       " ['Tom Shadyac', 3],\n",
       " ['Sam Raimi', 3],\n",
       " ['Terry Gilliam', 3],\n",
       " ['Michael Apted', 3],\n",
       " ['John McTiernan', 3],\n",
       " ['George Stevens', 3],\n",
       " ['Claude Berri', 3],\n",
       " ['Dwight H. Little', 3],\n",
       " ['Robert Altman', 3],\n",
       " ['Rusty Cundieff', 3],\n",
       " ['Mike Figgis', 3],\n",
       " ['Roman Polanski', 3],\n",
       " ['Nora Ephron', 3],\n",
       " ['Tamra Davis', 3],\n",
       " ['Stanley Donen', 3],\n",
       " ['Brett Leonard', 3],\n",
       " ['Orson Welles', 3],\n",
       " ['Claude Chabrol', 3],\n",
       " ['John Duigan', 3],\n",
       " ['Jonathan Demme', 3],\n",
       " ['Bruce Beresford', 3],\n",
       " ['Charles Shyer', 3],\n",
       " ['Bryan Spicer', 3],\n",
       " ['George Miller', 3],\n",
       " ['Yimou Zhang', 3],\n",
       " ['Garry Marshall', 3],\n",
       " ['Lasse Hallström', 3],\n",
       " ['Chuck Russell', 3],\n",
       " ['Mick Jackson', 3],\n",
       " ['Danny Boyle', 3],\n",
       " ['Michael Winterbottom', 3],\n",
       " ['Iain Softley', 3],\n",
       " ['Jan de Bont', 3],\n",
       " ['Victor Nunez', 3],\n",
       " ['Pedro Almodóvar', 3],\n",
       " ['Nick Park', 3],\n",
       " ['Martha Coolidge', 3],\n",
       " ['Alan Parker', 3],\n",
       " ['Milos Forman', 3],\n",
       " ['Boaz Yakin', 3],\n",
       " ['Mel Brooks', 3],\n",
       " ['Ron Howard', 3],\n",
       " ['William Friedkin', 3],\n",
       " ['Penelope Spheeris', 3],\n",
       " ['Jon Turteltaub', 3],\n",
       " ['Peter Hyams', 3],\n",
       " ['Harold Ramis', 3],\n",
       " ['Peter Weir', 3],\n",
       " ['Phillip Noyce', 3],\n",
       " ['Robert Rodriguez', 3],\n",
       " ['Ernest R. Dickerson', 3],\n",
       " ['Lee Tamahori', 3],\n",
       " ['Nicholas Hytner', 3],\n",
       " ['Jack Kinney', 3],\n",
       " ['Richard Attenborough', 3],\n",
       " ['Wayne Wang', 3],\n",
       " ['Howard Deutch', 3],\n",
       " ['Harold Becker', 3],\n",
       " ['Jon Avnet', 3],\n",
       " ['Sergio Leone', 3],\n",
       " ['Brian De Palma', 3],\n",
       " ['André Téchiné', 3],\n",
       " ['Chris Columbus', 3],\n",
       " ['Paul Verhoeven', 3],\n",
       " ['John Singleton', 3],\n",
       " ['Roland Emmerich', 3],\n",
       " ['Peter Segal', 3],\n",
       " ['Peter Jackson', 3],\n",
       " ['Anthony Minghella', 2],\n",
       " ['Paul Auster', 2],\n",
       " ['Walter Hill', 2],\n",
       " ['Nick Cassavetes', 2],\n",
       " ['Randal Kleiser', 2],\n",
       " ['Luis Llosa', 2],\n",
       " ['Michael Caton-Jones', 2],\n",
       " ['Christopher Hampton', 2],\n",
       " ['Elia Kazan', 2],\n",
       " ['Phil Alden Robinson', 2],\n",
       " ['Robert Redford', 2],\n",
       " ['Bobby Farrelly', 2],\n",
       " ['Mike Leigh', 2],\n",
       " ['Claire Denis', 2],\n",
       " ['Peter Chelsom', 2],\n",
       " ['Bryan Singer', 2],\n",
       " ['Morgan J. Freeman', 2],\n",
       " ['Eric Schaeffer', 2],\n",
       " ['Michael Lehmann', 2],\n",
       " ['Mel Smith', 2],\n",
       " ['Robert Downey Sr.', 2],\n",
       " ['Clyde Geronimi', 2],\n",
       " ['Alan J. Pakula', 2],\n",
       " ['David Fincher', 2],\n",
       " ['James Mangold', 2],\n",
       " ['Joe Johnston', 2],\n",
       " ['Eric Red', 2],\n",
       " ['Edward Dmytryk', 2],\n",
       " ['Tomás Gutiérrez Alea', 2],\n",
       " ['Sönke Wortmann', 2],\n",
       " ['John N. Smith', 2],\n",
       " ['Volker Schlöndorff', 2],\n",
       " ['Michael Curtiz', 2],\n",
       " ['Andy Tennant', 2],\n",
       " ['Steve Barron', 2],\n",
       " ['Gillies MacKinnon', 2],\n",
       " ['David Hare', 2],\n",
       " ['Mel Gibson', 2],\n",
       " ['Reginald Hudlin', 2],\n",
       " ['David Anspaugh', 2],\n",
       " ['David Lean', 2],\n",
       " ['Rob Cohen', 2],\n",
       " ['William Wyler', 2],\n",
       " ['Alex Proyas', 2],\n",
       " ['Gregory Hoblit', 2],\n",
       " ['James L. Brooks', 2],\n",
       " ['Gary Fleder', 2],\n",
       " ['Roger Allers', 2],\n",
       " ['Doug Liman', 2],\n",
       " ['Arthur Penn', 2],\n",
       " ['Ted Demme', 2],\n",
       " ['Leo McCarey', 2],\n",
       " ['Joseph L. Mankiewicz', 2],\n",
       " ['Gregg Araki', 2],\n",
       " ['Ole Bornedal', 2],\n",
       " ['Randall Miller', 2],\n",
       " ['Ron Clements', 2],\n",
       " ['Jonas Pate', 2],\n",
       " ['Paul Thomas Anderson', 2],\n",
       " ['Paul Sabella', 2],\n",
       " ['Kaige Chen', 2],\n",
       " ['Edward Burns', 2],\n",
       " ['Anthony Asquith', 2],\n",
       " ['Michael Hoffman', 2],\n",
       " ['Geoff Murphy', 2],\n",
       " ['John Pasquin', 2],\n",
       " ['Greg Spence', 2],\n",
       " ['Joe Chappelle', 2],\n",
       " ['Victor Fleming', 2],\n",
       " ['Tom Noonan', 2],\n",
       " ['Andrew Fleming', 2],\n",
       " ['Tim Robbins', 2],\n",
       " ['Peter Greenaway', 2],\n",
       " ['Donald Petrie', 2],\n",
       " ['Masayuki Suo', 2],\n",
       " ['Steve Oedekerk', 2],\n",
       " ['Kevin Reynolds', 2],\n",
       " ['Alek Keshishian', 2],\n",
       " ['Louis Malle', 2],\n",
       " ['Peter Yates', 2],\n",
       " ['Jim Sheridan', 2],\n",
       " ['Alan Rudolph', 2],\n",
       " ['Marc Caro', 2],\n",
       " ['Anthony Mann', 2],\n",
       " ['Bruno Barreto', 2],\n",
       " ['Paul Weiland', 2],\n",
       " ['Steve Rash', 2],\n",
       " ['Steve James', 2],\n",
       " ['Giuseppe Tornatore', 2],\n",
       " ['Alfonso Cuarón', 2],\n",
       " ['George P. Cosmatos', 2],\n",
       " ['Angela Pope', 2],\n",
       " ['Stuart Baird', 2],\n",
       " ['Allison Anders', 2],\n",
       " ['Ernst Lubitsch', 2],\n",
       " ['Steven Soderbergh', 2],\n",
       " ['Michael Mann', 2],\n",
       " ['Michael Moore', 2],\n",
       " ['Mark Sandrich', 2],\n",
       " ['Kelly Makin', 2],\n",
       " ['Mark Joffe', 2],\n",
       " ['William Dear', 2],\n",
       " ['Leon Gast', 2],\n",
       " ['Stephen Herek', 2],\n",
       " ['Atom Egoyan', 2],\n",
       " ['Dariush Mehrjui', 2],\n",
       " ['Jean-Pierre Jeunet', 2],\n",
       " ['Roger Vadim', 2],\n",
       " ['Baz Luhrmann', 2],\n",
       " ['Josh Pate', 2],\n",
       " ['Andrew Bergman', 2],\n",
       " ['George Roy Hill', 2],\n",
       " ['Sam Wood', 2],\n",
       " ['John Musker', 2],\n",
       " ['Russell Mulcahy', 2],\n",
       " ['Mira Nair', 2],\n",
       " ['Ronny Yu', 2],\n",
       " ['Daniel J. Sullivan', 2],\n",
       " ['John McNaughton', 2],\n",
       " ['Brett Ratner', 2],\n",
       " ['Guillermo del Toro', 2],\n",
       " ['Hal Ashby', 2],\n",
       " ['Norman Jewison', 2],\n",
       " ['Jean-Paul Rappeneau', 2],\n",
       " ['Nicolas Roeg', 2],\n",
       " ['John Murlowski', 2],\n",
       " ['Curtis Hanson', 2],\n",
       " ['Jane Campion', 2],\n",
       " ['Richard Brooks', 2],\n",
       " ['Brad Silberling', 2],\n",
       " ['Luc Besson', 2],\n",
       " ['Jeff Pollack', 2],\n",
       " ['Fred Walton', 2],\n",
       " ['Sam Peckinpah', 2],\n",
       " ['Guy Ferland', 2],\n",
       " ['Luis Buñuel', 2],\n",
       " ['Dennis Dugan', 2],\n",
       " ['Peter Howitt', 2],\n",
       " ['Peter Farrelly', 2],\n",
       " ['Richard Rich', 2],\n",
       " ['Akira Kurosawa', 2],\n",
       " [\"Pat O'Connor\", 2],\n",
       " ['Ken Kwapis', 2],\n",
       " ['Kirk Wise', 2],\n",
       " ['David Hand', 2],\n",
       " ['Mika Kaurismäki', 2],\n",
       " ['Alfonso Arau', 2],\n",
       " ['Carl Reiner', 2],\n",
       " ['F.W. Murnau', 2],\n",
       " ['Albert Hughes', 2],\n",
       " ['Penny Marshall', 2],\n",
       " ['John Sturges', 2],\n",
       " ['George Hickenlooper', 2],\n",
       " ['Glenn Gordon Caron', 2],\n",
       " ['Leonard Nimoy', 2],\n",
       " [\"Shin'ya Tsukamoto\", 2],\n",
       " ['Paul Michael Glaser', 2],\n",
       " ['Juan Carlos Tabío', 2],\n",
       " ['Max Ophüls', 2],\n",
       " ['Allen Hughes', 2],\n",
       " ['Thomas Schlamme', 2],\n",
       " ['Hal Hartley', 2],\n",
       " ['Nick Castle', 2],\n",
       " ['Terry George', 2],\n",
       " ['Samuel Armstrong', 2],\n",
       " ['Rolf de Heer', 2],\n",
       " ['Georges Lautner', 2],\n",
       " ['Jeannot Szwarc', 2],\n",
       " ['Brian Gibson', 2],\n",
       " ['Michael Cimino', 2],\n",
       " ['Alex Zamm', 2],\n",
       " ['Ron Shelton', 2],\n",
       " ['Carroll Ballard', 2],\n",
       " ['Marco Brambilla', 2],\n",
       " ['Sally Potter', 2],\n",
       " ['Bernard Rose', 2],\n",
       " ['Bille August', 2],\n",
       " ['Fred Zinnemann', 2],\n",
       " ['Alexandre Rockwell', 2],\n",
       " ['Terry Jones', 2],\n",
       " ['John Nicolella', 2],\n",
       " ['Tom DeCerchio', 2],\n",
       " ['Nicholas Meyer', 2],\n",
       " ['Christian Duguay', 2],\n",
       " ['Gary Trousdale', 2],\n",
       " ['Henry Selick', 2],\n",
       " ['Jocelyn Moorhouse', 2],\n",
       " ['T. Hee', 2],\n",
       " ['Jonathan Lynn', 2],\n",
       " ['Taylor Hackford', 2],\n",
       " ['Wim Wenders', 2],\n",
       " ['Frank Coraci', 2],\n",
       " ['Ken Loach', 2],\n",
       " ['Michael Bay', 2],\n",
       " ['John Cassavetes', 2],\n",
       " ['Jean-Jacques Annaud', 2],\n",
       " ['Bernardo Bertolucci', 2],\n",
       " ['P.J. Hogan', 2],\n",
       " ['Ben Stiller', 2],\n",
       " ['Jerry Zucker', 2],\n",
       " ['Betty Thomas', 2],\n",
       " ['Lawrence Kasdan', 2],\n",
       " ['David O. Russell', 2],\n",
       " ['Brian Levant', 2],\n",
       " ['María Luisa Bemberg', 2],\n",
       " ['Peter Medak', 2],\n",
       " ['Jon Amiel', 2],\n",
       " ['Roger Donaldson', 2],\n",
       " ['Kevin Costner', 2],\n",
       " ['F. Gary Gray', 2],\n",
       " ['Michael Radford', 2],\n",
       " ['Antoine Fuqua', 2],\n",
       " ['Anjelica Huston', 1],\n",
       " ['Pino Van Lamsweerde', 1],\n",
       " ['Steve Miner', 1],\n",
       " ['Rebecca Miller', 1],\n",
       " ['Jerry Zaks', 1],\n",
       " ['Perce Pearce', 1],\n",
       " ['Michael Ray Rhodes', 1],\n",
       " ['Steven Baigelman', 1],\n",
       " ['David Hogan', 1],\n",
       " ['Paul Satterfield', 1],\n",
       " ['Neil LaBute', 1],\n",
       " ['Antonia Bird', 1],\n",
       " ['Daniel Vigne', 1],\n",
       " ['Gregg Champion', 1],\n",
       " ['Sam Weisman', 1],\n",
       " ['Alex Sichel', 1],\n",
       " ['Peter Sehr', 1],\n",
       " ['Hecht Amar', 1],\n",
       " ['Tôru Murakawa', 1],\n",
       " ['Matthew Harrison', 1],\n",
       " ['Stephen Kay', 1],\n",
       " ['André Bonzel', 1],\n",
       " ['Scott McGehee', 1],\n",
       " ['Gérard Mordillat', 1],\n",
       " ['Yvette Kaplan', 1],\n",
       " ['Jennifer Lynch', 1],\n",
       " ['Jacques Doillon', 1],\n",
       " ['Deran Sarafian', 1],\n",
       " ['Tony Richardson', 1],\n",
       " ['Tim Hunter', 1],\n",
       " ['Yasujirô Ozu', 1],\n",
       " ['Steven Zaillian', 1],\n",
       " ['Joe Alves', 1],\n",
       " ['Jack Gold', 1],\n",
       " ['Marie Pérennou', 1],\n",
       " ['Donald Wrye', 1],\n",
       " ['Phil Joanou', 1],\n",
       " ['John Patrick Kelley', 1],\n",
       " ['Robert Dornhelm', 1],\n",
       " ['Barbra Streisand', 1],\n",
       " ['Cameron Crowe', 1],\n",
       " ['Harry Winer', 1],\n",
       " ['Aleksandr Sokurov', 1],\n",
       " ['Jan Sverák', 1],\n",
       " ['Bryan Gordon', 1],\n",
       " ['Jaime Hellman', 1],\n",
       " ['Anthony Stacchi(co-director)', 1],\n",
       " ['John Bruno', 1],\n",
       " ['Otto Preminger', 1],\n",
       " ['Terry Zwigoff', 1],\n",
       " ['Daisy von Scherler Mayer', 1],\n",
       " ['Mike Flanagan', 1],\n",
       " ['Emma-Kate Croghan', 1],\n",
       " ['Ron Underwood', 1],\n",
       " ['Alan Taylor', 1],\n",
       " ['Harvey Wang', 1],\n",
       " ['David Licata', 1],\n",
       " ['Larry Morey', 1],\n",
       " ['Art Clokey', 1],\n",
       " ['Jaco Van Dormael', 1],\n",
       " ['Joshua Brand', 1],\n",
       " ['Fritz Lang', 1],\n",
       " ['George Mihalka', 1],\n",
       " ['Stuart Rosenberg', 1],\n",
       " ['Friðrik Þór Friðriksson', 1],\n",
       " ['Junli Zheng', 1],\n",
       " ['Marshall Herskovitz', 1],\n",
       " ['Daniel Algrant', 1],\n",
       " ['Yvonne Rainer', 1],\n",
       " ['Irvin Kershner', 1],\n",
       " ['Ted Kotcheff', 1],\n",
       " ['Peter Cohn', 1],\n",
       " ['Harold Whitaker', 1],\n",
       " ['Peter Horton', 1],\n",
       " ['Daniel Schmid', 1],\n",
       " ['Scott Hicks', 1],\n",
       " ['Jim Handley', 1],\n",
       " ['Christopher Larkin', 1],\n",
       " ['Stefan Schwartz', 1],\n",
       " ['Davide Abbatescianni', 1],\n",
       " ['Zalman King', 1],\n",
       " ['John Ford', 1],\n",
       " ['Susan Streitfeld', 1],\n",
       " ['Sam Pillsbury', 1],\n",
       " ['Craig Rosenberg', 1],\n",
       " ['Peter MacDonald', 1],\n",
       " ['Tim Slade', 1],\n",
       " ['Peter Shaner', 1],\n",
       " ['Gaël Morel', 1],\n",
       " ['Bronwen Hughes', 1],\n",
       " ['Roger Spottiswoode', 1],\n",
       " ['Hark Tsui', 1],\n",
       " ['Mark Waters', 1],\n",
       " ['Danny DeVito', 1],\n",
       " ['Wesley Strick', 1],\n",
       " ['John Milius', 1],\n",
       " ['Franklin J. Schaffner', 1],\n",
       " ['Lawrence Silk(co-director)', 1],\n",
       " ['Paul Mazursky', 1],\n",
       " ['Gene Kelly', 1],\n",
       " ['Fraser C. Heston', 1],\n",
       " ['Richard Schenkman', 1],\n",
       " ['Phillip Rhee', 1],\n",
       " ['Charles T. Kanganis', 1],\n",
       " ['Mike Binder', 1],\n",
       " ['Peter Cattaneo', 1],\n",
       " ['Jonathan Mostow', 1],\n",
       " ['Mark Lewis', 1],\n",
       " ['Marcus DeLeon', 1],\n",
       " ['Savage Steve Holland', 1],\n",
       " ['Annette Haywood-Carter', 1],\n",
       " ['Freida Lee Mock', 1],\n",
       " ['Spike Brandt', 1],\n",
       " ['Fernando Trueba', 1],\n",
       " ['Augusto Caminito', 1],\n",
       " ['John Erick Dowdle', 1],\n",
       " ['Leon Ichaso', 1],\n",
       " ['Gaspar Noé', 1],\n",
       " ['Keenen Ivory Wayans', 1],\n",
       " ['Carol Reed', 1],\n",
       " ['Tommy Chong', 1],\n",
       " ['Curzio Malaparte', 1],\n",
       " ['Keith Samples', 1],\n",
       " ['Todd Solondz', 1],\n",
       " ['Carlo Carlei', 1],\n",
       " ['Diane Keaton', 1],\n",
       " ['Nikita Mikhalkov', 1],\n",
       " ['Kevin Dowling', 1],\n",
       " ['Dean Semler', 1],\n",
       " ['Rob Minkoff', 1],\n",
       " ['Brian Mulroney', 1],\n",
       " ['Robert Z. Leonard', 1],\n",
       " ['Jonathan Hayes', 1],\n",
       " ['Mark Herman', 1],\n",
       " ['Tom DiCillo', 1],\n",
       " ['Henry Koster', 1],\n",
       " ['Jill Culton', 1],\n",
       " ['Rod Hardy', 1],\n",
       " ['Shôhei Imamura', 1],\n",
       " ['Mike Judge', 1],\n",
       " ['Terence Davies', 1],\n",
       " ['Mark Dindal', 1],\n",
       " ['Emir Kusturica', 1],\n",
       " ['Keith Gordon', 1],\n",
       " ['Mario Caiano', 1],\n",
       " ['Norman Z. McLeod', 1],\n",
       " ['Sydney Pollack', 1],\n",
       " ['Thomas C. Grane', 1],\n",
       " ['Anthony Lucas', 1],\n",
       " ['Busby Berkeley', 1],\n",
       " ['Damiano Damiani', 1],\n",
       " ['Robert Townsend', 1],\n",
       " ['Andrew Morahan', 1],\n",
       " ['Alan Jacobs', 1],\n",
       " ['Stephen Sommers', 1],\n",
       " ['Robert Allan Ackerman', 1],\n",
       " ['Stephen Gyllenhaal', 1],\n",
       " ['Yale Strom', 1],\n",
       " ['Kar-Wai Wong', 1],\n",
       " ['Stephan Elliott', 1],\n",
       " ['Steve Buscemi', 1],\n",
       " ['Norman Tokar', 1],\n",
       " ['Steve White', 1],\n",
       " ['Dan Ireland', 1],\n",
       " ['Nagisa Ôshima', 1],\n",
       " ['Russ Hexter', 1],\n",
       " ['Ringo Lam', 1],\n",
       " ['Stephen Page', 1],\n",
       " ['Jorge Dorado', 1],\n",
       " ['John Herzfeld', 1],\n",
       " ['William A. Seiter', 1],\n",
       " ['Mort Ransen', 1],\n",
       " ['Ulli Lommel', 1],\n",
       " ['Jeremy Leven', 1],\n",
       " ['Archie Mayo', 1],\n",
       " ['Tom Berry', 1],\n",
       " ['Joshua Logan', 1],\n",
       " ['Allan Moyle', 1],\n",
       " ['Bret Michaels', 1],\n",
       " ['Richard Fleischer', 1],\n",
       " ['Félix Enríquez Alcalá', 1],\n",
       " ['Jeffrey Friedman', 1],\n",
       " ['Daniel Petrie', 1],\n",
       " ['Doug Ellin', 1],\n",
       " ['Clive Barker', 1],\n",
       " ['Kevin Bacon', 1],\n",
       " ['Carmine Gallone', 1],\n",
       " ['Shaun Gladwell', 1],\n",
       " ['Miguel Arteta', 1],\n",
       " ['Lars von Trier', 1],\n",
       " ['Bruce Robinson', 1],\n",
       " ['Eun Choi', 1],\n",
       " ['Albert Pyun', 1],\n",
       " ['Stephen Poliakoff', 1],\n",
       " ['Bruce Brown', 1],\n",
       " ['Justin Kurzel', 1],\n",
       " ['Gray Hofmeyr', 1],\n",
       " ['Heywood Gould', 1],\n",
       " ['Mani Ratnam', 1],\n",
       " ['Jason Bloom', 1],\n",
       " ['Arthur Hiller', 1],\n",
       " ['Alexander Payne', 1],\n",
       " ['Godfrey Reggio', 1],\n",
       " ['Frank Darabont', 1],\n",
       " ['Emile Ardolino', 1],\n",
       " ['Lynne Stopkewich', 1],\n",
       " ['Philip Goodhew', 1],\n",
       " ['Nina Menkes', 1],\n",
       " ['Irwin Winkler', 1],\n",
       " ['Herbert Ross', 1],\n",
       " ['Simon Wells', 1],\n",
       " ['David Mickey Evans', 1],\n",
       " ['Michael Blakemore', 1],\n",
       " ['Jim Kouf', 1],\n",
       " ['Sean McNamara', 1],\n",
       " ['Frédéric Mitterrand', 1],\n",
       " ['Merzak Allouache', 1],\n",
       " ['Jose Julian Vazquez', 1],\n",
       " ['Kôki Mitani', 1],\n",
       " ['Luc Dardenne', 1],\n",
       " ['Catherine Cyran', 1],\n",
       " ['John Whitesell', 1],\n",
       " ['George Armitage', 1],\n",
       " ['Robert Leacock', 1],\n",
       " ['Ashlee Page', 1],\n",
       " ['Morten Tyldum', 1],\n",
       " ['Raoul Ruiz', 1],\n",
       " ['Chris Noonan', 1],\n",
       " ['Josiane Balasko', 1],\n",
       " ['Bob Spiers', 1],\n",
       " ['Tad Stones', 1],\n",
       " ['Agnès Varda', 1],\n",
       " ['Nana Dzhordzhadze', 1],\n",
       " ['Jack Baran', 1],\n",
       " ['Holly Goldberg Sloan', 1],\n",
       " ['Alex Graves', 1],\n",
       " ['Pixote Hunt', 1],\n",
       " ['Danny Cannon', 1],\n",
       " ['Ted Berman', 1],\n",
       " ['Federico Fellini', 1],\n",
       " ['Campbell Scott', 1],\n",
       " ['Arne Glimcher', 1],\n",
       " ['Noah Baumbach', 1],\n",
       " ['Alan Pao', 1],\n",
       " ['Duwayne Dunham', 1],\n",
       " ['Charles Matthau', 1],\n",
       " ['Michael Rymer', 1],\n",
       " ['Douglas McGrath', 1],\n",
       " ['David Frankel', 1],\n",
       " ['David Lowery', 1],\n",
       " ['Michael Gottlieb', 1],\n",
       " ['Jean Delannoy', 1],\n",
       " ['Kevin Jarre', 1],\n",
       " ['Rafael Moleón', 1],\n",
       " ['Richard Stanley', 1],\n",
       " ['Zoe R. Cassavetes', 1],\n",
       " ['Rocky Morton', 1],\n",
       " ['Russ Meyer', 1],\n",
       " ['Charles Martin Smith', 1],\n",
       " ['Barrie Nelson', 1],\n",
       " ['Adrian Shergold', 1],\n",
       " ['Joseph Ruben', 1],\n",
       " ['Joseph Vilsmaier', 1],\n",
       " ['Jonathan King', 1],\n",
       " ['Lesli Linka Glatter', 1],\n",
       " ['David Siegel', 1],\n",
       " ['Mark A.Z. Dippé', 1],\n",
       " ['Chris Hegedus', 1],\n",
       " ['Moufida Tlatli', 1],\n",
       " ['James Lapine', 1],\n",
       " ['Al Pacino', 1],\n",
       " ['Roger Avary', 1],\n",
       " ['Gaston Kaboré', 1],\n",
       " ['Stephen Kessler', 1],\n",
       " ['Mark Christopher', 1],\n",
       " ['Tran Anh Hung', 1],\n",
       " ['Julianna Lavin', 1],\n",
       " ['Vern Oakley', 1],\n",
       " ['Stuart Orme', 1],\n",
       " ['John Henderson', 1],\n",
       " ['Lana Wachowski', 1],\n",
       " ['Mario Van Peebles', 1],\n",
       " ['Howard Hughes', 1],\n",
       " ['Joseph Bologna', 1],\n",
       " ['Ate de Jong', 1],\n",
       " ['Martin Lawrence', 1],\n",
       " ['Jodie Foster', 1],\n",
       " ['Kevin Hooks', 1],\n",
       " ['Richard Kwietniowski', 1],\n",
       " ['George Mendeluk', 1],\n",
       " ['Patricia Birch', 1],\n",
       " ['Franco Brusati', 1],\n",
       " ['Sam Henry Kass', 1],\n",
       " ['Brian Henson', 1],\n",
       " ['Darnell Martin', 1],\n",
       " ['Shuki Levy', 1],\n",
       " ['Barry Caillier', 1],\n",
       " ['Billy Bob Thornton', 1],\n",
       " ['Aaron Speiser', 1],\n",
       " ['Kathryn Bigelow', 1],\n",
       " ['Kevin Spacey', 1],\n",
       " ['Michele Soavi', 1],\n",
       " ['Pier Paolo Pasolini', 1],\n",
       " ['Bo Widerberg', 1],\n",
       " ['Roberto Benabib', 1],\n",
       " ['Joe Pytka', 1],\n",
       " [' Beeban Kidron', 1],\n",
       " ['Stuart Gordon', 1],\n",
       " ['Mina Shum', 1],\n",
       " ['Vittorio De Sica', 1],\n",
       " ['Sean Mathias', 1],\n",
       " ['Scott Michell', 1],\n",
       " ['James Edward Grant', 1],\n",
       " ['Joe Mantello', 1],\n",
       " ['Jim Abrahams', 1],\n",
       " ['Nancy Meyers', 1],\n",
       " ['Eric Goldberg', 1],\n",
       " ['Anne Émond', 1],\n",
       " ['Dale Rosenbloom', 1],\n",
       " ['Manny Coto', 1],\n",
       " ['Jack Clayton', 1],\n",
       " ['Louis Garrel', 1],\n",
       " ['Joe Berlinger', 1],\n",
       " ['Maurizio Nichetti', 1],\n",
       " ['John G. Avildsen', 1],\n",
       " ['Chris Hunt', 1],\n",
       " ['Djibril Diop Mambéty', 1],\n",
       " ['Doug McHenry', 1],\n",
       " ['Eva Sereny', 1],\n",
       " ['Gyula Gazdag', 1],\n",
       " ['Aaron Kim Johnston', 1],\n",
       " ['Mo Ogrodnik', 1],\n",
       " ['John Boorman', 1],\n",
       " ['Larry Bishop', 1],\n",
       " ['John Rubino', 1],\n",
       " ['Stijn Coninx', 1],\n",
       " ['D.A. Pennebaker', 1],\n",
       " ['Monika Harris', 1],\n",
       " ['David Twohy', 1],\n",
       " ['Jimmy T. Murakami', 1],\n",
       " ['Daniel Petrie Jr.', 1],\n",
       " ['Peter Baldwin', 1],\n",
       " ['Roy Allen Smith', 1],\n",
       " ['Scott Derrickson', 1],\n",
       " ['David Schwimmer', 1],\n",
       " ['Peter Hewitt', 1],\n",
       " ['Victor Salva', 1],\n",
       " ['James Cox', 1],\n",
       " ['Kevin Allen', 1],\n",
       " ['Matt Reeves', 1],\n",
       " ['Ho Yim', 1],\n",
       " ['Paul Turner', 1],\n",
       " ['John Cleese', 1],\n",
       " ['Robert Mandel', 1],\n",
       " ['Michael Covert', 1],\n",
       " ['Eric Meza', 1],\n",
       " ['John Waters', 1],\n",
       " ['John Elliotte', 1],\n",
       " ['Carma Hinton', 1],\n",
       " ['Michael A. Nickles', 1],\n",
       " ['Caroline Thompson', 1],\n",
       " ['Les Mayfield', 1],\n",
       " ['Susan Warms Dryfoos', 1],\n",
       " ['Dexter Fletcher', 1],\n",
       " ['Howard Franklin', 1],\n",
       " ['Bret McCormick', 1],\n",
       " ['Richard Pearce', 1],\n",
       " [\"John O'Brien\", 1],\n",
       " ['Michael Austin', 1],\n",
       " ['George Seaton', 1],\n",
       " ['Paul Morrissey', 1],\n",
       " ['James Melkonian', 1],\n",
       " ['Jim Mallon', 1],\n",
       " ['Goro Kobayashi', 1],\n",
       " ['Victor Saville', 1],\n",
       " ['Larry Arrick', 1],\n",
       " ['David Winning', 1],\n",
       " ['Ray Müller', 1],\n",
       " ['Jonathan Kaplan', 1],\n",
       " ['David Cronenberg', 1],\n",
       " ['Thomas Haneke(co-director)', 1],\n",
       " ['John Cromwell', 1],\n",
       " ['Kevin Yagher', 1],\n",
       " ['Benjamin Ross', 1],\n",
       " ['Claude Lelouch', 1],\n",
       " ['Richard Rush', 1],\n",
       " ['Alan Rickman', 1],\n",
       " ['Shirley Barrett', 1],\n",
       " ['Andrew Scheinman', 1],\n",
       " ['Gustavo Graef Marino', 1],\n",
       " ['Tim Metcalfe', 1],\n",
       " ['Paul Haggis', 1],\n",
       " ['Robert Benton', 1],\n",
       " ['Amal Neerad', 1],\n",
       " ['Theo van Gogh', 1],\n",
       " ['Norman Taurog', 1],\n",
       " ['Tom Stoppard', 1],\n",
       " ['Simon Stone', 1],\n",
       " ['Jub Clerc', 1],\n",
       " ['Melanie Mayron', 1],\n",
       " ['Charles Chaplin', 1],\n",
       " ['John Dahl', 1],\n",
       " ['Jessie Nelson', 1],\n",
       " ['Caradog W. James', 1],\n",
       " ['Brett Thompson', 1],\n",
       " ['Amy Heckerling', 1],\n",
       " ['Marleen Gorris', 1],\n",
       " ['Jack Baxter', 1],\n",
       " ['Clare Peploe', 1],\n",
       " ['Jennie Livingston', 1],\n",
       " ['Darrell Roodt', 1],\n",
       " ['Jonathan R. Betuel', 1],\n",
       " ['Scott Winant', 1],\n",
       " ['Forest Whitaker', 1],\n",
       " ['Temístocles López', 1],\n",
       " ['Austin Chick', 1],\n",
       " ['John Frankenheimer', 1],\n",
       " ['Éric Rohmer', 1],\n",
       " ['Dana Lustig', 1],\n",
       " ['Kiefer Sutherland', 1],\n",
       " ['Jean-Pierre Dardenne', 1],\n",
       " ['Fina Torres', 1],\n",
       " ['Michael Corrente', 1],\n",
       " ['Tony Ayres', 1],\n",
       " ['Greg Beeman', 1],\n",
       " ['Michael Goldenberg', 1],\n",
       " ['Frank Oz', 1],\n",
       " ['Jeff Warden', 1],\n",
       " ['John Walsh', 1],\n",
       " ['Cyril Collard', 1],\n",
       " ['Martine Dugowson', 1],\n",
       " ['Urszula Antoniak', 1],\n",
       " ['Stacy Title', 1],\n",
       " ['Doris Dörrie', 1],\n",
       " ['Yuri Mamin', 1],\n",
       " ['Takeshi Kitano', 1],\n",
       " ['David Swift', 1],\n",
       " ['Mitchell Leisen', 1],\n",
       " ['Jan Bucquoy', 1],\n",
       " ['René Clément', 1],\n",
       " ['Geoffrey Wright', 1],\n",
       " ['Tony Gatlif', 1],\n",
       " ['Susanne Ofteringer', 1],\n",
       " ['Billy Crystal', 1],\n",
       " ['Mike Gabriel', 1],\n",
       " ['Rose Troche', 1],\n",
       " ['Michael Tolkin', 1],\n",
       " ['Robert Duvall', 1],\n",
       " ['Douglas Keeve', 1],\n",
       " ['Gérard Corbiau', 1],\n",
       " ['Mel Chionglo', 1],\n",
       " ['Leslie Greif', 1],\n",
       " ['Mohsen Makhmalbaf', 1],\n",
       " ['Len Wiseman', 1],\n",
       " ['David Lane', 1],\n",
       " ['Fred Dekker', 1],\n",
       " ['Jeffrey Bloom', 1],\n",
       " ['John Payson', 1],\n",
       " ['Phillip Borsos', 1],\n",
       " ['Desmond Nakano', 1],\n",
       " ['Joe Wright', 1],\n",
       " ['Wallace Wolodarsky', 1],\n",
       " ['Bill Condon', 1],\n",
       " ['Louis Saia', 1],\n",
       " ['Nick Deocampo', 1],\n",
       " ['Andrew Niccol', 1],\n",
       " ['Vondie Curtis-Hall', 1],\n",
       " ['Richard Marquand', 1],\n",
       " ['Alexander Berkel', 1],\n",
       " ['Ingmar Bergman', 1],\n",
       " ['Vadim Jean', 1],\n",
       " ['Joon-ho Bong', 1],\n",
       " ['Scott Silver', 1],\n",
       " ['Patricia Rozema', 1],\n",
       " ['Jonathan auf der Heide', 1],\n",
       " ['Ken Annakin', 1],\n",
       " ['Charles Sturridge', 1],\n",
       " ['Nick Gomez', 1],\n",
       " ['Kevin Lima', 1],\n",
       " ['Frank Borzage', 1],\n",
       " ['Charles de Lauzirika', 1],\n",
       " ['Jay Roach', 1],\n",
       " ['Art Stevens', 1],\n",
       " ['Ulu Grosbard', 1],\n",
       " ['Renée Taylor', 1],\n",
       " ['Charles Burnett', 1],\n",
       " ['Mark Pavia', 1],\n",
       " ['Katsuhiro Ôtomo', 1],\n",
       " ['Joseph H. Lewis', 1],\n",
       " ['Andrei Tarkovsky', 1],\n",
       " ['Jon Blair', 1],\n",
       " ['Martin Campbell', 1],\n",
       " ['Christopher Menaul', 1],\n",
       " ['Alan Shapiro', 1],\n",
       " ['Michael Almereyda', 1],\n",
       " ['Cathy Caplan(co-director)', 1],\n",
       " ['Andrew Douglas', 1],\n",
       " ['Alfred L. Werker', 1],\n",
       " ['Arlene Sanford', 1],\n",
       " ['Anne Goursaud', 1],\n",
       " ['Hugh Wilson', 1],\n",
       " ['Claire McCarthy', 1],\n",
       " ['Saul Swimmer', 1],\n",
       " ['Tom Tykwer', 1],\n",
       " ['James Algar', 1],\n",
       " ['David Van Taylor', 1],\n",
       " ['Lee David Zlotoff', 1],\n",
       " ['George Huang', 1],\n",
       " ['Massimo Troisi', 1],\n",
       " ['C.M. Talkington', 1],\n",
       " ['Robert Connolly', 1],\n",
       " ['Nick Broomfield', 1],\n",
       " ['Hugo Van Lawick', 1],\n",
       " ['Fred Coppula', 1],\n",
       " ['David R. Ellis', 1],\n",
       " ['Kenneth Johnson', 1],\n",
       " ['Gianni Amelio', 1],\n",
       " ['Chris Hanke', 1],\n",
       " ['Lionel C. Martin', 1],\n",
       " ['Rob Epstein', 1],\n",
       " ['Scott Kalvert', 1],\n",
       " ['Luis Mandoki', 1],\n",
       " ['Hart Bochner', 1],\n",
       " ['Simon West', 1],\n",
       " ['Gurinder Chadha', 1],\n",
       " ['Robert Longo', 1],\n",
       " ['Gillian Armstrong', 1],\n",
       " ['Stephen Low', 1],\n",
       " ['Marvin Baker', 1],\n",
       " ['King Vidor', 1],\n",
       " ['Harold Young', 1],\n",
       " ['Dean Francis', 1],\n",
       " ['Milcho Manchevski', 1],\n",
       " ['Christopher Guest', 1],\n",
       " ['Scott Stewart', 1],\n",
       " ['Richard Loncraine', 1],\n",
       " ['Paris Barclay', 1],\n",
       " ['Lou Adler', 1],\n",
       " ['Mia Wasikowska', 1],\n",
       " ['Mimi Leder', 1],\n",
       " ['Jon Favreau', 1],\n",
       " ['Ian McCulloch', 1],\n",
       " ['Matty Rich', 1],\n",
       " ['Laurent Heynemann', 1],\n",
       " ['Greg Mottola', 1],\n",
       " ['Henry King', 1],\n",
       " ['Larry Cohen', 1],\n",
       " ['David Wenham', 1],\n",
       " ['Paul Schrader', 1],\n",
       " ['Jack Ersgard', 1],\n",
       " ['Larry Clark', 1],\n",
       " ['Natalie Barandes', 1],\n",
       " ['Dennis Hopper', 1],\n",
       " ['Sergei Bodrov', 1],\n",
       " ['René Bonnière', 1],\n",
       " ['Rachel Talalay', 1],\n",
       " ['John Hough', 1],\n",
       " ['Fred Gerber', 1],\n",
       " ['John R. Leonetti', 1],\n",
       " ['Gary Winick', 1],\n",
       " ['Randall Wallace', 1],\n",
       " ['Frank Marshall', 1],\n",
       " ['Greta Schiller', 1],\n",
       " ['Saeed Akhtar Mirza', 1],\n",
       " ['Dee McLachlan', 1],\n",
       " ['Mike Mendez', 1],\n",
       " ['Hal Salwen', 1],\n",
       " ['Wes Anderson', 1],\n",
       " ['Adam Resnick', 1],\n",
       " ['Jacques Demy', 1],\n",
       " ['Peter Duncan', 1],\n",
       " ['David S. Ward', 1],\n",
       " ['Nelson Shin', 1],\n",
       " ['David Carson', 1],\n",
       " ['Tim Reid', 1],\n",
       " ['Rhys Graham', 1],\n",
       " ['Steven Paul', 1],\n",
       " ['Don Bluth', 1],\n",
       " ['Kasi Lemmons', 1],\n",
       " ['Åke Sandgren', 1],\n",
       " ['Alan Mehrez', 1],\n",
       " ['Daniel Taplitz', 1],\n",
       " ['Victoria Foyt', 1],\n",
       " ['Jean Bach', 1],\n",
       " ['Mervyn LeRoy', 1],\n",
       " ['Jack N. Green', 1],\n",
       " ['Suri Krishnamma', 1],\n",
       " ['Julian Harris', 1],\n",
       " ['Jefery Levy', 1],\n",
       " ['George Tillman Jr.', 1],\n",
       " ['René Le Hénaff', 1],\n",
       " ['Fred Williamson', 1],\n",
       " ['unknown', 1],\n",
       " ['Gary Oldman', 1],\n",
       " ['Michael Lindsay-Hogg', 1],\n",
       " ['Tod Browning', 1],\n",
       " ['James Gray', 1],\n",
       " ['Michael Tuchner', 1],\n",
       " ['Julian Schnabel', 1],\n",
       " ['Robert Mulligan', 1],\n",
       " ['Tom Holland', 1],\n",
       " ['Jean-Claude Van Damme', 1],\n",
       " ['Jim Gillespie', 1],\n",
       " ['Gerald Potterton', 1],\n",
       " ['Roger Pierre', 1],\n",
       " ['François Girard', 1],\n",
       " ['Costa-Gavras', 1],\n",
       " ['Camille Henrot', 1],\n",
       " ['Harvey Miller', 1],\n",
       " ['Mike de Seve', 1],\n",
       " ['Annette K. Olesen', 1],\n",
       " ['Ross Kagan Marks', 1],\n",
       " ['Claude Nuridsany', 1],\n",
       " ['Josh Oreck', 1],\n",
       " ['Christopher Monger', 1],\n",
       " ['Lewis Milestone', 1],\n",
       " ['Goran Paskaljevic', 1],\n",
       " ['Jim Wilson', 1],\n",
       " ['Ryan Moore', 1],\n",
       " ['Jafar Panahi', 1],\n",
       " ['Walter Lang', 1],\n",
       " ['Norman Foster', 1],\n",
       " ['Tony Randel', 1],\n",
       " ['Robert De Niro', 1],\n",
       " ['Gore Verbinski', 1],\n",
       " ['Ian Meadows', 1],\n",
       " ['Ping He', 1],\n",
       " ['Dan Curtis', 1],\n",
       " ['Dominic Sena', 1],\n",
       " ['Marc Rocco', 1],\n",
       " ['Andrew Birkin', 1],\n",
       " ['Robert Harling', 1],\n",
       " ['Anthony Waller', 1],\n",
       " ['Beeban Kidron', 1],\n",
       " ['Barbara Kopple', 1],\n",
       " ['David Mamet', 1],\n",
       " ['Jean-Pierre Bekolo', 1],\n",
       " ['Michael Paxton', 1],\n",
       " ['Marcus H. Rosenmüller', 1],\n",
       " ['Richard Gordon', 1],\n",
       " ...]"
      ]
     },
     "execution_count": 23,
     "metadata": {},
     "output_type": "execute_result"
    }
   ],
   "source": [
    "#counting how many times each of directors occur:\n",
    "keyword_occurences, dum = count_word(auxiliary, 'director', director_keywords)\n",
    "keyword_occurences"
   ]
  },
  {
   "cell_type": "code",
   "execution_count": 24,
   "metadata": {},
   "outputs": [
    {
     "data": {
      "text/plain": [
       "[['Robert De Niro', 18],\n",
       " ['Gene Hackman', 13],\n",
       " ['Tommy Lee Jones', 12],\n",
       " ['Val Kilmer', 12],\n",
       " ['Harrison Ford', 11],\n",
       " ['John Travolta', 11],\n",
       " ['Anthony Hopkins', 11],\n",
       " ['Robert Duvall', 11],\n",
       " ['Harvey Keitel', 11],\n",
       " ['Christopher Walken', 11],\n",
       " ['Keanu Reeves', 11],\n",
       " ['Sam Neill', 11],\n",
       " ['Samuel L. Jackson', 11],\n",
       " ['Bruce Willis', 11],\n",
       " ['Nick Nolte', 11],\n",
       " ['Whoopi Goldberg', 10],\n",
       " ['Tim Roth', 10],\n",
       " ['Morgan Freeman', 10],\n",
       " ['Arnold Schwarzenegger', 10],\n",
       " ['Christian Slater', 10],\n",
       " ['Cary Grant', 10],\n",
       " ['Meg Ryan', 10],\n",
       " ['Jack Lemmon', 9],\n",
       " ['Jim Carrey', 9],\n",
       " ['Al Pacino', 9],\n",
       " ['Denzel Washington', 9],\n",
       " ['Dan Aykroyd', 9],\n",
       " ['Alec Baldwin', 9],\n",
       " ['Joe Pesci', 9],\n",
       " ['Kevin Costner', 9],\n",
       " ['Diane Keaton', 9],\n",
       " ['John Leguizamo', 9],\n",
       " ['Sean Connery', 9],\n",
       " ['Sandra Bullock', 9],\n",
       " ['Wesley Snipes', 9],\n",
       " ['Robin Williams', 9],\n",
       " ['Gary Oldman', 9],\n",
       " ['Antonio Banderas', 8],\n",
       " ['Demi Moore', 8],\n",
       " ['Audrey Hepburn', 8],\n",
       " ['Kevin Kline', 8],\n",
       " ['Nicolas Cage', 8],\n",
       " ['Juliette Lewis', 8],\n",
       " ['Julianne Moore', 8],\n",
       " ['Jack Nicholson', 8],\n",
       " ['Leonardo DiCaprio', 8],\n",
       " ['Danny DeVito', 8],\n",
       " ['Bill Paxton', 8],\n",
       " ['Kevin Bacon', 8],\n",
       " ['Michael Keaton', 8],\n",
       " ['Andy Garcia', 8],\n",
       " ['Sigourney Weaver', 8],\n",
       " ['Humphrey Bogart', 8],\n",
       " ['Michelle Pfeiffer', 8],\n",
       " ['Charlie Sheen', 8],\n",
       " ['Jennifer Jason Leigh', 8],\n",
       " ['John Cusack', 8],\n",
       " ['Woody Harrelson', 8],\n",
       " ['Chazz Palminteri', 7],\n",
       " ['Gwyneth Paltrow', 7],\n",
       " ['Michael J. Fox', 7],\n",
       " ['Miranda Richardson', 7],\n",
       " ['Matt Dillon', 7],\n",
       " ['Julia Roberts', 7],\n",
       " ['Johnny Depp', 7],\n",
       " ['Russell Crowe', 7],\n",
       " ['Eric Stoltz', 7],\n",
       " ['Ben Kingsley', 7],\n",
       " ['Winona Ryder', 7],\n",
       " ['Gabriel Byrne', 7],\n",
       " ['Kiefer Sutherland', 7],\n",
       " ['Richard Dreyfuss', 7],\n",
       " ['Sharon Stone', 7],\n",
       " ['Gena Rowlands', 7],\n",
       " ['Dennis Quaid', 7],\n",
       " ['Walter Matthau', 7],\n",
       " ['Ed Harris', 7],\n",
       " ['Pierce Brosnan', 7],\n",
       " ['Kurt Russell', 7],\n",
       " ['Marcia Gay Harden', 7],\n",
       " ['Ethan Hawke', 7],\n",
       " ['Jeff Goldblum', 7],\n",
       " ['Clint Eastwood', 7],\n",
       " [\"Vincent D'Onofrio\", 7],\n",
       " ['Gérard Depardieu', 7],\n",
       " ['Alan Arkin', 7],\n",
       " ['Matthew Broderick', 7],\n",
       " ['Sylvester Stallone', 7],\n",
       " ['Laurence Fishburne', 6],\n",
       " ['Steve Buscemi', 6],\n",
       " ['Patricia Arquette', 6],\n",
       " ['Renée Zellweger', 6],\n",
       " ['Kevin Spacey', 6],\n",
       " ['Mary-Louise Parker', 6],\n",
       " ['Halle Berry', 6],\n",
       " ['Nicole Kidman', 6],\n",
       " ['Will Smith', 6],\n",
       " ['Kristin Scott Thomas', 6],\n",
       " ['Daniel Auteuil', 6],\n",
       " ['Tom Arnold', 6],\n",
       " ['Bill Murray', 6],\n",
       " ['Kathy Bates', 6],\n",
       " ['Ray Liotta', 6],\n",
       " ['Jessica Lange', 6],\n",
       " ['Hugh Grant', 6],\n",
       " ['Leonard Nimoy', 6],\n",
       " ['Christopher Plummer', 6],\n",
       " ['Claude Rains', 6],\n",
       " ['Brad Pitt', 6],\n",
       " ['Dustin Hoffman', 6],\n",
       " ['Martin Sheen', 6],\n",
       " ['Laura Linney', 6],\n",
       " ['Anne Bancroft', 6],\n",
       " ['Christopher Lloyd', 6],\n",
       " ['Drew Barrymore', 6],\n",
       " ['Paul Newman', 6],\n",
       " ['Robert Redford', 6],\n",
       " ['Dianne Wiest', 6],\n",
       " ['David Thewlis', 6],\n",
       " ['Mira Sorvino', 6],\n",
       " ['Peter Gallagher', 6],\n",
       " ['Liam Neeson', 6],\n",
       " ['Steve Martin', 6],\n",
       " ['James Doohan', 6],\n",
       " ['Bridget Fonda', 6],\n",
       " ['Cary Elwes', 6],\n",
       " ['Richard Gere', 6],\n",
       " ['Emma Thompson', 6],\n",
       " ['Mary Stuart Masterson', 6],\n",
       " ['Donald Sutherland', 6],\n",
       " ['Daniel Day-Lewis', 6],\n",
       " ['Faye Dunaway', 6],\n",
       " ['Andie MacDowell', 6],\n",
       " ['Jean-Claude Van Damme', 6],\n",
       " ['Leslie Nielsen', 6],\n",
       " ['Helena Bonham Carter', 6],\n",
       " ['William Shatner', 6],\n",
       " ['Steven Seagal', 6],\n",
       " ['Joan Allen', 6],\n",
       " ['Bill Pullman', 6],\n",
       " ['James Woods', 6],\n",
       " ['DeForest Kelley', 6],\n",
       " ['Michael Douglas', 5],\n",
       " ['Fred Astaire', 5],\n",
       " ['Ashley Judd', 5],\n",
       " ['Jada Pinkett Smith', 5],\n",
       " ['Malcolm McDowell', 5],\n",
       " ['Jennifer Connelly', 5],\n",
       " ['Brendan Fraser', 5],\n",
       " ['Lili Taylor', 5],\n",
       " ['Jon Voight', 5],\n",
       " ['Katharine Hepburn', 5],\n",
       " ['Henry Czerny', 5],\n",
       " ['Adam Sandler', 5],\n",
       " ['Carol Kane', 5],\n",
       " ['Martin Lawrence', 5],\n",
       " ['Melanie Griffith', 5],\n",
       " ['Tom Cruise', 5],\n",
       " ['Jamie Lee Curtis', 5],\n",
       " ['Edward Furlong', 5],\n",
       " ['Eddie Murphy', 5],\n",
       " ['Juliette Binoche', 5],\n",
       " ['Emilio Estevez', 5],\n",
       " ['Annette Bening', 5],\n",
       " ['Li Gong', 5],\n",
       " ['Meryl Streep', 5],\n",
       " ['Linda Hamilton', 5],\n",
       " ['Lauren Holly', 5],\n",
       " ['Jason Alexander', 5],\n",
       " ['Tia Carrere', 5],\n",
       " ['Cameron Diaz', 5],\n",
       " ['Ian Holm', 5],\n",
       " ['Denis Leary', 5],\n",
       " ['Erika Eleniak', 5],\n",
       " ['William Hurt', 5],\n",
       " [\"Rosie O'Donnell\", 5],\n",
       " ['Tom Hanks', 5],\n",
       " ['James Stewart', 5],\n",
       " ['Aidan Quinn', 5],\n",
       " ['Marisa Tomei', 5],\n",
       " ['Jeanne Tripplehorn', 5],\n",
       " ['Larenz Tate', 5],\n",
       " ['Sean Penn', 5],\n",
       " ['Embeth Davidtz', 5],\n",
       " ['Tim Allen', 5],\n",
       " ['John Goodman', 5],\n",
       " ['Gary Cooper', 5],\n",
       " ['Holly Hunter', 5],\n",
       " ['Woody Allen', 5],\n",
       " ['Jeff Daniels', 5],\n",
       " ['Carrie Fisher', 5],\n",
       " ['Victoria Abril', 5],\n",
       " ['Marlon Brando', 5],\n",
       " ['Ewan McGregor', 5],\n",
       " ['Tom Sizemore', 5],\n",
       " ['John Malkovich', 5],\n",
       " ['Roddy McDowall', 5],\n",
       " ['Alfred Molina', 5],\n",
       " ['Timothy Hutton', 5],\n",
       " ['Helen Mirren', 5],\n",
       " ['Delroy Lindo', 5],\n",
       " ['Clive Owen', 5],\n",
       " ['Kevin Pollak', 5],\n",
       " ['Jim Cummings', 5],\n",
       " ['Sarah Jessica Parker', 5],\n",
       " ['Ingrid Bergman', 5],\n",
       " ['Gregory Peck', 5],\n",
       " ['Glenn Close', 5],\n",
       " ['William Holden', 5],\n",
       " ['Robert John Burke', 5],\n",
       " ['Peter Riegert', 5],\n",
       " ['J.T. Walsh', 5],\n",
       " ['Randy Quaid', 5],\n",
       " ['Kelly Lynch', 5],\n",
       " ['Cuba Gooding Jr.', 5],\n",
       " ['Benicio Del Toro', 5],\n",
       " ['Rene Russo', 5],\n",
       " ['Armand Assante', 5],\n",
       " ['Anjelica Huston', 4],\n",
       " ['Anne Heche', 4],\n",
       " ['Brian Cox', 4],\n",
       " ['Thomas Mitchell', 4],\n",
       " ['Ralph Fiennes', 4],\n",
       " ['Sally Field', 4],\n",
       " ['Ian Hart', 4],\n",
       " ['Michael Gambon', 4],\n",
       " ['Charles S. Dutton', 4],\n",
       " ['James Gandolfini', 4],\n",
       " ['Frances Fisher', 4],\n",
       " ['Catherine Deneuve', 4],\n",
       " ['Rhea Perlman', 4],\n",
       " ['Donald Pleasence', 4],\n",
       " ['Dean Stockwell', 4],\n",
       " ['Thandie Newton', 4],\n",
       " ['Penelope Ann Miller', 4],\n",
       " ['Jodie Foster', 4],\n",
       " ['Peter Fonda', 4],\n",
       " ['Billy Bob Thornton', 4],\n",
       " ['Vincent Perez', 4],\n",
       " ['Peter Boyle', 4],\n",
       " ['Christopher Reeve', 4],\n",
       " ['Don Cheadle', 4],\n",
       " ['Kyle MacLachlan', 4],\n",
       " ['Nia Long', 4],\n",
       " ['Danny Glover', 4],\n",
       " ['John Cleese', 4],\n",
       " ['Mary Elizabeth Mastrantonio', 4],\n",
       " ['John Turturro', 4],\n",
       " ['Larry Miller', 4],\n",
       " ['Valeria Golino', 4],\n",
       " [\"Chris O'Donnell\", 4],\n",
       " ['Tara Fitzgerald', 4],\n",
       " ['Michael Madsen', 4],\n",
       " ['Glenne Headly', 4],\n",
       " ['Kyra Sedgwick', 4],\n",
       " ['Dennis Farina', 4],\n",
       " ['John Lynch', 4],\n",
       " ['Dana Delany', 4],\n",
       " ['Linda Fiorentino', 4],\n",
       " ['Jason James Richter', 4],\n",
       " ['Shirley MacLaine', 4],\n",
       " ['Hayley Mills', 4],\n",
       " ['Jennifer Lopez', 4],\n",
       " ['Colin Friels', 4],\n",
       " ['Terry Kinney', 4],\n",
       " ['Samantha Mathis', 4],\n",
       " ['James Spader', 4],\n",
       " ['Pat Morita', 4],\n",
       " ['Anthony LaPaglia', 4],\n",
       " ['Keith David', 4],\n",
       " ['Elisabeth Shue', 4],\n",
       " ['Joan Cusack', 4],\n",
       " ['Angela Bassett', 4],\n",
       " ['Julia Ormond', 4],\n",
       " ['Chris Penn', 4],\n",
       " ['Julie Andrews', 4],\n",
       " ['Giancarlo Esposito', 4],\n",
       " ['William Forsythe', 4],\n",
       " ['Maggie Smith', 4],\n",
       " ['Polly Walker', 4],\n",
       " ['Irène Jacob', 4],\n",
       " ['Stockard Channing', 4],\n",
       " ['Charles Durning', 4],\n",
       " ['Jeff Bridges', 4],\n",
       " ['Judy Davis', 4],\n",
       " ['Rupert Everett', 4],\n",
       " ['Mel Gibson', 4],\n",
       " ['Alicia Silverstone', 4],\n",
       " ['Jackie Chan', 4],\n",
       " ['Will Patton', 4],\n",
       " ['George Sanders', 4],\n",
       " ['Willem Dafoe', 4],\n",
       " ['Marlene Dietrich', 4],\n",
       " ['Gina Gershon', 4],\n",
       " [\"Peter O'Toole\", 4],\n",
       " ['Kenneth Branagh', 4],\n",
       " ['Tim Robbins', 4],\n",
       " ['Peter Coyote', 4],\n",
       " ['Gary Sinise', 4],\n",
       " ['Mary McDonnell', 4],\n",
       " ['Jason Patric', 4],\n",
       " ['Jonathan Pryce', 4],\n",
       " ['Michael Rooker', 4],\n",
       " ['Forest Whitaker', 4],\n",
       " ['Stephen Lang', 4],\n",
       " ['Cheech Marin', 4],\n",
       " ['Billy Crystal', 4],\n",
       " ['Brad Renfro', 4],\n",
       " ['Jack Palance', 4],\n",
       " ['James Remar', 4],\n",
       " ['Bob Hoskins', 4],\n",
       " ['Frank Langella', 4],\n",
       " ['Daniel Stern', 4],\n",
       " ['Stephen Dorff', 4],\n",
       " ['Dennis Hopper', 4],\n",
       " ['Michelle Yeoh', 4],\n",
       " ['Tupac Shakur', 4],\n",
       " ['Dean Jones', 4],\n",
       " ['Patrick Swayze', 4],\n",
       " ['James Earl Jones', 4],\n",
       " ['Julian Sands', 4],\n",
       " ['Francis Capra', 4],\n",
       " ['Stanley Tucci', 4],\n",
       " ['Christopher McDonald', 4],\n",
       " ['Moira Kelly', 4],\n",
       " ['Michael Rapaport', 4],\n",
       " ['Kate Winslet', 4],\n",
       " ['Dermot Mulroney', 4],\n",
       " ['Nastassja Kinski', 4],\n",
       " ['Chris Tucker', 4],\n",
       " ['Tom Berenger', 4],\n",
       " ['Stephen Rea', 3],\n",
       " ['Eric Roberts', 3],\n",
       " ['Sheryl Lee', 3],\n",
       " ['Martin Landau', 3],\n",
       " ['F. Murray Abraham', 3],\n",
       " ['August Schellenberg', 3],\n",
       " ['Dina Meyer', 3],\n",
       " ['Lloyd Bridges', 3],\n",
       " ['Christine Taylor', 3],\n",
       " ['Josh Charles', 3],\n",
       " ['Leon', 3],\n",
       " ['Danny Aiello', 3],\n",
       " ['Allen Payne', 3],\n",
       " ['John Hannah', 3],\n",
       " ['Tony Chiu-Wai Leung', 3],\n",
       " ['Ice-T', 3],\n",
       " ['Amanda Plummer', 3],\n",
       " ['Brenda Fricker', 3],\n",
       " ['Ellen Burstyn', 3],\n",
       " ['Theresa Randle', 3],\n",
       " ['John Savage', 3],\n",
       " ['Adam Baldwin', 3],\n",
       " ['Orson Welles', 3],\n",
       " ['Reese Witherspoon', 3],\n",
       " ['David Tomlinson', 3],\n",
       " ['Jonathan Taylor Thomas', 3],\n",
       " ['Jack Thompson', 3],\n",
       " ['Bonnie Bedelia', 3],\n",
       " ['Grace Kelly', 3],\n",
       " ['Laura Dern', 3],\n",
       " ['Lenny von Dohlen', 3],\n",
       " ['Xander Berkeley', 3],\n",
       " ['Victor Argo', 3],\n",
       " ['Ian Richardson', 3],\n",
       " ['Kimberly Williams-Paisley', 3],\n",
       " ['Uma Thurman', 3],\n",
       " ['David Caruso', 3],\n",
       " ['Elizabeth Taylor', 3],\n",
       " ['Christopher Lambert', 3],\n",
       " ['Jason Lee', 3],\n",
       " ['David Alan Grier', 3],\n",
       " ['Burl Ives', 3],\n",
       " ['Joseph Mazzello', 3],\n",
       " ['Madeleine Stowe', 3],\n",
       " ['Kristy Swanson', 3],\n",
       " ['Alec Guinness', 3],\n",
       " ['Martin Donovan', 3],\n",
       " ['Sterling Holloway', 3],\n",
       " ['R. Lee Ermey', 3],\n",
       " ['Jonny Lee Miller', 3],\n",
       " ['Powers Boothe', 3],\n",
       " ['Elizabeth McGovern', 3],\n",
       " ['Susan Sarandon', 3],\n",
       " ['Takeshi Kitano', 3],\n",
       " ['Ben Affleck', 3],\n",
       " ['Kate Nelligan', 3],\n",
       " ['Scott Glenn', 3],\n",
       " ['Tony Goldwyn', 3],\n",
       " ['Robin Shou', 3],\n",
       " ['Tim Curry', 3],\n",
       " ['James Caan', 3],\n",
       " ['Charles Dance', 3],\n",
       " ['Catherine Keener', 3],\n",
       " ['Sam Waterston', 3],\n",
       " ['Robert Downey Jr.', 3],\n",
       " ['Christopher Eccleston', 3],\n",
       " ['Caroline Goodall', 3],\n",
       " [\"De'aundre Bonds\", 3],\n",
       " ['Kate Capshaw', 3],\n",
       " ['Michael Biehn', 3],\n",
       " ['Karl Malden', 3],\n",
       " ['Buddy Ebsen', 3],\n",
       " ['Mimi Rogers', 3],\n",
       " ['Stephen Baldwin', 3],\n",
       " ['Robert Wuhl', 3],\n",
       " ['Andrew McCarthy', 3],\n",
       " ['Lori Petty', 3],\n",
       " ['David Strathairn', 3],\n",
       " ['Jane Fonda', 3],\n",
       " ['Jon Seda', 3],\n",
       " ['Dorothy McGuire', 3],\n",
       " ['Geena Davis', 3],\n",
       " ['Mark Boone Junior', 3],\n",
       " ['Tony Roberts', 3],\n",
       " ['Elle Macpherson', 3],\n",
       " ['Famke Janssen', 3],\n",
       " ['Rex Harrison', 3],\n",
       " ['Mark Hamill', 3],\n",
       " ['Burt Reynolds', 3],\n",
       " ['James Coburn', 3],\n",
       " ['Ian McKellen', 3],\n",
       " ['Lance Henriksen', 3],\n",
       " ['Melvyn Douglas', 3],\n",
       " ['Sean Young', 3],\n",
       " ['Jim Broadbent', 3],\n",
       " ['Julia Louis-Dreyfus', 3],\n",
       " ['Virginia Madsen', 3],\n",
       " ['George Dzundza', 3],\n",
       " ['Amy Yasbeck', 3],\n",
       " ['Kate Beckinsale', 3],\n",
       " ['Dorothy Provine', 3],\n",
       " ['Jean-Paul Belmondo', 3],\n",
       " ['Lara Flynn Boyle', 3],\n",
       " ['Lorraine Bracco', 3],\n",
       " ['Pauly Shore', 3],\n",
       " ['Phil Hartman', 3],\n",
       " ['Macaulay Culkin', 3],\n",
       " ['Annabeth Gish', 3],\n",
       " ['Nathan Lane', 3],\n",
       " ['Dennis Miller', 3],\n",
       " ['Claire Danes', 3],\n",
       " ['Joaquim de Almeida', 3],\n",
       " [\"Jerry O'Connell\", 3],\n",
       " ['Minnie Driver', 3],\n",
       " ['Parker Posey', 3],\n",
       " ['William Sadler', 3],\n",
       " ['Donna Reed', 3],\n",
       " ['Anthony Quinn', 3],\n",
       " ['Ray Milland', 3],\n",
       " ['Tina Majorino', 3],\n",
       " ['William Baldwin', 3],\n",
       " ['Marcello Mastroianni', 3],\n",
       " ['Cathy Moriarty', 3],\n",
       " ['John Mahoney', 3],\n",
       " ['Romane Bohringer', 3],\n",
       " ['Yun-Fat Chow', 3],\n",
       " ['Jean Reno', 3],\n",
       " ['Lukas Haas', 3],\n",
       " ['Stellan Skarsgård', 3],\n",
       " ['Vanessa Williams', 3],\n",
       " ['Lynn Whitfield', 3],\n",
       " ['Dylan McDermott', 3],\n",
       " ['Ernest Borgnine', 3],\n",
       " ['Chris Cooper', 3],\n",
       " ['Robin Wright', 3],\n",
       " ['Craig Sheffer', 3],\n",
       " ['Peter Sallis', 3],\n",
       " ['Elijah Wood', 3],\n",
       " ['Gabrielle Anwar', 3],\n",
       " ['Jon Tenney', 3],\n",
       " ['Campbell Scott', 3],\n",
       " ['Isabella Rossellini', 3],\n",
       " ['Jennifer Tilly', 3],\n",
       " ['John Heard', 3],\n",
       " ['Jeffrey Combs', 3],\n",
       " ['Diane Lane', 3],\n",
       " ['Kadeem Hardison', 3],\n",
       " ['Chris Farley', 3],\n",
       " ['Matthew Lillard', 3],\n",
       " ['George Burns', 3],\n",
       " ['Alan Cumming', 3],\n",
       " ['Jürgen Prochnow', 3],\n",
       " ['Lou Diamond Phillips', 3],\n",
       " ['Simon Callow', 3],\n",
       " ['Jessica Tandy', 3],\n",
       " ['Isaiah Washington', 3],\n",
       " ['Richard Lewis', 3],\n",
       " ['Janeane Garofalo', 3],\n",
       " ['Peter MacNicol', 3],\n",
       " ['Frank Whaley', 3],\n",
       " ['Naomi Watts', 3],\n",
       " ['Greg Kinnear', 3],\n",
       " ['Bud Cort', 3],\n",
       " ['Lela Rochon', 3],\n",
       " ['Bokeem Woodbine', 3],\n",
       " ['William Atherton', 3],\n",
       " ['Albert Finney', 3],\n",
       " ['Billy Zane', 3],\n",
       " ['Rod Steiger', 3],\n",
       " ['Edward Everett Horton', 3],\n",
       " ['Sebastian Cabot', 3],\n",
       " ['Anna Paquin', 3],\n",
       " ['Charlton Heston', 3],\n",
       " ['Emmanuelle Béart', 3],\n",
       " ['Robert Ryan', 3],\n",
       " ['Amy Irving', 3],\n",
       " ['Ron Eldard', 3],\n",
       " ['Ernie Hudson', 3],\n",
       " ['Bruce Davison', 3],\n",
       " ['Debra Messing', 3],\n",
       " ['Julie Delpy', 3],\n",
       " ['Joseph Cotten', 3],\n",
       " ['Natasha Richardson', 3],\n",
       " ['Annabella Sciorra', 3],\n",
       " ['Lauren Bacall', 3],\n",
       " ['Angelina Jolie', 3],\n",
       " ['Matthew McConaughey', 3],\n",
       " ['Harry Dean Stanton', 3],\n",
       " ['Madonna', 3],\n",
       " ['Kathleen Quinlan', 3],\n",
       " ['Nick Chinlund', 3],\n",
       " ['Steve Guttenberg', 3],\n",
       " ['Lena Olin', 3],\n",
       " ['Joely Richardson', 3],\n",
       " ['Alan Alda', 3],\n",
       " ['Crispin Glover', 3],\n",
       " ['Marlon Wayans', 3],\n",
       " ['Courtney B. Vance', 3],\n",
       " ['Matthew Modine', 3],\n",
       " ['Damon Wayans', 3],\n",
       " ['Jim Varney', 3],\n",
       " ['Milla Jovovich', 3],\n",
       " ['Tom Hulce', 3],\n",
       " ['Robin Tunney', 3],\n",
       " ['Kasi Lemmons', 3],\n",
       " ['William McNamara', 3],\n",
       " ['Tony Curtis', 3],\n",
       " ['Sinbad', 3],\n",
       " ['Toni Collette', 3],\n",
       " ['Cary-Hiroyuki Tagawa', 3],\n",
       " ['James Rebhorn', 3],\n",
       " ['Richard Attenborough', 3],\n",
       " ['Ice Cube', 3],\n",
       " ['James Garner', 3],\n",
       " ['George Clooney', 3],\n",
       " ['Peter Sellers', 3],\n",
       " ['Erich Anderson', 3],\n",
       " ['Jack Hawkins', 3],\n",
       " ['David Morse', 3],\n",
       " ['Djimon Hounsou', 3],\n",
       " ['Janet Leigh', 3],\n",
       " ['Nancy Travis', 3],\n",
       " ['Paul Rudd', 3],\n",
       " ['Litefoot', 3],\n",
       " ['Alyssa Milano', 3],\n",
       " ['Jay O. Sanders', 3],\n",
       " ['Cate Blanchett', 3],\n",
       " ['James Dean', 3],\n",
       " ['Johnathon Schaech', 3],\n",
       " ['Kirstie Alley', 3],\n",
       " ['Ted Danson', 3],\n",
       " ['Kim Basinger', 3],\n",
       " ['Helen Hunt', 3],\n",
       " ['Katrin Cartlidge', 3],\n",
       " ['Jason Priestley', 3],\n",
       " ['Bela Lugosi', 2],\n",
       " ['Mare Winningham', 2],\n",
       " ['Peter Falk', 2],\n",
       " ['Mary Astor', 2],\n",
       " ['Natalie Wood', 2],\n",
       " ['Eamonn Owens', 2],\n",
       " ['Kirk Douglas', 2],\n",
       " ['Élodie Bouchez', 2],\n",
       " ['Terry Gilliam', 2],\n",
       " ['Heather Langenkamp', 2],\n",
       " ['Jesse Bradford', 2],\n",
       " ['Julie Warner', 2],\n",
       " ['Dana Carvey', 2],\n",
       " ['Jorge Perugorría', 2],\n",
       " ['Rodney Dangerfield', 2],\n",
       " ['Stéphane Rideau', 2],\n",
       " ['Patrick Stewart', 2],\n",
       " ['George Kennedy', 2],\n",
       " ['Rita Wilson', 2],\n",
       " ['Eric Schaeffer', 2],\n",
       " ['Saul Rubinek', 2],\n",
       " ['William Powell', 2],\n",
       " ['Graham Greene', 2],\n",
       " ['Sean Bean', 2],\n",
       " ['Bruno Kirby', 2],\n",
       " ['Kim Wayans', 2],\n",
       " ['Farhad Jam', 2],\n",
       " ['Joanne Whalley', 2],\n",
       " ['Mark Wahlberg', 2],\n",
       " ['Marisa Paredes', 2],\n",
       " ['James Gammon', 2],\n",
       " ['Eileen Atkins', 2],\n",
       " ['Gene Kelly', 2],\n",
       " ['Walter Catlett', 2],\n",
       " ['Benoît Magimel', 2],\n",
       " ['Tim Guinee', 2],\n",
       " ['Neve Campbell', 2],\n",
       " ['Keenen Ivory Wayans', 2],\n",
       " ['Quentin Tarantino', 2],\n",
       " ['Federico Luppi', 2],\n",
       " ['Fairuza Balk', 2],\n",
       " ['Irma P. Hall', 2],\n",
       " ['Raquel Welch', 2],\n",
       " ['Errol Flynn', 2],\n",
       " ['Ted Levine', 2],\n",
       " ['Heather Graham', 2],\n",
       " ['Rod Taylor', 2],\n",
       " ['Piper Laurie', 2],\n",
       " ['Oscar Levant', 2],\n",
       " ['Kelsey Grammer', 2],\n",
       " ['Danny Nucci', 2],\n",
       " ['Anne Baxter', 2],\n",
       " ['Alfre Woodard', 2],\n",
       " ['Amy Madigan', 2],\n",
       " ['Megan Ward', 2],\n",
       " ['Vivica A. Fox', 2],\n",
       " ['Sophia Loren', 2],\n",
       " ['Matthew Macfadyen', 2],\n",
       " ['Temuera Morrison', 2],\n",
       " ['Walter Pidgeon', 2],\n",
       " ['Natascha McElhone', 2],\n",
       " ['Solveig Dommartin', 2],\n",
       " ['Trini Alvarado', 2],\n",
       " ['Robert Shaw', 2],\n",
       " ['Joanna Going', 2],\n",
       " ['Elsa Zylberstein', 2],\n",
       " ['Gary Cole', 2],\n",
       " ['Rose McGowan', 2],\n",
       " ['Joseph Gordon-Levitt', 2],\n",
       " ['Jean-Philippe Écoffey', 2],\n",
       " ['Rick Moranis', 2],\n",
       " ['Tom McDermott', 2],\n",
       " ['Gregory Hines', 2],\n",
       " ['Julianna Margulies', 2],\n",
       " ['John Fiedler', 2],\n",
       " ['Heather Locklear', 2],\n",
       " ['Robert Englund', 2],\n",
       " ['Jacqueline McKenzie', 2],\n",
       " ['Ken Ogata', 2],\n",
       " ['Michael Lerner', 2],\n",
       " ['Treat Williams', 2],\n",
       " ['Brigitte Bardot', 2],\n",
       " ['Tom Noonan', 2],\n",
       " ['Jingwu Ma', 2],\n",
       " ['Bette Davis', 2],\n",
       " ['Naoto Takenaka', 2],\n",
       " ['Gil Bellows', 2],\n",
       " ['Steven Weber', 2],\n",
       " ['Angela Lansbury', 2],\n",
       " [\"Beverly D'Angelo\", 2],\n",
       " ['John Lithgow', 2],\n",
       " ['Joseph Bologna', 2],\n",
       " ['Tony Shalhoub', 2],\n",
       " ['Wilson Dunster', 2],\n",
       " ['Janet Avansiyan', 2],\n",
       " ['Lea Thompson', 2],\n",
       " ['Tim Conway', 2],\n",
       " ['Martin Short', 2],\n",
       " ['Ian McNeice', 2],\n",
       " ['Kanu Bannerjee', 2],\n",
       " ['John Mills', 2],\n",
       " ['Tony Todd', 2],\n",
       " ['Tom Wilkinson', 2],\n",
       " ['James Russo', 2],\n",
       " ['Julie Harris', 2],\n",
       " ['James Fleet', 2],\n",
       " ['Denholm Elliott', 2],\n",
       " ['Michel Piccoli', 2],\n",
       " ['Joey Lauren Adams', 2],\n",
       " ['Ginger Rogers', 2],\n",
       " ['David Ogden Stiers', 2],\n",
       " ['William Fichtner', 2],\n",
       " ['Madeline Kahn', 2],\n",
       " ['Peter Gowen', 2],\n",
       " ['Richard Jenkins', 2],\n",
       " ['Lynn Cohen', 2],\n",
       " ['Kerry Fox', 2],\n",
       " ['John Williams', 2],\n",
       " ['Joachim Król ', 2],\n",
       " ['Chevy Chase', 2],\n",
       " ['Mariel Hemingway', 2],\n",
       " ['Beulah Bondi', 2],\n",
       " [\"Scott 'Carrot Top' Thompson\", 2],\n",
       " ['John Lone', 2],\n",
       " ['Rick Aviles', 2],\n",
       " ['Carrie Snodgress', 2],\n",
       " ['Viggo Mortensen', 2],\n",
       " [\"Catherine O'Hara\", 2],\n",
       " ['Lisanne Falk', 2],\n",
       " ['Edward Fox', 2],\n",
       " ['Lindsay Crouse', 2],\n",
       " ['Karen Sillas', 2],\n",
       " ['John Saxon', 2],\n",
       " ['Tomas von Brömssen', 2],\n",
       " ['Sean Astin', 2],\n",
       " ['Amy Brenneman', 2],\n",
       " ['Mary Steenburgen', 2],\n",
       " ['George C. Scott', 2],\n",
       " ['Maurice Chevalier', 2],\n",
       " ['Ellen Barkin', 2],\n",
       " ['Rory Cochrane', 2],\n",
       " ['Katharine Ross', 2],\n",
       " ['Max von Sydow', 2],\n",
       " ['Sissy Spacek', 2],\n",
       " ['Jeffrey Wright', 2],\n",
       " ['David Duchovny', 2],\n",
       " ['Lorraine Gary', 2],\n",
       " ['Steve McQueen', 2],\n",
       " ['Gary Busey', 2],\n",
       " ['Peter Dobson', 2],\n",
       " ['Paul Freeman', 2],\n",
       " ['Bonnie Hunt', 2],\n",
       " ['Omar Epps', 2],\n",
       " ['Jean-Hugues Anglade', 2],\n",
       " ['Diane Baker', 2],\n",
       " ['Brad Hunt', 2],\n",
       " ['Elise Neal', 2],\n",
       " [\"Gail O'Grady\", 2],\n",
       " ['Matt Frewer', 2],\n",
       " ['Alex D. Linz', 2],\n",
       " ['Robert Joy', 2],\n",
       " ['John Beck', 2],\n",
       " ['Raul Julia', 2],\n",
       " ['Marsha Mason', 2],\n",
       " ['Karen Black', 2],\n",
       " ['Bette Midler', 2],\n",
       " ['Peter Greene', 2],\n",
       " ['Greta Scacchi', 2],\n",
       " ['Bill Hunter', 2],\n",
       " ['Christina Vidal', 2],\n",
       " ['John Wayne', 2],\n",
       " ['Catherine Kellner', 2],\n",
       " ['Leslie Mann', 2],\n",
       " ['Brian Kerwin', 2],\n",
       " ['Roseanne Barr', 2],\n",
       " ['Jean Kent', 2],\n",
       " ['Barbara Sukowa', 2],\n",
       " ['Brian Doyle-Murray', 2],\n",
       " ['Liv Tyler', 2],\n",
       " ['Kôji Yakusho', 2],\n",
       " ['James Belushi', 2],\n",
       " ['Jack Black', 2],\n",
       " ['James Brown', 2],\n",
       " ['Jennifer Aniston', 2],\n",
       " ['Thora Birch', 2],\n",
       " ['Jon Favreau', 2],\n",
       " ['Adolphe Menjou', 2],\n",
       " ['Joe Pantoliano', 2],\n",
       " ['Benjamin Ungar', 2],\n",
       " ['Paul Calderon', 2],\n",
       " ['Gaby Hoffmann', 2],\n",
       " ['Jessie Royce Landis', 2],\n",
       " ['Jake Busey', 2],\n",
       " ['Rufus Sewell', 2],\n",
       " ['Richard Roundtree', 2],\n",
       " ['Jonathan Penner', 2],\n",
       " ['Nicollette Sheridan', 2],\n",
       " ['Leslie Caron', 2],\n",
       " ['Victoria Foyt', 2],\n",
       " ['Steve Cardenas', 2],\n",
       " ['Pamela Adlon', 2],\n",
       " ['Billy Crudup', 2],\n",
       " ['Strother Martin', 2],\n",
       " ['Mike Myers', 2],\n",
       " ['River Phoenix', 2],\n",
       " ['Paul Shenar', 2],\n",
       " ['Julie Carmen', 2],\n",
       " ['Joaquin Phoenix', 2],\n",
       " ['Liam Cunningham', 2],\n",
       " ['Jean-Pierre Cassel', 2],\n",
       " ['Dana Wheeler-Nicholson', 2],\n",
       " ['Paul Hogan', 2],\n",
       " ['Cynthia Stevenson', 2],\n",
       " ['Christopher Daniel Barnes', 2],\n",
       " ['Sterling Hayden', 2],\n",
       " ['Owen Wilson', 2],\n",
       " ['Jon Bon Jovi', 2],\n",
       " ['Burt Young', 2],\n",
       " ['Kurtwood Smith', 2],\n",
       " ['Alida Valli', 2],\n",
       " ['Dennis Franz', 2],\n",
       " [\"Milo O'Shea\", 2],\n",
       " ['Eli Wallach', 2],\n",
       " ['Mtume Gant', 2],\n",
       " ['Jeremy London', 2],\n",
       " ['Claire Forlani', 2],\n",
       " ['Jamie Renée Smith', 2],\n",
       " ['Robert Morley', 2],\n",
       " ['Andre Braugher', 2],\n",
       " ['Rubén Blades', 2],\n",
       " ['Lily Tomlin', 2],\n",
       " ['Sherilyn Fenn', 2],\n",
       " ['Indira Varma', 2],\n",
       " ['Monica Keena', 2],\n",
       " ['Kenneth Tsang', 2],\n",
       " ['Saffron Burrows', 2],\n",
       " ['Isabelle Huppert', 2],\n",
       " ['Sidney Poitier', 2],\n",
       " ['Suzy Amis', 2],\n",
       " ['Frances McDormand', 2],\n",
       " ['Pam Grier', 2],\n",
       " ['Anna Galiena', 2],\n",
       " ['Richard Crenna', 2],\n",
       " ['Jon Lovitz', 2],\n",
       " ['Christian Bale', 2],\n",
       " ['Rutger Hauer', 2],\n",
       " ['Albert Brooks', 2],\n",
       " ['Fred Ward', 2],\n",
       " ['Barbara Stanwyck', 2],\n",
       " ['Whittni Wright', 2],\n",
       " ['Kelly Preston', 2],\n",
       " ['Rowan Atkinson', 2],\n",
       " ['Anthony DeSando', 2],\n",
       " ['Robin Givens', 2],\n",
       " ['James Duval', 2],\n",
       " ['Carole Lombard', 2],\n",
       " ['Sean Nelson', 2],\n",
       " ['Graham Chapman', 2],\n",
       " [\"Predrag 'Miki' Manojlovic\", 2],\n",
       " ['Michael Murphy', 2],\n",
       " ['Grégoire Colin', 2],\n",
       " ['Hulk Hogan', 2],\n",
       " ['Paul Winfield', 2],\n",
       " ['Patrick Malahide', 2],\n",
       " ['Stephen Dillane', 2],\n",
       " ['Rachel True', 2],\n",
       " ['Brian Dennehy', 2],\n",
       " ['Roy Scheider', 2],\n",
       " ['Tim Daly', 2],\n",
       " ['Turan Mehrzad', 2],\n",
       " ['Casey Affleck', 2],\n",
       " ['Elina Löwensohn', 2],\n",
       " ['Basil Rathbone', 2],\n",
       " ['Bill Nunn', 2],\n",
       " ['Jeffrey Jones', 2],\n",
       " ['David Naughton', 2],\n",
       " ['Miranda Rhyne', 2],\n",
       " ['Dominique Sanda', 2],\n",
       " ['Joey Travolta', 2],\n",
       " ['Miou-Miou', 2],\n",
       " ['Rupert Graves', 2],\n",
       " ['Nigel Hawthorne', 2],\n",
       " ['Joe Torry', 2],\n",
       " ['Don Johnson', 2],\n",
       " ['Maury Chaykin', 2],\n",
       " ['Whitney Houston', 2],\n",
       " ['Kevin Sorbo', 2],\n",
       " ['Christine Lahti', 2],\n",
       " ['Joe Morton', 2],\n",
       " ['Brittany Murphy', 2],\n",
       " ['Michael Paré', 2],\n",
       " ['Terence Stamp', 2],\n",
       " ['Katja Riemann', 2],\n",
       " ['John Gielgud', 2],\n",
       " ['Reginald VelJohnson', 2],\n",
       " ['Natalie Desselle Reid', 2],\n",
       " ['Freddie Prinze Jr.', 2],\n",
       " ['Jerry Adler', 2],\n",
       " ['Edward Norton', 2],\n",
       " ['Robert Patrick', 2],\n",
       " ['Edward Arnold', 2],\n",
       " ['Jennifer Beals', 2],\n",
       " ['Mekhi Phifer', 2],\n",
       " [\"Shaquille O'Neal\", 2],\n",
       " ['Adam Trese', 2],\n",
       " ['Anais Evans', 2],\n",
       " ['Denis Lawson', 2],\n",
       " ['Sam Shepard', 2],\n",
       " ['Gene Tierney', 2],\n",
       " ['Noah Emmerich', 2],\n",
       " ['Joss Ackland', 2],\n",
       " ['Carlo Alban', 2],\n",
       " ['Billy Campbell', 2],\n",
       " ['Peter Weller', 2],\n",
       " ['Warren Beatty', 2],\n",
       " ['Shannen Doherty', 2],\n",
       " ['Adrian Dunbar', 2],\n",
       " ['Rusty Cundieff', 2],\n",
       " ['Charles Vanel', 2],\n",
       " ['Cloris Leachman', 2],\n",
       " ['Andy Dick', 2],\n",
       " ['John Hurt', 2],\n",
       " ['William Hickey', 2],\n",
       " ['Bebe Neuwirth', 2],\n",
       " ['Bob Gunton', 2],\n",
       " ['Til Schweiger', 2],\n",
       " ['Lee Van Cleef', 2],\n",
       " ['Matt Damon', 2],\n",
       " ['Mike Judge', 2],\n",
       " ['Jennifer Grey', 2],\n",
       " ['Jeremy Irons', 2],\n",
       " ['Saifei He', 2],\n",
       " ['Mia Farrow', 2],\n",
       " ['Bradley Whitford', 2],\n",
       " ['Eric Schweig', 2],\n",
       " ['Jon Polito', 2],\n",
       " ['Chris Sarandon', 2],\n",
       " ['Antoine McLean', 2],\n",
       " ['Robert Loggia', 2],\n",
       " ['Niki Karimi', 2],\n",
       " ['Yvonne Zima', 2],\n",
       " ['Richard E. Grant', 2],\n",
       " ['Linda Larkin', 2],\n",
       " ['Joan Fontaine', 2],\n",
       " ['Katharina Thalbach', 2],\n",
       " ['Raymond J. Barry', 2],\n",
       " ['Guillermo Díaz', 2],\n",
       " ['Jean-Marc Barr', 2],\n",
       " ['Brendan Sexton III', 2],\n",
       " ['Rob Morrow', 2],\n",
       " ['Charlie Creed-Miles', 2],\n",
       " ['Giancarlo Giannini', 2],\n",
       " ['Lenore Banks', 2],\n",
       " ['Jason Robards', 2],\n",
       " ['Scott Mosier', 2],\n",
       " ['Charlize Theron', 2],\n",
       " ['Henry Fonda', 2],\n",
       " ['Sadie Frost', 2],\n",
       " [\"Maureen O'Hara\", 2],\n",
       " ['Bruce Campbell', 2],\n",
       " ['Dan Hedaya', 2],\n",
       " ['Ron Livingston', 2],\n",
       " ['Brad Dourif', 2],\n",
       " ['Barbara Hershey', 2],\n",
       " ['Salma Hayek', 2],\n",
       " ['Henry Daniell', 2],\n",
       " ['Jason Statham', 2],\n",
       " ['Lionel Barrymore', 2],\n",
       " ['Mike Nichols', 2],\n",
       " ['Rachel Weisz', 2],\n",
       " ['John C. McGinley', 2],\n",
       " ['Dana Andrews', 2],\n",
       " ['Ed Begley Jr.', 2],\n",
       " ['Damian Chapa', 2],\n",
       " ['Scatman Crothers', 2],\n",
       " ['Rosanna Arquette', 2],\n",
       " ['François Cluzet', 2],\n",
       " ['James Cosmo', 2],\n",
       " ['Daryl Hannah', 2],\n",
       " ['Alan Boyle', 2],\n",
       " ['Mario Van Peebles', 2],\n",
       " ['Scott Bakula', 2],\n",
       " ['Peter Lorre', 2],\n",
       " ['Freddy Rodríguez', 2],\n",
       " ['Kim Novak', 2],\n",
       " ['Bruce Ramsay', 2],\n",
       " ['James Mason', 2],\n",
       " ['Gracie Allen', 2],\n",
       " ['Gene Lockhart', 2],\n",
       " ['Guy Pearce', 2],\n",
       " ['Ned Beatty', 2],\n",
       " ['Stephen Spinella', 2],\n",
       " ['Kelly McGillis', 2],\n",
       " ['Colm Meaney', 2],\n",
       " ['Reilly Murphy', 2],\n",
       " ['Tom Wood', 2],\n",
       " ['Simone Signoret', 2],\n",
       " ['Lolita Davidovich', 2],\n",
       " ['Michael Beach', 2],\n",
       " ['Patsy Kensit', 2],\n",
       " ['Paul Mercurio', 2],\n",
       " ['Enrico Lo Verso', 2],\n",
       " ['Ralph Bellamy', 2],\n",
       " ['Elizabeth Hurley', 2],\n",
       " ['Oleg Menshikov', 2],\n",
       " ['Vince Vaughn', 2],\n",
       " ['Arnold Vosloo', 2],\n",
       " ['Michael Ironside', 2],\n",
       " ['Thomas Ian Griffith', 2],\n",
       " ['Illeana Douglas', 2],\n",
       " ['David Arquette', 2],\n",
       " ['Justin Pierce', 2],\n",
       " ['Paul McGann', 2],\n",
       " ['Alan Rickman', 2],\n",
       " ['Mirta Ibarra', 2],\n",
       " ['Maggie Q', 2],\n",
       " ['Annie Corley', 2],\n",
       " ['Michael Richards', 2],\n",
       " ['Sihung Lung', 2],\n",
       " ['Raymond Massey', 2],\n",
       " ['Laura San Giacomo', 2],\n",
       " ['Jason Beghe', 2],\n",
       " ['Michael Redgrave', 2],\n",
       " ['Denise Crosby', 2],\n",
       " ['Walter Huston', 2],\n",
       " ['Jack Warden', 2],\n",
       " ['Peter Stormare', 2],\n",
       " ['Eddie Albert', 2],\n",
       " [\"Ed O'Neill\", 2],\n",
       " ['Amanda De Cadenet', 2],\n",
       " ['David de Keyser', 2],\n",
       " [\"Kevin J. O'Connor\", 2],\n",
       " ['Eri Watanabe', 2],\n",
       " ['Louise Lasser', 2],\n",
       " ...]"
      ]
     },
     "execution_count": 24,
     "metadata": {},
     "output_type": "execute_result"
    }
   ],
   "source": [
    "#counting how many times each of actors occur:\n",
    "keyword_occurences, dum = count_word(auxiliary, 'actors', actors_keywords)\n",
    "keyword_occurences"
   ]
  },
  {
   "cell_type": "code",
   "execution_count": 25,
   "metadata": {
    "colab": {},
    "colab_type": "code",
    "id": "lPr0m4-t8Mxg"
   },
   "outputs": [
    {
     "ename": "NameError",
     "evalue": "name 'movies' is not defined",
     "output_type": "error",
     "traceback": [
      "\u001b[1;31m---------------------------------------------------------------------------\u001b[0m",
      "\u001b[1;31mNameError\u001b[0m                                 Traceback (most recent call last)",
      "\u001b[1;32m<ipython-input-25-1be5731725b8>\u001b[0m in \u001b[0;36m<module>\u001b[1;34m\u001b[0m\n\u001b[1;32m----> 1\u001b[1;33m \u001b[0mmovies\u001b[0m\u001b[1;33m[\u001b[0m\u001b[1;34m\"title\"\u001b[0m\u001b[1;33m]\u001b[0m\u001b[1;33m.\u001b[0m\u001b[0mvalue_counts\u001b[0m\u001b[1;33m(\u001b[0m\u001b[1;33m)\u001b[0m\u001b[1;33m\u001b[0m\u001b[1;33m\u001b[0m\u001b[0m\n\u001b[0m",
      "\u001b[1;31mNameError\u001b[0m: name 'movies' is not defined"
     ]
    }
   ],
   "source": [
    "movies[\"title\"].value_counts()"
   ]
  },
  {
   "cell_type": "markdown",
   "metadata": {},
   "source": [
    "Cada um dos 3883 filmes possui um título distinto. "
   ]
  },
  {
   "cell_type": "code",
   "execution_count": 26,
   "metadata": {},
   "outputs": [
    {
     "ename": "NameError",
     "evalue": "name 'movies' is not defined",
     "output_type": "error",
     "traceback": [
      "\u001b[1;31m---------------------------------------------------------------------------\u001b[0m",
      "\u001b[1;31mNameError\u001b[0m                                 Traceback (most recent call last)",
      "\u001b[1;32m<ipython-input-26-3f6436a53cb4>\u001b[0m in \u001b[0;36m<module>\u001b[1;34m\u001b[0m\n\u001b[1;32m----> 1\u001b[1;33m \u001b[0mmovies\u001b[0m\u001b[1;33m[\u001b[0m\u001b[1;34m\"genres\"\u001b[0m\u001b[1;33m]\u001b[0m\u001b[1;33m.\u001b[0m\u001b[0mvalue_counts\u001b[0m\u001b[1;33m(\u001b[0m\u001b[1;33m)\u001b[0m\u001b[1;33m\u001b[0m\u001b[1;33m\u001b[0m\u001b[0m\n\u001b[0m",
      "\u001b[1;31mNameError\u001b[0m: name 'movies' is not defined"
     ]
    }
   ],
   "source": [
    "movies[\"genres\"].value_counts()"
   ]
  },
  {
   "cell_type": "markdown",
   "metadata": {
    "colab_type": "text",
    "id": "b8TL_7-vJhCN"
   },
   "source": [
    "Como podemos observar, a característica \"genres\" é uma variável multivalorada, com 301 combinações de 18 gêneros de filmes. Podemos analisar desta forma (nome bonito que não lembro que define clases que significam combinações de classes menores) ou tratar os 18 generos como OneHotEncoder (ver se dá de usar esse)."
   ]
  },
  {
   "cell_type": "markdown",
   "metadata": {},
   "source": [
    "From https://www.kaggle.com/jneupane12/analysis-of-movielens-dataset-beginner-sanalysis"
   ]
  },
  {
   "cell_type": "code",
   "execution_count": 27,
   "metadata": {},
   "outputs": [],
   "source": [
    "#define a function that counts the number of times each genre appear:\n",
    "def count_word(df, ref_col, liste):\n",
    "    keyword_count = dict()\n",
    "    for s in liste: keyword_count[s] = 0\n",
    "    for liste_keywords in df[ref_col].str.split('|'):\n",
    "        if type(liste_keywords) == float and pd.isnull(liste_keywords): continue\n",
    "        for s in liste_keywords: \n",
    "            if pd.notnull(s): keyword_count[s] += 1\n",
    "    # convert the dictionary in a list to sort the keywords  by frequency\n",
    "    keyword_occurences = []\n",
    "    for k,v in keyword_count.items():\n",
    "        keyword_occurences.append([k,v])\n",
    "    keyword_occurences.sort(key = lambda x:x[1], reverse = True)\n",
    "    return keyword_occurences, keyword_count"
   ]
  },
  {
   "cell_type": "code",
   "execution_count": 28,
   "metadata": {},
   "outputs": [
    {
     "ename": "NameError",
     "evalue": "name 'movies' is not defined",
     "output_type": "error",
     "traceback": [
      "\u001b[1;31m---------------------------------------------------------------------------\u001b[0m",
      "\u001b[1;31mNameError\u001b[0m                                 Traceback (most recent call last)",
      "\u001b[1;32m<ipython-input-28-1a4eaa291400>\u001b[0m in \u001b[0;36m<module>\u001b[1;34m\u001b[0m\n\u001b[0;32m      1\u001b[0m \u001b[1;31m#here we  make census of the genres:\u001b[0m\u001b[1;33m\u001b[0m\u001b[1;33m\u001b[0m\u001b[1;33m\u001b[0m\u001b[0m\n\u001b[0;32m      2\u001b[0m \u001b[0mgenre_labels\u001b[0m \u001b[1;33m=\u001b[0m \u001b[0mset\u001b[0m\u001b[1;33m(\u001b[0m\u001b[1;33m)\u001b[0m\u001b[1;33m\u001b[0m\u001b[1;33m\u001b[0m\u001b[0m\n\u001b[1;32m----> 3\u001b[1;33m \u001b[1;32mfor\u001b[0m \u001b[0ms\u001b[0m \u001b[1;32min\u001b[0m \u001b[0mmovies\u001b[0m\u001b[1;33m[\u001b[0m\u001b[1;34m'genres'\u001b[0m\u001b[1;33m]\u001b[0m\u001b[1;33m.\u001b[0m\u001b[0mstr\u001b[0m\u001b[1;33m.\u001b[0m\u001b[0msplit\u001b[0m\u001b[1;33m(\u001b[0m\u001b[1;34m'|'\u001b[0m\u001b[1;33m)\u001b[0m\u001b[1;33m.\u001b[0m\u001b[0mvalues\u001b[0m\u001b[1;33m:\u001b[0m\u001b[1;33m\u001b[0m\u001b[1;33m\u001b[0m\u001b[0m\n\u001b[0m\u001b[0;32m      4\u001b[0m     \u001b[0mgenre_labels\u001b[0m \u001b[1;33m=\u001b[0m \u001b[0mgenre_labels\u001b[0m\u001b[1;33m.\u001b[0m\u001b[0munion\u001b[0m\u001b[1;33m(\u001b[0m\u001b[0mset\u001b[0m\u001b[1;33m(\u001b[0m\u001b[0ms\u001b[0m\u001b[1;33m)\u001b[0m\u001b[1;33m)\u001b[0m\u001b[1;33m\u001b[0m\u001b[1;33m\u001b[0m\u001b[0m\n",
      "\u001b[1;31mNameError\u001b[0m: name 'movies' is not defined"
     ]
    }
   ],
   "source": [
    "#here we  make census of the genres:\n",
    "genre_labels = set()\n",
    "for s in movies['genres'].str.split('|').values:\n",
    "    genre_labels = genre_labels.union(set(s))"
   ]
  },
  {
   "cell_type": "code",
   "execution_count": 29,
   "metadata": {},
   "outputs": [
    {
     "ename": "NameError",
     "evalue": "name 'movies' is not defined",
     "output_type": "error",
     "traceback": [
      "\u001b[1;31m---------------------------------------------------------------------------\u001b[0m",
      "\u001b[1;31mNameError\u001b[0m                                 Traceback (most recent call last)",
      "\u001b[1;32m<ipython-input-29-0b0bdc13620f>\u001b[0m in \u001b[0;36m<module>\u001b[1;34m\u001b[0m\n\u001b[0;32m      1\u001b[0m \u001b[1;31m#counting how many times each of genres occur:\u001b[0m\u001b[1;33m\u001b[0m\u001b[1;33m\u001b[0m\u001b[1;33m\u001b[0m\u001b[0m\n\u001b[1;32m----> 2\u001b[1;33m \u001b[0mkeyword_occurences\u001b[0m\u001b[1;33m,\u001b[0m \u001b[0mdum\u001b[0m \u001b[1;33m=\u001b[0m \u001b[0mcount_word\u001b[0m\u001b[1;33m(\u001b[0m\u001b[0mmovies\u001b[0m\u001b[1;33m,\u001b[0m \u001b[1;34m'genres'\u001b[0m\u001b[1;33m,\u001b[0m \u001b[0mgenre_labels\u001b[0m\u001b[1;33m)\u001b[0m\u001b[1;33m\u001b[0m\u001b[1;33m\u001b[0m\u001b[0m\n\u001b[0m\u001b[0;32m      3\u001b[0m \u001b[0mkeyword_occurences\u001b[0m\u001b[1;33m\u001b[0m\u001b[1;33m\u001b[0m\u001b[0m\n",
      "\u001b[1;31mNameError\u001b[0m: name 'movies' is not defined"
     ]
    }
   ],
   "source": [
    "#counting how many times each of genres occur:\n",
    "keyword_occurences, dum = count_word(movies, 'genres', genre_labels)\n",
    "keyword_occurences"
   ]
  },
  {
   "cell_type": "markdown",
   "metadata": {},
   "source": [
    "\"OneHotEncode\" para genres:"
   ]
  },
  {
   "cell_type": "code",
   "execution_count": 30,
   "metadata": {},
   "outputs": [
    {
     "ename": "NameError",
     "evalue": "name 'movies' is not defined",
     "output_type": "error",
     "traceback": [
      "\u001b[1;31m---------------------------------------------------------------------------\u001b[0m",
      "\u001b[1;31mNameError\u001b[0m                                 Traceback (most recent call last)",
      "\u001b[1;32m<ipython-input-30-e9d8093e0ccb>\u001b[0m in \u001b[0;36m<module>\u001b[1;34m\u001b[0m\n\u001b[1;32m----> 1\u001b[1;33m \u001b[0mgenres_unique\u001b[0m \u001b[1;33m=\u001b[0m \u001b[0mpd\u001b[0m\u001b[1;33m.\u001b[0m\u001b[0mDataFrame\u001b[0m\u001b[1;33m(\u001b[0m\u001b[0mmovies\u001b[0m\u001b[1;33m.\u001b[0m\u001b[0mgenres\u001b[0m\u001b[1;33m.\u001b[0m\u001b[0mstr\u001b[0m\u001b[1;33m.\u001b[0m\u001b[0msplit\u001b[0m\u001b[1;33m(\u001b[0m\u001b[1;34m'|'\u001b[0m\u001b[1;33m)\u001b[0m\u001b[1;33m.\u001b[0m\u001b[0mtolist\u001b[0m\u001b[1;33m(\u001b[0m\u001b[1;33m)\u001b[0m\u001b[1;33m)\u001b[0m\u001b[1;33m.\u001b[0m\u001b[0mstack\u001b[0m\u001b[1;33m(\u001b[0m\u001b[1;33m)\u001b[0m\u001b[1;33m.\u001b[0m\u001b[0munique\u001b[0m\u001b[1;33m(\u001b[0m\u001b[1;33m)\u001b[0m\u001b[1;33m\u001b[0m\u001b[1;33m\u001b[0m\u001b[0m\n\u001b[0m\u001b[0;32m      2\u001b[0m \u001b[0mgenres_unique\u001b[0m \u001b[1;33m=\u001b[0m \u001b[0mpd\u001b[0m\u001b[1;33m.\u001b[0m\u001b[0mDataFrame\u001b[0m\u001b[1;33m(\u001b[0m\u001b[0mgenres_unique\u001b[0m\u001b[1;33m,\u001b[0m \u001b[0mcolumns\u001b[0m\u001b[1;33m=\u001b[0m\u001b[1;33m[\u001b[0m\u001b[1;34m'genre'\u001b[0m\u001b[1;33m]\u001b[0m\u001b[1;33m)\u001b[0m \u001b[1;31m# Format into DataFrame to store later\u001b[0m\u001b[1;33m\u001b[0m\u001b[1;33m\u001b[0m\u001b[0m\n",
      "\u001b[1;31mNameError\u001b[0m: name 'movies' is not defined"
     ]
    }
   ],
   "source": [
    "genres_unique = pd.DataFrame(movies.genres.str.split('|').tolist()).stack().unique()\n",
    "genres_unique = pd.DataFrame(genres_unique, columns=['genre']) # Format into DataFrame to store later"
   ]
  },
  {
   "cell_type": "code",
   "execution_count": 31,
   "metadata": {},
   "outputs": [
    {
     "ename": "NameError",
     "evalue": "name 'movies' is not defined",
     "output_type": "error",
     "traceback": [
      "\u001b[1;31m---------------------------------------------------------------------------\u001b[0m",
      "\u001b[1;31mNameError\u001b[0m                                 Traceback (most recent call last)",
      "\u001b[1;32m<ipython-input-31-d4c1d90c3c8b>\u001b[0m in \u001b[0;36m<module>\u001b[1;34m\u001b[0m\n\u001b[1;32m----> 1\u001b[1;33m \u001b[0mnew_movies\u001b[0m \u001b[1;33m=\u001b[0m \u001b[0mmovies\u001b[0m\u001b[1;33m.\u001b[0m\u001b[0mjoin\u001b[0m\u001b[1;33m(\u001b[0m\u001b[0mmovies\u001b[0m\u001b[1;33m.\u001b[0m\u001b[0mgenres\u001b[0m\u001b[1;33m.\u001b[0m\u001b[0mstr\u001b[0m\u001b[1;33m.\u001b[0m\u001b[0mget_dummies\u001b[0m\u001b[1;33m(\u001b[0m\u001b[1;33m)\u001b[0m\u001b[1;33m)\u001b[0m\u001b[1;33m\u001b[0m\u001b[1;33m\u001b[0m\u001b[0m\n\u001b[0m\u001b[0;32m      2\u001b[0m \u001b[0mnew_movies\u001b[0m\u001b[1;33m.\u001b[0m\u001b[0mdrop\u001b[0m\u001b[1;33m(\u001b[0m\u001b[1;34m'genres'\u001b[0m\u001b[1;33m,\u001b[0m \u001b[0minplace\u001b[0m\u001b[1;33m=\u001b[0m\u001b[1;32mTrue\u001b[0m\u001b[1;33m,\u001b[0m \u001b[0maxis\u001b[0m\u001b[1;33m=\u001b[0m\u001b[1;36m1\u001b[0m\u001b[1;33m)\u001b[0m\u001b[1;33m\u001b[0m\u001b[1;33m\u001b[0m\u001b[0m\n",
      "\u001b[1;31mNameError\u001b[0m: name 'movies' is not defined"
     ]
    }
   ],
   "source": [
    "new_movies = movies.join(movies.genres.str.get_dummies())\n",
    "new_movies.drop('genres', inplace=True, axis=1)"
   ]
  },
  {
   "cell_type": "code",
   "execution_count": 32,
   "metadata": {
    "scrolled": true
   },
   "outputs": [
    {
     "ename": "NameError",
     "evalue": "name 'new_movies' is not defined",
     "output_type": "error",
     "traceback": [
      "\u001b[1;31m---------------------------------------------------------------------------\u001b[0m",
      "\u001b[1;31mNameError\u001b[0m                                 Traceback (most recent call last)",
      "\u001b[1;32m<ipython-input-32-9335b6b4d2e8>\u001b[0m in \u001b[0;36m<module>\u001b[1;34m\u001b[0m\n\u001b[1;32m----> 1\u001b[1;33m \u001b[0mnew_movies\u001b[0m\u001b[1;33m.\u001b[0m\u001b[0mhead\u001b[0m\u001b[1;33m(\u001b[0m\u001b[1;33m)\u001b[0m\u001b[1;33m\u001b[0m\u001b[1;33m\u001b[0m\u001b[0m\n\u001b[0m",
      "\u001b[1;31mNameError\u001b[0m: name 'new_movies' is not defined"
     ]
    }
   ],
   "source": [
    "new_movies.head()"
   ]
  },
  {
   "cell_type": "code",
   "execution_count": null,
   "metadata": {},
   "outputs": [],
   "source": [
    "new_movies.describe()"
   ]
  },
  {
   "cell_type": "code",
   "execution_count": null,
   "metadata": {},
   "outputs": [],
   "source": [
    "users[\"gender\"].value_counts()"
   ]
  },
  {
   "cell_type": "code",
   "execution_count": null,
   "metadata": {},
   "outputs": [],
   "source": [
    "users[\"zip_code\"].value_counts()"
   ]
  },
  {
   "cell_type": "markdown",
   "metadata": {},
   "source": [
    "### 3.1.4. Cleanning data"
   ]
  },
  {
   "cell_type": "code",
   "execution_count": null,
   "metadata": {},
   "outputs": [],
   "source": [
    "#is any row null\n",
    "auxiliary.isnull().any()"
   ]
  },
  {
   "cell_type": "code",
   "execution_count": null,
   "metadata": {},
   "outputs": [],
   "source": [
    "#is any row null\n",
    "rating.isnull().any()"
   ]
  },
  {
   "cell_type": "code",
   "execution_count": null,
   "metadata": {},
   "outputs": [],
   "source": [
    "#is any row null\n",
    "i2kg_map.isnull().any()"
   ]
  },
  {
   "cell_type": "markdown",
   "metadata": {},
   "source": [
    "### 3.1.5. Data visualization"
   ]
  },
  {
   "cell_type": "code",
   "execution_count": null,
   "metadata": {
    "colab": {},
    "colab_type": "code",
    "id": "qaNOxfbs8Mxv"
   },
   "outputs": [],
   "source": [
    "%matplotlib inline\n",
    "import matplotlib.pyplot as plt\n",
    "users.hist(bins=50, figsize=(20,15))\n",
    "plt.show()"
   ]
  },
  {
   "cell_type": "code",
   "execution_count": null,
   "metadata": {},
   "outputs": [],
   "source": [
    "%matplotlib inline\n",
    "import matplotlib.pyplot as plt\n",
    "ratings.hist(bins=50, figsize=(20,15))\n",
    "plt.show()"
   ]
  },
  {
   "cell_type": "code",
   "execution_count": null,
   "metadata": {},
   "outputs": [],
   "source": [
    "%matplotlib inline\n",
    "import matplotlib.pyplot as plt\n",
    "movies.hist(bins=50, figsize=(20,15))\n",
    "plt.show()"
   ]
  },
  {
   "cell_type": "code",
   "execution_count": null,
   "metadata": {
    "scrolled": false
   },
   "outputs": [],
   "source": [
    "# Function that control the color of the words\n",
    "def random_color_func(word=None, font_size=None, position=None,\n",
    "                      orientation=None, font_path=None, random_state=None):\n",
    "    h = int(360.0 * tone / 255.0)\n",
    "    s = int(100.0 * 255.0 / 255.0)\n",
    "    l = int(100.0 * float(random_state.randint(70, 120)) / 255.0)\n",
    "    return \"hsl({}, {}%, {}%)\".format(h, s, l)\n",
    "\n",
    "\n",
    "#Finally, the result is shown as a wordcloud:\n",
    "words = dict()\n",
    "trunc_occurences = keyword_occurences[0:50]\n",
    "for s in trunc_occurences:\n",
    "    words[s[0]] = s[1]\n",
    "tone = 100 # define the color of the words\n",
    "f, ax = plt.subplots(figsize=(14, 6))\n",
    "wordcloud = WordCloud(width=550,height=300, background_color='black', \n",
    "                      max_words=1628,relative_scaling=0.7,\n",
    "                      color_func = random_color_func,\n",
    "                      normalize_plurals=False)\n",
    "wordcloud.generate_from_frequencies(words)\n",
    "plt.imshow(wordcloud, interpolation=\"bilinear\")\n",
    "plt.axis('off')\n",
    "plt.show()"
   ]
  },
  {
   "cell_type": "code",
   "execution_count": null,
   "metadata": {},
   "outputs": [],
   "source": [
    "# lets display the same result in the histogram\n",
    "fig = plt.figure(1, figsize=(18,13))\n",
    "ax2 = fig.add_subplot(2,1,2)\n",
    "y_axis = [i[1] for i in trunc_occurences]\n",
    "x_axis = [k for k,i in enumerate(trunc_occurences)]\n",
    "x_label = [i[0] for i in trunc_occurences]\n",
    "plt.xticks(rotation=85, fontsize = 15)\n",
    "plt.yticks(fontsize = 15)\n",
    "plt.xticks(x_axis, x_label)\n",
    "plt.ylabel(\"No. of occurences\", fontsize = 24, labelpad = 0)\n",
    "ax2.bar(x_axis, y_axis, align = 'center', color='r')\n",
    "plt.title(\"Popularity of Genres\",bbox={'facecolor':'k', 'pad':5},color='w',fontsize = 30)\n",
    "plt.show()"
   ]
  },
  {
   "cell_type": "markdown",
   "metadata": {},
   "source": [
    "## 3.3. ml1m-summarized_sun"
   ]
  },
  {
   "cell_type": "markdown",
   "metadata": {},
   "source": [
    "### 3.3.1. Obter os dados"
   ]
  },
  {
   "cell_type": "code",
   "execution_count": null,
   "metadata": {},
   "outputs": [],
   "source": [
    "SUM_PATH = os.path.join(\"..\", \"..\", \"datasets\", \"ml1m-summarized_sun\")\n",
    "def load_ml1m_summarized_sun_data(save_path=SUM_PATH):\n",
    "    # pass in column names for each CSV\n",
    "    # rating files: train, valid and test\n",
    "    r_cols = ['movie_id', 'genre', 'director', 'actors']\n",
    "    csv_path = os.path.join(save_path, \"ml1m\", \"sum_auxiliary.txt\")\n",
    "    auxiliary = pd.read_csv(csv_path, sep='|', engine=\"python\", names=r_cols, encoding='utf-8-sig', header=None)\n",
    "    \n",
    "    auxiliary['genre'] = auxiliary['genre'].str.split(':').str[1]\n",
    "    auxiliary['director'] = auxiliary['director'].str.split(':').str[1]\n",
    "    auxiliary['actors'] = auxiliary['actors'].str.split(':').str[1]\n",
    "    \n",
    "    return auxiliary"
   ]
  },
  {
   "cell_type": "code",
   "execution_count": null,
   "metadata": {
    "scrolled": true
   },
   "outputs": [],
   "source": [
    "summarized = load_ml1m_summarized_sun_data()\n",
    "summarized.head() #visualizar as 5 primeiras linhas do dataframe"
   ]
  },
  {
   "cell_type": "code",
   "execution_count": null,
   "metadata": {},
   "outputs": [],
   "source": [
    "#here we  make census of the genres:\n",
    "genre_labels = set()\n",
    "for s in summarized['genre'].str.split(',').values:\n",
    "    genre_labels = genre_labels.union(set(s))\n",
    "genre_labels"
   ]
  },
  {
   "cell_type": "code",
   "execution_count": null,
   "metadata": {},
   "outputs": [],
   "source": [
    "df = i2kg_map.merge(e_map, how = 'outer' ,indicator=True).loc[lambda x : x['_merge']=='left_only'] \n",
    "\n",
    "df.describe()"
   ]
  },
  {
   "cell_type": "markdown",
   "metadata": {},
   "source": [
    "### 3.3.2. Variáveis numéricas"
   ]
  },
  {
   "cell_type": "markdown",
   "metadata": {},
   "source": [
    "### 3.3.3. Variáveis categóricas"
   ]
  },
  {
   "cell_type": "markdown",
   "metadata": {},
   "source": [
    "### 3.3.4. Cleanning data"
   ]
  },
  {
   "cell_type": "markdown",
   "metadata": {},
   "source": [
    "### 3.3.5. Data visualization"
   ]
  },
  {
   "cell_type": "markdown",
   "metadata": {
    "colab_type": "text",
    "id": "R4F7JWQ1BcEY"
   },
   "source": [
    "# Separando o conjunto de dados"
   ]
  },
  {
   "cell_type": "markdown",
   "metadata": {
    "colab_type": "text",
    "id": "jGNLaRDmQX1d"
   },
   "source": [
    "Estratificação dos ratings, pois é importante ter um número suficiente de instâncias para cada estrato no conjunto de dados (treino e testes), do contrário pode ser que os nossos dados fiquem enviasados."
   ]
  },
  {
   "cell_type": "code",
   "execution_count": null,
   "metadata": {
    "colab": {},
    "colab_type": "code",
    "id": "6m-V9cKC8MzN"
   },
   "outputs": [],
   "source": [
    "rating['rating'].hist()"
   ]
  },
  {
   "cell_type": "code",
   "execution_count": null,
   "metadata": {},
   "outputs": [],
   "source": [
    "train = pd.DataFrame()\n",
    "valid = pd.DataFrame()\n",
    "test = pd.DataFrame()\n",
    "\n",
    "all_users = rating['user_id'].unique()\n",
    "for u in all_users:\n",
    "    df = rating[rating['user_id'] == u]\n",
    "    u_train, u_valid, u_test = np.split(df.sample(frac=1), [int(.6*len(df)), int(.8*len(df))])\n",
    "    train = pd.concat([train, u_train], ignore_index=False)\n",
    "    valid = pd.concat([valid, u_valid], ignore_index=False)\n",
    "    test = pd.concat([test, u_test], ignore_index=False)\n",
    "print(str(len(train)/len(rating)) + ', ' + str(len(valid)/len(rating)) + ', ' + str(len(test)/len(rating)) )\n",
    "print(str(len(train['user_id'].unique())) + ', ' + str(len(valid['user_id'].unique())) + ', ' + str(len(test['user_id'].unique())) )"
   ]
  },
  {
   "cell_type": "code",
   "execution_count": 45,
   "metadata": {},
   "outputs": [
    {
     "data": {
      "text/html": [
       "<div>\n",
       "<style scoped>\n",
       "    .dataframe tbody tr th:only-of-type {\n",
       "        vertical-align: middle;\n",
       "    }\n",
       "\n",
       "    .dataframe tbody tr th {\n",
       "        vertical-align: top;\n",
       "    }\n",
       "\n",
       "    .dataframe thead th {\n",
       "        text-align: right;\n",
       "    }\n",
       "</style>\n",
       "<table border=\"1\" class=\"dataframe\">\n",
       "  <thead>\n",
       "    <tr style=\"text-align: right;\">\n",
       "      <th></th>\n",
       "      <th>user_id</th>\n",
       "      <th>movie_id</th>\n",
       "      <th>rating</th>\n",
       "      <th>timestamp</th>\n",
       "    </tr>\n",
       "  </thead>\n",
       "  <tbody>\n",
       "    <tr>\n",
       "      <th>count</th>\n",
       "      <td>99975.000000</td>\n",
       "      <td>99975.000000</td>\n",
       "      <td>99975.000000</td>\n",
       "      <td>9.997500e+04</td>\n",
       "    </tr>\n",
       "    <tr>\n",
       "      <th>mean</th>\n",
       "      <td>461.500885</td>\n",
       "      <td>423.741875</td>\n",
       "      <td>3.530033</td>\n",
       "      <td>8.835291e+08</td>\n",
       "    </tr>\n",
       "    <tr>\n",
       "      <th>std</th>\n",
       "      <td>266.621417</td>\n",
       "      <td>330.076182</td>\n",
       "      <td>1.125489</td>\n",
       "      <td>5.343565e+06</td>\n",
       "    </tr>\n",
       "    <tr>\n",
       "      <th>min</th>\n",
       "      <td>0.000000</td>\n",
       "      <td>0.000000</td>\n",
       "      <td>1.000000</td>\n",
       "      <td>8.747247e+08</td>\n",
       "    </tr>\n",
       "    <tr>\n",
       "      <th>25%</th>\n",
       "      <td>253.000000</td>\n",
       "      <td>174.000000</td>\n",
       "      <td>3.000000</td>\n",
       "      <td>8.794488e+08</td>\n",
       "    </tr>\n",
       "    <tr>\n",
       "      <th>50%</th>\n",
       "      <td>446.000000</td>\n",
       "      <td>320.000000</td>\n",
       "      <td>4.000000</td>\n",
       "      <td>8.828269e+08</td>\n",
       "    </tr>\n",
       "    <tr>\n",
       "      <th>75%</th>\n",
       "      <td>681.000000</td>\n",
       "      <td>629.000000</td>\n",
       "      <td>4.000000</td>\n",
       "      <td>8.882600e+08</td>\n",
       "    </tr>\n",
       "    <tr>\n",
       "      <th>max</th>\n",
       "      <td>942.000000</td>\n",
       "      <td>1674.000000</td>\n",
       "      <td>5.000000</td>\n",
       "      <td>8.932866e+08</td>\n",
       "    </tr>\n",
       "  </tbody>\n",
       "</table>\n",
       "</div>"
      ],
      "text/plain": [
       "            user_id      movie_id        rating     timestamp\n",
       "count  99975.000000  99975.000000  99975.000000  9.997500e+04\n",
       "mean     461.500885    423.741875      3.530033  8.835291e+08\n",
       "std      266.621417    330.076182      1.125489  5.343565e+06\n",
       "min        0.000000      0.000000      1.000000  8.747247e+08\n",
       "25%      253.000000    174.000000      3.000000  8.794488e+08\n",
       "50%      446.000000    320.000000      4.000000  8.828269e+08\n",
       "75%      681.000000    629.000000      4.000000  8.882600e+08\n",
       "max      942.000000   1674.000000      5.000000  8.932866e+08"
      ]
     },
     "execution_count": 45,
     "metadata": {},
     "output_type": "execute_result"
    }
   ],
   "source": [
    "def id_map(df, u_map_file, i_map_file):\n",
    "    array = df['user_id'].unique()\n",
    "    array.sort()\n",
    "    zipObj = zip(array, range(0, len(array))) \n",
    "    u_map = dict(zipObj)\n",
    "\n",
    "    array = df['movie_id'].unique()\n",
    "    array.sort()\n",
    "    zipObj = zip(array, range(0, len(array))) \n",
    "    i_map = dict(zipObj)\n",
    "\n",
    "    df['user_id'] = df['user_id'].replace(u_map)\n",
    "    df['movie_id'] = df['movie_id'].replace(i_map)\n",
    "    \n",
    "    with open(u_map_file, 'w') as fout:\n",
    "        for k,v in u_map.items():\n",
    "            fout.write(str(v)+\"\\t\"+str(v))\n",
    "    \n",
    "    with open(i_map_file, 'w') as fout:\n",
    "        for k,v in i_map.items():\n",
    "            fout.write(str(v)+\"\\t\"+str(v))"
   ]
  },
  {
   "cell_type": "code",
   "execution_count": null,
   "metadata": {},
   "outputs": [],
   "source": [
    "def cao_split(df, column='user_id', frac=[0.1,0.2]):\n",
    "    df_remain = df.copy()\n",
    "    size = len(df_remain)\n",
    "    g_size = len(df_remain[column].unique())\n",
    "    num_sets = len(frac)\n",
    "    \n",
    "    # init sets (train, valid, test, folds...)\n",
    "    sets = []\n",
    "    for i in range(num_sets):\n",
    "        sets.append(pd.DataFrame())\n",
    "\n",
    "    # select at least 1 item for each user\n",
    "    all_groups = df_remain[column].unique()\n",
    "    for g in all_groups:\n",
    "        g_df = df_remain[df_remain[column] == g]\n",
    "        samples = g_df.sample(n=len(frac))\n",
    "        for i in range(num_sets):\n",
    "            idx = samples.index[i]\n",
    "            sample = samples[i:i+1]\n",
    "            sets[i] = pd.concat([sets[i], sample], ignore_index=False)\n",
    "    \n",
    "    # drop selected rows\n",
    "    for i in range(num_sets):\n",
    "        print(sets[i])\n",
    "        df_remain = df_remain.drop(sets[i].index)\n",
    "\n",
    "    # sample remain by frac \n",
    "    for i in range(num_sets):\n",
    "        n = (np.ceil((frac[i]*size) - g_size)).astype(int)\n",
    "        samples = df_remain.sample(n)\n",
    "        sets[i] = pd.concat([sets[i], samples], ignore_index=False)\n",
    "        df_remain = df_remain.drop(samples.index)\n",
    "        \n",
    "    return df_remain, sets"
   ]
  },
  {
   "cell_type": "code",
   "execution_count": null,
   "metadata": {},
   "outputs": [],
   "source": [
    "train, sets = cao_split(rating)\n",
    "valid = sets[0]\n",
    "test = sets[1]\n",
    "print(str(len(train)/len(rating)) + ', ' + str(len(valid)/len(rating)) + ', ' + str(len(test)/len(rating)) )"
   ]
  },
  {
   "cell_type": "markdown",
   "metadata": {
    "colab_type": "text",
    "id": "vwYnXUa7TK0c"
   },
   "source": [
    "Pronto! Agora vamos fazer uma <font color='red'>amostragem estratificada</font> com base nas categorias da renda.  "
   ]
  },
  {
   "cell_type": "code",
   "execution_count": null,
   "metadata": {
    "colab": {},
    "colab_type": "code",
    "id": "przR0ZBZ8MzT"
   },
   "outputs": [],
   "source": [
    "from sklearn.model_selection import StratifiedShuffleSplit\n",
    "\n",
    "split = StratifiedShuffleSplit(n_splits=1, test_size=0.2, random_state=42)\n",
    "for train_index, test_index in split.split(housing, housing[\"income_cat\"]):\n",
    "    strat_train_set = housing.loc[train_index]\n",
    "    strat_test_set = housing.loc[test_index]"
   ]
  },
  {
   "cell_type": "markdown",
   "metadata": {
    "colab_type": "text",
    "id": "Vi9Gp_QbTwFi"
   },
   "source": [
    "Acabamos de criar novos conjuntos de treino e de teste, que chamamos de <font color='red'>strat_train_set </font> e <font color='blue'>strat_test_set</font>.\n",
    "\n",
    " Estes conjuntos devem respeitar a estratificação que introduzimos baseada em \"median_income\" representado na nova variável categórica \"income_cat\".\n",
    "\n",
    " Vejamos se funcionou:"
   ]
  },
  {
   "cell_type": "code",
   "execution_count": null,
   "metadata": {
    "colab": {},
    "colab_type": "code",
    "id": "LQb_sNWO8MzW"
   },
   "outputs": [],
   "source": [
    "strat_test_set[\"income_cat\"].value_counts() / len(strat_test_set) #Proporção de cada categoria em strat_test_set"
   ]
  },
  {
   "cell_type": "code",
   "execution_count": null,
   "metadata": {
    "colab": {},
    "colab_type": "code",
    "id": "t9att4KJX-91"
   },
   "outputs": [],
   "source": [
    "housing[\"income_cat\"].value_counts() / len(housing) #Proporção de cada categoria em housing"
   ]
  },
  {
   "cell_type": "markdown",
   "metadata": {
    "colab_type": "text",
    "id": "nHr7e4IUYc9K"
   },
   "source": [
    "Podemos agora comparar com a <font color='blue'> amostragem aleatória </font>:"
   ]
  },
  {
   "cell_type": "code",
   "execution_count": null,
   "metadata": {
    "colab": {},
    "colab_type": "code",
    "id": "kcQ8FM-u8Mzi"
   },
   "outputs": [],
   "source": [
    "#Função para calcular as proporções das categorias da característica \"income_cat\"\n",
    "def income_cat_proportions(data): \n",
    "    return data[\"income_cat\"].value_counts() / len(data)"
   ]
  },
  {
   "cell_type": "markdown",
   "metadata": {
    "colab_type": "text",
    "id": "yVQi0BkJZi6U"
   },
   "source": [
    "Agora vamos gerar novamente conjunto de teste e treino, mas usando amostragem aleatória."
   ]
  },
  {
   "cell_type": "code",
   "execution_count": null,
   "metadata": {
    "colab": {},
    "colab_type": "code",
    "id": "c0jyVWH8ZiBM"
   },
   "outputs": [],
   "source": [
    "train_set, test_set = train_test_split(housing, test_size=0.2, random_state=42)"
   ]
  },
  {
   "cell_type": "markdown",
   "metadata": {
    "colab_type": "text",
    "id": "AD0M3hAwZx87"
   },
   "source": [
    "Vamos criar o nosso novo dataframe e visualizar os resultados:"
   ]
  },
  {
   "cell_type": "code",
   "execution_count": null,
   "metadata": {
    "colab": {},
    "colab_type": "code",
    "id": "C-RIbMERZxOt"
   },
   "outputs": [],
   "source": [
    "compare_props = pd.DataFrame({\n",
    "    \"Geral\": income_cat_proportions(housing),\n",
    "    \"Estratificado\": income_cat_proportions(strat_test_set),\n",
    "    \"Aleatorio\": income_cat_proportions(test_set),\n",
    "}).sort_index()\n",
    "\n",
    "compare_props[\"Aleatório %erro\"] = 100 * compare_props[\"Aleatorio\"] / compare_props[\"Geral\"] - 100\n",
    "compare_props[\"Estratificado %erro\"] = 100 * compare_props[\"Estratificado\"] / compare_props[\"Geral\"] - 100\n",
    "\n",
    "compare_props"
   ]
  },
  {
   "cell_type": "markdown",
   "metadata": {
    "colab_type": "text",
    "id": "NFX8Ha0pao_z"
   },
   "source": [
    "Contentes com os resultados, não podemos esquecer de <font color='red'>remover</font> o atributo \"income_cat\" dos conjuntos strat_train_set e strat_test_set. Na verdade, ele era apenas um intermediário, afinal de contas as informações dessa caracaterísticas já estão presentes em \"median_income\"."
   ]
  },
  {
   "cell_type": "code",
   "execution_count": null,
   "metadata": {
    "colab": {},
    "colab_type": "code",
    "id": "MbPa45jL8Mzq"
   },
   "outputs": [],
   "source": [
    "for set_ in (strat_train_set, strat_test_set):\n",
    "    set_.drop(\"income_cat\", axis=1, inplace=True)"
   ]
  },
  {
   "cell_type": "markdown",
   "metadata": {
    "colab_type": "text",
    "id": "TYST0JOP8Mzu"
   },
   "source": [
    "# Visualização da estrutura de dados"
   ]
  },
  {
   "cell_type": "markdown",
   "metadata": {
    "colab_type": "text",
    "id": "Dws-HQeEc3h0"
   },
   "source": [
    "Vamos agora visualizar os nossos dados. Precisamos ter certeza que não vamos visualizar dados do conjunto de teste, para evitar enviesamento de conclusões."
   ]
  },
  {
   "cell_type": "code",
   "execution_count": null,
   "metadata": {
    "colab": {},
    "colab_type": "code",
    "id": "uGYSWxqk8Mzv"
   },
   "outputs": [],
   "source": [
    "housing = strat_train_set.copy() #Importante criar uma cópia! "
   ]
  },
  {
   "cell_type": "code",
   "execution_count": null,
   "metadata": {
    "colab": {},
    "colab_type": "code",
    "id": "U1YxuAEV8Mzz"
   },
   "outputs": [],
   "source": [
    "housing.plot(kind=\"scatter\", x=\"longitude\", y=\"latitude\")"
   ]
  },
  {
   "cell_type": "markdown",
   "metadata": {
    "colab_type": "text",
    "id": "WjTUHRQYdcME"
   },
   "source": [
    "Vamos melhorar a visualição usando o parâmetro <font color='red'>alpha</font>, observe:"
   ]
  },
  {
   "cell_type": "code",
   "execution_count": null,
   "metadata": {
    "colab": {},
    "colab_type": "code",
    "id": "I6pNMSKy8Mz4"
   },
   "outputs": [],
   "source": [
    "housing.plot(kind=\"scatter\", x=\"longitude\", y=\"latitude\", alpha=0.1)"
   ]
  },
  {
   "cell_type": "markdown",
   "metadata": {
    "colab_type": "text",
    "id": "dnWgQnQ2dxJ4"
   },
   "source": [
    "Interessante! Agora fica mais evidente a concentração dos agrupamentos!\n",
    "\n",
    "De qualquer forma devemos voltar a nossa atenção ao objetivo: <font color = 'red'> preços do setor imobioliário. </font> \n",
    "\n",
    "No código a seguir o parâmetro \"s\" significa \"size\", tamanho em inglês. Escolhendo \"s\" como sendo a característica população, quanto maior o disco representa uma população maior.\n",
    "\n",
    "O parâmetro \"c\" significa \"color\", ou cor. Esse é na verdade o que queremos saber!\n",
    "\n",
    "O paramêtro colorbar = True indica que queremos visualizar a barra lateral informando as intensidades da cor, ou seja, do parêmetro \"c\".\n",
    "\n"
   ]
  },
  {
   "cell_type": "code",
   "execution_count": null,
   "metadata": {
    "colab": {},
    "colab_type": "code",
    "id": "uo34qLzu8Mz8"
   },
   "outputs": [],
   "source": [
    "housing.plot(kind=\"scatter\", x=\"longitude\", y=\"latitude\", alpha=0.4,\n",
    "    s=housing[\"population\"]/100, label=\"population\", figsize=(10,7),\n",
    "    c=\"median_house_value\", cmap=plt.get_cmap(\"jet\"), colorbar=True,\n",
    "    sharex=False) #sharex=false é só pra corrigir um bug de display https://github.com/pandas-dev/pandas/issues/10611\n",
    "plt.legend()"
   ]
  },
  {
   "cell_type": "markdown",
   "metadata": {
    "colab_type": "text",
    "id": "gjuu3hmPmO3I"
   },
   "source": [
    "A visulização dos dados indicam que regiões litorâneas tendem a possuir um valor mais alto. Talevz a densidade populacional também possa ser algo relevante.\n",
    "\n",
    "Vamos então investigar essas hipóteses através da correleção estatística:"
   ]
  },
  {
   "cell_type": "code",
   "execution_count": null,
   "metadata": {
    "colab": {},
    "colab_type": "code",
    "id": "fWwTwI_D8M0E"
   },
   "outputs": [],
   "source": [
    "corr_matrix = housing.corr() #Matriz de correlações"
   ]
  },
  {
   "cell_type": "code",
   "execution_count": null,
   "metadata": {
    "colab": {},
    "colab_type": "code",
    "id": "R50hJi6Sm0Ix"
   },
   "outputs": [],
   "source": [
    "corr_matrix #vamos ver a estrutura"
   ]
  },
  {
   "cell_type": "code",
   "execution_count": null,
   "metadata": {
    "colab": {},
    "colab_type": "code",
    "id": "eN1XZaZk8M0H"
   },
   "outputs": [],
   "source": [
    "corr_matrix[\"median_house_value\"].sort_values(ascending=False) #Ordenar valores em sentido decrescente"
   ]
  },
  {
   "cell_type": "markdown",
   "metadata": {
    "colab_type": "text",
    "id": "0FDo4wlMqRlr"
   },
   "source": [
    "É conveniente usar o scatter_matrix do pandas. Essa função plota cada característica em relação a outra. No nosso exemplo, teríamos 121 possibilidades.\n",
    "\n",
    "Vamos aproveitar e ver alguns [conceitos básicos de estatística](http://geam.paginas.ufsc.br/files/2020/02/Estatistica_Basica.pdf).\n",
    "\n",
    "Mas claro que não faremos isso e vamos então selecionar algumas que parecem ser mais significativas:"
   ]
  },
  {
   "cell_type": "code",
   "execution_count": null,
   "metadata": {
    "colab": {},
    "colab_type": "code",
    "id": "3LpwQAvB8M0L"
   },
   "outputs": [],
   "source": [
    "from pandas.plotting import scatter_matrix\n",
    "\n",
    "attributes = [\"median_house_value\", \"median_income\", \"total_rooms\",\n",
    "              \"housing_median_age\"]\n",
    "scatter_matrix(housing[attributes], figsize=(12, 8))"
   ]
  },
  {
   "cell_type": "markdown",
   "metadata": {
    "colab_type": "text",
    "id": "t1Cug8hvrd6-"
   },
   "source": [
    "OBS: Na diagonal principal da plotagem anterior não temos atributo x atributo, mas sim o histograma da característica."
   ]
  },
  {
   "cell_type": "markdown",
   "metadata": {
    "colab_type": "text",
    "id": "HG0nvHx8r7Rs"
   },
   "source": [
    "Vimos antes, que a característica que tinha maior correleção com o valor mediano de casas em um bairro era o salário mediano. Então vamos plotar para estudar a relação entre ambos:"
   ]
  },
  {
   "cell_type": "code",
   "execution_count": null,
   "metadata": {
    "colab": {},
    "colab_type": "code",
    "id": "P7tUBQjz8M0R"
   },
   "outputs": [],
   "source": [
    "housing.plot(kind=\"scatter\", x=\"median_income\", y=\"median_house_value\",\n",
    "             alpha=0.1)\n",
    "plt.axis([0, 16, 0, 550000])"
   ]
  },
  {
   "cell_type": "markdown",
   "metadata": {
    "colab_type": "text",
    "id": "AV671R0AscxC"
   },
   "source": [
    "Informações desta plotagem: \n",
    "\n",
    "1) Correlação é forte;\n",
    "\n",
    "2) Há um valor limiar de 500.000 para os valores (medianos) das casas. Por quê?\n",
    "\n",
    "3) Há também outras linhas horizontais. Por que elas são importantes?\n",
    "\n",
    "Uma abordagem possível seria excluir os dados correspondentes a esses casos."
   ]
  },
  {
   "cell_type": "markdown",
   "metadata": {
    "colab_type": "text",
    "id": "QwKPm7WPtR5y"
   },
   "source": [
    "# Feature Engineering"
   ]
  },
  {
   "cell_type": "markdown",
   "metadata": {
    "colab_type": "text",
    "id": "kRpUMfun03Xe"
   },
   "source": [
    "Além das colunas que o conjunto de dados nos oferece, podemos tentar construir novas características <font color = \"red\">construídas de maneiras não linear</font> com as características existentes.\n",
    "\n",
    "De maneira geral, essa etapa requer conhecimento específico da área na qual se esta trabalhando. Daí a importância da presença de um especialista no assunto para auxiliar no projeto. \n",
    "\n",
    "A seguir, vamos construir algumas novas features que são mais ou menos lógicas."
   ]
  },
  {
   "cell_type": "code",
   "execution_count": null,
   "metadata": {
    "colab": {},
    "colab_type": "code",
    "id": "owOuJWl-8M0Y"
   },
   "outputs": [],
   "source": [
    "#Nova feature: Número de cômodos por familia (média)\n",
    "housing[\"rooms_per_household\"] = housing[\"total_rooms\"]/housing[\"households\"]\n",
    "\n",
    "#Nova feature: quartos/cômodos\n",
    "housing[\"bedrooms_per_room\"] = housing[\"total_bedrooms\"]/housing[\"total_rooms\"]\n",
    "\n",
    "#Nova feature: população/agregado familiar\n",
    "housing[\"population_per_household\"]=housing[\"population\"]/housing[\"households\"]"
   ]
  },
  {
   "cell_type": "markdown",
   "metadata": {
    "colab_type": "text",
    "id": "LPlzoY-D2Mo-"
   },
   "source": [
    "Vejamos agora a matriz de correlação de housing:"
   ]
  },
  {
   "cell_type": "code",
   "execution_count": null,
   "metadata": {
    "colab": {},
    "colab_type": "code",
    "id": "QIXxphSB8M0e"
   },
   "outputs": [],
   "source": [
    "corr_matrix = housing.corr()\n",
    "corr_matrix[\"median_house_value\"].sort_values(ascending=False)"
   ]
  },
  {
   "cell_type": "markdown",
   "metadata": {
    "colab_type": "text",
    "id": "z1bPs-YC3Q5-"
   },
   "source": [
    "Aparentemente, casas com uma baixa proporção de quartos para cômodas tendem a ser mais caras. O número de cômodos por família é muito mais informartivo que o número total de quartos em um quarteirão.\n",
    "\n",
    "Vejamos o gráfico:"
   ]
  },
  {
   "cell_type": "code",
   "execution_count": null,
   "metadata": {
    "colab": {},
    "colab_type": "code",
    "id": "mO40azQw8M0i"
   },
   "outputs": [],
   "source": [
    "housing.plot(kind=\"scatter\", x=\"rooms_per_household\", y=\"median_house_value\",\n",
    "             alpha=0.2)\n",
    "plt.axis([0, 5, 0, 520000])\n",
    "plt.show()"
   ]
  },
  {
   "cell_type": "markdown",
   "metadata": {
    "colab_type": "text",
    "id": "uVO_3R264SaH"
   },
   "source": [
    "Vamos ver novamente as medidas resumos considerando as novas features!"
   ]
  },
  {
   "cell_type": "code",
   "execution_count": null,
   "metadata": {
    "colab": {},
    "colab_type": "code",
    "id": "K-Je-Uao8M0n"
   },
   "outputs": [],
   "source": [
    "housing.describe()"
   ]
  },
  {
   "cell_type": "markdown",
   "metadata": {
    "colab_type": "text",
    "id": "4K22d5b-8M0q"
   },
   "source": [
    "# Preparar os dados para os algoritmos de Machine Learning"
   ]
  },
  {
   "cell_type": "markdown",
   "metadata": {
    "colab_type": "text",
    "id": "WXXVeIOY7dcH"
   },
   "source": [
    "Precisamos incialmente retirar os rótulos do conjunto <fon color='blue'> strat_train_set </font> (mais a frente ficará claro).\n",
    "\n",
    "Para isso, vamos usar o método drop:"
   ]
  },
  {
   "cell_type": "code",
   "execution_count": null,
   "metadata": {
    "colab": {},
    "colab_type": "code",
    "id": "K4f2vNh88M0r"
   },
   "outputs": [],
   "source": [
    "housing = strat_train_set.drop(\"median_house_value\", axis=1) # O método drop cria cópia sem a coluna em questao\n",
    "housing_labels = strat_train_set[\"median_house_value\"].copy() #salvando uma cópia"
   ]
  },
  {
   "cell_type": "markdown",
   "metadata": {
    "colab_type": "text",
    "id": "Dr8Yx1Gr8-D_"
   },
   "source": [
    "A partir de agora vamos partir para etapa de <font color='blue'>limpeza de dados!</font>\n",
    "\n",
    "Vamos começar verificandi se temos dados falantes:"
   ]
  },
  {
   "cell_type": "code",
   "execution_count": null,
   "metadata": {
    "colab": {},
    "colab_type": "code",
    "id": "OreIJJVV8M0v"
   },
   "outputs": [],
   "source": [
    "#housing.isnull().any(axis=1) verifica quais linhas possuem alguma célula null\n",
    "sample_incomplete_rows = housing[housing.isnull().any(axis=1)].head()\n",
    "sample_incomplete_rows"
   ]
  },
  {
   "cell_type": "markdown",
   "metadata": {
    "colab_type": "text",
    "id": "g93mvTOr94j-"
   },
   "source": [
    "Possuímos basicamente três abordagens possíveis para lidar com os dados faltantes:\n",
    "\n",
    "1. Excluir os quarteirões com dados faltantes;\n",
    "\n",
    "2. Excluir toda coluna de total_bedrooms, já que é o único atributo que apresenta dados faltantes;\n",
    "\n",
    "3. Definir algum valor para substituir total_bedrooms."
   ]
  },
  {
   "cell_type": "code",
   "execution_count": null,
   "metadata": {
    "colab": {},
    "colab_type": "code",
    "id": "am5Vp76w8M1A"
   },
   "outputs": [],
   "source": [
    "sample_incomplete_rows.dropna(subset=[\"total_bedrooms\"])    # opção 1"
   ]
  },
  {
   "cell_type": "code",
   "execution_count": null,
   "metadata": {
    "colab": {},
    "colab_type": "code",
    "id": "Zcb4CVvy8M1D"
   },
   "outputs": [],
   "source": [
    "sample_incomplete_rows.drop(\"total_bedrooms\", axis=1)       # opção 2"
   ]
  },
  {
   "cell_type": "markdown",
   "metadata": {
    "colab_type": "text",
    "id": "kwK8qP9v-3ua"
   },
   "source": [
    "Opção 3: preenchendo com algum valor - nesse caso, usaremos a mediana."
   ]
  },
  {
   "cell_type": "code",
   "execution_count": null,
   "metadata": {
    "colab": {},
    "colab_type": "code",
    "id": "qPjSOVok8M1H"
   },
   "outputs": [],
   "source": [
    "median = housing[\"total_bedrooms\"].median()\n",
    "sample_incomplete_rows[\"total_bedrooms\"].fillna(median, inplace=True) # opção 3\n",
    "sample_incomplete_rows"
   ]
  },
  {
   "cell_type": "markdown",
   "metadata": {
    "colab_type": "text",
    "id": "D7E8-2jaBMyu"
   },
   "source": [
    "Se escolhermos a opção 3, devemos calular a mediana (ou qualquer outra medida que seja justificável) no <font color=\"red\">conjunto de treinamento</font> e usá-lo para preencher os valores faltantes neste, mas precisamos <font color=\"blue\">salvar</font> esse valor cálculado.\n",
    "\n",
    "Você precisar desse valor para mais tarde aplicar no conjunto de teste, que deverá ter seus dados faltantes corrigidos seguindo o mesmo parâmetro do conjunto de treino."
   ]
  },
  {
   "cell_type": "markdown",
   "metadata": {
    "colab_type": "text",
    "id": "Xpne_3kJBInq"
   },
   "source": [
    "**AVISO**: No Scikit-Learn 0.20, a classe `sklearn.preprocessing.Imputer` \n",
    "foi substituida pela classe `sklearn.impute.SimpleImputer`. Então, é conviniente verificar qual versão o computador em questão está usando:"
   ]
  },
  {
   "cell_type": "code",
   "execution_count": null,
   "metadata": {
    "colab": {},
    "colab_type": "code",
    "id": "3Dy5nsFz8M1M"
   },
   "outputs": [],
   "source": [
    "try:\n",
    "    from sklearn.impute import SimpleImputer # Scikit-Learn 0.20+\n",
    "    print(\"Scikit-Learn 0.20+\")\n",
    "except ImportError:\n",
    "    from sklearn.preprocessing import Imputer as SimpleImputer\n",
    "    print(\"Scikit-Learn antes do 0.20\")\n",
    "\n",
    "imputer = SimpleImputer(strategy=\"median\")"
   ]
  },
  {
   "cell_type": "markdown",
   "metadata": {
    "colab_type": "text",
    "id": "y0iuZ4GFC2Wk"
   },
   "source": [
    "Vamos novamente revisar o nosso dataset..."
   ]
  },
  {
   "cell_type": "code",
   "execution_count": null,
   "metadata": {
    "colab": {},
    "colab_type": "code",
    "id": "bC1UXCMtC7Dr"
   },
   "outputs": [],
   "source": [
    "housing"
   ]
  },
  {
   "cell_type": "markdown",
   "metadata": {
    "colab_type": "text",
    "id": "_R3RrWmp8M1O"
   },
   "source": [
    "Ainda temos a última coluna que não é numérica! \n",
    "\n",
    "A princípios, grande parte dos algoritmos de machine learning no computador preferem os dados representados numericamente!"
   ]
  },
  {
   "cell_type": "code",
   "execution_count": null,
   "metadata": {
    "colab": {},
    "colab_type": "code",
    "id": "BtSZSuXK8M1P"
   },
   "outputs": [],
   "source": [
    "housing_num = housing.drop('ocean_proximity', axis=1)\n",
    "# Derrubando a coluna \"ocean_proximity\"\n",
    "# alternativa: housing_num = housing.select_dtypes(include=[np.number])"
   ]
  },
  {
   "cell_type": "markdown",
   "metadata": {
    "colab_type": "text",
    "id": "-oJNfnSNDrea"
   },
   "source": [
    "Agora vamos ajudar o nosso objeto imputer com o nossos dados:"
   ]
  },
  {
   "cell_type": "code",
   "execution_count": null,
   "metadata": {
    "colab": {},
    "colab_type": "code",
    "id": "DEXT2hQr8M1S"
   },
   "outputs": [],
   "source": [
    "imputer.fit(housing_num) "
   ]
  },
  {
   "cell_type": "markdown",
   "metadata": {
    "colab_type": "text",
    "id": "VJ5SdBuUD27i"
   },
   "source": [
    "Aqui, o imputer simplesmente calculou a mediana no conjunto de dados.\n",
    "\n",
    "Vejamos algumas informações sobre o nosso objeto imputer:"
   ]
  },
  {
   "cell_type": "code",
   "execution_count": null,
   "metadata": {
    "colab": {},
    "colab_type": "code",
    "id": "sP3wAcyX8M1W"
   },
   "outputs": [],
   "source": [
    "imputer.statistics_"
   ]
  },
  {
   "cell_type": "markdown",
   "metadata": {
    "colab_type": "text",
    "id": "0o1__l6p8M1a"
   },
   "source": [
    "Vamos verificar que isto é, na verdade, a mesma coisa que calcular manualmente a mediana de cada atributo:"
   ]
  },
  {
   "cell_type": "code",
   "execution_count": null,
   "metadata": {
    "colab": {},
    "colab_type": "code",
    "id": "27Qi1YJc8M1c"
   },
   "outputs": [],
   "source": [
    "housing_num.median().values"
   ]
  },
  {
   "cell_type": "markdown",
   "metadata": {
    "colab_type": "text",
    "id": "m8fmJCklEhzx"
   },
   "source": [
    "Mas não seria apenas o atributo \"total_bedrooms\" que estava com valores faltantes? \n",
    "\n",
    "Vamos precisar de todas as informações do imputer? Isto é, vamos precisar da mediana de todas as variáveis?\n",
    "\n",
    "<font color='red'> Não podemos, a princípio, afirmar que o mesmo padrão vai ser repetir na generalização do modelo! </font>\n",
    "\n",
    "Certo, mas e se dermos uma espiadinha no conjunto de testes?\n",
    "\n",
    "Não devemos fazer isso por vários motivos. \n",
    "\n",
    "1. Corremos o risco de colocar vieses no nosso modelo (assumir que apenas \"total_bedrooms\" terá colunas com dados faltantes em todos os cenários possíveis é um deles;\n",
    "\n",
    "2. Devemos ter sempre em mente que o conjunto de teste é no fundo uma simulação para testarmos o poder de generalização do algoritmo - devemos fazer todas as nossas análises e otimizações somente no conjunto de treinamento e então aplicar o modelo final uma única vez no conjunto de teste!\n",
    "\n"
   ]
  },
  {
   "cell_type": "markdown",
   "metadata": {
    "colab_type": "text",
    "id": "df5gUu6H8M1j"
   },
   "source": [
    "Vamos agora finalmente <font color = 'blue'> transformar </font> o nosso conjunto de dados, aplicando, efetivamente, o valor calculado da mediana nos dados faltantes:"
   ]
  },
  {
   "cell_type": "code",
   "execution_count": null,
   "metadata": {
    "colab": {},
    "colab_type": "code",
    "id": "zeMG56He8M1k"
   },
   "outputs": [],
   "source": [
    "X = imputer.transform(housing_num) #numpy array"
   ]
  },
  {
   "cell_type": "markdown",
   "metadata": {
    "colab_type": "text",
    "id": "CWZP3rviHVT3"
   },
   "source": [
    "Vamos visualizar o conjunto X"
   ]
  },
  {
   "cell_type": "code",
   "execution_count": null,
   "metadata": {
    "colab": {},
    "colab_type": "code",
    "id": "OzhW6FTsHYCA"
   },
   "outputs": [],
   "source": [
    "X"
   ]
  },
  {
   "cell_type": "markdown",
   "metadata": {
    "colab_type": "text",
    "id": "uM-cJ1LiHaS2"
   },
   "source": [
    "Se você se sentir mais confortável, pode transformar o conjunto X em um dataframe:"
   ]
  },
  {
   "cell_type": "code",
   "execution_count": null,
   "metadata": {
    "colab": {},
    "colab_type": "code",
    "id": "l9CX4hOO8M1n"
   },
   "outputs": [],
   "source": [
    "housing_tr = pd.DataFrame(X, columns=housing_num.columns, #importante informar nome das colunas\n",
    "                          index=housing.index) #DataFrame Pandas"
   ]
  },
  {
   "cell_type": "markdown",
   "metadata": {
    "colab_type": "text",
    "id": "o9szVFMcHhQa"
   },
   "source": [
    "Vejamos como é este dataframe:"
   ]
  },
  {
   "cell_type": "code",
   "execution_count": null,
   "metadata": {
    "colab": {},
    "colab_type": "code",
    "id": "5mYCY8ltHlcD"
   },
   "outputs": [],
   "source": [
    "housing_tr.head()"
   ]
  },
  {
   "cell_type": "markdown",
   "metadata": {
    "colab_type": "text",
    "id": "UZ_0PzGe8M1y"
   },
   "source": [
    "Agora devemos tratar a variável categórica`ocean_proximity'!\n",
    "\n",
    "Lembre que esta é uma variável muito importante no nosso problema: ela demonstrava uma boa correlação com o preço mediano das casas.\n",
    "\n",
    "Vamos novamente visualizar os dados para relembrar:"
   ]
  },
  {
   "cell_type": "code",
   "execution_count": null,
   "metadata": {
    "colab": {},
    "colab_type": "code",
    "id": "0zZc51Ro8M1z"
   },
   "outputs": [],
   "source": [
    "housing_cat = housing[['ocean_proximity']]\n",
    "housing_cat.head(10)"
   ]
  },
  {
   "cell_type": "markdown",
   "metadata": {
    "colab_type": "text",
    "id": "PHlDGSPp9drc"
   },
   "source": [
    "Agora vamos usar um processo chamado de codificação. Vamos transformar as nossas variáveis categóricas em números!"
   ]
  },
  {
   "cell_type": "markdown",
   "metadata": {
    "colab_type": "text",
    "id": "pBeHjNq58M12"
   },
   "source": [
    "**OBS**: O código a seguir é apenas devido a atualização da classe OriginalEnconder()"
   ]
  },
  {
   "cell_type": "code",
   "execution_count": null,
   "metadata": {
    "colab": {},
    "colab_type": "code",
    "id": "fCgAnVEN8M13"
   },
   "outputs": [],
   "source": [
    "try:\n",
    "    from sklearn.preprocessing import OrdinalEncoder\n",
    "    print(\"Scikit-Learn >= 2.0\")\n",
    "except ImportError:\n",
    "    from future_encoders import OrdinalEncoder # Scikit-Learn < 0.20\n",
    "    print(\"O teu Scikit-Learn tá antiguinho mô quirido\")"
   ]
  },
  {
   "cell_type": "markdown",
   "metadata": {
    "colab_type": "text",
    "id": "0jTIHNpV-YC0"
   },
   "source": [
    "Na função a seguir, precisamos instanciar um objeto ordinal_encoder. \n",
    "\n",
    "Depois, usamos fit_transform para executa duas operações:\n",
    "\n",
    "1. Método fit irá ajustar os parâmetros (mapeamento, por exemplo, quais são as variáveis categóricas); \n",
    "\n",
    "2. Método transform irá transformar os dados;\n",
    "\n",
    "3. fit_transform(dados) irá ajustar parâmetros e transformar os dados.\n"
   ]
  },
  {
   "cell_type": "code",
   "execution_count": null,
   "metadata": {
    "colab": {},
    "colab_type": "code",
    "id": "X6IUvOsv8M15"
   },
   "outputs": [],
   "source": [
    "ordinal_encoder = OrdinalEncoder()\n",
    "housing_cat_encoded = ordinal_encoder.fit_transform(housing_cat)"
   ]
  },
  {
   "cell_type": "markdown",
   "metadata": {
    "colab_type": "text",
    "id": "aAELI6TN_JMO"
   },
   "source": [
    "Uma alternativa mais prolixa teria sido escrever:\n",
    "\n",
    "original_encoder.fit(housing_cat)\n",
    "\n",
    "housing_cat_encoded = original_enconder.fit(housing_cat)\n"
   ]
  },
  {
   "cell_type": "markdown",
   "metadata": {
    "colab_type": "text",
    "id": "35TkntyX_JgN"
   },
   "source": [
    "Vejamos que tipo de objeto é housing_cat_encoded:"
   ]
  },
  {
   "cell_type": "code",
   "execution_count": null,
   "metadata": {
    "colab": {},
    "colab_type": "code",
    "id": "QaHZCal8CNLd"
   },
   "outputs": [],
   "source": [
    "type(housing_cat_encoded)"
   ]
  },
  {
   "cell_type": "markdown",
   "metadata": {
    "colab_type": "text",
    "id": "5GhaDm9TCQUd"
   },
   "source": [
    "Vamos ver agora os 10 primeiros valores desse numpy array:"
   ]
  },
  {
   "cell_type": "code",
   "execution_count": null,
   "metadata": {
    "colab": {},
    "colab_type": "code",
    "id": "sZwZlPvV_J-B"
   },
   "outputs": [],
   "source": [
    "housing_cat_encoded[:10]"
   ]
  },
  {
   "cell_type": "markdown",
   "metadata": {
    "colab_type": "text",
    "id": "71JIk01_CaPi"
   },
   "source": [
    "Vamos relembrar também as categorias do nosso problema:"
   ]
  },
  {
   "cell_type": "code",
   "execution_count": null,
   "metadata": {
    "colab": {},
    "colab_type": "code",
    "id": "QGFUci_p8M18"
   },
   "outputs": [],
   "source": [
    "ordinal_encoder.categories_"
   ]
  },
  {
   "cell_type": "markdown",
   "metadata": {
    "colab_type": "text",
    "id": "N1uKeQbJ_IDx"
   },
   "source": [
    "Veja! \n",
    "\n",
    "O objeto ordinal_encoder foi construiído assim:\n",
    "\n",
    "ordinal_encoder = OrdinalEncoder() \n",
    "\n",
    "e depois fizemos o seguinte:\n",
    "\n",
    "housing_cat_encoded = ordinal_encoder.fit_transform(housing_cat)\n",
    "\n",
    "<font color = \"red\">Aqui não apenas definimos quem é \"housing_cat_encoded\" como também inserimos informações no objeto ordinal_encoder! </font>"
   ]
  },
  {
   "cell_type": "markdown",
   "metadata": {
    "colab_type": "text",
    "id": "xMDgx9IXDQp4"
   },
   "source": [
    "Apesar dos nossos esforços, temos um grave problema na nossa codificação, veja novamente: "
   ]
  },
  {
   "cell_type": "code",
   "execution_count": null,
   "metadata": {
    "colab": {},
    "colab_type": "code",
    "id": "ej67X1XiGuVB"
   },
   "outputs": [],
   "source": [
    "housing_cat_encoded[:10]"
   ]
  },
  {
   "cell_type": "code",
   "execution_count": null,
   "metadata": {
    "colab": {},
    "colab_type": "code",
    "id": "3d9Wk1zfDYLy"
   },
   "outputs": [],
   "source": [
    "housing_cat[:10]"
   ]
  },
  {
   "cell_type": "markdown",
   "metadata": {
    "colab_type": "text",
    "id": "IxpbZPyhDaFA"
   },
   "source": [
    "Cada variável categórica foi transformada em número!\n",
    "\n",
    "Mas será que a princípio, podemos comparar uma variável categórica com outra?\n",
    "\n",
    "Quem é maior: NEAR OCEAN ou NEAR BAY? \n",
    "\n",
    "Bem, é difícil responder. Mas é isso que a nossa codificação implicítacamente está fazendo ao colocar os valores 0,1,2,3 ou 4 para cada variável categórica. \n",
    "\n",
    "<font color=\"red\"> Para lidar com essa situação precisamos então de outra abordagem!</font>"
   ]
  },
  {
   "cell_type": "code",
   "execution_count": null,
   "metadata": {
    "colab": {},
    "colab_type": "code",
    "id": "YRx3EyM_8M2A"
   },
   "outputs": [],
   "source": [
    "try:\n",
    "    from sklearn.preprocessing import OrdinalEncoder # gera um ImportError se Scikit-Learn < 0.20\n",
    "    from sklearn.preprocessing import OneHotEncoder\n",
    "except ImportError:\n",
    "    from future_encoders import OneHotEncoder # Scikit-Learn < 0.20\n",
    "\n",
    "cat_encoder = OneHotEncoder()\n",
    "housing_cat_1hot = cat_encoder.fit_transform(housing_cat)\n",
    "housing_cat_1hot"
   ]
  },
  {
   "cell_type": "markdown",
   "metadata": {
    "colab_type": "text",
    "id": "NZmFwJfi8M2D"
   },
   "source": [
    "By default, the `OneHotEncoder` class returns a sparse array, but we can convert it to a dense array if needed by calling the `toarray()` method:"
   ]
  },
  {
   "cell_type": "markdown",
   "metadata": {
    "colab_type": "text",
    "id": "oxZNJ3vdLhsy"
   },
   "source": [
    "Epa! Agora temos uma matriz SciPy ao invés de um Numpy array! \n",
    "\n",
    "<font color = \"red\">Por que será?</font>"
   ]
  },
  {
   "cell_type": "code",
   "execution_count": null,
   "metadata": {
    "colab": {},
    "colab_type": "code",
    "id": "xj9Ui84j8M2F"
   },
   "outputs": [],
   "source": [
    "housing_cat_1hot.toarray()"
   ]
  },
  {
   "cell_type": "markdown",
   "metadata": {
    "colab_type": "text",
    "id": "bZrxw1P7LuGS"
   },
   "source": [
    "Temos agora uma matriz esparsa! (mais econômica computacionalmente)"
   ]
  },
  {
   "cell_type": "markdown",
   "metadata": {
    "colab_type": "text",
    "id": "a7Awc-A88M2H"
   },
   "source": [
    "Alternativamente, podemos colocar `sparse=False` ao criar o objeto `OneHotEncoder`:"
   ]
  },
  {
   "cell_type": "code",
   "execution_count": null,
   "metadata": {
    "colab": {},
    "colab_type": "code",
    "id": "gBpRUzXa8M2K"
   },
   "outputs": [],
   "source": [
    "cat_encoder = OneHotEncoder(sparse=False)\n",
    "housing_cat_1hot = cat_encoder.fit_transform(housing_cat)\n",
    "housing_cat_1hot"
   ]
  },
  {
   "cell_type": "code",
   "execution_count": null,
   "metadata": {
    "colab": {},
    "colab_type": "code",
    "id": "ffDhyjCS8M2Q"
   },
   "outputs": [],
   "source": [
    "cat_encoder.categories_"
   ]
  },
  {
   "cell_type": "markdown",
   "metadata": {
    "colab_type": "text",
    "id": "oBb4phIC8M2S"
   },
   "source": [
    "Let's create a custom transformer to add extra attributes:\n",
    "\n",
    "Vamos criar um transformador customizado para adicionar atributos extras \n",
    "\n",
    "**OBS**: aqui vamos simplesmente criar um código para o processo manual feito na etapa de Feature Engineering. Vai nos ajudar a criar um pipeline mais a frente."
   ]
  },
  {
   "cell_type": "code",
   "execution_count": null,
   "metadata": {
    "colab": {},
    "colab_type": "code",
    "id": "Elcx_lHE8M2T"
   },
   "outputs": [],
   "source": [
    "housing.columns"
   ]
  },
  {
   "cell_type": "code",
   "execution_count": null,
   "metadata": {
    "colab": {},
    "colab_type": "code",
    "id": "NGcMGFu38M2X"
   },
   "outputs": [],
   "source": [
    "from sklearn.base import BaseEstimator, TransformerMixin\n",
    "\n",
    "# Buscando os indices corretos das colunas: \n",
    "# Mais seeguro que ficar digitando 3, 4, 5, 6..\n",
    "rooms_ix, bedrooms_ix, population_ix, household_ix = [\n",
    "    list(housing.columns).index(col)\n",
    "    for col in (\"total_rooms\", \"total_bedrooms\", \"population\", \"households\")]\n",
    "\n",
    "class CombinedAttributesAdder(BaseEstimator, TransformerMixin):\n",
    "    def __init__(self, add_bedrooms_per_room = True): # no *args or **kwargs\n",
    "        self.add_bedrooms_per_room = add_bedrooms_per_room\n",
    "    def fit(self, X, y=None):\n",
    "        return self  # Nada a fazer!\n",
    "    def transform(self, X, y=None):\n",
    "        rooms_per_household = X[:, rooms_ix] / X[:, household_ix]\n",
    "        population_per_household = X[:, population_ix] / X[:, household_ix]\n",
    "        if self.add_bedrooms_per_room:\n",
    "            bedrooms_per_room = X[:, bedrooms_ix] / X[:, rooms_ix]\n",
    "            return np.c_[X, rooms_per_household, population_per_household,\n",
    "                         bedrooms_per_room]\n",
    "        else:\n",
    "            return np.c_[X, rooms_per_household, population_per_household]\n",
    "\n",
    "attr_adder = CombinedAttributesAdder(add_bedrooms_per_room=False)\n",
    "housing_extra_attribs = attr_adder.transform(housing.values)"
   ]
  },
  {
   "cell_type": "markdown",
   "metadata": {
    "colab_type": "text",
    "id": "k9EO6KsJ8M2a"
   },
   "source": [
    "Alternativamente, você pode usar a função da classe `FunctionTransformer` que permite você criar rapidamente um transformador baseado em uma função de transformação! "
   ]
  },
  {
   "cell_type": "code",
   "execution_count": null,
   "metadata": {
    "colab": {},
    "colab_type": "code",
    "id": "4rpc96Bz8M2b"
   },
   "outputs": [],
   "source": [
    "from sklearn.preprocessing import FunctionTransformer\n",
    "\n",
    "def add_extra_features(X, add_bedrooms_per_room=True):\n",
    "    rooms_per_household = X[:, rooms_ix] / X[:, household_ix]\n",
    "    population_per_household = X[:, population_ix] / X[:, household_ix]\n",
    "    if add_bedrooms_per_room:\n",
    "        bedrooms_per_room = X[:, bedrooms_ix] / X[:, rooms_ix]\n",
    "        return np.c_[X, rooms_per_household, population_per_household,\n",
    "                     bedrooms_per_room]\n",
    "    else:\n",
    "        return np.c_[X, rooms_per_household, population_per_household]\n",
    "\n",
    "attr_adder = FunctionTransformer(add_extra_features, validate=False,\n",
    "                                 kw_args={\"add_bedrooms_per_room\": False})\n",
    "\n",
    "housing_extra_attribs = attr_adder.fit_transform(housing.values)\n",
    "\n",
    "#Vale a pena colocar validate=False já queos dados não possuem valores não-float\n",
    "#validate=false é valor padrão a partir do Scikit-Learn 0.22."
   ]
  },
  {
   "cell_type": "code",
   "execution_count": null,
   "metadata": {
    "colab": {},
    "colab_type": "code",
    "id": "i7Kxr65r8M2d"
   },
   "outputs": [],
   "source": [
    "housing_extra_attribs = pd.DataFrame(\n",
    "    housing_extra_attribs,\n",
    "    columns=list(housing.columns)+[\"rooms_per_household\", \"population_per_household\"],\n",
    "    index=housing.index)\n",
    "housing_extra_attribs.head()"
   ]
  },
  {
   "cell_type": "markdown",
   "metadata": {
    "colab_type": "text",
    "id": "HQWec1HG8M2k"
   },
   "source": [
    "Agora vamos construir um \"pipeline\" (tradução literal: gasoduto) para pré-processar os atributos numéricos - obser que poderíamos usar <font color = 'blue'> CombinedAttributesAdder()</font>\n",
    "ao invés do <font color = 'blue'> FunctionTransformer(...) </font>, se quiséssemos:"
   ]
  },
  {
   "cell_type": "code",
   "execution_count": null,
   "metadata": {
    "colab": {},
    "colab_type": "code",
    "id": "HQXJZ_Sj8M2l"
   },
   "outputs": [],
   "source": [
    "from sklearn.pipeline import Pipeline\n",
    "from sklearn.preprocessing import StandardScaler \n",
    "#StandardScaler serve para fazer a reescalar das variáveis\n",
    "\n",
    "num_pipeline = Pipeline([\n",
    "        ('imputer', SimpleImputer(strategy=\"median\")),\n",
    "        ('attribs_adder', FunctionTransformer(add_extra_features, validate=False)),\n",
    "        ('std_scaler', StandardScaler()),\n",
    "    ])\n",
    "\n",
    "housing_num_tr = num_pipeline.fit_transform(housing_num)"
   ]
  },
  {
   "cell_type": "code",
   "execution_count": null,
   "metadata": {
    "colab": {},
    "colab_type": "code",
    "id": "qdcLN1nQ8M2p"
   },
   "outputs": [],
   "source": [
    "housing_num_tr"
   ]
  },
  {
   "cell_type": "code",
   "execution_count": null,
   "metadata": {
    "colab": {},
    "colab_type": "code",
    "id": "gqJnKiKU8M2s"
   },
   "outputs": [],
   "source": [
    "try:\n",
    "    from sklearn.compose import ColumnTransformer\n",
    "except ImportError:\n",
    "    from future_encoders import ColumnTransformer # Scikit-Learn < 0.20"
   ]
  },
  {
   "cell_type": "code",
   "execution_count": null,
   "metadata": {
    "colab": {},
    "colab_type": "code",
    "id": "jeuhO_C28M2v"
   },
   "outputs": [],
   "source": [
    "num_attribs = list(housing_num)\n",
    "cat_attribs = [\"ocean_proximity\"]\n",
    "\n",
    "full_pipeline = ColumnTransformer([\n",
    "        (\"num\", num_pipeline, num_attribs),\n",
    "        (\"cat\", OneHotEncoder(), cat_attribs),\n",
    "    ])\n",
    "\n",
    "housing_prepared = full_pipeline.fit_transform(housing)"
   ]
  },
  {
   "cell_type": "code",
   "execution_count": null,
   "metadata": {
    "colab": {},
    "colab_type": "code",
    "id": "YeMjEuO68M2x"
   },
   "outputs": [],
   "source": [
    "housing_prepared"
   ]
  },
  {
   "cell_type": "code",
   "execution_count": null,
   "metadata": {
    "colab": {},
    "colab_type": "code",
    "id": "gdZ_g_4F8M22"
   },
   "outputs": [],
   "source": [
    "housing_prepared.shape"
   ]
  },
  {
   "cell_type": "markdown",
   "metadata": {
    "colab_type": "text",
    "id": "sVtZVgtylH3S"
   },
   "source": [
    "Agora finalmente temos os nossos dados pré-processados! "
   ]
  },
  {
   "cell_type": "markdown",
   "metadata": {
    "colab_type": "text",
    "id": "hEd0_zms8M3Q"
   },
   "source": [
    "# Selecionar e treinar um modelo"
   ]
  },
  {
   "cell_type": "markdown",
   "metadata": {
    "colab_type": "text",
    "id": "JNSjYgRslYpQ"
   },
   "source": [
    "Vamos começar com um modelo siples: Regressão Linear!"
   ]
  },
  {
   "cell_type": "code",
   "execution_count": null,
   "metadata": {
    "colab": {},
    "colab_type": "code",
    "id": "Tlfuq_N_8M3Q"
   },
   "outputs": [],
   "source": [
    "from sklearn.linear_model import LinearRegression\n",
    "\n",
    "lin_reg = LinearRegression()\n",
    "lin_reg.fit(housing_prepared, housing_labels) \n",
    "#Ei Regressão linear, encontre os parâmetros que melhor aproxima os dados"
   ]
  },
  {
   "cell_type": "markdown",
   "metadata": {
    "colab_type": "text",
    "id": "1jftWY8qlw0V"
   },
   "source": [
    "Vamos agora testar o nosso pipeline de pré-processamento em algumas instâncias de treino."
   ]
  },
  {
   "cell_type": "code",
   "execution_count": null,
   "metadata": {
    "colab": {},
    "colab_type": "code",
    "id": "LeIBOXrc8M3T"
   },
   "outputs": [],
   "source": [
    "some_data = housing.iloc[:5]\n",
    "some_labels = housing_labels.iloc[:5]\n",
    "some_data_prepared = full_pipeline.transform(some_data) \n",
    "\n",
    "print(\"Predictions:\", lin_reg.predict(some_data_prepared))"
   ]
  },
  {
   "cell_type": "markdown",
   "metadata": {
    "colab_type": "text",
    "id": "2ee13jK88M3W"
   },
   "source": [
    "Vamos comparar agora com os valores reais:\n"
   ]
  },
  {
   "cell_type": "code",
   "execution_count": null,
   "metadata": {
    "colab": {},
    "colab_type": "code",
    "id": "cKuAW3cF8M3W"
   },
   "outputs": [],
   "source": [
    "print(\"Labels:\", list(some_labels))"
   ]
  },
  {
   "cell_type": "code",
   "execution_count": null,
   "metadata": {
    "colab": {},
    "colab_type": "code",
    "id": "TTiJNHzc8M3Z"
   },
   "outputs": [],
   "source": [
    "some_data_prepared"
   ]
  },
  {
   "cell_type": "markdown",
   "metadata": {
    "colab_type": "text",
    "id": "NFbq4GnVmDQe"
   },
   "source": [
    "Agora vamos usar as métricas que aprendemos anteriormente!"
   ]
  },
  {
   "cell_type": "code",
   "execution_count": null,
   "metadata": {
    "colab": {},
    "colab_type": "code",
    "id": "uM8zYtAz8M3c"
   },
   "outputs": [],
   "source": [
    "from sklearn.metrics import mean_squared_error as MSE\n",
    "\n",
    "housing_predictions = lin_reg.predict(housing_prepared)\n",
    "lin_mse = MSE(housing_labels, housing_predictions)\n",
    "lin_rmse = np.sqrt(lin_mse) #Não é necessariamente obrigatório\n",
    "lin_rmse"
   ]
  },
  {
   "cell_type": "code",
   "execution_count": null,
   "metadata": {
    "colab": {},
    "colab_type": "code",
    "id": "fVUWg9TX8M3e"
   },
   "outputs": [],
   "source": [
    "from sklearn.metrics import mean_absolute_error as MAE\n",
    "\n",
    "lin_mae = MAE(housing_labels, housing_predictions)\n",
    "lin_mae"
   ]
  },
  {
   "cell_type": "markdown",
   "metadata": {
    "colab_type": "text",
    "id": "krWmzYCImYl3"
   },
   "source": [
    "Essse modelo ainda não parece ser adequado!"
   ]
  },
  {
   "cell_type": "code",
   "execution_count": null,
   "metadata": {
    "colab": {},
    "colab_type": "code",
    "id": "j22oB0-98M3t"
   },
   "outputs": [],
   "source": [
    "from sklearn.tree import DecisionTreeRegressor\n",
    "\n",
    "tree_reg = DecisionTreeRegressor(random_state=42)\n",
    "tree_reg.fit(housing_prepared, housing_labels)"
   ]
  },
  {
   "cell_type": "code",
   "execution_count": null,
   "metadata": {
    "colab": {},
    "colab_type": "code",
    "id": "SJlEkoBQ8M3v"
   },
   "outputs": [],
   "source": [
    "housing_predictions = tree_reg.predict(housing_prepared)\n",
    "tree_mse = MSE(housing_labels, housing_predictions)\n",
    "tree_rmse = np.sqrt(tree_mse)\n",
    "tree_rmse"
   ]
  },
  {
   "cell_type": "markdown",
   "metadata": {
    "colab_type": "text",
    "id": "PLYetxKwmxhs"
   },
   "source": [
    "O quê? Erro zero?"
   ]
  },
  {
   "cell_type": "markdown",
   "metadata": {
    "colab_type": "text",
    "id": "f3xjl8BZonWR"
   },
   "source": [
    "#Vamos continuar na próxima aula a calibrar esse modelo!"
   ]
  }
 ],
 "metadata": {
  "colab": {
   "collapsed_sections": [
    "6T9pPKu28Mwe",
    "UBjzryXYKMb5",
    "HMaugIFD5xmR",
    "QwKPm7WPtR5y",
    "4K22d5b-8M0q",
    "hEd0_zms8M3Q",
    "f3xjl8BZonWR"
   ],
   "name": "Aula 02.ipynb",
   "provenance": [],
   "toc_visible": true
  },
  "kernelspec": {
   "display_name": "Python 3",
   "language": "python",
   "name": "python3"
  },
  "language_info": {
   "codemirror_mode": {
    "name": "ipython",
    "version": 3
   },
   "file_extension": ".py",
   "mimetype": "text/x-python",
   "name": "python",
   "nbconvert_exporter": "python",
   "pygments_lexer": "ipython3",
   "version": "3.7.3"
  },
  "nav_menu": {
   "height": "279px",
   "width": "309px"
  },
  "toc": {
   "nav_menu": {},
   "number_sections": true,
   "sideBar": true,
   "skip_h1_title": false,
   "toc_cell": false,
   "toc_position": {},
   "toc_section_display": "block",
   "toc_window_display": false
  }
 },
 "nbformat": 4,
 "nbformat_minor": 1
}
