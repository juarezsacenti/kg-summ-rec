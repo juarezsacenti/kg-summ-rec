{
 "cells": [
  {
   "cell_type": "markdown",
   "metadata": {
    "colab_type": "text",
    "id": "8t2Qabg58MwS"
   },
   "source": [
    "**Análise Exploratório de Dados - Movielens 1M**\n",
    "\n",
    "---\n",
    "\n",
    "Neste Notebook você irá analisar o dataset Movilens 1M por meio de uma análise exploratória de dados. "
   ]
  },
  {
   "cell_type": "markdown",
   "metadata": {
    "colab_type": "text",
    "id": "NI1cVi_NGUOO"
   },
   "source": [
    "Metodologia:\n",
    "\n",
    "1. Enquadrar o problema;\n",
    "\n",
    "2. Obter os dados; // Qualidade dos dados, artigo performance similar em modelos distintos, qualidades dos dados tinha maior impacto. Problema de SmallData.\n",
    "\n",
    "3. Descobrir e visualizar os dados para obter informações;\n",
    "\n",
    "4. Preparar os dados para os algoritmos;\n",
    "\n",
    "5. Selecionar e treinar modelos; // Esta e demais etapas sao realizadas pelo projeto know-rec.\n",
    "\n",
    "6. Ajustar o modelo;\n",
    "\n",
    "7. Apresentar sua solução;\n",
    "\n",
    "8. Lançar, monitorar e manter seu sistema.\n",
    "\n",
    "Neste notebook usaremos um conjunto de dados de 1.000.209 avaliações anônimas de aproximadamente 3.900 filmes feitas por 6.040  usuários que registraram-se no MovieLens no ano 2000."
   ]
  },
  {
   "cell_type": "markdown",
   "metadata": {
    "colab_type": "text",
    "id": "6T9pPKu28Mwe"
   },
   "source": [
    "# Configuração inicial"
   ]
  },
  {
   "cell_type": "code",
   "execution_count": 1,
   "metadata": {
    "colab": {},
    "colab_type": "code",
    "id": "iDJOKH5NA1QG"
   },
   "outputs": [],
   "source": [
    "# Importações comuns\n",
    "import numpy as np\n",
    "import os\n",
    "import pandas as pd # pandas is a data manipulation library\n",
    "import random\n",
    "from wordcloud import WordCloud, STOPWORDS #used to generate world cloud"
   ]
  },
  {
   "cell_type": "code",
   "execution_count": 2,
   "metadata": {
    "colab": {},
    "colab_type": "code",
    "id": "e6CD-_tpA7o_"
   },
   "outputs": [],
   "source": [
    "#Para garantir estabilidade e ser mais fácil reproduzir experimento\n",
    "np.random.seed(42)"
   ]
  },
  {
   "cell_type": "code",
   "execution_count": 3,
   "metadata": {
    "colab": {},
    "colab_type": "code",
    "id": "-XilT7mJA-fx"
   },
   "outputs": [],
   "source": [
    "# Para plotar figuras\n",
    "%matplotlib inline\n",
    "import matplotlib as mpl\n",
    "import matplotlib.pyplot as plt\n",
    "mpl.rc('axes', labelsize=14)\n",
    "mpl.rc('xtick', labelsize=12)\n",
    "mpl.rc('ytick', labelsize=12)"
   ]
  },
  {
   "cell_type": "markdown",
   "metadata": {
    "colab_type": "text",
    "id": "tDgr37xgBVsA"
   },
   "source": [
    "[Confira aqui](https://matplotlib.org/api/_as_gen/matplotlib.pyplot.rc.html) a documentação do matplotlib.rc"
   ]
  },
  {
   "cell_type": "code",
   "execution_count": 4,
   "metadata": {
    "colab": {},
    "colab_type": "code",
    "id": "gTuMQUrzBBrl"
   },
   "outputs": [],
   "source": [
    "# Where to save the figures\n",
    "PROJECT_ROOT_DIR = \".\"\n",
    "CHAPTER_ID = \"end_to_end_project\"\n",
    "IMAGES_PATH = os.path.join(PROJECT_ROOT_DIR, \"images\", CHAPTER_ID)\n",
    "\n",
    "def save_fig(fig_id, tight_layout=True, fig_extension=\"png\", resolution=300):\n",
    "    path = os.path.join(IMAGES_PATH, fig_id + \".\" + fig_extension)\n",
    "    print(\"Saving figure\", fig_id)\n",
    "    if tight_layout:\n",
    "        plt.tight_layout()\n",
    "    plt.savefig(path, format=fig_extension, dpi=resolution)"
   ]
  },
  {
   "cell_type": "code",
   "execution_count": 5,
   "metadata": {
    "colab": {},
    "colab_type": "code",
    "id": "Zwbr171pBB2O"
   },
   "outputs": [],
   "source": [
    "\n",
    "# Ignorar warnings desnecessários (ver SciPy issue #5998)\n",
    "import warnings\n",
    "warnings.filterwarnings(action=\"ignore\", message=\"^internal gelsd\")"
   ]
  },
  {
   "cell_type": "markdown",
   "metadata": {
    "colab_type": "text",
    "id": "UBjzryXYKMb5"
   },
   "source": [
    "# Enquadar o problema"
   ]
  },
  {
   "cell_type": "markdown",
   "metadata": {
    "colab_type": "text",
    "id": "0G56JZx56qrZ"
   },
   "source": [
    "- Qual o objetivo do problema?\n",
    "\n",
    "- Como a empresa/cliente pretende usar o produto?\n",
    "\n",
    "Tais perguntas são importantes pois definirá como você vai abordar o problema, que tipo de algoritmo irá usar e quais [medidas de desempenho](http://geam.paginas.ufsc.br/files/2020/02/Medida-desempenho-regressaob.pdf) são mais relevantes. \n",
    "\n",
    "// Obs. 1: Comparar interpretação geográfica de cada métrica (MAE, MSE e RMSE). Plotar as 3 retas no mesmo gráfico.\n",
    "\n",
    "Você precisará avaliar se a solução requer uma solução muito complexa, que demandará mais trabalho, tempo e dinheiro, ou se uma solução mais simples será suficiente.\n",
    "\n",
    "Recomendação de filmes.\n",
    "\n",
    "1) Predizer o valor da avaliação de usuário para filme assistido.\n",
    "\n",
    "2) Classificar se um filme será ou não assistido pelo usuário.\n",
    "\n",
    "3) Recomendar um grupo de filmes com maior possibilidade de escolha do usuário e maior diversidade entre os filmes.\n",
    "\n",
    "4) Modelo com maior satisfação do cliente/empresa?!\n",
    "\n",
    "// Navalha de Okan: se você tem 2 soluções que satisfazem o problema, deve ser escolhida a mais simples. (como propor deep learning e sistemas baseados em conhecimento? Quando eles são realmente necessários?"
   ]
  },
  {
   "cell_type": "markdown",
   "metadata": {
    "colab_type": "text",
    "id": "HMaugIFD5xmR"
   },
   "source": [
    " # Dicas\n",
    "\n",
    "- Não aborde, em um primeiro momento, um problema usando a solução mais complexa possível. Otimização prematura é arriscado e pode comprometer o projeto;\n",
    "\n",
    "- Leve em consideração que os modelos mais complexos são mais difíceis de manter, requer estruturas mais sofisticadas (e mais caras) e geralmente requer um corpo técnico mais qualificado - fique atento também as regulamentações dos dados;\n",
    "\n",
    "- Comece com protótipos rápidos e vá conversando com o cliente obtendo retorno sobre as necessidades do produto. Já pensou passar meses desenvolvendo um produto e no final não era o que o cliente queria? A agilidade em fazer protótipos em Python torna essa linguagem muito interessante!\n",
    "\n",
    "- As nossas visões, opiniões vão mudando com o tempo, então é natural que o cliente (e você!) vá amadurecendo ao longo do processo. Então, repetindo, sempre se comunique para atender a necessidade do projeto!\n",
    "\n",
    "- Antes de começar a trabalhar no projeto, verifique todas as hipóteses do sistema, infraestrutura disponível, linguagens de programação que serão utilizada, plataformas, etc. "
   ]
  },
  {
   "cell_type": "markdown",
   "metadata": {
    "colab_type": "text",
    "id": "CU8EFsXB8Mwz"
   },
   "source": [
    "# Pegar os dados"
   ]
  },
  {
   "cell_type": "code",
   "execution_count": 6,
   "metadata": {
    "colab": {},
    "colab_type": "code",
    "id": "i7N5Z56F8Mw3"
   },
   "outputs": [],
   "source": [
    "from zipfile import ZipFile \n",
    "from six.moves import urllib\n",
    "\n",
    "ML1M_ROOT = \"http://files.grouplens.org/datasets/movielens/\"\n",
    "ML1M_PATH = os.path.join(\"..\", \"..\", \"datasets\", \"ml1m\")\n",
    "ML1M_FILE =  \"ml-1m.zip\"\n",
    "ML1M_MD5 = ML1M_ROOT + ML1M_FILE + \".md5\"\n",
    "\n",
    "def fetch_ml1m_data(filename=ML1M_FILE, download_root=ML1M_ROOT, save_path=ML1M_PATH):\n",
    "    os.makedirs(save_path, exist_ok=True) #Cria diretorio\n",
    "    file_path = os.path.join(save_path, filename) #caminho do arquivo\n",
    "    download_url = os.path.join(download_root, filename) #url do arquivo\n",
    "    urllib.request.urlretrieve(download_url, file_path)\n",
    "    with ZipFile(file_path) as ml1m_zip:\n",
    "        ml1m_zip.extractall(path=save_path)"
   ]
  },
  {
   "cell_type": "code",
   "execution_count": 7,
   "metadata": {
    "colab": {},
    "colab_type": "code",
    "id": "InzGdJMr8Mw_",
    "scrolled": true
   },
   "outputs": [],
   "source": [
    "fetch_ml1m_data() #Cria diretório datasets/housing no espaço de trabalho"
   ]
  },
  {
   "cell_type": "code",
   "execution_count": 8,
   "metadata": {
    "colab": {},
    "colab_type": "code",
    "id": "LdF8chZz8MxH"
   },
   "outputs": [],
   "source": [
    "# https://www.kaggle.com/cesarcf1977/movielens-data-analysis-beginner-s-first\n",
    "# from http://www.gregreda.com/2013/10/26/using-pandas-on-the-movielens-dataset/\n",
    "def load_ml1m_data(save_path=ML1M_PATH):\n",
    "    # pass in column names for each CSV\n",
    "    csv_path = os.path.join(save_path, \"ml-1m\", \"users.dat\")\n",
    "    u_cols = ['user_id', 'gender', 'age', 'occupation', 'zip_code']\n",
    "    users = pd.read_csv(csv_path, sep='::', engine=\"python\", names=u_cols, encoding='utf8')\n",
    "\n",
    "    csv_path = os.path.join(save_path, \"ml-1m\", \"ratings.dat\")\n",
    "    r_cols = ['user_id', 'movie_id', 'rating', 'unix_timestamp']\n",
    "    ratings = pd.read_csv(csv_path, sep='::', engine=\"python\", names=r_cols, encoding='utf8')\n",
    "\n",
    "    # the movies file contains columns indicating the movie's genres\n",
    "    # let's only load the first five columns of the file with usecols\n",
    "    csv_path = os.path.join(save_path, \"ml-1m\", \"movies.dat\")\n",
    "    m_cols = ['movie_id', 'title', 'genres']\n",
    "    movies = pd.read_csv(csv_path, sep=\"::\", engine=\"python\", names=m_cols, usecols=range(5), encoding='latin-1')\n",
    "\n",
    "    # create one merged DataFrame\n",
    "    movie_ratings = pd.merge(movies, ratings)\n",
    "    lens = pd.merge(movie_ratings, users)\n",
    "    return users, ratings, movies, movie_ratings, lens"
   ]
  },
  {
   "cell_type": "code",
   "execution_count": 9,
   "metadata": {
    "colab": {},
    "colab_type": "code",
    "id": "dAw-T6N88MxQ",
    "scrolled": true
   },
   "outputs": [
    {
     "data": {
      "text/html": [
       "<div>\n",
       "<style scoped>\n",
       "    .dataframe tbody tr th:only-of-type {\n",
       "        vertical-align: middle;\n",
       "    }\n",
       "\n",
       "    .dataframe tbody tr th {\n",
       "        vertical-align: top;\n",
       "    }\n",
       "\n",
       "    .dataframe thead th {\n",
       "        text-align: right;\n",
       "    }\n",
       "</style>\n",
       "<table border=\"1\" class=\"dataframe\">\n",
       "  <thead>\n",
       "    <tr style=\"text-align: right;\">\n",
       "      <th></th>\n",
       "      <th>movie_id</th>\n",
       "      <th>title</th>\n",
       "      <th>genres</th>\n",
       "      <th>user_id</th>\n",
       "      <th>rating</th>\n",
       "      <th>unix_timestamp</th>\n",
       "      <th>gender</th>\n",
       "      <th>age</th>\n",
       "      <th>occupation</th>\n",
       "      <th>zip_code</th>\n",
       "    </tr>\n",
       "  </thead>\n",
       "  <tbody>\n",
       "    <tr>\n",
       "      <th>0</th>\n",
       "      <td>1</td>\n",
       "      <td>Toy Story (1995)</td>\n",
       "      <td>Animation|Children's|Comedy</td>\n",
       "      <td>1</td>\n",
       "      <td>5</td>\n",
       "      <td>978824268</td>\n",
       "      <td>F</td>\n",
       "      <td>1</td>\n",
       "      <td>10</td>\n",
       "      <td>48067</td>\n",
       "    </tr>\n",
       "    <tr>\n",
       "      <th>1</th>\n",
       "      <td>48</td>\n",
       "      <td>Pocahontas (1995)</td>\n",
       "      <td>Animation|Children's|Musical|Romance</td>\n",
       "      <td>1</td>\n",
       "      <td>5</td>\n",
       "      <td>978824351</td>\n",
       "      <td>F</td>\n",
       "      <td>1</td>\n",
       "      <td>10</td>\n",
       "      <td>48067</td>\n",
       "    </tr>\n",
       "    <tr>\n",
       "      <th>2</th>\n",
       "      <td>150</td>\n",
       "      <td>Apollo 13 (1995)</td>\n",
       "      <td>Drama</td>\n",
       "      <td>1</td>\n",
       "      <td>5</td>\n",
       "      <td>978301777</td>\n",
       "      <td>F</td>\n",
       "      <td>1</td>\n",
       "      <td>10</td>\n",
       "      <td>48067</td>\n",
       "    </tr>\n",
       "    <tr>\n",
       "      <th>3</th>\n",
       "      <td>260</td>\n",
       "      <td>Star Wars: Episode IV - A New Hope (1977)</td>\n",
       "      <td>Action|Adventure|Fantasy|Sci-Fi</td>\n",
       "      <td>1</td>\n",
       "      <td>4</td>\n",
       "      <td>978300760</td>\n",
       "      <td>F</td>\n",
       "      <td>1</td>\n",
       "      <td>10</td>\n",
       "      <td>48067</td>\n",
       "    </tr>\n",
       "    <tr>\n",
       "      <th>4</th>\n",
       "      <td>527</td>\n",
       "      <td>Schindler's List (1993)</td>\n",
       "      <td>Drama|War</td>\n",
       "      <td>1</td>\n",
       "      <td>5</td>\n",
       "      <td>978824195</td>\n",
       "      <td>F</td>\n",
       "      <td>1</td>\n",
       "      <td>10</td>\n",
       "      <td>48067</td>\n",
       "    </tr>\n",
       "  </tbody>\n",
       "</table>\n",
       "</div>"
      ],
      "text/plain": [
       "   movie_id                                      title  \\\n",
       "0         1                           Toy Story (1995)   \n",
       "1        48                          Pocahontas (1995)   \n",
       "2       150                           Apollo 13 (1995)   \n",
       "3       260  Star Wars: Episode IV - A New Hope (1977)   \n",
       "4       527                    Schindler's List (1993)   \n",
       "\n",
       "                                 genres  user_id  rating  unix_timestamp  \\\n",
       "0           Animation|Children's|Comedy        1       5       978824268   \n",
       "1  Animation|Children's|Musical|Romance        1       5       978824351   \n",
       "2                                 Drama        1       5       978301777   \n",
       "3       Action|Adventure|Fantasy|Sci-Fi        1       4       978300760   \n",
       "4                             Drama|War        1       5       978824195   \n",
       "\n",
       "  gender  age  occupation zip_code  \n",
       "0      F    1          10    48067  \n",
       "1      F    1          10    48067  \n",
       "2      F    1          10    48067  \n",
       "3      F    1          10    48067  \n",
       "4      F    1          10    48067  "
      ]
     },
     "execution_count": 9,
     "metadata": {},
     "output_type": "execute_result"
    }
   ],
   "source": [
    "users, ratings, movies, movie_ratings, lens = load_ml1m_data()\n",
    "lens.head() #visualizar as 5 primeiras linhas do dataframe"
   ]
  },
  {
   "cell_type": "code",
   "execution_count": 10,
   "metadata": {
    "colab": {},
    "colab_type": "code",
    "id": "Ae6oJj4R8MxZ"
   },
   "outputs": [
    {
     "name": "stdout",
     "output_type": "stream",
     "text": [
      "<class 'pandas.core.frame.DataFrame'>\n",
      "Int64Index: 1000209 entries, 0 to 1000208\n",
      "Data columns (total 10 columns):\n",
      "movie_id          1000209 non-null int64\n",
      "title             1000209 non-null object\n",
      "genres            1000209 non-null object\n",
      "user_id           1000209 non-null int64\n",
      "rating            1000209 non-null int64\n",
      "unix_timestamp    1000209 non-null int64\n",
      "gender            1000209 non-null object\n",
      "age               1000209 non-null int64\n",
      "occupation        1000209 non-null int64\n",
      "zip_code          1000209 non-null object\n",
      "dtypes: int64(6), object(4)\n",
      "memory usage: 83.9+ MB\n"
     ]
    }
   ],
   "source": [
    "lens.info() #Rápida descrição dos dados"
   ]
  },
  {
   "cell_type": "markdown",
   "metadata": {
    "colab_type": "text",
    "id": "wzN0Y0kpK8CQ"
   },
   "source": [
    "As informações foram coletadas da seguinte maneira: primeiro, usou-se dados do censo de 1990 da Califórnia. Calculou-se os centróides de cada quarteirão da Califórnia, medido em latitude e longitude. *Foram excluídos todos os quarteirões que tinha entradas faltantes.*\n",
    "\n",
    "UserID::MovieID::Rating::Timestamp\n",
    "- UserIDs range between 1 and 6040 \n",
    "- MovieIDs range between 1 and 3952\n",
    "- Ratings are made on a 5-star scale (whole-star ratings only)\n",
    "- Timestamp is represented in seconds since the epoch as returned by time(2)\n",
    "- Each user has at least 20 ratings\n",
    "\n",
    "UserID::Gender::Age::Occupation::Zip-code\n",
    "\n",
    "All demographic information is provided voluntarily by the users and is\n",
    "not checked for accuracy.  Only users who have provided some demographic\n",
    "information are included in this data set.\n",
    "\n",
    "- Gender is denoted by a \"M\" for male and \"F\" for female\n",
    "- Age is chosen from the following ranges:\n",
    "\n",
    "\t*  1:  \"Under 18\"\n",
    "\t* 18:  \"18-24\"\n",
    "\t* 25:  \"25-34\"\n",
    "\t* 35:  \"35-44\"\n",
    "\t* 45:  \"45-49\"\n",
    "\t* 50:  \"50-55\"\n",
    "\t* 56:  \"56+\"\n",
    "- Occupation is chosen from the following choices:\n",
    "\t*  0:  \"other\" or not specified\n",
    "\t*  1:  \"academic/educator\"\n",
    "\t*  2:  \"artist\"\n",
    "\t*  3:  \"clerical/admin\"\n",
    "\t*  4:  \"college/grad student\"\n",
    "\t*  5:  \"customer service\"\n",
    "\t*  6:  \"doctor/health care\"\n",
    "\t*  7:  \"executive/managerial\"\n",
    "\t*  8:  \"farmer\"\n",
    "\t*  9:  \"homemaker\"\n",
    "\t* 10:  \"K-12 student\"\n",
    "\t* 11:  \"lawyer\"\n",
    "\t* 12:  \"programmer\"\n",
    "\t* 13:  \"retired\"\n",
    "\t* 14:  \"sales/marketing\"\n",
    "\t* 15:  \"scientist\"\n",
    "\t* 16:  \"self-employed\"\n",
    "\t* 17:  \"technician/engineer\"\n",
    "\t* 18:  \"tradesman/craftsman\"\n",
    "\t* 19:  \"unemployed\"\n",
    "\t* 20:  \"writer\"\n",
    "    \n",
    "MovieID::Title::Genres\n",
    "- Titles are identical to titles provided by the IMDB (including\n",
    "year of release)\n",
    "- Genres are pipe-separated and are selected from the following genres:\n",
    "\t* Action\n",
    "\t* Adventure\n",
    "\t* Animation\n",
    "\t* Children's\n",
    "\t* Comedy\n",
    "\t* Crime\n",
    "\t* Documentary\n",
    "\t* Drama\n",
    "\t* Fantasy\n",
    "\t* Film-Noir\n",
    "\t* Horror\n",
    "\t* Musical\n",
    "\t* Mystery\n",
    "\t* Romance\n",
    "\t* Sci-Fi\n",
    "\t* Thriller\n",
    "\t* War\n",
    "\t* Western\n",
    "- Some MovieIDs do not correspond to a movie due to accidental duplicate\n",
    "entries and/or test entries\n",
    "- Movies are mostly entered by hand, so errors and inconsistencies may exist"
   ]
  },
  {
   "cell_type": "markdown",
   "metadata": {},
   "source": [
    "# Variáveis Categóricas"
   ]
  },
  {
   "cell_type": "markdown",
   "metadata": {
    "colab_type": "text",
    "id": "ZZyjfvEmJBZk"
   },
   "source": [
    "4 características são categóricas: title, genres, gender e zip_code."
   ]
  },
  {
   "cell_type": "code",
   "execution_count": 11,
   "metadata": {
    "colab": {},
    "colab_type": "code",
    "id": "lPr0m4-t8Mxg"
   },
   "outputs": [
    {
     "data": {
      "text/plain": [
       "Land and Freedom (Tierra y libertad) (1995)                   1\n",
       "Tough Guys (1986)                                             1\n",
       "Jerk, The (1979)                                              1\n",
       "Under Capricorn (1949)                                        1\n",
       "Escape from the Planet of the Apes (1971)                     1\n",
       "Uninvited Guest, An (2000)                                    1\n",
       "Soapdish (1991)                                               1\n",
       "Sword in the Stone, The (1963)                                1\n",
       "Muppet Treasure Island (1996)                                 1\n",
       "Law, The (Le Legge) (1958)                                    1\n",
       "Joy Luck Club, The (1993)                                     1\n",
       "She's the One (1996)                                          1\n",
       "Schindler's List (1993)                                       1\n",
       "And Now for Something Completely Different (1971)             1\n",
       "Hollow Reed (1996)                                            1\n",
       "Crime and Punishment in Suburbia (2000)                       1\n",
       "House on Haunted Hill, The (1999)                             1\n",
       "Career Girls (1997)                                           1\n",
       "Lion King, The (1994)                                         1\n",
       "Body Snatcher, The (1945)                                     1\n",
       "Chasing Amy (1997)                                            1\n",
       "Black Sabbath (Tre Volti Della Paura, I) (1963)               1\n",
       "Man Who Knew Too Little, The (1997)                           1\n",
       "Flipper (1996)                                                1\n",
       "God Said 'Ha!' (1998)                                         1\n",
       "Guardian, The (1990)                                          1\n",
       "Barney's Great Adventure (1998)                               1\n",
       "Mad Love (1995)                                               1\n",
       "Heavyweights (1994)                                           1\n",
       "Baby Geniuses (1999)                                          1\n",
       "                                                             ..\n",
       "Superman (1978)                                               1\n",
       "Braindead (1992)                                              1\n",
       "No Escape (1994)                                              1\n",
       "Emperor and the Assassin, The (Jing ke ci qin wang) (1999)    1\n",
       "Night Visitor, The (1970)                                     1\n",
       "Condo Painting (2000)                                         1\n",
       "Arrival, The (1996)                                           1\n",
       "Nixon (1995)                                                  1\n",
       "Star Trek III: The Search for Spock (1984)                    1\n",
       "Volunteers (1985)                                             1\n",
       "Anaconda (1997)                                               1\n",
       "My Name Is Joe (1998)                                         1\n",
       "Rush Hour (1998)                                              1\n",
       "Broken Hearts Club, The (2000)                                1\n",
       "Dracula (1958)                                                1\n",
       "Diebinnen (1995)                                              1\n",
       "Year of the Horse (1997)                                      1\n",
       "Cutthroat Island (1995)                                       1\n",
       "Heavy (1995)                                                  1\n",
       "Encino Man (1992)                                             1\n",
       "Substance of Fire, The (1996)                                 1\n",
       "Great Race, The (1965)                                        1\n",
       "Funeral, The (1996)                                           1\n",
       "Illuminata (1998)                                             1\n",
       "Prince of Tides, The (1991)                                   1\n",
       "Remember the Titans (2000)                                    1\n",
       "Message to Love: The Isle of Wight Festival (1996)            1\n",
       "Last Dance (1996)                                             1\n",
       "Tarzan and the Lost City (1998)                               1\n",
       "Tales from the Darkside: The Movie (1990)                     1\n",
       "Name: title, Length: 3883, dtype: int64"
      ]
     },
     "execution_count": 11,
     "metadata": {},
     "output_type": "execute_result"
    }
   ],
   "source": [
    "movies[\"title\"].value_counts()"
   ]
  },
  {
   "cell_type": "markdown",
   "metadata": {},
   "source": [
    "Cada um dos 3883 filmes possui um título distinto. "
   ]
  },
  {
   "cell_type": "code",
   "execution_count": 12,
   "metadata": {},
   "outputs": [
    {
     "data": {
      "text/plain": [
       "Drama                                            843\n",
       "Comedy                                           521\n",
       "Horror                                           178\n",
       "Comedy|Drama                                     162\n",
       "Comedy|Romance                                   142\n",
       "Drama|Romance                                    134\n",
       "Documentary                                      116\n",
       "Thriller                                         101\n",
       "Action                                            65\n",
       "Drama|Thriller                                    63\n",
       "Action|Thriller                                   48\n",
       "Children's|Comedy                                 47\n",
       "Crime|Drama                                       44\n",
       "Drama|War                                         43\n",
       "Romance                                           40\n",
       "Action|Drama                                      39\n",
       "Animation|Children's                              35\n",
       "Comedy|Drama|Romance                              34\n",
       "Western                                           33\n",
       "Horror|Sci-Fi                                     33\n",
       "Horror|Thriller                                   32\n",
       "Comedy|Horror                                     31\n",
       "Adventure|Children's                              30\n",
       "Action|Sci-Fi                                     28\n",
       "Sci-Fi                                            27\n",
       "Crime                                             26\n",
       "Action|Adventure                                  25\n",
       "Action|Comedy                                     22\n",
       "Crime|Thriller                                    21\n",
       "Action|Adventure|Sci-Fi                           21\n",
       "                                                ... \n",
       "Adventure|Animation|Sci-Fi|Thriller                1\n",
       "Fantasy                                            1\n",
       "Action|Adventure|Sci-Fi|Thriller|War               1\n",
       "Comedy|Crime|Mystery|Thriller                      1\n",
       "Action|Romance|War                                 1\n",
       "Action|Adventure|Crime|Drama                       1\n",
       "Action|Adventure|Horror|Thriller                   1\n",
       "Animation|Children's|Fantasy|War                   1\n",
       "Action|Drama|Mystery                               1\n",
       "Animation|Children's|Drama|Fantasy                 1\n",
       "Comedy|Horror|Musical                              1\n",
       "Action|Comedy|Crime|Horror|Thriller                1\n",
       "Film-Noir|Sci-Fi                                   1\n",
       "Adventure|Children's|Comedy|Fantasy|Romance        1\n",
       "Adventure|Animation|Children's|Comedy|Musical      1\n",
       "Adventure|Drama|Thriller                           1\n",
       "Action|Comedy|Romance|Thriller                     1\n",
       "Action|Adventure|Romance|Sci-Fi|War                1\n",
       "Comedy|Romance|War                                 1\n",
       "Action|Sci-Fi|Western                              1\n",
       "Comedy|Horror|Sci-Fi                               1\n",
       "Musical|Romance|War                                1\n",
       "Drama|Romance|War|Western                          1\n",
       "Musical|War                                        1\n",
       "Action|Adventure|Drama|Romance                     1\n",
       "Action|Sci-Fi|Thriller|Western                     1\n",
       "Comedy|Film-Noir|Thriller                          1\n",
       "Action|Mystery|Sci-Fi|Thriller                     1\n",
       "Adventure|Children's|Drama|Musical                 1\n",
       "Action|Adventure|Comedy|Horror                     1\n",
       "Name: genres, Length: 301, dtype: int64"
      ]
     },
     "execution_count": 12,
     "metadata": {},
     "output_type": "execute_result"
    }
   ],
   "source": [
    "movies[\"genres\"].value_counts()"
   ]
  },
  {
   "cell_type": "markdown",
   "metadata": {
    "colab_type": "text",
    "id": "b8TL_7-vJhCN"
   },
   "source": [
    "Como podemos observar, a característica \"genres\" é uma variável multivalorada, com 301 combinações de 18 gêneros de filmes. Podemos analisar desta forma (nome bonito que não lembro que define clases que significam combinações de classes menores) ou tratar os 18 generos como OneHotEncoder (ver se dá de usar esse)."
   ]
  },
  {
   "cell_type": "markdown",
   "metadata": {},
   "source": [
    "From https://www.kaggle.com/jneupane12/analysis-of-movielens-dataset-beginner-sanalysis"
   ]
  },
  {
   "cell_type": "code",
   "execution_count": 13,
   "metadata": {},
   "outputs": [],
   "source": [
    "#define a function that counts the number of times each genre appear:\n",
    "def count_word(df, ref_col, liste):\n",
    "    keyword_count = dict()\n",
    "    for s in liste: keyword_count[s] = 0\n",
    "    for liste_keywords in df[ref_col].str.split('|'):\n",
    "        if type(liste_keywords) == float and pd.isnull(liste_keywords): continue\n",
    "        for s in liste_keywords: \n",
    "            if pd.notnull(s): keyword_count[s] += 1\n",
    "    # convert the dictionary in a list to sort the keywords  by frequency\n",
    "    keyword_occurences = []\n",
    "    for k,v in keyword_count.items():\n",
    "        keyword_occurences.append([k,v])\n",
    "    keyword_occurences.sort(key = lambda x:x[1], reverse = True)\n",
    "    return keyword_occurences, keyword_count"
   ]
  },
  {
   "cell_type": "code",
   "execution_count": 14,
   "metadata": {},
   "outputs": [],
   "source": [
    "#here we  make census of the genres:\n",
    "genre_labels = set()\n",
    "for s in movies['genres'].str.split('|').values:\n",
    "    genre_labels = genre_labels.union(set(s))"
   ]
  },
  {
   "cell_type": "code",
   "execution_count": 15,
   "metadata": {},
   "outputs": [
    {
     "data": {
      "text/plain": [
       "[['Drama', 1603],\n",
       " ['Comedy', 1200],\n",
       " ['Action', 503],\n",
       " ['Thriller', 492],\n",
       " ['Romance', 471],\n",
       " ['Horror', 343],\n",
       " ['Adventure', 283],\n",
       " ['Sci-Fi', 276],\n",
       " [\"Children's\", 251],\n",
       " ['Crime', 211],\n",
       " ['War', 143],\n",
       " ['Documentary', 127],\n",
       " ['Musical', 114],\n",
       " ['Mystery', 106],\n",
       " ['Animation', 105],\n",
       " ['Western', 68],\n",
       " ['Fantasy', 68],\n",
       " ['Film-Noir', 44]]"
      ]
     },
     "execution_count": 15,
     "metadata": {},
     "output_type": "execute_result"
    }
   ],
   "source": [
    "#counting how many times each of genres occur:\n",
    "keyword_occurences, dum = count_word(movies, 'genres', genre_labels)\n",
    "keyword_occurences"
   ]
  },
  {
   "cell_type": "markdown",
   "metadata": {},
   "source": [
    "\"OneHotEncode\" para genres:"
   ]
  },
  {
   "cell_type": "code",
   "execution_count": 16,
   "metadata": {},
   "outputs": [],
   "source": [
    "genres_unique = pd.DataFrame(movies.genres.str.split('|').tolist()).stack().unique()\n",
    "genres_unique = pd.DataFrame(genres_unique, columns=['genre']) # Format into DataFrame to store later"
   ]
  },
  {
   "cell_type": "code",
   "execution_count": 17,
   "metadata": {},
   "outputs": [],
   "source": [
    "new_movies = movies.join(movies.genres.str.get_dummies())\n",
    "new_movies.drop('genres', inplace=True, axis=1)"
   ]
  },
  {
   "cell_type": "code",
   "execution_count": 18,
   "metadata": {
    "scrolled": true
   },
   "outputs": [
    {
     "data": {
      "text/html": [
       "<div>\n",
       "<style scoped>\n",
       "    .dataframe tbody tr th:only-of-type {\n",
       "        vertical-align: middle;\n",
       "    }\n",
       "\n",
       "    .dataframe tbody tr th {\n",
       "        vertical-align: top;\n",
       "    }\n",
       "\n",
       "    .dataframe thead th {\n",
       "        text-align: right;\n",
       "    }\n",
       "</style>\n",
       "<table border=\"1\" class=\"dataframe\">\n",
       "  <thead>\n",
       "    <tr style=\"text-align: right;\">\n",
       "      <th></th>\n",
       "      <th>movie_id</th>\n",
       "      <th>title</th>\n",
       "      <th>Action</th>\n",
       "      <th>Adventure</th>\n",
       "      <th>Animation</th>\n",
       "      <th>Children's</th>\n",
       "      <th>Comedy</th>\n",
       "      <th>Crime</th>\n",
       "      <th>Documentary</th>\n",
       "      <th>Drama</th>\n",
       "      <th>Fantasy</th>\n",
       "      <th>Film-Noir</th>\n",
       "      <th>Horror</th>\n",
       "      <th>Musical</th>\n",
       "      <th>Mystery</th>\n",
       "      <th>Romance</th>\n",
       "      <th>Sci-Fi</th>\n",
       "      <th>Thriller</th>\n",
       "      <th>War</th>\n",
       "      <th>Western</th>\n",
       "    </tr>\n",
       "  </thead>\n",
       "  <tbody>\n",
       "    <tr>\n",
       "      <th>0</th>\n",
       "      <td>1</td>\n",
       "      <td>Toy Story (1995)</td>\n",
       "      <td>0</td>\n",
       "      <td>0</td>\n",
       "      <td>1</td>\n",
       "      <td>1</td>\n",
       "      <td>1</td>\n",
       "      <td>0</td>\n",
       "      <td>0</td>\n",
       "      <td>0</td>\n",
       "      <td>0</td>\n",
       "      <td>0</td>\n",
       "      <td>0</td>\n",
       "      <td>0</td>\n",
       "      <td>0</td>\n",
       "      <td>0</td>\n",
       "      <td>0</td>\n",
       "      <td>0</td>\n",
       "      <td>0</td>\n",
       "      <td>0</td>\n",
       "    </tr>\n",
       "    <tr>\n",
       "      <th>1</th>\n",
       "      <td>2</td>\n",
       "      <td>Jumanji (1995)</td>\n",
       "      <td>0</td>\n",
       "      <td>1</td>\n",
       "      <td>0</td>\n",
       "      <td>1</td>\n",
       "      <td>0</td>\n",
       "      <td>0</td>\n",
       "      <td>0</td>\n",
       "      <td>0</td>\n",
       "      <td>1</td>\n",
       "      <td>0</td>\n",
       "      <td>0</td>\n",
       "      <td>0</td>\n",
       "      <td>0</td>\n",
       "      <td>0</td>\n",
       "      <td>0</td>\n",
       "      <td>0</td>\n",
       "      <td>0</td>\n",
       "      <td>0</td>\n",
       "    </tr>\n",
       "    <tr>\n",
       "      <th>2</th>\n",
       "      <td>3</td>\n",
       "      <td>Grumpier Old Men (1995)</td>\n",
       "      <td>0</td>\n",
       "      <td>0</td>\n",
       "      <td>0</td>\n",
       "      <td>0</td>\n",
       "      <td>1</td>\n",
       "      <td>0</td>\n",
       "      <td>0</td>\n",
       "      <td>0</td>\n",
       "      <td>0</td>\n",
       "      <td>0</td>\n",
       "      <td>0</td>\n",
       "      <td>0</td>\n",
       "      <td>0</td>\n",
       "      <td>1</td>\n",
       "      <td>0</td>\n",
       "      <td>0</td>\n",
       "      <td>0</td>\n",
       "      <td>0</td>\n",
       "    </tr>\n",
       "    <tr>\n",
       "      <th>3</th>\n",
       "      <td>4</td>\n",
       "      <td>Waiting to Exhale (1995)</td>\n",
       "      <td>0</td>\n",
       "      <td>0</td>\n",
       "      <td>0</td>\n",
       "      <td>0</td>\n",
       "      <td>1</td>\n",
       "      <td>0</td>\n",
       "      <td>0</td>\n",
       "      <td>1</td>\n",
       "      <td>0</td>\n",
       "      <td>0</td>\n",
       "      <td>0</td>\n",
       "      <td>0</td>\n",
       "      <td>0</td>\n",
       "      <td>0</td>\n",
       "      <td>0</td>\n",
       "      <td>0</td>\n",
       "      <td>0</td>\n",
       "      <td>0</td>\n",
       "    </tr>\n",
       "    <tr>\n",
       "      <th>4</th>\n",
       "      <td>5</td>\n",
       "      <td>Father of the Bride Part II (1995)</td>\n",
       "      <td>0</td>\n",
       "      <td>0</td>\n",
       "      <td>0</td>\n",
       "      <td>0</td>\n",
       "      <td>1</td>\n",
       "      <td>0</td>\n",
       "      <td>0</td>\n",
       "      <td>0</td>\n",
       "      <td>0</td>\n",
       "      <td>0</td>\n",
       "      <td>0</td>\n",
       "      <td>0</td>\n",
       "      <td>0</td>\n",
       "      <td>0</td>\n",
       "      <td>0</td>\n",
       "      <td>0</td>\n",
       "      <td>0</td>\n",
       "      <td>0</td>\n",
       "    </tr>\n",
       "  </tbody>\n",
       "</table>\n",
       "</div>"
      ],
      "text/plain": [
       "   movie_id                               title  Action  Adventure  Animation  \\\n",
       "0         1                    Toy Story (1995)       0          0          1   \n",
       "1         2                      Jumanji (1995)       0          1          0   \n",
       "2         3             Grumpier Old Men (1995)       0          0          0   \n",
       "3         4            Waiting to Exhale (1995)       0          0          0   \n",
       "4         5  Father of the Bride Part II (1995)       0          0          0   \n",
       "\n",
       "   Children's  Comedy  Crime  Documentary  Drama  Fantasy  Film-Noir  Horror  \\\n",
       "0           1       1      0            0      0        0          0       0   \n",
       "1           1       0      0            0      0        1          0       0   \n",
       "2           0       1      0            0      0        0          0       0   \n",
       "3           0       1      0            0      1        0          0       0   \n",
       "4           0       1      0            0      0        0          0       0   \n",
       "\n",
       "   Musical  Mystery  Romance  Sci-Fi  Thriller  War  Western  \n",
       "0        0        0        0       0         0    0        0  \n",
       "1        0        0        0       0         0    0        0  \n",
       "2        0        0        1       0         0    0        0  \n",
       "3        0        0        0       0         0    0        0  \n",
       "4        0        0        0       0         0    0        0  "
      ]
     },
     "execution_count": 18,
     "metadata": {},
     "output_type": "execute_result"
    }
   ],
   "source": [
    "new_movies.head()"
   ]
  },
  {
   "cell_type": "code",
   "execution_count": 19,
   "metadata": {},
   "outputs": [
    {
     "data": {
      "text/html": [
       "<div>\n",
       "<style scoped>\n",
       "    .dataframe tbody tr th:only-of-type {\n",
       "        vertical-align: middle;\n",
       "    }\n",
       "\n",
       "    .dataframe tbody tr th {\n",
       "        vertical-align: top;\n",
       "    }\n",
       "\n",
       "    .dataframe thead th {\n",
       "        text-align: right;\n",
       "    }\n",
       "</style>\n",
       "<table border=\"1\" class=\"dataframe\">\n",
       "  <thead>\n",
       "    <tr style=\"text-align: right;\">\n",
       "      <th></th>\n",
       "      <th>movie_id</th>\n",
       "      <th>Action</th>\n",
       "      <th>Adventure</th>\n",
       "      <th>Animation</th>\n",
       "      <th>Children's</th>\n",
       "      <th>Comedy</th>\n",
       "      <th>Crime</th>\n",
       "      <th>Documentary</th>\n",
       "      <th>Drama</th>\n",
       "      <th>Fantasy</th>\n",
       "      <th>Film-Noir</th>\n",
       "      <th>Horror</th>\n",
       "      <th>Musical</th>\n",
       "      <th>Mystery</th>\n",
       "      <th>Romance</th>\n",
       "      <th>Sci-Fi</th>\n",
       "      <th>Thriller</th>\n",
       "      <th>War</th>\n",
       "      <th>Western</th>\n",
       "    </tr>\n",
       "  </thead>\n",
       "  <tbody>\n",
       "    <tr>\n",
       "      <th>count</th>\n",
       "      <td>3883.000000</td>\n",
       "      <td>3883.000000</td>\n",
       "      <td>3883.000000</td>\n",
       "      <td>3883.000000</td>\n",
       "      <td>3883.000000</td>\n",
       "      <td>3883.000000</td>\n",
       "      <td>3883.000000</td>\n",
       "      <td>3883.000000</td>\n",
       "      <td>3883.000000</td>\n",
       "      <td>3883.000000</td>\n",
       "      <td>3883.000000</td>\n",
       "      <td>3883.000000</td>\n",
       "      <td>3883.000000</td>\n",
       "      <td>3883.000000</td>\n",
       "      <td>3883.000000</td>\n",
       "      <td>3883.000000</td>\n",
       "      <td>3883.000000</td>\n",
       "      <td>3883.000000</td>\n",
       "      <td>3883.000000</td>\n",
       "    </tr>\n",
       "    <tr>\n",
       "      <th>mean</th>\n",
       "      <td>1986.049446</td>\n",
       "      <td>0.129539</td>\n",
       "      <td>0.072882</td>\n",
       "      <td>0.027041</td>\n",
       "      <td>0.064641</td>\n",
       "      <td>0.309039</td>\n",
       "      <td>0.054339</td>\n",
       "      <td>0.032707</td>\n",
       "      <td>0.412825</td>\n",
       "      <td>0.017512</td>\n",
       "      <td>0.011331</td>\n",
       "      <td>0.088334</td>\n",
       "      <td>0.029359</td>\n",
       "      <td>0.027298</td>\n",
       "      <td>0.121298</td>\n",
       "      <td>0.071079</td>\n",
       "      <td>0.126706</td>\n",
       "      <td>0.036827</td>\n",
       "      <td>0.017512</td>\n",
       "    </tr>\n",
       "    <tr>\n",
       "      <th>std</th>\n",
       "      <td>1146.778349</td>\n",
       "      <td>0.335839</td>\n",
       "      <td>0.259976</td>\n",
       "      <td>0.162224</td>\n",
       "      <td>0.245923</td>\n",
       "      <td>0.462157</td>\n",
       "      <td>0.226715</td>\n",
       "      <td>0.177891</td>\n",
       "      <td>0.492405</td>\n",
       "      <td>0.131187</td>\n",
       "      <td>0.105858</td>\n",
       "      <td>0.283816</td>\n",
       "      <td>0.168832</td>\n",
       "      <td>0.162973</td>\n",
       "      <td>0.326515</td>\n",
       "      <td>0.256990</td>\n",
       "      <td>0.332686</td>\n",
       "      <td>0.188362</td>\n",
       "      <td>0.131187</td>\n",
       "    </tr>\n",
       "    <tr>\n",
       "      <th>min</th>\n",
       "      <td>1.000000</td>\n",
       "      <td>0.000000</td>\n",
       "      <td>0.000000</td>\n",
       "      <td>0.000000</td>\n",
       "      <td>0.000000</td>\n",
       "      <td>0.000000</td>\n",
       "      <td>0.000000</td>\n",
       "      <td>0.000000</td>\n",
       "      <td>0.000000</td>\n",
       "      <td>0.000000</td>\n",
       "      <td>0.000000</td>\n",
       "      <td>0.000000</td>\n",
       "      <td>0.000000</td>\n",
       "      <td>0.000000</td>\n",
       "      <td>0.000000</td>\n",
       "      <td>0.000000</td>\n",
       "      <td>0.000000</td>\n",
       "      <td>0.000000</td>\n",
       "      <td>0.000000</td>\n",
       "    </tr>\n",
       "    <tr>\n",
       "      <th>25%</th>\n",
       "      <td>982.500000</td>\n",
       "      <td>0.000000</td>\n",
       "      <td>0.000000</td>\n",
       "      <td>0.000000</td>\n",
       "      <td>0.000000</td>\n",
       "      <td>0.000000</td>\n",
       "      <td>0.000000</td>\n",
       "      <td>0.000000</td>\n",
       "      <td>0.000000</td>\n",
       "      <td>0.000000</td>\n",
       "      <td>0.000000</td>\n",
       "      <td>0.000000</td>\n",
       "      <td>0.000000</td>\n",
       "      <td>0.000000</td>\n",
       "      <td>0.000000</td>\n",
       "      <td>0.000000</td>\n",
       "      <td>0.000000</td>\n",
       "      <td>0.000000</td>\n",
       "      <td>0.000000</td>\n",
       "    </tr>\n",
       "    <tr>\n",
       "      <th>50%</th>\n",
       "      <td>2010.000000</td>\n",
       "      <td>0.000000</td>\n",
       "      <td>0.000000</td>\n",
       "      <td>0.000000</td>\n",
       "      <td>0.000000</td>\n",
       "      <td>0.000000</td>\n",
       "      <td>0.000000</td>\n",
       "      <td>0.000000</td>\n",
       "      <td>0.000000</td>\n",
       "      <td>0.000000</td>\n",
       "      <td>0.000000</td>\n",
       "      <td>0.000000</td>\n",
       "      <td>0.000000</td>\n",
       "      <td>0.000000</td>\n",
       "      <td>0.000000</td>\n",
       "      <td>0.000000</td>\n",
       "      <td>0.000000</td>\n",
       "      <td>0.000000</td>\n",
       "      <td>0.000000</td>\n",
       "    </tr>\n",
       "    <tr>\n",
       "      <th>75%</th>\n",
       "      <td>2980.500000</td>\n",
       "      <td>0.000000</td>\n",
       "      <td>0.000000</td>\n",
       "      <td>0.000000</td>\n",
       "      <td>0.000000</td>\n",
       "      <td>1.000000</td>\n",
       "      <td>0.000000</td>\n",
       "      <td>0.000000</td>\n",
       "      <td>1.000000</td>\n",
       "      <td>0.000000</td>\n",
       "      <td>0.000000</td>\n",
       "      <td>0.000000</td>\n",
       "      <td>0.000000</td>\n",
       "      <td>0.000000</td>\n",
       "      <td>0.000000</td>\n",
       "      <td>0.000000</td>\n",
       "      <td>0.000000</td>\n",
       "      <td>0.000000</td>\n",
       "      <td>0.000000</td>\n",
       "    </tr>\n",
       "    <tr>\n",
       "      <th>max</th>\n",
       "      <td>3952.000000</td>\n",
       "      <td>1.000000</td>\n",
       "      <td>1.000000</td>\n",
       "      <td>1.000000</td>\n",
       "      <td>1.000000</td>\n",
       "      <td>1.000000</td>\n",
       "      <td>1.000000</td>\n",
       "      <td>1.000000</td>\n",
       "      <td>1.000000</td>\n",
       "      <td>1.000000</td>\n",
       "      <td>1.000000</td>\n",
       "      <td>1.000000</td>\n",
       "      <td>1.000000</td>\n",
       "      <td>1.000000</td>\n",
       "      <td>1.000000</td>\n",
       "      <td>1.000000</td>\n",
       "      <td>1.000000</td>\n",
       "      <td>1.000000</td>\n",
       "      <td>1.000000</td>\n",
       "    </tr>\n",
       "  </tbody>\n",
       "</table>\n",
       "</div>"
      ],
      "text/plain": [
       "          movie_id       Action    Adventure    Animation   Children's  \\\n",
       "count  3883.000000  3883.000000  3883.000000  3883.000000  3883.000000   \n",
       "mean   1986.049446     0.129539     0.072882     0.027041     0.064641   \n",
       "std    1146.778349     0.335839     0.259976     0.162224     0.245923   \n",
       "min       1.000000     0.000000     0.000000     0.000000     0.000000   \n",
       "25%     982.500000     0.000000     0.000000     0.000000     0.000000   \n",
       "50%    2010.000000     0.000000     0.000000     0.000000     0.000000   \n",
       "75%    2980.500000     0.000000     0.000000     0.000000     0.000000   \n",
       "max    3952.000000     1.000000     1.000000     1.000000     1.000000   \n",
       "\n",
       "            Comedy        Crime  Documentary        Drama      Fantasy  \\\n",
       "count  3883.000000  3883.000000  3883.000000  3883.000000  3883.000000   \n",
       "mean      0.309039     0.054339     0.032707     0.412825     0.017512   \n",
       "std       0.462157     0.226715     0.177891     0.492405     0.131187   \n",
       "min       0.000000     0.000000     0.000000     0.000000     0.000000   \n",
       "25%       0.000000     0.000000     0.000000     0.000000     0.000000   \n",
       "50%       0.000000     0.000000     0.000000     0.000000     0.000000   \n",
       "75%       1.000000     0.000000     0.000000     1.000000     0.000000   \n",
       "max       1.000000     1.000000     1.000000     1.000000     1.000000   \n",
       "\n",
       "         Film-Noir       Horror      Musical      Mystery      Romance  \\\n",
       "count  3883.000000  3883.000000  3883.000000  3883.000000  3883.000000   \n",
       "mean      0.011331     0.088334     0.029359     0.027298     0.121298   \n",
       "std       0.105858     0.283816     0.168832     0.162973     0.326515   \n",
       "min       0.000000     0.000000     0.000000     0.000000     0.000000   \n",
       "25%       0.000000     0.000000     0.000000     0.000000     0.000000   \n",
       "50%       0.000000     0.000000     0.000000     0.000000     0.000000   \n",
       "75%       0.000000     0.000000     0.000000     0.000000     0.000000   \n",
       "max       1.000000     1.000000     1.000000     1.000000     1.000000   \n",
       "\n",
       "            Sci-Fi     Thriller          War      Western  \n",
       "count  3883.000000  3883.000000  3883.000000  3883.000000  \n",
       "mean      0.071079     0.126706     0.036827     0.017512  \n",
       "std       0.256990     0.332686     0.188362     0.131187  \n",
       "min       0.000000     0.000000     0.000000     0.000000  \n",
       "25%       0.000000     0.000000     0.000000     0.000000  \n",
       "50%       0.000000     0.000000     0.000000     0.000000  \n",
       "75%       0.000000     0.000000     0.000000     0.000000  \n",
       "max       1.000000     1.000000     1.000000     1.000000  "
      ]
     },
     "execution_count": 19,
     "metadata": {},
     "output_type": "execute_result"
    }
   ],
   "source": [
    "new_movies.describe()"
   ]
  },
  {
   "cell_type": "code",
   "execution_count": 20,
   "metadata": {},
   "outputs": [
    {
     "data": {
      "text/plain": [
       "M    4331\n",
       "F    1709\n",
       "Name: gender, dtype: int64"
      ]
     },
     "execution_count": 20,
     "metadata": {},
     "output_type": "execute_result"
    }
   ],
   "source": [
    "users[\"gender\"].value_counts()"
   ]
  },
  {
   "cell_type": "code",
   "execution_count": 21,
   "metadata": {},
   "outputs": [
    {
     "data": {
      "text/plain": [
       "48104         19\n",
       "22903         18\n",
       "94110         17\n",
       "55104         17\n",
       "55455         16\n",
       "10025         16\n",
       "55105         16\n",
       "02138         15\n",
       "94114         15\n",
       "55408         15\n",
       "98103         14\n",
       "90024         14\n",
       "94117         14\n",
       "10016         13\n",
       "48103         13\n",
       "37922         13\n",
       "60640         13\n",
       "90210         13\n",
       "55406         12\n",
       "48105         11\n",
       "55405         11\n",
       "02139         11\n",
       "55113         11\n",
       "10003         11\n",
       "02143         10\n",
       "55116         10\n",
       "98115         10\n",
       "97330         10\n",
       "60657         10\n",
       "13210         10\n",
       "              ..\n",
       "98467          1\n",
       "27587          1\n",
       "89507          1\n",
       "48169          1\n",
       "01501          1\n",
       "26101          1\n",
       "11717          1\n",
       "30501          1\n",
       "10472          1\n",
       "12553          1\n",
       "65550          1\n",
       "20744-6223     1\n",
       "48005          1\n",
       "22046          1\n",
       "11361          1\n",
       "70458          1\n",
       "15701-1348     1\n",
       "17402          1\n",
       "11218          1\n",
       "49841          1\n",
       "46814          1\n",
       "07470          1\n",
       "28704          1\n",
       "78945          1\n",
       "78701          1\n",
       "01020          1\n",
       "32312          1\n",
       "13021          1\n",
       "11211          1\n",
       "17517          1\n",
       "Name: zip_code, Length: 3439, dtype: int64"
      ]
     },
     "execution_count": 21,
     "metadata": {},
     "output_type": "execute_result"
    }
   ],
   "source": [
    "users[\"zip_code\"].value_counts()"
   ]
  },
  {
   "cell_type": "markdown",
   "metadata": {},
   "source": [
    "# Variáveis Numéricas"
   ]
  },
  {
   "cell_type": "code",
   "execution_count": 22,
   "metadata": {
    "colab": {},
    "colab_type": "code",
    "id": "iUqXwjN_8Mxo"
   },
   "outputs": [
    {
     "data": {
      "text/html": [
       "<div>\n",
       "<style scoped>\n",
       "    .dataframe tbody tr th:only-of-type {\n",
       "        vertical-align: middle;\n",
       "    }\n",
       "\n",
       "    .dataframe tbody tr th {\n",
       "        vertical-align: top;\n",
       "    }\n",
       "\n",
       "    .dataframe thead th {\n",
       "        text-align: right;\n",
       "    }\n",
       "</style>\n",
       "<table border=\"1\" class=\"dataframe\">\n",
       "  <thead>\n",
       "    <tr style=\"text-align: right;\">\n",
       "      <th></th>\n",
       "      <th>user_id</th>\n",
       "      <th>age</th>\n",
       "      <th>occupation</th>\n",
       "    </tr>\n",
       "  </thead>\n",
       "  <tbody>\n",
       "    <tr>\n",
       "      <th>count</th>\n",
       "      <td>6040.000000</td>\n",
       "      <td>6040.000000</td>\n",
       "      <td>6040.000000</td>\n",
       "    </tr>\n",
       "    <tr>\n",
       "      <th>mean</th>\n",
       "      <td>3020.500000</td>\n",
       "      <td>30.639238</td>\n",
       "      <td>8.146854</td>\n",
       "    </tr>\n",
       "    <tr>\n",
       "      <th>std</th>\n",
       "      <td>1743.742145</td>\n",
       "      <td>12.895962</td>\n",
       "      <td>6.329511</td>\n",
       "    </tr>\n",
       "    <tr>\n",
       "      <th>min</th>\n",
       "      <td>1.000000</td>\n",
       "      <td>1.000000</td>\n",
       "      <td>0.000000</td>\n",
       "    </tr>\n",
       "    <tr>\n",
       "      <th>25%</th>\n",
       "      <td>1510.750000</td>\n",
       "      <td>25.000000</td>\n",
       "      <td>3.000000</td>\n",
       "    </tr>\n",
       "    <tr>\n",
       "      <th>50%</th>\n",
       "      <td>3020.500000</td>\n",
       "      <td>25.000000</td>\n",
       "      <td>7.000000</td>\n",
       "    </tr>\n",
       "    <tr>\n",
       "      <th>75%</th>\n",
       "      <td>4530.250000</td>\n",
       "      <td>35.000000</td>\n",
       "      <td>14.000000</td>\n",
       "    </tr>\n",
       "    <tr>\n",
       "      <th>max</th>\n",
       "      <td>6040.000000</td>\n",
       "      <td>56.000000</td>\n",
       "      <td>20.000000</td>\n",
       "    </tr>\n",
       "  </tbody>\n",
       "</table>\n",
       "</div>"
      ],
      "text/plain": [
       "           user_id          age   occupation\n",
       "count  6040.000000  6040.000000  6040.000000\n",
       "mean   3020.500000    30.639238     8.146854\n",
       "std    1743.742145    12.895962     6.329511\n",
       "min       1.000000     1.000000     0.000000\n",
       "25%    1510.750000    25.000000     3.000000\n",
       "50%    3020.500000    25.000000     7.000000\n",
       "75%    4530.250000    35.000000    14.000000\n",
       "max    6040.000000    56.000000    20.000000"
      ]
     },
     "execution_count": 22,
     "metadata": {},
     "output_type": "execute_result"
    }
   ],
   "source": [
    "users.describe() #Medidas resumo"
   ]
  },
  {
   "cell_type": "code",
   "execution_count": 23,
   "metadata": {},
   "outputs": [
    {
     "data": {
      "text/html": [
       "<div>\n",
       "<style scoped>\n",
       "    .dataframe tbody tr th:only-of-type {\n",
       "        vertical-align: middle;\n",
       "    }\n",
       "\n",
       "    .dataframe tbody tr th {\n",
       "        vertical-align: top;\n",
       "    }\n",
       "\n",
       "    .dataframe thead th {\n",
       "        text-align: right;\n",
       "    }\n",
       "</style>\n",
       "<table border=\"1\" class=\"dataframe\">\n",
       "  <thead>\n",
       "    <tr style=\"text-align: right;\">\n",
       "      <th></th>\n",
       "      <th>user_id</th>\n",
       "      <th>movie_id</th>\n",
       "      <th>rating</th>\n",
       "      <th>unix_timestamp</th>\n",
       "    </tr>\n",
       "  </thead>\n",
       "  <tbody>\n",
       "    <tr>\n",
       "      <th>count</th>\n",
       "      <td>1.000209e+06</td>\n",
       "      <td>1.000209e+06</td>\n",
       "      <td>1.000209e+06</td>\n",
       "      <td>1.000209e+06</td>\n",
       "    </tr>\n",
       "    <tr>\n",
       "      <th>mean</th>\n",
       "      <td>3.024512e+03</td>\n",
       "      <td>1.865540e+03</td>\n",
       "      <td>3.581564e+00</td>\n",
       "      <td>9.722437e+08</td>\n",
       "    </tr>\n",
       "    <tr>\n",
       "      <th>std</th>\n",
       "      <td>1.728413e+03</td>\n",
       "      <td>1.096041e+03</td>\n",
       "      <td>1.117102e+00</td>\n",
       "      <td>1.215256e+07</td>\n",
       "    </tr>\n",
       "    <tr>\n",
       "      <th>min</th>\n",
       "      <td>1.000000e+00</td>\n",
       "      <td>1.000000e+00</td>\n",
       "      <td>1.000000e+00</td>\n",
       "      <td>9.567039e+08</td>\n",
       "    </tr>\n",
       "    <tr>\n",
       "      <th>25%</th>\n",
       "      <td>1.506000e+03</td>\n",
       "      <td>1.030000e+03</td>\n",
       "      <td>3.000000e+00</td>\n",
       "      <td>9.653026e+08</td>\n",
       "    </tr>\n",
       "    <tr>\n",
       "      <th>50%</th>\n",
       "      <td>3.070000e+03</td>\n",
       "      <td>1.835000e+03</td>\n",
       "      <td>4.000000e+00</td>\n",
       "      <td>9.730180e+08</td>\n",
       "    </tr>\n",
       "    <tr>\n",
       "      <th>75%</th>\n",
       "      <td>4.476000e+03</td>\n",
       "      <td>2.770000e+03</td>\n",
       "      <td>4.000000e+00</td>\n",
       "      <td>9.752209e+08</td>\n",
       "    </tr>\n",
       "    <tr>\n",
       "      <th>max</th>\n",
       "      <td>6.040000e+03</td>\n",
       "      <td>3.952000e+03</td>\n",
       "      <td>5.000000e+00</td>\n",
       "      <td>1.046455e+09</td>\n",
       "    </tr>\n",
       "  </tbody>\n",
       "</table>\n",
       "</div>"
      ],
      "text/plain": [
       "            user_id      movie_id        rating  unix_timestamp\n",
       "count  1.000209e+06  1.000209e+06  1.000209e+06    1.000209e+06\n",
       "mean   3.024512e+03  1.865540e+03  3.581564e+00    9.722437e+08\n",
       "std    1.728413e+03  1.096041e+03  1.117102e+00    1.215256e+07\n",
       "min    1.000000e+00  1.000000e+00  1.000000e+00    9.567039e+08\n",
       "25%    1.506000e+03  1.030000e+03  3.000000e+00    9.653026e+08\n",
       "50%    3.070000e+03  1.835000e+03  4.000000e+00    9.730180e+08\n",
       "75%    4.476000e+03  2.770000e+03  4.000000e+00    9.752209e+08\n",
       "max    6.040000e+03  3.952000e+03  5.000000e+00    1.046455e+09"
      ]
     },
     "execution_count": 23,
     "metadata": {},
     "output_type": "execute_result"
    }
   ],
   "source": [
    "ratings.describe() #Medidas resumo"
   ]
  },
  {
   "cell_type": "code",
   "execution_count": 24,
   "metadata": {},
   "outputs": [
    {
     "data": {
      "text/html": [
       "<div>\n",
       "<style scoped>\n",
       "    .dataframe tbody tr th:only-of-type {\n",
       "        vertical-align: middle;\n",
       "    }\n",
       "\n",
       "    .dataframe tbody tr th {\n",
       "        vertical-align: top;\n",
       "    }\n",
       "\n",
       "    .dataframe thead th {\n",
       "        text-align: right;\n",
       "    }\n",
       "</style>\n",
       "<table border=\"1\" class=\"dataframe\">\n",
       "  <thead>\n",
       "    <tr style=\"text-align: right;\">\n",
       "      <th></th>\n",
       "      <th>movie_id</th>\n",
       "    </tr>\n",
       "  </thead>\n",
       "  <tbody>\n",
       "    <tr>\n",
       "      <th>count</th>\n",
       "      <td>3883.000000</td>\n",
       "    </tr>\n",
       "    <tr>\n",
       "      <th>mean</th>\n",
       "      <td>1986.049446</td>\n",
       "    </tr>\n",
       "    <tr>\n",
       "      <th>std</th>\n",
       "      <td>1146.778349</td>\n",
       "    </tr>\n",
       "    <tr>\n",
       "      <th>min</th>\n",
       "      <td>1.000000</td>\n",
       "    </tr>\n",
       "    <tr>\n",
       "      <th>25%</th>\n",
       "      <td>982.500000</td>\n",
       "    </tr>\n",
       "    <tr>\n",
       "      <th>50%</th>\n",
       "      <td>2010.000000</td>\n",
       "    </tr>\n",
       "    <tr>\n",
       "      <th>75%</th>\n",
       "      <td>2980.500000</td>\n",
       "    </tr>\n",
       "    <tr>\n",
       "      <th>max</th>\n",
       "      <td>3952.000000</td>\n",
       "    </tr>\n",
       "  </tbody>\n",
       "</table>\n",
       "</div>"
      ],
      "text/plain": [
       "          movie_id\n",
       "count  3883.000000\n",
       "mean   1986.049446\n",
       "std    1146.778349\n",
       "min       1.000000\n",
       "25%     982.500000\n",
       "50%    2010.000000\n",
       "75%    2980.500000\n",
       "max    3952.000000"
      ]
     },
     "execution_count": 24,
     "metadata": {},
     "output_type": "execute_result"
    }
   ],
   "source": [
    "movies.describe() #Medidas resumo"
   ]
  },
  {
   "cell_type": "markdown",
   "metadata": {},
   "source": [
    "# Histogramas"
   ]
  },
  {
   "cell_type": "code",
   "execution_count": 25,
   "metadata": {
    "colab": {},
    "colab_type": "code",
    "id": "qaNOxfbs8Mxv"
   },
   "outputs": [
    {
     "data": {
      "image/png": "[encoded data removed]",
      "text/plain": [
       "<Figure size 1440x1080 with 4 Axes>"
      ]
     },
     "metadata": {
      "needs_background": "light"
     },
     "output_type": "display_data"
    }
   ],
   "source": [
    "%matplotlib inline\n",
    "import matplotlib.pyplot as plt\n",
    "users.hist(bins=50, figsize=(20,15))\n",
    "plt.show()"
   ]
  },
  {
   "cell_type": "code",
   "execution_count": 26,
   "metadata": {},
   "outputs": [
    {
     "data": {
      "image/png": "[encoded data removed]",
      "text/plain": [
       "<Figure size 1440x1080 with 4 Axes>"
      ]
     },
     "metadata": {
      "needs_background": "light"
     },
     "output_type": "display_data"
    }
   ],
   "source": [
    "%matplotlib inline\n",
    "import matplotlib.pyplot as plt\n",
    "ratings.hist(bins=50, figsize=(20,15))\n",
    "plt.show()"
   ]
  },
  {
   "cell_type": "code",
   "execution_count": 27,
   "metadata": {},
   "outputs": [
    {
     "data": {
      "image/png": "[encoded data removed]",
      "text/plain": [
       "<Figure size 1440x1080 with 1 Axes>"
      ]
     },
     "metadata": {
      "needs_background": "light"
     },
     "output_type": "display_data"
    }
   ],
   "source": [
    "%matplotlib inline\n",
    "import matplotlib.pyplot as plt\n",
    "movies.hist(bins=50, figsize=(20,15))\n",
    "plt.show()"
   ]
  },
  {
   "cell_type": "code",
   "execution_count": 28,
   "metadata": {
    "scrolled": false
   },
   "outputs": [
    {
     "data": {
      "image/png": "[encoded data removed]",
      "text/plain": [
       "<Figure size 1008x432 with 1 Axes>"
      ]
     },
     "metadata": {
      "needs_background": "light"
     },
     "output_type": "display_data"
    }
   ],
   "source": [
    "# Function that control the color of the words\n",
    "def random_color_func(word=None, font_size=None, position=None,\n",
    "                      orientation=None, font_path=None, random_state=None):\n",
    "    h = int(360.0 * tone / 255.0)\n",
    "    s = int(100.0 * 255.0 / 255.0)\n",
    "    l = int(100.0 * float(random_state.randint(70, 120)) / 255.0)\n",
    "    return \"hsl({}, {}%, {}%)\".format(h, s, l)\n",
    "\n",
    "\n",
    "#Finally, the result is shown as a wordcloud:\n",
    "words = dict()\n",
    "trunc_occurences = keyword_occurences[0:50]\n",
    "for s in trunc_occurences:\n",
    "    words[s[0]] = s[1]\n",
    "tone = 100 # define the color of the words\n",
    "f, ax = plt.subplots(figsize=(14, 6))\n",
    "wordcloud = WordCloud(width=550,height=300, background_color='black', \n",
    "                      max_words=1628,relative_scaling=0.7,\n",
    "                      color_func = random_color_func,\n",
    "                      normalize_plurals=False)\n",
    "wordcloud.generate_from_frequencies(words)\n",
    "plt.imshow(wordcloud, interpolation=\"bilinear\")\n",
    "plt.axis('off')\n",
    "plt.show()"
   ]
  },
  {
   "cell_type": "code",
   "execution_count": 29,
   "metadata": {},
   "outputs": [
    {
     "data": {
      "image/png": "[encoded data removed]",
      "text/plain": [
       "<Figure size 1296x936 with 1 Axes>"
      ]
     },
     "metadata": {
      "needs_background": "light"
     },
     "output_type": "display_data"
    }
   ],
   "source": [
    "# lets display the same result in the histogram\n",
    "fig = plt.figure(1, figsize=(18,13))\n",
    "ax2 = fig.add_subplot(2,1,2)\n",
    "y_axis = [i[1] for i in trunc_occurences]\n",
    "x_axis = [k for k,i in enumerate(trunc_occurences)]\n",
    "x_label = [i[0] for i in trunc_occurences]\n",
    "plt.xticks(rotation=85, fontsize = 15)\n",
    "plt.yticks(fontsize = 15)\n",
    "plt.xticks(x_axis, x_label)\n",
    "plt.ylabel(\"No. of occurences\", fontsize = 24, labelpad = 0)\n",
    "ax2.bar(x_axis, y_axis, align = 'center', color='r')\n",
    "plt.title(\"Popularity of Genres\",bbox={'facecolor':'k', 'pad':5},color='w',fontsize = 30)\n",
    "plt.show()"
   ]
  },
  {
   "cell_type": "markdown",
   "metadata": {},
   "source": [
    "# Limpeza"
   ]
  },
  {
   "cell_type": "code",
   "execution_count": 30,
   "metadata": {},
   "outputs": [
    {
     "data": {
      "text/plain": [
       "user_id       False\n",
       "gender        False\n",
       "age           False\n",
       "occupation    False\n",
       "zip_code      False\n",
       "dtype: bool"
      ]
     },
     "execution_count": 30,
     "metadata": {},
     "output_type": "execute_result"
    }
   ],
   "source": [
    "#is any row null\n",
    "users.isnull().any()"
   ]
  },
  {
   "cell_type": "code",
   "execution_count": 31,
   "metadata": {},
   "outputs": [
    {
     "data": {
      "text/plain": [
       "movie_id    False\n",
       "title       False\n",
       "genres      False\n",
       "dtype: bool"
      ]
     },
     "execution_count": 31,
     "metadata": {},
     "output_type": "execute_result"
    }
   ],
   "source": [
    "#is any row null\n",
    "movies.isnull().any()"
   ]
  },
  {
   "cell_type": "code",
   "execution_count": 32,
   "metadata": {},
   "outputs": [
    {
     "data": {
      "text/plain": [
       "user_id           False\n",
       "movie_id          False\n",
       "rating            False\n",
       "unix_timestamp    False\n",
       "dtype: bool"
      ]
     },
     "execution_count": 32,
     "metadata": {},
     "output_type": "execute_result"
    }
   ],
   "source": [
    "#is any row null\n",
    "ratings.isnull().any()"
   ]
  },
  {
   "cell_type": "markdown",
   "metadata": {},
   "source": [
    "# ml1m-cao2sun"
   ]
  },
  {
   "cell_type": "code",
   "execution_count": 37,
   "metadata": {},
   "outputs": [],
   "source": [
    "# https://www.kaggle.com/cesarcf1977/movielens-data-analysis-beginner-s-first\n",
    "# from http://www.gregreda.com/2013/10/26/using-pandas-on-the-movielens-dataset/\n",
    "CAO2SUN_PATH = os.path.join(\"..\", \"..\", \"datasets\", \"ml1m-cao2sun\")\n",
    "def load_ml1m_cao2sun_data(save_path=CAO2SUN_PATH):\n",
    "    # pass in column names for each CSV\n",
    "    csv_path = os.path.join(save_path, \"ml1m\", \"auxiliary-mapping.txt\")\n",
    "    u_cols = ['entity_id', 'cinematography', 'productionCompanies', 'composer', 'subject', 'openingFilm', 'seeAlso', 'story', 'series', 'type', 'basedOn', 'starring', 'country', 'wikiPageWikiLink', 'hypernym', 'editing', 'producers', 'allWriting', 'notableWork', 'director', 'award']\n",
    "    auxiliary = pd.read_csv(csv_path, sep='|', engine=\"python\", names=u_cols, encoding='utf8')\n",
    "\n",
    "    csv_path = os.path.join(save_path, \"ml1m\", \"ratings-delete-missing-itemid.txt\")\n",
    "    r_cols = ['user_id', 'movie_id', 'rating', 'unix_timestamp']\n",
    "    ratings = pd.read_csv(csv_path, sep='\\t', engine=\"python\", names=r_cols, encoding='utf8')\n",
    "    \n",
    "    # create one merged DataFrame\n",
    "    return auxiliary, ratings"
   ]
  },
  {
   "cell_type": "code",
   "execution_count": 39,
   "metadata": {
    "scrolled": true
   },
   "outputs": [
    {
     "data": {
      "text/html": [
       "<div>\n",
       "<style scoped>\n",
       "    .dataframe tbody tr th:only-of-type {\n",
       "        vertical-align: middle;\n",
       "    }\n",
       "\n",
       "    .dataframe tbody tr th {\n",
       "        vertical-align: top;\n",
       "    }\n",
       "\n",
       "    .dataframe thead th {\n",
       "        text-align: right;\n",
       "    }\n",
       "</style>\n",
       "<table border=\"1\" class=\"dataframe\">\n",
       "  <thead>\n",
       "    <tr style=\"text-align: right;\">\n",
       "      <th></th>\n",
       "      <th>entity_id</th>\n",
       "      <th>cinematography</th>\n",
       "      <th>productionCompanies</th>\n",
       "      <th>composer</th>\n",
       "      <th>subject</th>\n",
       "      <th>openingFilm</th>\n",
       "      <th>seeAlso</th>\n",
       "      <th>story</th>\n",
       "      <th>series</th>\n",
       "      <th>type</th>\n",
       "      <th>...</th>\n",
       "      <th>starring</th>\n",
       "      <th>country</th>\n",
       "      <th>wikiPageWikiLink</th>\n",
       "      <th>hypernym</th>\n",
       "      <th>editing</th>\n",
       "      <th>producers</th>\n",
       "      <th>allWriting</th>\n",
       "      <th>notableWork</th>\n",
       "      <th>director</th>\n",
       "      <th>award</th>\n",
       "    </tr>\n",
       "  </thead>\n",
       "  <tbody>\n",
       "    <tr>\n",
       "      <th>0</th>\n",
       "      <td>1050</td>\n",
       "      <td>NaN</td>\n",
       "      <td>5479, 4955</td>\n",
       "      <td>8996</td>\n",
       "      <td>11770, 7256, 12755, 4819, 1987, 6705</td>\n",
       "      <td>NaN</td>\n",
       "      <td>NaN</td>\n",
       "      <td>NaN</td>\n",
       "      <td>NaN</td>\n",
       "      <td>7914, 208, 11266, 161, 10377, 2649, 5210, 1695...</td>\n",
       "      <td>...</td>\n",
       "      <td>9055, 12572, 1298, 12982, 9395</td>\n",
       "      <td>NaN</td>\n",
       "      <td>4955, 1424, 9378, 1987, 19, 12413, 11770, 8410...</td>\n",
       "      <td>4426.0</td>\n",
       "      <td>NaN</td>\n",
       "      <td>12572</td>\n",
       "      <td>12572, 703</td>\n",
       "      <td>NaN</td>\n",
       "      <td>12572</td>\n",
       "      <td>NaN</td>\n",
       "    </tr>\n",
       "    <tr>\n",
       "      <th>1</th>\n",
       "      <td>2898</td>\n",
       "      <td>6592</td>\n",
       "      <td>1770</td>\n",
       "      <td>7276</td>\n",
       "      <td>1880, 4389, 2538, 5371, 10981, 110, 7397, 1275...</td>\n",
       "      <td>NaN</td>\n",
       "      <td>NaN</td>\n",
       "      <td>NaN</td>\n",
       "      <td>NaN</td>\n",
       "      <td>7418, 9573, 7943, 10448, 1161, 10377, 5210, 16...</td>\n",
       "      <td>...</td>\n",
       "      <td>7111, 12313, 14411</td>\n",
       "      <td>NaN</td>\n",
       "      <td>6490, 13298, 8751, 10298, 6592, 12313, 1770, 2...</td>\n",
       "      <td>2551.0</td>\n",
       "      <td>NaN</td>\n",
       "      <td>14437</td>\n",
       "      <td>14437</td>\n",
       "      <td>NaN</td>\n",
       "      <td>14437</td>\n",
       "      <td>NaN</td>\n",
       "    </tr>\n",
       "    <tr>\n",
       "      <th>2</th>\n",
       "      <td>146</td>\n",
       "      <td>9390</td>\n",
       "      <td>11948</td>\n",
       "      <td>7639</td>\n",
       "      <td>10243, 3789, 6705, 11800, 1680, 9375, 6026, 10...</td>\n",
       "      <td>NaN</td>\n",
       "      <td>NaN</td>\n",
       "      <td>NaN</td>\n",
       "      <td>NaN</td>\n",
       "      <td>5210, 4988, 1097, 208, 2630, 161, 1047, 7943, ...</td>\n",
       "      <td>...</td>\n",
       "      <td>4602</td>\n",
       "      <td>NaN</td>\n",
       "      <td>12755, 6705, 9663, 11152, 9926, 6026, 10265, 1...</td>\n",
       "      <td>4426.0</td>\n",
       "      <td>NaN</td>\n",
       "      <td>NaN</td>\n",
       "      <td>NaN</td>\n",
       "      <td>NaN</td>\n",
       "      <td>NaN</td>\n",
       "      <td>NaN</td>\n",
       "    </tr>\n",
       "    <tr>\n",
       "      <th>3</th>\n",
       "      <td>257</td>\n",
       "      <td>10386</td>\n",
       "      <td>8438</td>\n",
       "      <td>13430</td>\n",
       "      <td>330, 14331, 1457, 2361, 3473, 5567, 224, 3198,...</td>\n",
       "      <td>NaN</td>\n",
       "      <td>NaN</td>\n",
       "      <td>NaN</td>\n",
       "      <td>NaN</td>\n",
       "      <td>7943, 13935, 8221, 12952, 945, 4870, 5210, 133...</td>\n",
       "      <td>...</td>\n",
       "      <td>4634, 3081, 1257, 6944, 8594, 12353</td>\n",
       "      <td>NaN</td>\n",
       "      <td>406, 2734, 14331, 330, 12163, 13342, 1257, 330...</td>\n",
       "      <td>4426.0</td>\n",
       "      <td>11768</td>\n",
       "      <td>NaN</td>\n",
       "      <td>6857, 586</td>\n",
       "      <td>NaN</td>\n",
       "      <td>NaN</td>\n",
       "      <td>NaN</td>\n",
       "    </tr>\n",
       "    <tr>\n",
       "      <th>4</th>\n",
       "      <td>1025</td>\n",
       "      <td>NaN</td>\n",
       "      <td>157, 2057</td>\n",
       "      <td>2965</td>\n",
       "      <td>12345, 214, 12508, 5152, 12545, 1266, 7727, 51...</td>\n",
       "      <td>NaN</td>\n",
       "      <td>NaN</td>\n",
       "      <td>NaN</td>\n",
       "      <td>NaN</td>\n",
       "      <td>7869, 2636, 14139, 11706, 9733, 13950, 8578, 4...</td>\n",
       "      <td>...</td>\n",
       "      <td>12422, 5408</td>\n",
       "      <td>NaN</td>\n",
       "      <td>8989, 12199, 5597, 4921, 14156, 652, 8792, 127...</td>\n",
       "      <td>7821.0</td>\n",
       "      <td>NaN</td>\n",
       "      <td>6724</td>\n",
       "      <td>2808</td>\n",
       "      <td>NaN</td>\n",
       "      <td>10067</td>\n",
       "      <td>NaN</td>\n",
       "    </tr>\n",
       "  </tbody>\n",
       "</table>\n",
       "<p>5 rows × 21 columns</p>\n",
       "</div>"
      ],
      "text/plain": [
       "   entity_id cinematography productionCompanies composer  \\\n",
       "0       1050            NaN          5479, 4955     8996   \n",
       "1       2898           6592                1770     7276   \n",
       "2        146           9390               11948     7639   \n",
       "3        257          10386                8438    13430   \n",
       "4       1025            NaN           157, 2057     2965   \n",
       "\n",
       "                                             subject  openingFilm seeAlso  \\\n",
       "0               11770, 7256, 12755, 4819, 1987, 6705          NaN     NaN   \n",
       "1  1880, 4389, 2538, 5371, 10981, 110, 7397, 1275...          NaN     NaN   \n",
       "2  10243, 3789, 6705, 11800, 1680, 9375, 6026, 10...          NaN     NaN   \n",
       "3  330, 14331, 1457, 2361, 3473, 5567, 224, 3198,...          NaN     NaN   \n",
       "4  12345, 214, 12508, 5152, 12545, 1266, 7727, 51...          NaN     NaN   \n",
       "\n",
       "  story  series                                               type  ...  \\\n",
       "0   NaN     NaN  7914, 208, 11266, 161, 10377, 2649, 5210, 1695...  ...   \n",
       "1   NaN     NaN  7418, 9573, 7943, 10448, 1161, 10377, 5210, 16...  ...   \n",
       "2   NaN     NaN  5210, 4988, 1097, 208, 2630, 161, 1047, 7943, ...  ...   \n",
       "3   NaN     NaN  7943, 13935, 8221, 12952, 945, 4870, 5210, 133...  ...   \n",
       "4   NaN     NaN  7869, 2636, 14139, 11706, 9733, 13950, 8578, 4...  ...   \n",
       "\n",
       "                              starring country  \\\n",
       "0       9055, 12572, 1298, 12982, 9395     NaN   \n",
       "1                   7111, 12313, 14411     NaN   \n",
       "2                                 4602     NaN   \n",
       "3  4634, 3081, 1257, 6944, 8594, 12353     NaN   \n",
       "4                          12422, 5408     NaN   \n",
       "\n",
       "                                    wikiPageWikiLink hypernym  editing  \\\n",
       "0  4955, 1424, 9378, 1987, 19, 12413, 11770, 8410...   4426.0      NaN   \n",
       "1  6490, 13298, 8751, 10298, 6592, 12313, 1770, 2...   2551.0      NaN   \n",
       "2  12755, 6705, 9663, 11152, 9926, 6026, 10265, 1...   4426.0      NaN   \n",
       "3  406, 2734, 14331, 330, 12163, 13342, 1257, 330...   4426.0    11768   \n",
       "4  8989, 12199, 5597, 4921, 14156, 652, 8792, 127...   7821.0      NaN   \n",
       "\n",
       "  producers  allWriting notableWork  director award  \n",
       "0     12572  12572, 703         NaN     12572   NaN  \n",
       "1     14437       14437         NaN     14437   NaN  \n",
       "2       NaN         NaN         NaN       NaN   NaN  \n",
       "3       NaN   6857, 586         NaN       NaN   NaN  \n",
       "4      6724        2808         NaN     10067   NaN  \n",
       "\n",
       "[5 rows x 21 columns]"
      ]
     },
     "execution_count": 39,
     "metadata": {},
     "output_type": "execute_result"
    }
   ],
   "source": [
    "auxiliary, ratings = load_ml1m_cao2sun_data()\n",
    "auxiliary.head()"
   ]
  },
  {
   "cell_type": "markdown",
   "metadata": {
    "colab_type": "text",
    "id": "R4F7JWQ1BcEY"
   },
   "source": [
    "# Separando o conjunto de dados"
   ]
  },
  {
   "cell_type": "markdown",
   "metadata": {
    "colab_type": "text",
    "id": "jGNLaRDmQX1d"
   },
   "source": [
    "Estratificação dos ratings, pois é importante ter um número suficiente de instâncias para cada estrato no conjunto de dados (treino e testes), do contrário pode ser que os nossos dados fiquem enviasados."
   ]
  },
  {
   "cell_type": "code",
   "execution_count": null,
   "metadata": {
    "colab": {},
    "colab_type": "code",
    "id": "6m-V9cKC8MzN"
   },
   "outputs": [],
   "source": [
    "ratings[\"rating\"].hist()"
   ]
  },
  {
   "cell_type": "markdown",
   "metadata": {
    "colab_type": "text",
    "id": "vwYnXUa7TK0c"
   },
   "source": [
    "Pronto! Agora vamos fazer uma <font color='red'>amostragem estratificada</font> com base nas categorias da renda.  "
   ]
  },
  {
   "cell_type": "code",
   "execution_count": null,
   "metadata": {
    "colab": {},
    "colab_type": "code",
    "id": "przR0ZBZ8MzT"
   },
   "outputs": [],
   "source": [
    "from sklearn.model_selection import StratifiedShuffleSplit\n",
    "\n",
    "split = StratifiedShuffleSplit(n_splits=1, test_size=0.2, random_state=42)\n",
    "for train_index, test_index in split.split(housing, housing[\"income_cat\"]):\n",
    "    strat_train_set = housing.loc[train_index]\n",
    "    strat_test_set = housing.loc[test_index]"
   ]
  },
  {
   "cell_type": "markdown",
   "metadata": {
    "colab_type": "text",
    "id": "Vi9Gp_QbTwFi"
   },
   "source": [
    "Acabamos de criar novos conjuntos de treino e de teste, que chamamos de <font color='red'>strat_train_set </font> e <font color='blue'>strat_test_set</font>.\n",
    "\n",
    " Estes conjuntos devem respeitar a estratificação que introduzimos baseada em \"median_income\" representado na nova variável categórica \"income_cat\".\n",
    "\n",
    " Vejamos se funcionou:"
   ]
  },
  {
   "cell_type": "code",
   "execution_count": null,
   "metadata": {
    "colab": {},
    "colab_type": "code",
    "id": "LQb_sNWO8MzW"
   },
   "outputs": [],
   "source": [
    "strat_test_set[\"income_cat\"].value_counts() / len(strat_test_set) #Proporção de cada categoria em strat_test_set"
   ]
  },
  {
   "cell_type": "code",
   "execution_count": null,
   "metadata": {
    "colab": {},
    "colab_type": "code",
    "id": "t9att4KJX-91"
   },
   "outputs": [],
   "source": [
    "housing[\"income_cat\"].value_counts() / len(housing) #Proporção de cada categoria em housing"
   ]
  },
  {
   "cell_type": "markdown",
   "metadata": {
    "colab_type": "text",
    "id": "nHr7e4IUYc9K"
   },
   "source": [
    "Podemos agora comparar com a <font color='blue'> amostragem aleatória </font>:"
   ]
  },
  {
   "cell_type": "code",
   "execution_count": null,
   "metadata": {
    "colab": {},
    "colab_type": "code",
    "id": "kcQ8FM-u8Mzi"
   },
   "outputs": [],
   "source": [
    "#Função para calcular as proporções das categorias da característica \"income_cat\"\n",
    "def income_cat_proportions(data): \n",
    "    return data[\"income_cat\"].value_counts() / len(data)"
   ]
  },
  {
   "cell_type": "markdown",
   "metadata": {
    "colab_type": "text",
    "id": "yVQi0BkJZi6U"
   },
   "source": [
    "Agora vamos gerar novamente conjunto de teste e treino, mas usando amostragem aleatória."
   ]
  },
  {
   "cell_type": "code",
   "execution_count": null,
   "metadata": {
    "colab": {},
    "colab_type": "code",
    "id": "c0jyVWH8ZiBM"
   },
   "outputs": [],
   "source": [
    "train_set, test_set = train_test_split(housing, test_size=0.2, random_state=42)"
   ]
  },
  {
   "cell_type": "markdown",
   "metadata": {
    "colab_type": "text",
    "id": "AD0M3hAwZx87"
   },
   "source": [
    "Vamos criar o nosso novo dataframe e visualizar os resultados:"
   ]
  },
  {
   "cell_type": "code",
   "execution_count": null,
   "metadata": {
    "colab": {},
    "colab_type": "code",
    "id": "C-RIbMERZxOt"
   },
   "outputs": [],
   "source": [
    "compare_props = pd.DataFrame({\n",
    "    \"Geral\": income_cat_proportions(housing),\n",
    "    \"Estratificado\": income_cat_proportions(strat_test_set),\n",
    "    \"Aleatorio\": income_cat_proportions(test_set),\n",
    "}).sort_index()\n",
    "\n",
    "compare_props[\"Aleatório %erro\"] = 100 * compare_props[\"Aleatorio\"] / compare_props[\"Geral\"] - 100\n",
    "compare_props[\"Estratificado %erro\"] = 100 * compare_props[\"Estratificado\"] / compare_props[\"Geral\"] - 100\n",
    "\n",
    "compare_props"
   ]
  },
  {
   "cell_type": "markdown",
   "metadata": {
    "colab_type": "text",
    "id": "NFX8Ha0pao_z"
   },
   "source": [
    "Contentes com os resultados, não podemos esquecer de <font color='red'>remover</font> o atributo \"income_cat\" dos conjuntos strat_train_set e strat_test_set. Na verdade, ele era apenas um intermediário, afinal de contas as informações dessa caracaterísticas já estão presentes em \"median_income\"."
   ]
  },
  {
   "cell_type": "code",
   "execution_count": null,
   "metadata": {
    "colab": {},
    "colab_type": "code",
    "id": "MbPa45jL8Mzq"
   },
   "outputs": [],
   "source": [
    "for set_ in (strat_train_set, strat_test_set):\n",
    "    set_.drop(\"income_cat\", axis=1, inplace=True)"
   ]
  },
  {
   "cell_type": "markdown",
   "metadata": {
    "colab_type": "text",
    "id": "TYST0JOP8Mzu"
   },
   "source": [
    "# Visualização da estrutura de dados"
   ]
  },
  {
   "cell_type": "markdown",
   "metadata": {
    "colab_type": "text",
    "id": "Dws-HQeEc3h0"
   },
   "source": [
    "Vamos agora visualizar os nossos dados. Precisamos ter certeza que não vamos visualizar dados do conjunto de teste, para evitar enviesamento de conclusões."
   ]
  },
  {
   "cell_type": "code",
   "execution_count": null,
   "metadata": {
    "colab": {},
    "colab_type": "code",
    "id": "uGYSWxqk8Mzv"
   },
   "outputs": [],
   "source": [
    "housing = strat_train_set.copy() #Importante criar uma cópia! "
   ]
  },
  {
   "cell_type": "code",
   "execution_count": null,
   "metadata": {
    "colab": {},
    "colab_type": "code",
    "id": "U1YxuAEV8Mzz"
   },
   "outputs": [],
   "source": [
    "housing.plot(kind=\"scatter\", x=\"longitude\", y=\"latitude\")"
   ]
  },
  {
   "cell_type": "markdown",
   "metadata": {
    "colab_type": "text",
    "id": "WjTUHRQYdcME"
   },
   "source": [
    "Vamos melhorar a visualição usando o parâmetro <font color='red'>alpha</font>, observe:"
   ]
  },
  {
   "cell_type": "code",
   "execution_count": null,
   "metadata": {
    "colab": {},
    "colab_type": "code",
    "id": "I6pNMSKy8Mz4"
   },
   "outputs": [],
   "source": [
    "housing.plot(kind=\"scatter\", x=\"longitude\", y=\"latitude\", alpha=0.1)"
   ]
  },
  {
   "cell_type": "markdown",
   "metadata": {
    "colab_type": "text",
    "id": "dnWgQnQ2dxJ4"
   },
   "source": [
    "Interessante! Agora fica mais evidente a concentração dos agrupamentos!\n",
    "\n",
    "De qualquer forma devemos voltar a nossa atenção ao objetivo: <font color = 'red'> preços do setor imobioliário. </font> \n",
    "\n",
    "No código a seguir o parâmetro \"s\" significa \"size\", tamanho em inglês. Escolhendo \"s\" como sendo a característica população, quanto maior o disco representa uma população maior.\n",
    "\n",
    "O parâmetro \"c\" significa \"color\", ou cor. Esse é na verdade o que queremos saber!\n",
    "\n",
    "O paramêtro colorbar = True indica que queremos visualizar a barra lateral informando as intensidades da cor, ou seja, do parêmetro \"c\".\n",
    "\n"
   ]
  },
  {
   "cell_type": "code",
   "execution_count": null,
   "metadata": {
    "colab": {},
    "colab_type": "code",
    "id": "uo34qLzu8Mz8"
   },
   "outputs": [],
   "source": [
    "housing.plot(kind=\"scatter\", x=\"longitude\", y=\"latitude\", alpha=0.4,\n",
    "    s=housing[\"population\"]/100, label=\"population\", figsize=(10,7),\n",
    "    c=\"median_house_value\", cmap=plt.get_cmap(\"jet\"), colorbar=True,\n",
    "    sharex=False) #sharex=false é só pra corrigir um bug de display https://github.com/pandas-dev/pandas/issues/10611\n",
    "plt.legend()"
   ]
  },
  {
   "cell_type": "markdown",
   "metadata": {
    "colab_type": "text",
    "id": "gjuu3hmPmO3I"
   },
   "source": [
    "A visulização dos dados indicam que regiões litorâneas tendem a possuir um valor mais alto. Talevz a densidade populacional também possa ser algo relevante.\n",
    "\n",
    "Vamos então investigar essas hipóteses através da correleção estatística:"
   ]
  },
  {
   "cell_type": "code",
   "execution_count": null,
   "metadata": {
    "colab": {},
    "colab_type": "code",
    "id": "fWwTwI_D8M0E"
   },
   "outputs": [],
   "source": [
    "corr_matrix = housing.corr() #Matriz de correlações"
   ]
  },
  {
   "cell_type": "code",
   "execution_count": null,
   "metadata": {
    "colab": {},
    "colab_type": "code",
    "id": "R50hJi6Sm0Ix"
   },
   "outputs": [],
   "source": [
    "corr_matrix #vamos ver a estrutura"
   ]
  },
  {
   "cell_type": "code",
   "execution_count": null,
   "metadata": {
    "colab": {},
    "colab_type": "code",
    "id": "eN1XZaZk8M0H"
   },
   "outputs": [],
   "source": [
    "corr_matrix[\"median_house_value\"].sort_values(ascending=False) #Ordenar valores em sentido decrescente"
   ]
  },
  {
   "cell_type": "markdown",
   "metadata": {
    "colab_type": "text",
    "id": "0FDo4wlMqRlr"
   },
   "source": [
    "É conveniente usar o scatter_matrix do pandas. Essa função plota cada característica em relação a outra. No nosso exemplo, teríamos 121 possibilidades.\n",
    "\n",
    "Vamos aproveitar e ver alguns [conceitos básicos de estatística](http://geam.paginas.ufsc.br/files/2020/02/Estatistica_Basica.pdf).\n",
    "\n",
    "Mas claro que não faremos isso e vamos então selecionar algumas que parecem ser mais significativas:"
   ]
  },
  {
   "cell_type": "code",
   "execution_count": null,
   "metadata": {
    "colab": {},
    "colab_type": "code",
    "id": "3LpwQAvB8M0L"
   },
   "outputs": [],
   "source": [
    "from pandas.plotting import scatter_matrix\n",
    "\n",
    "attributes = [\"median_house_value\", \"median_income\", \"total_rooms\",\n",
    "              \"housing_median_age\"]\n",
    "scatter_matrix(housing[attributes], figsize=(12, 8))"
   ]
  },
  {
   "cell_type": "markdown",
   "metadata": {
    "colab_type": "text",
    "id": "t1Cug8hvrd6-"
   },
   "source": [
    "OBS: Na diagonal principal da plotagem anterior não temos atributo x atributo, mas sim o histograma da característica."
   ]
  },
  {
   "cell_type": "markdown",
   "metadata": {
    "colab_type": "text",
    "id": "HG0nvHx8r7Rs"
   },
   "source": [
    "Vimos antes, que a característica que tinha maior correleção com o valor mediano de casas em um bairro era o salário mediano. Então vamos plotar para estudar a relação entre ambos:"
   ]
  },
  {
   "cell_type": "code",
   "execution_count": null,
   "metadata": {
    "colab": {},
    "colab_type": "code",
    "id": "P7tUBQjz8M0R"
   },
   "outputs": [],
   "source": [
    "housing.plot(kind=\"scatter\", x=\"median_income\", y=\"median_house_value\",\n",
    "             alpha=0.1)\n",
    "plt.axis([0, 16, 0, 550000])"
   ]
  },
  {
   "cell_type": "markdown",
   "metadata": {
    "colab_type": "text",
    "id": "AV671R0AscxC"
   },
   "source": [
    "Informações desta plotagem: \n",
    "\n",
    "1) Correlação é forte;\n",
    "\n",
    "2) Há um valor limiar de 500.000 para os valores (medianos) das casas. Por quê?\n",
    "\n",
    "3) Há também outras linhas horizontais. Por que elas são importantes?\n",
    "\n",
    "Uma abordagem possível seria excluir os dados correspondentes a esses casos."
   ]
  },
  {
   "cell_type": "markdown",
   "metadata": {
    "colab_type": "text",
    "id": "QwKPm7WPtR5y"
   },
   "source": [
    "# Feature Engineering"
   ]
  },
  {
   "cell_type": "markdown",
   "metadata": {
    "colab_type": "text",
    "id": "kRpUMfun03Xe"
   },
   "source": [
    "Além das colunas que o conjunto de dados nos oferece, podemos tentar construir novas características <font color = \"red\">construídas de maneiras não linear</font> com as características existentes.\n",
    "\n",
    "De maneira geral, essa etapa requer conhecimento específico da área na qual se esta trabalhando. Daí a importância da presença de um especialista no assunto para auxiliar no projeto. \n",
    "\n",
    "A seguir, vamos construir algumas novas features que são mais ou menos lógicas."
   ]
  },
  {
   "cell_type": "code",
   "execution_count": null,
   "metadata": {
    "colab": {},
    "colab_type": "code",
    "id": "owOuJWl-8M0Y"
   },
   "outputs": [],
   "source": [
    "#Nova feature: Número de cômodos por familia (média)\n",
    "housing[\"rooms_per_household\"] = housing[\"total_rooms\"]/housing[\"households\"]\n",
    "\n",
    "#Nova feature: quartos/cômodos\n",
    "housing[\"bedrooms_per_room\"] = housing[\"total_bedrooms\"]/housing[\"total_rooms\"]\n",
    "\n",
    "#Nova feature: população/agregado familiar\n",
    "housing[\"population_per_household\"]=housing[\"population\"]/housing[\"households\"]"
   ]
  },
  {
   "cell_type": "markdown",
   "metadata": {
    "colab_type": "text",
    "id": "LPlzoY-D2Mo-"
   },
   "source": [
    "Vejamos agora a matriz de correlação de housing:"
   ]
  },
  {
   "cell_type": "code",
   "execution_count": null,
   "metadata": {
    "colab": {},
    "colab_type": "code",
    "id": "QIXxphSB8M0e"
   },
   "outputs": [],
   "source": [
    "corr_matrix = housing.corr()\n",
    "corr_matrix[\"median_house_value\"].sort_values(ascending=False)"
   ]
  },
  {
   "cell_type": "markdown",
   "metadata": {
    "colab_type": "text",
    "id": "z1bPs-YC3Q5-"
   },
   "source": [
    "Aparentemente, casas com uma baixa proporção de quartos para cômodas tendem a ser mais caras. O número de cômodos por família é muito mais informartivo que o número total de quartos em um quarteirão.\n",
    "\n",
    "Vejamos o gráfico:"
   ]
  },
  {
   "cell_type": "code",
   "execution_count": null,
   "metadata": {
    "colab": {},
    "colab_type": "code",
    "id": "mO40azQw8M0i"
   },
   "outputs": [],
   "source": [
    "housing.plot(kind=\"scatter\", x=\"rooms_per_household\", y=\"median_house_value\",\n",
    "             alpha=0.2)\n",
    "plt.axis([0, 5, 0, 520000])\n",
    "plt.show()"
   ]
  },
  {
   "cell_type": "markdown",
   "metadata": {
    "colab_type": "text",
    "id": "uVO_3R264SaH"
   },
   "source": [
    "Vamos ver novamente as medidas resumos considerando as novas features!"
   ]
  },
  {
   "cell_type": "code",
   "execution_count": null,
   "metadata": {
    "colab": {},
    "colab_type": "code",
    "id": "K-Je-Uao8M0n"
   },
   "outputs": [],
   "source": [
    "housing.describe()"
   ]
  },
  {
   "cell_type": "markdown",
   "metadata": {
    "colab_type": "text",
    "id": "4K22d5b-8M0q"
   },
   "source": [
    "# Preparar os dados para os algoritmos de Machine Learning"
   ]
  },
  {
   "cell_type": "markdown",
   "metadata": {
    "colab_type": "text",
    "id": "WXXVeIOY7dcH"
   },
   "source": [
    "Precisamos incialmente retirar os rótulos do conjunto <fon color='blue'> strat_train_set </font> (mais a frente ficará claro).\n",
    "\n",
    "Para isso, vamos usar o método drop:"
   ]
  },
  {
   "cell_type": "code",
   "execution_count": null,
   "metadata": {
    "colab": {},
    "colab_type": "code",
    "id": "K4f2vNh88M0r"
   },
   "outputs": [],
   "source": [
    "housing = strat_train_set.drop(\"median_house_value\", axis=1) # O método drop cria cópia sem a coluna em questao\n",
    "housing_labels = strat_train_set[\"median_house_value\"].copy() #salvando uma cópia"
   ]
  },
  {
   "cell_type": "markdown",
   "metadata": {
    "colab_type": "text",
    "id": "Dr8Yx1Gr8-D_"
   },
   "source": [
    "A partir de agora vamos partir para etapa de <font color='blue'>limpeza de dados!</font>\n",
    "\n",
    "Vamos começar verificandi se temos dados falantes:"
   ]
  },
  {
   "cell_type": "code",
   "execution_count": null,
   "metadata": {
    "colab": {},
    "colab_type": "code",
    "id": "OreIJJVV8M0v"
   },
   "outputs": [],
   "source": [
    "#housing.isnull().any(axis=1) verifica quais linhas possuem alguma célula null\n",
    "sample_incomplete_rows = housing[housing.isnull().any(axis=1)].head()\n",
    "sample_incomplete_rows"
   ]
  },
  {
   "cell_type": "markdown",
   "metadata": {
    "colab_type": "text",
    "id": "g93mvTOr94j-"
   },
   "source": [
    "Possuímos basicamente três abordagens possíveis para lidar com os dados faltantes:\n",
    "\n",
    "1. Excluir os quarteirões com dados faltantes;\n",
    "\n",
    "2. Excluir toda coluna de total_bedrooms, já que é o único atributo que apresenta dados faltantes;\n",
    "\n",
    "3. Definir algum valor para substituir total_bedrooms."
   ]
  },
  {
   "cell_type": "code",
   "execution_count": null,
   "metadata": {
    "colab": {},
    "colab_type": "code",
    "id": "am5Vp76w8M1A"
   },
   "outputs": [],
   "source": [
    "sample_incomplete_rows.dropna(subset=[\"total_bedrooms\"])    # opção 1"
   ]
  },
  {
   "cell_type": "code",
   "execution_count": null,
   "metadata": {
    "colab": {},
    "colab_type": "code",
    "id": "Zcb4CVvy8M1D"
   },
   "outputs": [],
   "source": [
    "sample_incomplete_rows.drop(\"total_bedrooms\", axis=1)       # opção 2"
   ]
  },
  {
   "cell_type": "markdown",
   "metadata": {
    "colab_type": "text",
    "id": "kwK8qP9v-3ua"
   },
   "source": [
    "Opção 3: preenchendo com algum valor - nesse caso, usaremos a mediana."
   ]
  },
  {
   "cell_type": "code",
   "execution_count": null,
   "metadata": {
    "colab": {},
    "colab_type": "code",
    "id": "qPjSOVok8M1H"
   },
   "outputs": [],
   "source": [
    "median = housing[\"total_bedrooms\"].median()\n",
    "sample_incomplete_rows[\"total_bedrooms\"].fillna(median, inplace=True) # opção 3\n",
    "sample_incomplete_rows"
   ]
  },
  {
   "cell_type": "markdown",
   "metadata": {
    "colab_type": "text",
    "id": "D7E8-2jaBMyu"
   },
   "source": [
    "Se escolhermos a opção 3, devemos calular a mediana (ou qualquer outra medida que seja justificável) no <font color=\"red\">conjunto de treinamento</font> e usá-lo para preencher os valores faltantes neste, mas precisamos <font color=\"blue\">salvar</font> esse valor cálculado.\n",
    "\n",
    "Você precisar desse valor para mais tarde aplicar no conjunto de teste, que deverá ter seus dados faltantes corrigidos seguindo o mesmo parâmetro do conjunto de treino."
   ]
  },
  {
   "cell_type": "markdown",
   "metadata": {
    "colab_type": "text",
    "id": "Xpne_3kJBInq"
   },
   "source": [
    "**AVISO**: No Scikit-Learn 0.20, a classe `sklearn.preprocessing.Imputer` \n",
    "foi substituida pela classe `sklearn.impute.SimpleImputer`. Então, é conviniente verificar qual versão o computador em questão está usando:"
   ]
  },
  {
   "cell_type": "code",
   "execution_count": null,
   "metadata": {
    "colab": {},
    "colab_type": "code",
    "id": "3Dy5nsFz8M1M"
   },
   "outputs": [],
   "source": [
    "try:\n",
    "    from sklearn.impute import SimpleImputer # Scikit-Learn 0.20+\n",
    "    print(\"Scikit-Learn 0.20+\")\n",
    "except ImportError:\n",
    "    from sklearn.preprocessing import Imputer as SimpleImputer\n",
    "    print(\"Scikit-Learn antes do 0.20\")\n",
    "\n",
    "imputer = SimpleImputer(strategy=\"median\")"
   ]
  },
  {
   "cell_type": "markdown",
   "metadata": {
    "colab_type": "text",
    "id": "y0iuZ4GFC2Wk"
   },
   "source": [
    "Vamos novamente revisar o nosso dataset..."
   ]
  },
  {
   "cell_type": "code",
   "execution_count": null,
   "metadata": {
    "colab": {},
    "colab_type": "code",
    "id": "bC1UXCMtC7Dr"
   },
   "outputs": [],
   "source": [
    "housing"
   ]
  },
  {
   "cell_type": "markdown",
   "metadata": {
    "colab_type": "text",
    "id": "_R3RrWmp8M1O"
   },
   "source": [
    "Ainda temos a última coluna que não é numérica! \n",
    "\n",
    "A princípios, grande parte dos algoritmos de machine learning no computador preferem os dados representados numericamente!"
   ]
  },
  {
   "cell_type": "code",
   "execution_count": null,
   "metadata": {
    "colab": {},
    "colab_type": "code",
    "id": "BtSZSuXK8M1P"
   },
   "outputs": [],
   "source": [
    "housing_num = housing.drop('ocean_proximity', axis=1)\n",
    "# Derrubando a coluna \"ocean_proximity\"\n",
    "# alternativa: housing_num = housing.select_dtypes(include=[np.number])"
   ]
  },
  {
   "cell_type": "markdown",
   "metadata": {
    "colab_type": "text",
    "id": "-oJNfnSNDrea"
   },
   "source": [
    "Agora vamos ajudar o nosso objeto imputer com o nossos dados:"
   ]
  },
  {
   "cell_type": "code",
   "execution_count": null,
   "metadata": {
    "colab": {},
    "colab_type": "code",
    "id": "DEXT2hQr8M1S"
   },
   "outputs": [],
   "source": [
    "imputer.fit(housing_num) "
   ]
  },
  {
   "cell_type": "markdown",
   "metadata": {
    "colab_type": "text",
    "id": "VJ5SdBuUD27i"
   },
   "source": [
    "Aqui, o imputer simplesmente calculou a mediana no conjunto de dados.\n",
    "\n",
    "Vejamos algumas informações sobre o nosso objeto imputer:"
   ]
  },
  {
   "cell_type": "code",
   "execution_count": null,
   "metadata": {
    "colab": {},
    "colab_type": "code",
    "id": "sP3wAcyX8M1W"
   },
   "outputs": [],
   "source": [
    "imputer.statistics_"
   ]
  },
  {
   "cell_type": "markdown",
   "metadata": {
    "colab_type": "text",
    "id": "0o1__l6p8M1a"
   },
   "source": [
    "Vamos verificar que isto é, na verdade, a mesma coisa que calcular manualmente a mediana de cada atributo:"
   ]
  },
  {
   "cell_type": "code",
   "execution_count": null,
   "metadata": {
    "colab": {},
    "colab_type": "code",
    "id": "27Qi1YJc8M1c"
   },
   "outputs": [],
   "source": [
    "housing_num.median().values"
   ]
  },
  {
   "cell_type": "markdown",
   "metadata": {
    "colab_type": "text",
    "id": "m8fmJCklEhzx"
   },
   "source": [
    "Mas não seria apenas o atributo \"total_bedrooms\" que estava com valores faltantes? \n",
    "\n",
    "Vamos precisar de todas as informações do imputer? Isto é, vamos precisar da mediana de todas as variáveis?\n",
    "\n",
    "<font color='red'> Não podemos, a princípio, afirmar que o mesmo padrão vai ser repetir na generalização do modelo! </font>\n",
    "\n",
    "Certo, mas e se dermos uma espiadinha no conjunto de testes?\n",
    "\n",
    "Não devemos fazer isso por vários motivos. \n",
    "\n",
    "1. Corremos o risco de colocar vieses no nosso modelo (assumir que apenas \"total_bedrooms\" terá colunas com dados faltantes em todos os cenários possíveis é um deles;\n",
    "\n",
    "2. Devemos ter sempre em mente que o conjunto de teste é no fundo uma simulação para testarmos o poder de generalização do algoritmo - devemos fazer todas as nossas análises e otimizações somente no conjunto de treinamento e então aplicar o modelo final uma única vez no conjunto de teste!\n",
    "\n"
   ]
  },
  {
   "cell_type": "markdown",
   "metadata": {
    "colab_type": "text",
    "id": "df5gUu6H8M1j"
   },
   "source": [
    "Vamos agora finalmente <font color = 'blue'> transformar </font> o nosso conjunto de dados, aplicando, efetivamente, o valor calculado da mediana nos dados faltantes:"
   ]
  },
  {
   "cell_type": "code",
   "execution_count": null,
   "metadata": {
    "colab": {},
    "colab_type": "code",
    "id": "zeMG56He8M1k"
   },
   "outputs": [],
   "source": [
    "X = imputer.transform(housing_num) #numpy array"
   ]
  },
  {
   "cell_type": "markdown",
   "metadata": {
    "colab_type": "text",
    "id": "CWZP3rviHVT3"
   },
   "source": [
    "Vamos visualizar o conjunto X"
   ]
  },
  {
   "cell_type": "code",
   "execution_count": null,
   "metadata": {
    "colab": {},
    "colab_type": "code",
    "id": "OzhW6FTsHYCA"
   },
   "outputs": [],
   "source": [
    "X"
   ]
  },
  {
   "cell_type": "markdown",
   "metadata": {
    "colab_type": "text",
    "id": "uM-cJ1LiHaS2"
   },
   "source": [
    "Se você se sentir mais confortável, pode transformar o conjunto X em um dataframe:"
   ]
  },
  {
   "cell_type": "code",
   "execution_count": null,
   "metadata": {
    "colab": {},
    "colab_type": "code",
    "id": "l9CX4hOO8M1n"
   },
   "outputs": [],
   "source": [
    "housing_tr = pd.DataFrame(X, columns=housing_num.columns, #importante informar nome das colunas\n",
    "                          index=housing.index) #DataFrame Pandas"
   ]
  },
  {
   "cell_type": "markdown",
   "metadata": {
    "colab_type": "text",
    "id": "o9szVFMcHhQa"
   },
   "source": [
    "Vejamos como é este dataframe:"
   ]
  },
  {
   "cell_type": "code",
   "execution_count": null,
   "metadata": {
    "colab": {},
    "colab_type": "code",
    "id": "5mYCY8ltHlcD"
   },
   "outputs": [],
   "source": [
    "housing_tr.head()"
   ]
  },
  {
   "cell_type": "markdown",
   "metadata": {
    "colab_type": "text",
    "id": "UZ_0PzGe8M1y"
   },
   "source": [
    "Agora devemos tratar a variável categórica`ocean_proximity'!\n",
    "\n",
    "Lembre que esta é uma variável muito importante no nosso problema: ela demonstrava uma boa correlação com o preço mediano das casas.\n",
    "\n",
    "Vamos novamente visualizar os dados para relembrar:"
   ]
  },
  {
   "cell_type": "code",
   "execution_count": null,
   "metadata": {
    "colab": {},
    "colab_type": "code",
    "id": "0zZc51Ro8M1z"
   },
   "outputs": [],
   "source": [
    "housing_cat = housing[['ocean_proximity']]\n",
    "housing_cat.head(10)"
   ]
  },
  {
   "cell_type": "markdown",
   "metadata": {
    "colab_type": "text",
    "id": "PHlDGSPp9drc"
   },
   "source": [
    "Agora vamos usar um processo chamado de codificação. Vamos transformar as nossas variáveis categóricas em números!"
   ]
  },
  {
   "cell_type": "markdown",
   "metadata": {
    "colab_type": "text",
    "id": "pBeHjNq58M12"
   },
   "source": [
    "**OBS**: O código a seguir é apenas devido a atualização da classe OriginalEnconder()"
   ]
  },
  {
   "cell_type": "code",
   "execution_count": null,
   "metadata": {
    "colab": {},
    "colab_type": "code",
    "id": "fCgAnVEN8M13"
   },
   "outputs": [],
   "source": [
    "try:\n",
    "    from sklearn.preprocessing import OrdinalEncoder\n",
    "    print(\"Scikit-Learn >= 2.0\")\n",
    "except ImportError:\n",
    "    from future_encoders import OrdinalEncoder # Scikit-Learn < 0.20\n",
    "    print(\"O teu Scikit-Learn tá antiguinho mô quirido\")"
   ]
  },
  {
   "cell_type": "markdown",
   "metadata": {
    "colab_type": "text",
    "id": "0jTIHNpV-YC0"
   },
   "source": [
    "Na função a seguir, precisamos instanciar um objeto ordinal_encoder. \n",
    "\n",
    "Depois, usamos fit_transform para executa duas operações:\n",
    "\n",
    "1. Método fit irá ajustar os parâmetros (mapeamento, por exemplo, quais são as variáveis categóricas); \n",
    "\n",
    "2. Método transform irá transformar os dados;\n",
    "\n",
    "3. fit_transform(dados) irá ajustar parâmetros e transformar os dados.\n"
   ]
  },
  {
   "cell_type": "code",
   "execution_count": null,
   "metadata": {
    "colab": {},
    "colab_type": "code",
    "id": "X6IUvOsv8M15"
   },
   "outputs": [],
   "source": [
    "ordinal_encoder = OrdinalEncoder()\n",
    "housing_cat_encoded = ordinal_encoder.fit_transform(housing_cat)"
   ]
  },
  {
   "cell_type": "markdown",
   "metadata": {
    "colab_type": "text",
    "id": "aAELI6TN_JMO"
   },
   "source": [
    "Uma alternativa mais prolixa teria sido escrever:\n",
    "\n",
    "original_encoder.fit(housing_cat)\n",
    "\n",
    "housing_cat_encoded = original_enconder.fit(housing_cat)\n"
   ]
  },
  {
   "cell_type": "markdown",
   "metadata": {
    "colab_type": "text",
    "id": "35TkntyX_JgN"
   },
   "source": [
    "Vejamos que tipo de objeto é housing_cat_encoded:"
   ]
  },
  {
   "cell_type": "code",
   "execution_count": null,
   "metadata": {
    "colab": {},
    "colab_type": "code",
    "id": "QaHZCal8CNLd"
   },
   "outputs": [],
   "source": [
    "type(housing_cat_encoded)"
   ]
  },
  {
   "cell_type": "markdown",
   "metadata": {
    "colab_type": "text",
    "id": "5GhaDm9TCQUd"
   },
   "source": [
    "Vamos ver agora os 10 primeiros valores desse numpy array:"
   ]
  },
  {
   "cell_type": "code",
   "execution_count": null,
   "metadata": {
    "colab": {},
    "colab_type": "code",
    "id": "sZwZlPvV_J-B"
   },
   "outputs": [],
   "source": [
    "housing_cat_encoded[:10]"
   ]
  },
  {
   "cell_type": "markdown",
   "metadata": {
    "colab_type": "text",
    "id": "71JIk01_CaPi"
   },
   "source": [
    "Vamos relembrar também as categorias do nosso problema:"
   ]
  },
  {
   "cell_type": "code",
   "execution_count": null,
   "metadata": {
    "colab": {},
    "colab_type": "code",
    "id": "QGFUci_p8M18"
   },
   "outputs": [],
   "source": [
    "ordinal_encoder.categories_"
   ]
  },
  {
   "cell_type": "markdown",
   "metadata": {
    "colab_type": "text",
    "id": "N1uKeQbJ_IDx"
   },
   "source": [
    "Veja! \n",
    "\n",
    "O objeto ordinal_encoder foi construiído assim:\n",
    "\n",
    "ordinal_encoder = OrdinalEncoder() \n",
    "\n",
    "e depois fizemos o seguinte:\n",
    "\n",
    "housing_cat_encoded = ordinal_encoder.fit_transform(housing_cat)\n",
    "\n",
    "<font color = \"red\">Aqui não apenas definimos quem é \"housing_cat_encoded\" como também inserimos informações no objeto ordinal_encoder! </font>"
   ]
  },
  {
   "cell_type": "markdown",
   "metadata": {
    "colab_type": "text",
    "id": "xMDgx9IXDQp4"
   },
   "source": [
    "Apesar dos nossos esforços, temos um grave problema na nossa codificação, veja novamente: "
   ]
  },
  {
   "cell_type": "code",
   "execution_count": null,
   "metadata": {
    "colab": {},
    "colab_type": "code",
    "id": "ej67X1XiGuVB"
   },
   "outputs": [],
   "source": [
    "housing_cat_encoded[:10]"
   ]
  },
  {
   "cell_type": "code",
   "execution_count": null,
   "metadata": {
    "colab": {},
    "colab_type": "code",
    "id": "3d9Wk1zfDYLy"
   },
   "outputs": [],
   "source": [
    "housing_cat[:10]"
   ]
  },
  {
   "cell_type": "markdown",
   "metadata": {
    "colab_type": "text",
    "id": "IxpbZPyhDaFA"
   },
   "source": [
    "Cada variável categórica foi transformada em número!\n",
    "\n",
    "Mas será que a princípio, podemos comparar uma variável categórica com outra?\n",
    "\n",
    "Quem é maior: NEAR OCEAN ou NEAR BAY? \n",
    "\n",
    "Bem, é difícil responder. Mas é isso que a nossa codificação implicítacamente está fazendo ao colocar os valores 0,1,2,3 ou 4 para cada variável categórica. \n",
    "\n",
    "<font color=\"red\"> Para lidar com essa situação precisamos então de outra abordagem!</font>"
   ]
  },
  {
   "cell_type": "code",
   "execution_count": null,
   "metadata": {
    "colab": {},
    "colab_type": "code",
    "id": "YRx3EyM_8M2A"
   },
   "outputs": [],
   "source": [
    "try:\n",
    "    from sklearn.preprocessing import OrdinalEncoder # gera um ImportError se Scikit-Learn < 0.20\n",
    "    from sklearn.preprocessing import OneHotEncoder\n",
    "except ImportError:\n",
    "    from future_encoders import OneHotEncoder # Scikit-Learn < 0.20\n",
    "\n",
    "cat_encoder = OneHotEncoder()\n",
    "housing_cat_1hot = cat_encoder.fit_transform(housing_cat)\n",
    "housing_cat_1hot"
   ]
  },
  {
   "cell_type": "markdown",
   "metadata": {
    "colab_type": "text",
    "id": "NZmFwJfi8M2D"
   },
   "source": [
    "By default, the `OneHotEncoder` class returns a sparse array, but we can convert it to a dense array if needed by calling the `toarray()` method:"
   ]
  },
  {
   "cell_type": "markdown",
   "metadata": {
    "colab_type": "text",
    "id": "oxZNJ3vdLhsy"
   },
   "source": [
    "Epa! Agora temos uma matriz SciPy ao invés de um Numpy array! \n",
    "\n",
    "<font color = \"red\">Por que será?</font>"
   ]
  },
  {
   "cell_type": "code",
   "execution_count": null,
   "metadata": {
    "colab": {},
    "colab_type": "code",
    "id": "xj9Ui84j8M2F"
   },
   "outputs": [],
   "source": [
    "housing_cat_1hot.toarray()"
   ]
  },
  {
   "cell_type": "markdown",
   "metadata": {
    "colab_type": "text",
    "id": "bZrxw1P7LuGS"
   },
   "source": [
    "Temos agora uma matriz esparsa! (mais econômica computacionalmente)"
   ]
  },
  {
   "cell_type": "markdown",
   "metadata": {
    "colab_type": "text",
    "id": "a7Awc-A88M2H"
   },
   "source": [
    "Alternativamente, podemos colocar `sparse=False` ao criar o objeto `OneHotEncoder`:"
   ]
  },
  {
   "cell_type": "code",
   "execution_count": null,
   "metadata": {
    "colab": {},
    "colab_type": "code",
    "id": "gBpRUzXa8M2K"
   },
   "outputs": [],
   "source": [
    "cat_encoder = OneHotEncoder(sparse=False)\n",
    "housing_cat_1hot = cat_encoder.fit_transform(housing_cat)\n",
    "housing_cat_1hot"
   ]
  },
  {
   "cell_type": "code",
   "execution_count": null,
   "metadata": {
    "colab": {},
    "colab_type": "code",
    "id": "ffDhyjCS8M2Q"
   },
   "outputs": [],
   "source": [
    "cat_encoder.categories_"
   ]
  },
  {
   "cell_type": "markdown",
   "metadata": {
    "colab_type": "text",
    "id": "oBb4phIC8M2S"
   },
   "source": [
    "Let's create a custom transformer to add extra attributes:\n",
    "\n",
    "Vamos criar um transformador customizado para adicionar atributos extras \n",
    "\n",
    "**OBS**: aqui vamos simplesmente criar um código para o processo manual feito na etapa de Feature Engineering. Vai nos ajudar a criar um pipeline mais a frente."
   ]
  },
  {
   "cell_type": "code",
   "execution_count": null,
   "metadata": {
    "colab": {},
    "colab_type": "code",
    "id": "Elcx_lHE8M2T"
   },
   "outputs": [],
   "source": [
    "housing.columns"
   ]
  },
  {
   "cell_type": "code",
   "execution_count": null,
   "metadata": {
    "colab": {},
    "colab_type": "code",
    "id": "NGcMGFu38M2X"
   },
   "outputs": [],
   "source": [
    "from sklearn.base import BaseEstimator, TransformerMixin\n",
    "\n",
    "# Buscando os indices corretos das colunas: \n",
    "# Mais seeguro que ficar digitando 3, 4, 5, 6..\n",
    "rooms_ix, bedrooms_ix, population_ix, household_ix = [\n",
    "    list(housing.columns).index(col)\n",
    "    for col in (\"total_rooms\", \"total_bedrooms\", \"population\", \"households\")]\n",
    "\n",
    "class CombinedAttributesAdder(BaseEstimator, TransformerMixin):\n",
    "    def __init__(self, add_bedrooms_per_room = True): # no *args or **kwargs\n",
    "        self.add_bedrooms_per_room = add_bedrooms_per_room\n",
    "    def fit(self, X, y=None):\n",
    "        return self  # Nada a fazer!\n",
    "    def transform(self, X, y=None):\n",
    "        rooms_per_household = X[:, rooms_ix] / X[:, household_ix]\n",
    "        population_per_household = X[:, population_ix] / X[:, household_ix]\n",
    "        if self.add_bedrooms_per_room:\n",
    "            bedrooms_per_room = X[:, bedrooms_ix] / X[:, rooms_ix]\n",
    "            return np.c_[X, rooms_per_household, population_per_household,\n",
    "                         bedrooms_per_room]\n",
    "        else:\n",
    "            return np.c_[X, rooms_per_household, population_per_household]\n",
    "\n",
    "attr_adder = CombinedAttributesAdder(add_bedrooms_per_room=False)\n",
    "housing_extra_attribs = attr_adder.transform(housing.values)"
   ]
  },
  {
   "cell_type": "markdown",
   "metadata": {
    "colab_type": "text",
    "id": "k9EO6KsJ8M2a"
   },
   "source": [
    "Alternativamente, você pode usar a função da classe `FunctionTransformer` que permite você criar rapidamente um transformador baseado em uma função de transformação! "
   ]
  },
  {
   "cell_type": "code",
   "execution_count": null,
   "metadata": {
    "colab": {},
    "colab_type": "code",
    "id": "4rpc96Bz8M2b"
   },
   "outputs": [],
   "source": [
    "from sklearn.preprocessing import FunctionTransformer\n",
    "\n",
    "def add_extra_features(X, add_bedrooms_per_room=True):\n",
    "    rooms_per_household = X[:, rooms_ix] / X[:, household_ix]\n",
    "    population_per_household = X[:, population_ix] / X[:, household_ix]\n",
    "    if add_bedrooms_per_room:\n",
    "        bedrooms_per_room = X[:, bedrooms_ix] / X[:, rooms_ix]\n",
    "        return np.c_[X, rooms_per_household, population_per_household,\n",
    "                     bedrooms_per_room]\n",
    "    else:\n",
    "        return np.c_[X, rooms_per_household, population_per_household]\n",
    "\n",
    "attr_adder = FunctionTransformer(add_extra_features, validate=False,\n",
    "                                 kw_args={\"add_bedrooms_per_room\": False})\n",
    "\n",
    "housing_extra_attribs = attr_adder.fit_transform(housing.values)\n",
    "\n",
    "#Vale a pena colocar validate=False já queos dados não possuem valores não-float\n",
    "#validate=false é valor padrão a partir do Scikit-Learn 0.22."
   ]
  },
  {
   "cell_type": "code",
   "execution_count": null,
   "metadata": {
    "colab": {},
    "colab_type": "code",
    "id": "i7Kxr65r8M2d"
   },
   "outputs": [],
   "source": [
    "housing_extra_attribs = pd.DataFrame(\n",
    "    housing_extra_attribs,\n",
    "    columns=list(housing.columns)+[\"rooms_per_household\", \"population_per_household\"],\n",
    "    index=housing.index)\n",
    "housing_extra_attribs.head()"
   ]
  },
  {
   "cell_type": "markdown",
   "metadata": {
    "colab_type": "text",
    "id": "HQWec1HG8M2k"
   },
   "source": [
    "Agora vamos construir um \"pipeline\" (tradução literal: gasoduto) para pré-processar os atributos numéricos - obser que poderíamos usar <font color = 'blue'> CombinedAttributesAdder()</font>\n",
    "ao invés do <font color = 'blue'> FunctionTransformer(...) </font>, se quiséssemos:"
   ]
  },
  {
   "cell_type": "code",
   "execution_count": null,
   "metadata": {
    "colab": {},
    "colab_type": "code",
    "id": "HQXJZ_Sj8M2l"
   },
   "outputs": [],
   "source": [
    "from sklearn.pipeline import Pipeline\n",
    "from sklearn.preprocessing import StandardScaler \n",
    "#StandardScaler serve para fazer a reescalar das variáveis\n",
    "\n",
    "num_pipeline = Pipeline([\n",
    "        ('imputer', SimpleImputer(strategy=\"median\")),\n",
    "        ('attribs_adder', FunctionTransformer(add_extra_features, validate=False)),\n",
    "        ('std_scaler', StandardScaler()),\n",
    "    ])\n",
    "\n",
    "housing_num_tr = num_pipeline.fit_transform(housing_num)"
   ]
  },
  {
   "cell_type": "code",
   "execution_count": null,
   "metadata": {
    "colab": {},
    "colab_type": "code",
    "id": "qdcLN1nQ8M2p"
   },
   "outputs": [],
   "source": [
    "housing_num_tr"
   ]
  },
  {
   "cell_type": "code",
   "execution_count": null,
   "metadata": {
    "colab": {},
    "colab_type": "code",
    "id": "gqJnKiKU8M2s"
   },
   "outputs": [],
   "source": [
    "try:\n",
    "    from sklearn.compose import ColumnTransformer\n",
    "except ImportError:\n",
    "    from future_encoders import ColumnTransformer # Scikit-Learn < 0.20"
   ]
  },
  {
   "cell_type": "code",
   "execution_count": null,
   "metadata": {
    "colab": {},
    "colab_type": "code",
    "id": "jeuhO_C28M2v"
   },
   "outputs": [],
   "source": [
    "num_attribs = list(housing_num)\n",
    "cat_attribs = [\"ocean_proximity\"]\n",
    "\n",
    "full_pipeline = ColumnTransformer([\n",
    "        (\"num\", num_pipeline, num_attribs),\n",
    "        (\"cat\", OneHotEncoder(), cat_attribs),\n",
    "    ])\n",
    "\n",
    "housing_prepared = full_pipeline.fit_transform(housing)"
   ]
  },
  {
   "cell_type": "code",
   "execution_count": null,
   "metadata": {
    "colab": {},
    "colab_type": "code",
    "id": "YeMjEuO68M2x"
   },
   "outputs": [],
   "source": [
    "housing_prepared"
   ]
  },
  {
   "cell_type": "code",
   "execution_count": null,
   "metadata": {
    "colab": {},
    "colab_type": "code",
    "id": "gdZ_g_4F8M22"
   },
   "outputs": [],
   "source": [
    "housing_prepared.shape"
   ]
  },
  {
   "cell_type": "markdown",
   "metadata": {
    "colab_type": "text",
    "id": "sVtZVgtylH3S"
   },
   "source": [
    "Agora finalmente temos os nossos dados pré-processados! "
   ]
  },
  {
   "cell_type": "markdown",
   "metadata": {
    "colab_type": "text",
    "id": "hEd0_zms8M3Q"
   },
   "source": [
    "# Selecionar e treinar um modelo"
   ]
  },
  {
   "cell_type": "markdown",
   "metadata": {
    "colab_type": "text",
    "id": "JNSjYgRslYpQ"
   },
   "source": [
    "Vamos começar com um modelo siples: Regressão Linear!"
   ]
  },
  {
   "cell_type": "code",
   "execution_count": null,
   "metadata": {
    "colab": {},
    "colab_type": "code",
    "id": "Tlfuq_N_8M3Q"
   },
   "outputs": [],
   "source": [
    "from sklearn.linear_model import LinearRegression\n",
    "\n",
    "lin_reg = LinearRegression()\n",
    "lin_reg.fit(housing_prepared, housing_labels) \n",
    "#Ei Regressão linear, encontre os parâmetros que melhor aproxima os dados"
   ]
  },
  {
   "cell_type": "markdown",
   "metadata": {
    "colab_type": "text",
    "id": "1jftWY8qlw0V"
   },
   "source": [
    "Vamos agora testar o nosso pipeline de pré-processamento em algumas instâncias de treino."
   ]
  },
  {
   "cell_type": "code",
   "execution_count": null,
   "metadata": {
    "colab": {},
    "colab_type": "code",
    "id": "LeIBOXrc8M3T"
   },
   "outputs": [],
   "source": [
    "some_data = housing.iloc[:5]\n",
    "some_labels = housing_labels.iloc[:5]\n",
    "some_data_prepared = full_pipeline.transform(some_data) \n",
    "\n",
    "print(\"Predictions:\", lin_reg.predict(some_data_prepared))"
   ]
  },
  {
   "cell_type": "markdown",
   "metadata": {
    "colab_type": "text",
    "id": "2ee13jK88M3W"
   },
   "source": [
    "Vamos comparar agora com os valores reais:\n"
   ]
  },
  {
   "cell_type": "code",
   "execution_count": null,
   "metadata": {
    "colab": {},
    "colab_type": "code",
    "id": "cKuAW3cF8M3W"
   },
   "outputs": [],
   "source": [
    "print(\"Labels:\", list(some_labels))"
   ]
  },
  {
   "cell_type": "code",
   "execution_count": null,
   "metadata": {
    "colab": {},
    "colab_type": "code",
    "id": "TTiJNHzc8M3Z"
   },
   "outputs": [],
   "source": [
    "some_data_prepared"
   ]
  },
  {
   "cell_type": "markdown",
   "metadata": {
    "colab_type": "text",
    "id": "NFbq4GnVmDQe"
   },
   "source": [
    "Agora vamos usar as métricas que aprendemos anteriormente!"
   ]
  },
  {
   "cell_type": "code",
   "execution_count": null,
   "metadata": {
    "colab": {},
    "colab_type": "code",
    "id": "uM8zYtAz8M3c"
   },
   "outputs": [],
   "source": [
    "from sklearn.metrics import mean_squared_error as MSE\n",
    "\n",
    "housing_predictions = lin_reg.predict(housing_prepared)\n",
    "lin_mse = MSE(housing_labels, housing_predictions)\n",
    "lin_rmse = np.sqrt(lin_mse) #Não é necessariamente obrigatório\n",
    "lin_rmse"
   ]
  },
  {
   "cell_type": "code",
   "execution_count": null,
   "metadata": {
    "colab": {},
    "colab_type": "code",
    "id": "fVUWg9TX8M3e"
   },
   "outputs": [],
   "source": [
    "from sklearn.metrics import mean_absolute_error as MAE\n",
    "\n",
    "lin_mae = MAE(housing_labels, housing_predictions)\n",
    "lin_mae"
   ]
  },
  {
   "cell_type": "markdown",
   "metadata": {
    "colab_type": "text",
    "id": "krWmzYCImYl3"
   },
   "source": [
    "Essse modelo ainda não parece ser adequado!"
   ]
  },
  {
   "cell_type": "code",
   "execution_count": null,
   "metadata": {
    "colab": {},
    "colab_type": "code",
    "id": "j22oB0-98M3t"
   },
   "outputs": [],
   "source": [
    "from sklearn.tree import DecisionTreeRegressor\n",
    "\n",
    "tree_reg = DecisionTreeRegressor(random_state=42)\n",
    "tree_reg.fit(housing_prepared, housing_labels)"
   ]
  },
  {
   "cell_type": "code",
   "execution_count": null,
   "metadata": {
    "colab": {},
    "colab_type": "code",
    "id": "SJlEkoBQ8M3v"
   },
   "outputs": [],
   "source": [
    "housing_predictions = tree_reg.predict(housing_prepared)\n",
    "tree_mse = MSE(housing_labels, housing_predictions)\n",
    "tree_rmse = np.sqrt(tree_mse)\n",
    "tree_rmse"
   ]
  },
  {
   "cell_type": "markdown",
   "metadata": {
    "colab_type": "text",
    "id": "PLYetxKwmxhs"
   },
   "source": [
    "O quê? Erro zero?"
   ]
  },
  {
   "cell_type": "markdown",
   "metadata": {
    "colab_type": "text",
    "id": "f3xjl8BZonWR"
   },
   "source": [
    "#Vamos continuar na próxima aula a calibrar esse modelo!"
   ]
  }
 ],
 "metadata": {
  "colab": {
   "collapsed_sections": [
    "6T9pPKu28Mwe",
    "UBjzryXYKMb5",
    "HMaugIFD5xmR",
    "QwKPm7WPtR5y",
    "4K22d5b-8M0q",
    "hEd0_zms8M3Q",
    "f3xjl8BZonWR"
   ],
   "name": "Aula 02.ipynb",
   "provenance": [],
   "toc_visible": true
  },
  "kernelspec": {
   "display_name": "Python 3",
   "language": "python",
   "name": "python3"
  },
  "language_info": {
   "codemirror_mode": {
    "name": "ipython",
    "version": 3
   },
   "file_extension": ".py",
   "mimetype": "text/x-python",
   "name": "python",
   "nbconvert_exporter": "python",
   "pygments_lexer": "ipython3",
   "version": "3.7.3"
  },
  "nav_menu": {
   "height": "279px",
   "width": "309px"
  },
  "toc": {
   "nav_menu": {},
   "number_sections": true,
   "sideBar": true,
   "skip_h1_title": false,
   "toc_cell": false,
   "toc_position": {},
   "toc_section_display": "block",
   "toc_window_display": false
  }
 },
 "nbformat": 4,
 "nbformat_minor": 1
}
